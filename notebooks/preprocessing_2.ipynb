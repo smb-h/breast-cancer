{
 "cells": [
  {
   "cell_type": "code",
   "execution_count": 448,
   "id": "d1546cfd",
   "metadata": {},
   "outputs": [],
   "source": [
    "import pandas as pd\n",
    "import  numpy as np\n",
    "import plotly.express as px\n",
    "import plotly.graph_objects as go\n",
    "import matplotlib.pyplot as plt"
   ]
  },
  {
   "cell_type": "code",
   "execution_count": 449,
   "id": "d549bd5e",
   "metadata": {},
   "outputs": [],
   "source": [
    "df = pd.read_excel('../data/raw/dataset_v2.xlsx')\n",
    "cols = df.columns"
   ]
  },
  {
   "cell_type": "code",
   "execution_count": 450,
   "id": "b6494c4e",
   "metadata": {},
   "outputs": [],
   "source": [
    "df = pd.read_spss('../data/raw/followup.sav')\n",
    "df = df[cols]"
   ]
  },
  {
   "cell_type": "code",
   "execution_count": 451,
   "id": "beb504b2",
   "metadata": {},
   "outputs": [
    {
     "name": "stdout",
     "output_type": "stream",
     "text": [
      "(3757, 36)\n"
     ]
    },
    {
     "data": {
      "text/html": [
       "<div>\n",
       "<style scoped>\n",
       "    .dataframe tbody tr th:only-of-type {\n",
       "        vertical-align: middle;\n",
       "    }\n",
       "\n",
       "    .dataframe tbody tr th {\n",
       "        vertical-align: top;\n",
       "    }\n",
       "\n",
       "    .dataframe thead th {\n",
       "        text-align: right;\n",
       "    }\n",
       "</style>\n",
       "<table border=\"1\" class=\"dataframe\">\n",
       "  <thead>\n",
       "    <tr style=\"text-align: right;\">\n",
       "      <th></th>\n",
       "      <th>CODE</th>\n",
       "      <th>birthday</th>\n",
       "      <th>age</th>\n",
       "      <th>age.diag</th>\n",
       "      <th>age.menarc</th>\n",
       "      <th>age.menop</th>\n",
       "      <th>education</th>\n",
       "      <th>marital</th>\n",
       "      <th>gravity</th>\n",
       "      <th>lactaton</th>\n",
       "      <th>...</th>\n",
       "      <th>Family</th>\n",
       "      <th>agef</th>\n",
       "      <th>other.CA</th>\n",
       "      <th>weight</th>\n",
       "      <th>height</th>\n",
       "      <th>cc</th>\n",
       "      <th>RB.sign</th>\n",
       "      <th>LB.sign</th>\n",
       "      <th>sign</th>\n",
       "      <th>location</th>\n",
       "    </tr>\n",
       "  </thead>\n",
       "  <tbody>\n",
       "    <tr>\n",
       "      <th>0</th>\n",
       "      <td>918.0</td>\n",
       "      <td>1352.0</td>\n",
       "      <td>42.0</td>\n",
       "      <td>42.0</td>\n",
       "      <td>13.0</td>\n",
       "      <td>NaN</td>\n",
       "      <td>primary</td>\n",
       "      <td>married</td>\n",
       "      <td>gravid</td>\n",
       "      <td>72.0</td>\n",
       "      <td>...</td>\n",
       "      <td>no</td>\n",
       "      <td>0</td>\n",
       "      <td>no</td>\n",
       "      <td>85.0</td>\n",
       "      <td>151.0</td>\n",
       "      <td>mass or thickening</td>\n",
       "      <td>normal</td>\n",
       "      <td>mass</td>\n",
       "      <td>NaN</td>\n",
       "      <td>uoq</td>\n",
       "    </tr>\n",
       "    <tr>\n",
       "      <th>1</th>\n",
       "      <td>NaN</td>\n",
       "      <td>1351.0</td>\n",
       "      <td>NaN</td>\n",
       "      <td>41.0</td>\n",
       "      <td>12.0</td>\n",
       "      <td>NaN</td>\n",
       "      <td>high school</td>\n",
       "      <td>married</td>\n",
       "      <td>gravid</td>\n",
       "      <td>27.0</td>\n",
       "      <td>...</td>\n",
       "      <td>paternal second degree</td>\n",
       "      <td>38</td>\n",
       "      <td>others cancer</td>\n",
       "      <td>69.0</td>\n",
       "      <td>158.0</td>\n",
       "      <td>mass or thickening</td>\n",
       "      <td>NaN</td>\n",
       "      <td>NaN</td>\n",
       "      <td>mass</td>\n",
       "      <td>uoq</td>\n",
       "    </tr>\n",
       "    <tr>\n",
       "      <th>2</th>\n",
       "      <td>NaN</td>\n",
       "      <td>1324.0</td>\n",
       "      <td>NaN</td>\n",
       "      <td>67.0</td>\n",
       "      <td>14.0</td>\n",
       "      <td>45.0</td>\n",
       "      <td>illitrate</td>\n",
       "      <td>widow</td>\n",
       "      <td>gravid</td>\n",
       "      <td>84.0</td>\n",
       "      <td>...</td>\n",
       "      <td>first degree (1 person)</td>\n",
       "      <td>36</td>\n",
       "      <td>utrus cancer</td>\n",
       "      <td>63.0</td>\n",
       "      <td>145.0</td>\n",
       "      <td>mass or thickening</td>\n",
       "      <td>NaN</td>\n",
       "      <td>NaN</td>\n",
       "      <td>NaN</td>\n",
       "      <td>NaN</td>\n",
       "    </tr>\n",
       "    <tr>\n",
       "      <th>3</th>\n",
       "      <td>NaN</td>\n",
       "      <td>1323.0</td>\n",
       "      <td>53.0</td>\n",
       "      <td>53.0</td>\n",
       "      <td>12.0</td>\n",
       "      <td>NaN</td>\n",
       "      <td>university</td>\n",
       "      <td>married</td>\n",
       "      <td>no child</td>\n",
       "      <td>0.0</td>\n",
       "      <td>...</td>\n",
       "      <td>paternal third degree</td>\n",
       "      <td></td>\n",
       "      <td>no</td>\n",
       "      <td>55.0</td>\n",
       "      <td>157.0</td>\n",
       "      <td>followup</td>\n",
       "      <td>NaN</td>\n",
       "      <td>NaN</td>\n",
       "      <td>47.0</td>\n",
       "      <td>uoq</td>\n",
       "    </tr>\n",
       "    <tr>\n",
       "      <th>4</th>\n",
       "      <td>3.0</td>\n",
       "      <td>1337.0</td>\n",
       "      <td>NaN</td>\n",
       "      <td>53.0</td>\n",
       "      <td>16.0</td>\n",
       "      <td>50.0</td>\n",
       "      <td>primary</td>\n",
       "      <td>married</td>\n",
       "      <td>gravid</td>\n",
       "      <td>52.0</td>\n",
       "      <td>...</td>\n",
       "      <td>no</td>\n",
       "      <td></td>\n",
       "      <td>others cancer</td>\n",
       "      <td>70.0</td>\n",
       "      <td>155.0</td>\n",
       "      <td>chemotherapy</td>\n",
       "      <td>NaN</td>\n",
       "      <td>NaN</td>\n",
       "      <td>NaN</td>\n",
       "      <td>NaN</td>\n",
       "    </tr>\n",
       "  </tbody>\n",
       "</table>\n",
       "<p>5 rows × 36 columns</p>\n",
       "</div>"
      ],
      "text/plain": [
       "    CODE  birthday   age  age.diag  age.menarc  age.menop    education  \\\n",
       "0  918.0    1352.0  42.0      42.0        13.0        NaN      primary   \n",
       "1    NaN    1351.0   NaN      41.0        12.0        NaN  high school   \n",
       "2    NaN    1324.0   NaN      67.0        14.0       45.0    illitrate   \n",
       "3    NaN    1323.0  53.0      53.0        12.0        NaN   university   \n",
       "4    3.0    1337.0   NaN      53.0        16.0       50.0      primary   \n",
       "\n",
       "   marital   gravity  lactaton  ...                   Family agef  \\\n",
       "0  married    gravid      72.0  ...                       no    0   \n",
       "1  married    gravid      27.0  ...   paternal second degree   38   \n",
       "2    widow    gravid      84.0  ...  first degree (1 person)   36   \n",
       "3  married  no child       0.0  ...    paternal third degree        \n",
       "4  married    gravid      52.0  ...                       no        \n",
       "\n",
       "        other.CA weight height                  cc RB.sign  LB.sign  sign  \\\n",
       "0             no   85.0  151.0  mass or thickening  normal     mass   NaN   \n",
       "1  others cancer   69.0  158.0  mass or thickening     NaN      NaN  mass   \n",
       "2   utrus cancer   63.0  145.0  mass or thickening     NaN      NaN   NaN   \n",
       "3             no   55.0  157.0            followup     NaN      NaN  47.0   \n",
       "4  others cancer   70.0  155.0        chemotherapy     NaN      NaN   NaN   \n",
       "\n",
       "   location  \n",
       "0       uoq  \n",
       "1       uoq  \n",
       "2       NaN  \n",
       "3       uoq  \n",
       "4       NaN  \n",
       "\n",
       "[5 rows x 36 columns]"
      ]
     },
     "execution_count": 451,
     "metadata": {},
     "output_type": "execute_result"
    }
   ],
   "source": [
    "print(df.shape)\n",
    "df.head()"
   ]
  },
  {
   "cell_type": "code",
   "execution_count": 452,
   "id": "bf58fa11",
   "metadata": {},
   "outputs": [
    {
     "data": {
      "text/html": [
       "<div>\n",
       "<style scoped>\n",
       "    .dataframe tbody tr th:only-of-type {\n",
       "        vertical-align: middle;\n",
       "    }\n",
       "\n",
       "    .dataframe tbody tr th {\n",
       "        vertical-align: top;\n",
       "    }\n",
       "\n",
       "    .dataframe thead th {\n",
       "        text-align: right;\n",
       "    }\n",
       "</style>\n",
       "<table border=\"1\" class=\"dataframe\">\n",
       "  <thead>\n",
       "    <tr style=\"text-align: right;\">\n",
       "      <th></th>\n",
       "      <th>birthday</th>\n",
       "      <th>age</th>\n",
       "      <th>age.diag</th>\n",
       "      <th>age.menarc</th>\n",
       "      <th>age.menop</th>\n",
       "      <th>education</th>\n",
       "      <th>marital</th>\n",
       "      <th>gravity</th>\n",
       "      <th>lactaton</th>\n",
       "      <th>fpregnancy</th>\n",
       "      <th>...</th>\n",
       "      <th>Family</th>\n",
       "      <th>agef</th>\n",
       "      <th>other.CA</th>\n",
       "      <th>weight</th>\n",
       "      <th>height</th>\n",
       "      <th>cc</th>\n",
       "      <th>RB.sign</th>\n",
       "      <th>LB.sign</th>\n",
       "      <th>sign</th>\n",
       "      <th>location</th>\n",
       "    </tr>\n",
       "  </thead>\n",
       "  <tbody>\n",
       "    <tr>\n",
       "      <th>0</th>\n",
       "      <td>1352.0</td>\n",
       "      <td>42.0</td>\n",
       "      <td>42.0</td>\n",
       "      <td>13.0</td>\n",
       "      <td>NaN</td>\n",
       "      <td>primary</td>\n",
       "      <td>married</td>\n",
       "      <td>gravid</td>\n",
       "      <td>72.0</td>\n",
       "      <td>16.0</td>\n",
       "      <td>...</td>\n",
       "      <td>no</td>\n",
       "      <td>0</td>\n",
       "      <td>no</td>\n",
       "      <td>85.0</td>\n",
       "      <td>151.0</td>\n",
       "      <td>mass or thickening</td>\n",
       "      <td>normal</td>\n",
       "      <td>mass</td>\n",
       "      <td>NaN</td>\n",
       "      <td>uoq</td>\n",
       "    </tr>\n",
       "    <tr>\n",
       "      <th>1</th>\n",
       "      <td>1351.0</td>\n",
       "      <td>NaN</td>\n",
       "      <td>41.0</td>\n",
       "      <td>12.0</td>\n",
       "      <td>NaN</td>\n",
       "      <td>high school</td>\n",
       "      <td>married</td>\n",
       "      <td>gravid</td>\n",
       "      <td>27.0</td>\n",
       "      <td>20.0</td>\n",
       "      <td>...</td>\n",
       "      <td>paternal second degree</td>\n",
       "      <td>38</td>\n",
       "      <td>others cancer</td>\n",
       "      <td>69.0</td>\n",
       "      <td>158.0</td>\n",
       "      <td>mass or thickening</td>\n",
       "      <td>NaN</td>\n",
       "      <td>NaN</td>\n",
       "      <td>mass</td>\n",
       "      <td>uoq</td>\n",
       "    </tr>\n",
       "    <tr>\n",
       "      <th>2</th>\n",
       "      <td>1324.0</td>\n",
       "      <td>NaN</td>\n",
       "      <td>67.0</td>\n",
       "      <td>14.0</td>\n",
       "      <td>45.0</td>\n",
       "      <td>illitrate</td>\n",
       "      <td>widow</td>\n",
       "      <td>gravid</td>\n",
       "      <td>84.0</td>\n",
       "      <td>17.0</td>\n",
       "      <td>...</td>\n",
       "      <td>first degree (1 person)</td>\n",
       "      <td>36</td>\n",
       "      <td>utrus cancer</td>\n",
       "      <td>63.0</td>\n",
       "      <td>145.0</td>\n",
       "      <td>mass or thickening</td>\n",
       "      <td>NaN</td>\n",
       "      <td>NaN</td>\n",
       "      <td>NaN</td>\n",
       "      <td>NaN</td>\n",
       "    </tr>\n",
       "    <tr>\n",
       "      <th>3</th>\n",
       "      <td>1323.0</td>\n",
       "      <td>53.0</td>\n",
       "      <td>53.0</td>\n",
       "      <td>12.0</td>\n",
       "      <td>NaN</td>\n",
       "      <td>university</td>\n",
       "      <td>married</td>\n",
       "      <td>no child</td>\n",
       "      <td>0.0</td>\n",
       "      <td>NaN</td>\n",
       "      <td>...</td>\n",
       "      <td>paternal third degree</td>\n",
       "      <td></td>\n",
       "      <td>no</td>\n",
       "      <td>55.0</td>\n",
       "      <td>157.0</td>\n",
       "      <td>followup</td>\n",
       "      <td>NaN</td>\n",
       "      <td>NaN</td>\n",
       "      <td>47.0</td>\n",
       "      <td>uoq</td>\n",
       "    </tr>\n",
       "    <tr>\n",
       "      <th>4</th>\n",
       "      <td>1337.0</td>\n",
       "      <td>NaN</td>\n",
       "      <td>53.0</td>\n",
       "      <td>16.0</td>\n",
       "      <td>50.0</td>\n",
       "      <td>primary</td>\n",
       "      <td>married</td>\n",
       "      <td>gravid</td>\n",
       "      <td>52.0</td>\n",
       "      <td>19.0</td>\n",
       "      <td>...</td>\n",
       "      <td>no</td>\n",
       "      <td></td>\n",
       "      <td>others cancer</td>\n",
       "      <td>70.0</td>\n",
       "      <td>155.0</td>\n",
       "      <td>chemotherapy</td>\n",
       "      <td>NaN</td>\n",
       "      <td>NaN</td>\n",
       "      <td>NaN</td>\n",
       "      <td>NaN</td>\n",
       "    </tr>\n",
       "  </tbody>\n",
       "</table>\n",
       "<p>5 rows × 35 columns</p>\n",
       "</div>"
      ],
      "text/plain": [
       "   birthday   age  age.diag  age.menarc  age.menop    education  marital  \\\n",
       "0    1352.0  42.0      42.0        13.0        NaN      primary  married   \n",
       "1    1351.0   NaN      41.0        12.0        NaN  high school  married   \n",
       "2    1324.0   NaN      67.0        14.0       45.0    illitrate    widow   \n",
       "3    1323.0  53.0      53.0        12.0        NaN   university  married   \n",
       "4    1337.0   NaN      53.0        16.0       50.0      primary  married   \n",
       "\n",
       "    gravity  lactaton  fpregnancy  ...                   Family agef  \\\n",
       "0    gravid      72.0        16.0  ...                       no    0   \n",
       "1    gravid      27.0        20.0  ...   paternal second degree   38   \n",
       "2    gravid      84.0        17.0  ...  first degree (1 person)   36   \n",
       "3  no child       0.0         NaN  ...    paternal third degree        \n",
       "4    gravid      52.0        19.0  ...                       no        \n",
       "\n",
       "        other.CA weight height                  cc  RB.sign LB.sign  sign  \\\n",
       "0             no   85.0  151.0  mass or thickening   normal    mass   NaN   \n",
       "1  others cancer   69.0  158.0  mass or thickening      NaN     NaN  mass   \n",
       "2   utrus cancer   63.0  145.0  mass or thickening      NaN     NaN   NaN   \n",
       "3             no   55.0  157.0            followup      NaN     NaN  47.0   \n",
       "4  others cancer   70.0  155.0        chemotherapy      NaN     NaN   NaN   \n",
       "\n",
       "   location  \n",
       "0       uoq  \n",
       "1       uoq  \n",
       "2       NaN  \n",
       "3       uoq  \n",
       "4       NaN  \n",
       "\n",
       "[5 rows x 35 columns]"
      ]
     },
     "execution_count": 452,
     "metadata": {},
     "output_type": "execute_result"
    }
   ],
   "source": [
    "df = df.drop('CODE', axis=1)\n",
    "df = df.reset_index(drop=True)\n",
    "df.head()"
   ]
  },
  {
   "cell_type": "code",
   "execution_count": 453,
   "id": "6da5c128",
   "metadata": {},
   "outputs": [
    {
     "data": {
      "text/html": [
       "<div>\n",
       "<style scoped>\n",
       "    .dataframe tbody tr th:only-of-type {\n",
       "        vertical-align: middle;\n",
       "    }\n",
       "\n",
       "    .dataframe tbody tr th {\n",
       "        vertical-align: top;\n",
       "    }\n",
       "\n",
       "    .dataframe thead th {\n",
       "        text-align: right;\n",
       "    }\n",
       "</style>\n",
       "<table border=\"1\" class=\"dataframe\">\n",
       "  <thead>\n",
       "    <tr style=\"text-align: right;\">\n",
       "      <th></th>\n",
       "      <th>birthday</th>\n",
       "      <th>age</th>\n",
       "      <th>age.diag</th>\n",
       "      <th>age.menarc</th>\n",
       "      <th>age.menop</th>\n",
       "      <th>lactaton</th>\n",
       "      <th>fpregnancy</th>\n",
       "      <th>hrt</th>\n",
       "      <th>datehys</th>\n",
       "      <th>agehysterectomy</th>\n",
       "      <th>no.biopsy</th>\n",
       "      <th>weight</th>\n",
       "      <th>height</th>\n",
       "    </tr>\n",
       "  </thead>\n",
       "  <tbody>\n",
       "    <tr>\n",
       "      <th>count</th>\n",
       "      <td>3701.000000</td>\n",
       "      <td>2802.000000</td>\n",
       "      <td>3725.000000</td>\n",
       "      <td>3544.000000</td>\n",
       "      <td>1400.000000</td>\n",
       "      <td>3327.000000</td>\n",
       "      <td>3308.000000</td>\n",
       "      <td>3403.000000</td>\n",
       "      <td>281.000000</td>\n",
       "      <td>1175.000000</td>\n",
       "      <td>3210.000000</td>\n",
       "      <td>3457.000000</td>\n",
       "      <td>3404.000000</td>\n",
       "    </tr>\n",
       "    <tr>\n",
       "      <th>mean</th>\n",
       "      <td>1267.820589</td>\n",
       "      <td>47.846181</td>\n",
       "      <td>47.569933</td>\n",
       "      <td>13.275113</td>\n",
       "      <td>47.352857</td>\n",
       "      <td>47.823865</td>\n",
       "      <td>20.502721</td>\n",
       "      <td>1.307670</td>\n",
       "      <td>93351.348754</td>\n",
       "      <td>5.643404</td>\n",
       "      <td>0.491277</td>\n",
       "      <td>94.581429</td>\n",
       "      <td>158.653643</td>\n",
       "    </tr>\n",
       "    <tr>\n",
       "      <th>std</th>\n",
       "      <td>368.487000</td>\n",
       "      <td>11.603018</td>\n",
       "      <td>11.585472</td>\n",
       "      <td>2.210664</td>\n",
       "      <td>6.144885</td>\n",
       "      <td>42.837373</td>\n",
       "      <td>7.702060</td>\n",
       "      <td>9.901646</td>\n",
       "      <td>133928.501703</td>\n",
       "      <td>15.184767</td>\n",
       "      <td>0.548165</td>\n",
       "      <td>1430.178794</td>\n",
       "      <td>44.276715</td>\n",
       "    </tr>\n",
       "    <tr>\n",
       "      <th>min</th>\n",
       "      <td>0.000000</td>\n",
       "      <td>0.000000</td>\n",
       "      <td>0.000000</td>\n",
       "      <td>0.000000</td>\n",
       "      <td>1.000000</td>\n",
       "      <td>0.000000</td>\n",
       "      <td>0.000000</td>\n",
       "      <td>0.000000</td>\n",
       "      <td>0.000000</td>\n",
       "      <td>0.000000</td>\n",
       "      <td>0.000000</td>\n",
       "      <td>0.000000</td>\n",
       "      <td>0.000000</td>\n",
       "    </tr>\n",
       "    <tr>\n",
       "      <th>25%</th>\n",
       "      <td>1331.000000</td>\n",
       "      <td>40.000000</td>\n",
       "      <td>39.000000</td>\n",
       "      <td>12.000000</td>\n",
       "      <td>45.000000</td>\n",
       "      <td>18.000000</td>\n",
       "      <td>17.000000</td>\n",
       "      <td>0.000000</td>\n",
       "      <td>0.000000</td>\n",
       "      <td>0.000000</td>\n",
       "      <td>0.000000</td>\n",
       "      <td>62.000000</td>\n",
       "      <td>154.000000</td>\n",
       "    </tr>\n",
       "    <tr>\n",
       "      <th>50%</th>\n",
       "      <td>1340.000000</td>\n",
       "      <td>47.000000</td>\n",
       "      <td>47.000000</td>\n",
       "      <td>13.000000</td>\n",
       "      <td>48.000000</td>\n",
       "      <td>38.000000</td>\n",
       "      <td>20.000000</td>\n",
       "      <td>0.000000</td>\n",
       "      <td>0.000000</td>\n",
       "      <td>0.000000</td>\n",
       "      <td>0.000000</td>\n",
       "      <td>70.000000</td>\n",
       "      <td>158.000000</td>\n",
       "    </tr>\n",
       "    <tr>\n",
       "      <th>75%</th>\n",
       "      <td>1349.000000</td>\n",
       "      <td>55.000000</td>\n",
       "      <td>54.000000</td>\n",
       "      <td>14.000000</td>\n",
       "      <td>51.000000</td>\n",
       "      <td>72.000000</td>\n",
       "      <td>24.000000</td>\n",
       "      <td>0.000000</td>\n",
       "      <td>262920.000000</td>\n",
       "      <td>0.000000</td>\n",
       "      <td>1.000000</td>\n",
       "      <td>78.000000</td>\n",
       "      <td>162.000000</td>\n",
       "    </tr>\n",
       "    <tr>\n",
       "      <th>max</th>\n",
       "      <td>13337.000000</td>\n",
       "      <td>87.000000</td>\n",
       "      <td>92.000000</td>\n",
       "      <td>46.000000</td>\n",
       "      <td>65.000000</td>\n",
       "      <td>292.000000</td>\n",
       "      <td>156.000000</td>\n",
       "      <td>300.000000</td>\n",
       "      <td>320820.000000</td>\n",
       "      <td>82.000000</td>\n",
       "      <td>3.000000</td>\n",
       "      <td>84156.000000</td>\n",
       "      <td>1601.000000</td>\n",
       "    </tr>\n",
       "  </tbody>\n",
       "</table>\n",
       "</div>"
      ],
      "text/plain": [
       "           birthday          age     age.diag   age.menarc    age.menop  \\\n",
       "count   3701.000000  2802.000000  3725.000000  3544.000000  1400.000000   \n",
       "mean    1267.820589    47.846181    47.569933    13.275113    47.352857   \n",
       "std      368.487000    11.603018    11.585472     2.210664     6.144885   \n",
       "min        0.000000     0.000000     0.000000     0.000000     1.000000   \n",
       "25%     1331.000000    40.000000    39.000000    12.000000    45.000000   \n",
       "50%     1340.000000    47.000000    47.000000    13.000000    48.000000   \n",
       "75%     1349.000000    55.000000    54.000000    14.000000    51.000000   \n",
       "max    13337.000000    87.000000    92.000000    46.000000    65.000000   \n",
       "\n",
       "          lactaton   fpregnancy          hrt        datehys  agehysterectomy  \\\n",
       "count  3327.000000  3308.000000  3403.000000     281.000000      1175.000000   \n",
       "mean     47.823865    20.502721     1.307670   93351.348754         5.643404   \n",
       "std      42.837373     7.702060     9.901646  133928.501703        15.184767   \n",
       "min       0.000000     0.000000     0.000000       0.000000         0.000000   \n",
       "25%      18.000000    17.000000     0.000000       0.000000         0.000000   \n",
       "50%      38.000000    20.000000     0.000000       0.000000         0.000000   \n",
       "75%      72.000000    24.000000     0.000000  262920.000000         0.000000   \n",
       "max     292.000000   156.000000   300.000000  320820.000000        82.000000   \n",
       "\n",
       "         no.biopsy        weight       height  \n",
       "count  3210.000000   3457.000000  3404.000000  \n",
       "mean      0.491277     94.581429   158.653643  \n",
       "std       0.548165   1430.178794    44.276715  \n",
       "min       0.000000      0.000000     0.000000  \n",
       "25%       0.000000     62.000000   154.000000  \n",
       "50%       0.000000     70.000000   158.000000  \n",
       "75%       1.000000     78.000000   162.000000  \n",
       "max       3.000000  84156.000000  1601.000000  "
      ]
     },
     "execution_count": 453,
     "metadata": {},
     "output_type": "execute_result"
    }
   ],
   "source": [
    "df.describe()"
   ]
  },
  {
   "cell_type": "code",
   "execution_count": 454,
   "id": "41e95148",
   "metadata": {
    "scrolled": true
   },
   "outputs": [
    {
     "data": {
      "text/plain": [
       "birthday            float64\n",
       "age                 float64\n",
       "age.diag            float64\n",
       "age.menarc          float64\n",
       "age.menop           float64\n",
       "education          category\n",
       "marital            category\n",
       "gravity            category\n",
       "lactaton            float64\n",
       "fpregnancy          float64\n",
       "infertility        category\n",
       "kindinfertile      category\n",
       "reproduct          category\n",
       "mens               category\n",
       "ocpuse             category\n",
       "ocp                category\n",
       "hrt                 float64\n",
       "hystrectomy        category\n",
       "datehys             float64\n",
       "agehysterectomy     float64\n",
       "smoking            category\n",
       "no.biopsy           float64\n",
       "personal.Hx        category\n",
       "personal.other     category\n",
       "date.other           object\n",
       "Family             category\n",
       "agef                 object\n",
       "other.CA           category\n",
       "weight              float64\n",
       "height              float64\n",
       "cc                 category\n",
       "RB.sign            category\n",
       "LB.sign            category\n",
       "sign               category\n",
       "location           category\n",
       "dtype: object"
      ]
     },
     "execution_count": 454,
     "metadata": {},
     "output_type": "execute_result"
    }
   ],
   "source": [
    "df.dtypes"
   ]
  },
  {
   "cell_type": "code",
   "execution_count": 455,
   "id": "4f162d3a",
   "metadata": {},
   "outputs": [
    {
     "data": {
      "text/plain": [
       "(3757, 35)"
      ]
     },
     "execution_count": 455,
     "metadata": {},
     "output_type": "execute_result"
    }
   ],
   "source": [
    "df.shape"
   ]
  },
  {
   "cell_type": "code",
   "execution_count": 456,
   "id": "94be8d95",
   "metadata": {},
   "outputs": [
    {
     "data": {
      "text/plain": [
       "Index(['birthday', 'age', 'age.diag', 'age.menarc', 'age.menop', 'education',\n",
       "       'marital', 'gravity', 'lactaton', 'fpregnancy', 'infertility',\n",
       "       'kindinfertile', 'reproduct', 'mens', 'ocpuse', 'ocp', 'hrt',\n",
       "       'hystrectomy', 'datehys', 'agehysterectomy', 'smoking', 'no.biopsy',\n",
       "       'personal.Hx', 'personal.other', 'date.other', 'Family', 'agef',\n",
       "       'other.CA', 'weight', 'height', 'cc', 'RB.sign', 'LB.sign', 'sign',\n",
       "       'location'],\n",
       "      dtype='object')"
      ]
     },
     "execution_count": 456,
     "metadata": {},
     "output_type": "execute_result"
    }
   ],
   "source": [
    "df.columns"
   ]
  },
  {
   "cell_type": "code",
   "execution_count": 457,
   "id": "30c1a8e9",
   "metadata": {},
   "outputs": [],
   "source": [
    "# columns_of_interest = [\"event\", \"event2\", \"metastas2\", \"metastase1\", \"G\"]\n",
    "# # drop rows with missing values in the columns of interest (all)\n",
    "# df = df.dropna(subset=columns_of_interest, how='all')\n",
    "# df.shape"
   ]
  },
  {
   "cell_type": "code",
   "execution_count": 458,
   "id": "1c7c0fe3",
   "metadata": {},
   "outputs": [],
   "source": [
    "# # get nan proportion for columns of interest\n",
    "# df[columns_of_interest].isna().sum() / df.shape[0]"
   ]
  },
  {
   "cell_type": "code",
   "execution_count": 459,
   "id": "5e282ab1",
   "metadata": {},
   "outputs": [],
   "source": [
    "# # use metastase1 as y and drop rows with missing values\n",
    "# df = df.dropna(subset=['metastase1'], how='any')\n",
    "# df.shape"
   ]
  },
  {
   "cell_type": "code",
   "execution_count": 460,
   "id": "5a0cfcd1",
   "metadata": {},
   "outputs": [
    {
     "data": {
      "text/plain": [
       "birthday           0.014906\n",
       "age                0.254192\n",
       "age.diag           0.008517\n",
       "age.menarc         0.056694\n",
       "age.menop          0.627362\n",
       "education          0.055097\n",
       "marital            0.028214\n",
       "gravity            0.076391\n",
       "lactaton           0.114453\n",
       "fpregnancy         0.119510\n",
       "infertility        0.153048\n",
       "kindinfertile      0.693106\n",
       "reproduct          0.056428\n",
       "mens               0.186319\n",
       "ocpuse             0.054565\n",
       "ocp                0.412297\n",
       "hrt                0.094224\n",
       "hystrectomy        0.252063\n",
       "datehys            0.925206\n",
       "agehysterectomy    0.687250\n",
       "smoking            0.062284\n",
       "no.biopsy          0.145595\n",
       "personal.Hx        0.054831\n",
       "personal.other     0.062018\n",
       "date.other         0.998669\n",
       "Family             0.059622\n",
       "agef               0.000000\n",
       "other.CA           0.062816\n",
       "weight             0.079851\n",
       "height             0.093958\n",
       "cc                 0.188714\n",
       "RB.sign            0.796114\n",
       "LB.sign            0.807825\n",
       "sign               0.629225\n",
       "location           0.479638\n",
       "dtype: float64"
      ]
     },
     "execution_count": 460,
     "metadata": {},
     "output_type": "execute_result"
    }
   ],
   "source": [
    "# get nan proportions for each column\n",
    "df.isna().sum() / df.shape[0]"
   ]
  },
  {
   "cell_type": "code",
   "execution_count": 461,
   "id": "e3e79198",
   "metadata": {},
   "outputs": [],
   "source": [
    "# # count cols with more than 30% missing values\n",
    "# columns_to_drop = df.isnull().sum()[df.isnull().sum() > 0.3 * df.shape[0]].index\n",
    "# len(columns_to_drop)"
   ]
  },
  {
   "cell_type": "code",
   "execution_count": 462,
   "id": "fbe11817",
   "metadata": {},
   "outputs": [],
   "source": [
    "# columns_to_drop"
   ]
  },
  {
   "cell_type": "code",
   "execution_count": 463,
   "id": "e38c1b9b",
   "metadata": {},
   "outputs": [],
   "source": [
    "# df = df.drop(columns_to_drop, axis=1)\n",
    "# df.shape"
   ]
  },
  {
   "cell_type": "code",
   "execution_count": 464,
   "id": "d56fe973",
   "metadata": {},
   "outputs": [
    {
     "data": {
      "text/plain": [
       "Index(['birthday', 'age', 'age.diag', 'age.menarc', 'age.menop', 'education',\n",
       "       'marital', 'gravity', 'lactaton', 'fpregnancy', 'infertility',\n",
       "       'kindinfertile', 'reproduct', 'mens', 'ocpuse', 'ocp', 'hrt',\n",
       "       'hystrectomy', 'datehys', 'agehysterectomy', 'smoking', 'no.biopsy',\n",
       "       'personal.Hx', 'personal.other', 'date.other', 'Family', 'agef',\n",
       "       'other.CA', 'weight', 'height', 'cc', 'RB.sign', 'LB.sign', 'sign',\n",
       "       'location'],\n",
       "      dtype='object')"
      ]
     },
     "execution_count": 464,
     "metadata": {},
     "output_type": "execute_result"
    }
   ],
   "source": [
    "df.columns"
   ]
  },
  {
   "cell_type": "code",
   "execution_count": 465,
   "id": "77b64bcf",
   "metadata": {},
   "outputs": [
    {
     "data": {
      "text/plain": [
       "Index(['Family', 'LB.sign', 'RB.sign', 'age', 'age.diag', 'age.menarc',\n",
       "       'age.menop', 'agef', 'agehysterectomy', 'birthday', 'cc', 'date.other',\n",
       "       'datehys', 'education', 'fpregnancy', 'gravity', 'height', 'hrt',\n",
       "       'hystrectomy', 'infertility', 'kindinfertile', 'lactaton', 'location',\n",
       "       'marital', 'mens', 'no.biopsy', 'ocp', 'ocpuse', 'other.CA',\n",
       "       'personal.Hx', 'personal.other', 'reproduct', 'sign', 'smoking',\n",
       "       'weight'],\n",
       "      dtype='object')"
      ]
     },
     "execution_count": 465,
     "metadata": {},
     "output_type": "execute_result"
    }
   ],
   "source": [
    "# sort cols by alphabets\n",
    "df = df.reindex(sorted(df.columns), axis=1)\n",
    "df.columns"
   ]
  },
  {
   "cell_type": "code",
   "execution_count": 466,
   "id": "61f44a26",
   "metadata": {},
   "outputs": [
    {
     "data": {
      "text/plain": [
       "Family             0.059622\n",
       "LB.sign            0.807825\n",
       "RB.sign            0.796114\n",
       "age                0.254192\n",
       "age.diag           0.008517\n",
       "age.menarc         0.056694\n",
       "age.menop          0.627362\n",
       "agef               0.000000\n",
       "agehysterectomy    0.687250\n",
       "birthday           0.014906\n",
       "cc                 0.188714\n",
       "date.other         0.998669\n",
       "datehys            0.925206\n",
       "education          0.055097\n",
       "fpregnancy         0.119510\n",
       "gravity            0.076391\n",
       "height             0.093958\n",
       "hrt                0.094224\n",
       "hystrectomy        0.252063\n",
       "infertility        0.153048\n",
       "kindinfertile      0.693106\n",
       "lactaton           0.114453\n",
       "location           0.479638\n",
       "marital            0.028214\n",
       "mens               0.186319\n",
       "no.biopsy          0.145595\n",
       "ocp                0.412297\n",
       "ocpuse             0.054565\n",
       "other.CA           0.062816\n",
       "personal.Hx        0.054831\n",
       "personal.other     0.062018\n",
       "reproduct          0.056428\n",
       "sign               0.629225\n",
       "smoking            0.062284\n",
       "weight             0.079851\n",
       "dtype: float64"
      ]
     },
     "execution_count": 466,
     "metadata": {},
     "output_type": "execute_result"
    }
   ],
   "source": [
    "# get nan proportions for each column\n",
    "df.isna().sum() / df.shape[0]"
   ]
  },
  {
   "cell_type": "markdown",
   "id": "6386326c",
   "metadata": {},
   "source": [
    "## Preprocess columns"
   ]
  },
  {
   "cell_type": "markdown",
   "id": "dd1c02a3",
   "metadata": {},
   "source": [
    "### Family"
   ]
  },
  {
   "cell_type": "code",
   "execution_count": 467,
   "id": "ce760942",
   "metadata": {},
   "outputs": [
    {
     "name": "stdout",
     "output_type": "stream",
     "text": [
      "Number of nan values in Family column:  224\n",
      "Proportion of nan values in Family column:  0.05962203886079319\n",
      "category\n"
     ]
    }
   ],
   "source": [
    "col_name = 'Family'\n",
    "print(f'Number of nan values in {col_name} column: ', df[col_name].isna().sum())\n",
    "print(f'Proportion of nan values in {col_name} column: ', df[col_name].isna().sum() / df.shape[0])\n",
    "print(df[col_name].dtype)"
   ]
  },
  {
   "cell_type": "code",
   "execution_count": 468,
   "id": "52ad2954",
   "metadata": {},
   "outputs": [
    {
     "data": {
      "text/plain": [
       "['no',\n",
       " 'paternal second degree',\n",
       " 'first degree (1 person)',\n",
       " 'paternal third degree',\n",
       " 23.0,\n",
       " 'first degree (3 person)',\n",
       " 'first degree (2 person)',\n",
       " nan,\n",
       " 13.0,\n",
       " 'maternal second degree',\n",
       " 'maternal third degree',\n",
       " 46.0,\n",
       " 56.0,\n",
       " 14.0,\n",
       " 15.0,\n",
       " 24.0,\n",
       " 66.0,\n",
       " 17.0,\n",
       " 57.0,\n",
       " 467.0,\n",
       " 157.0,\n",
       " 45.0,\n",
       " 55.0,\n",
       " 41.0,\n",
       " 51.0,\n",
       " 44.0]"
      ]
     },
     "execution_count": 468,
     "metadata": {},
     "output_type": "execute_result"
    }
   ],
   "source": [
    "df[col_name].unique().tolist()"
   ]
  },
  {
   "cell_type": "code",
   "execution_count": 469,
   "id": "9879b64a",
   "metadata": {},
   "outputs": [
    {
     "data": {
      "application/vnd.plotly.v1+json": {
       "config": {
        "plotlyServerURL": "https://plot.ly"
       },
       "data": [
        {
         "alignmentgroup": "True",
         "hovertemplate": "x=%{x}<br>y=%{y}<extra></extra>",
         "legendgroup": "",
         "marker": {
          "color": "#636efa",
          "pattern": {
           "shape": ""
          }
         },
         "name": "",
         "offsetgroup": "",
         "orientation": "v",
         "showlegend": false,
         "textposition": "auto",
         "type": "bar",
         "x": [
          "no",
          "first degree (1 person)",
          "paternal second degree",
          "first degree (3 person)",
          "maternal second degree",
          "paternal third degree",
          "maternal third degree",
          "first degree (2 person)",
          "15.0",
          "13.0",
          "14.0",
          "55.0",
          "45.0",
          "17.0",
          "57.0",
          "66.0",
          "46.0",
          "24.0",
          "23.0",
          "51.0",
          "157.0",
          "467.0",
          "44.0",
          "41.0",
          "56.0",
          "nan"
         ],
         "xaxis": "x",
         "y": [
          2915,
          240,
          87,
          83,
          77,
          36,
          33,
          16,
          9,
          7,
          5,
          3,
          3,
          3,
          2,
          2,
          2,
          2,
          2,
          1,
          1,
          1,
          1,
          1,
          1,
          224
         ],
         "yaxis": "y"
        }
       ],
       "layout": {
        "barmode": "relative",
        "legend": {
         "tracegroupgap": 0
        },
        "margin": {
         "t": 60
        },
        "template": {
         "data": {
          "bar": [
           {
            "error_x": {
             "color": "#2a3f5f"
            },
            "error_y": {
             "color": "#2a3f5f"
            },
            "marker": {
             "line": {
              "color": "#E5ECF6",
              "width": 0.5
             },
             "pattern": {
              "fillmode": "overlay",
              "size": 10,
              "solidity": 0.2
             }
            },
            "type": "bar"
           }
          ],
          "barpolar": [
           {
            "marker": {
             "line": {
              "color": "#E5ECF6",
              "width": 0.5
             },
             "pattern": {
              "fillmode": "overlay",
              "size": 10,
              "solidity": 0.2
             }
            },
            "type": "barpolar"
           }
          ],
          "carpet": [
           {
            "aaxis": {
             "endlinecolor": "#2a3f5f",
             "gridcolor": "white",
             "linecolor": "white",
             "minorgridcolor": "white",
             "startlinecolor": "#2a3f5f"
            },
            "baxis": {
             "endlinecolor": "#2a3f5f",
             "gridcolor": "white",
             "linecolor": "white",
             "minorgridcolor": "white",
             "startlinecolor": "#2a3f5f"
            },
            "type": "carpet"
           }
          ],
          "choropleth": [
           {
            "colorbar": {
             "outlinewidth": 0,
             "ticks": ""
            },
            "type": "choropleth"
           }
          ],
          "contour": [
           {
            "colorbar": {
             "outlinewidth": 0,
             "ticks": ""
            },
            "colorscale": [
             [
              0,
              "#0d0887"
             ],
             [
              0.1111111111111111,
              "#46039f"
             ],
             [
              0.2222222222222222,
              "#7201a8"
             ],
             [
              0.3333333333333333,
              "#9c179e"
             ],
             [
              0.4444444444444444,
              "#bd3786"
             ],
             [
              0.5555555555555556,
              "#d8576b"
             ],
             [
              0.6666666666666666,
              "#ed7953"
             ],
             [
              0.7777777777777778,
              "#fb9f3a"
             ],
             [
              0.8888888888888888,
              "#fdca26"
             ],
             [
              1,
              "#f0f921"
             ]
            ],
            "type": "contour"
           }
          ],
          "contourcarpet": [
           {
            "colorbar": {
             "outlinewidth": 0,
             "ticks": ""
            },
            "type": "contourcarpet"
           }
          ],
          "heatmap": [
           {
            "colorbar": {
             "outlinewidth": 0,
             "ticks": ""
            },
            "colorscale": [
             [
              0,
              "#0d0887"
             ],
             [
              0.1111111111111111,
              "#46039f"
             ],
             [
              0.2222222222222222,
              "#7201a8"
             ],
             [
              0.3333333333333333,
              "#9c179e"
             ],
             [
              0.4444444444444444,
              "#bd3786"
             ],
             [
              0.5555555555555556,
              "#d8576b"
             ],
             [
              0.6666666666666666,
              "#ed7953"
             ],
             [
              0.7777777777777778,
              "#fb9f3a"
             ],
             [
              0.8888888888888888,
              "#fdca26"
             ],
             [
              1,
              "#f0f921"
             ]
            ],
            "type": "heatmap"
           }
          ],
          "heatmapgl": [
           {
            "colorbar": {
             "outlinewidth": 0,
             "ticks": ""
            },
            "colorscale": [
             [
              0,
              "#0d0887"
             ],
             [
              0.1111111111111111,
              "#46039f"
             ],
             [
              0.2222222222222222,
              "#7201a8"
             ],
             [
              0.3333333333333333,
              "#9c179e"
             ],
             [
              0.4444444444444444,
              "#bd3786"
             ],
             [
              0.5555555555555556,
              "#d8576b"
             ],
             [
              0.6666666666666666,
              "#ed7953"
             ],
             [
              0.7777777777777778,
              "#fb9f3a"
             ],
             [
              0.8888888888888888,
              "#fdca26"
             ],
             [
              1,
              "#f0f921"
             ]
            ],
            "type": "heatmapgl"
           }
          ],
          "histogram": [
           {
            "marker": {
             "pattern": {
              "fillmode": "overlay",
              "size": 10,
              "solidity": 0.2
             }
            },
            "type": "histogram"
           }
          ],
          "histogram2d": [
           {
            "colorbar": {
             "outlinewidth": 0,
             "ticks": ""
            },
            "colorscale": [
             [
              0,
              "#0d0887"
             ],
             [
              0.1111111111111111,
              "#46039f"
             ],
             [
              0.2222222222222222,
              "#7201a8"
             ],
             [
              0.3333333333333333,
              "#9c179e"
             ],
             [
              0.4444444444444444,
              "#bd3786"
             ],
             [
              0.5555555555555556,
              "#d8576b"
             ],
             [
              0.6666666666666666,
              "#ed7953"
             ],
             [
              0.7777777777777778,
              "#fb9f3a"
             ],
             [
              0.8888888888888888,
              "#fdca26"
             ],
             [
              1,
              "#f0f921"
             ]
            ],
            "type": "histogram2d"
           }
          ],
          "histogram2dcontour": [
           {
            "colorbar": {
             "outlinewidth": 0,
             "ticks": ""
            },
            "colorscale": [
             [
              0,
              "#0d0887"
             ],
             [
              0.1111111111111111,
              "#46039f"
             ],
             [
              0.2222222222222222,
              "#7201a8"
             ],
             [
              0.3333333333333333,
              "#9c179e"
             ],
             [
              0.4444444444444444,
              "#bd3786"
             ],
             [
              0.5555555555555556,
              "#d8576b"
             ],
             [
              0.6666666666666666,
              "#ed7953"
             ],
             [
              0.7777777777777778,
              "#fb9f3a"
             ],
             [
              0.8888888888888888,
              "#fdca26"
             ],
             [
              1,
              "#f0f921"
             ]
            ],
            "type": "histogram2dcontour"
           }
          ],
          "mesh3d": [
           {
            "colorbar": {
             "outlinewidth": 0,
             "ticks": ""
            },
            "type": "mesh3d"
           }
          ],
          "parcoords": [
           {
            "line": {
             "colorbar": {
              "outlinewidth": 0,
              "ticks": ""
             }
            },
            "type": "parcoords"
           }
          ],
          "pie": [
           {
            "automargin": true,
            "type": "pie"
           }
          ],
          "scatter": [
           {
            "fillpattern": {
             "fillmode": "overlay",
             "size": 10,
             "solidity": 0.2
            },
            "type": "scatter"
           }
          ],
          "scatter3d": [
           {
            "line": {
             "colorbar": {
              "outlinewidth": 0,
              "ticks": ""
             }
            },
            "marker": {
             "colorbar": {
              "outlinewidth": 0,
              "ticks": ""
             }
            },
            "type": "scatter3d"
           }
          ],
          "scattercarpet": [
           {
            "marker": {
             "colorbar": {
              "outlinewidth": 0,
              "ticks": ""
             }
            },
            "type": "scattercarpet"
           }
          ],
          "scattergeo": [
           {
            "marker": {
             "colorbar": {
              "outlinewidth": 0,
              "ticks": ""
             }
            },
            "type": "scattergeo"
           }
          ],
          "scattergl": [
           {
            "marker": {
             "colorbar": {
              "outlinewidth": 0,
              "ticks": ""
             }
            },
            "type": "scattergl"
           }
          ],
          "scattermapbox": [
           {
            "marker": {
             "colorbar": {
              "outlinewidth": 0,
              "ticks": ""
             }
            },
            "type": "scattermapbox"
           }
          ],
          "scatterpolar": [
           {
            "marker": {
             "colorbar": {
              "outlinewidth": 0,
              "ticks": ""
             }
            },
            "type": "scatterpolar"
           }
          ],
          "scatterpolargl": [
           {
            "marker": {
             "colorbar": {
              "outlinewidth": 0,
              "ticks": ""
             }
            },
            "type": "scatterpolargl"
           }
          ],
          "scatterternary": [
           {
            "marker": {
             "colorbar": {
              "outlinewidth": 0,
              "ticks": ""
             }
            },
            "type": "scatterternary"
           }
          ],
          "surface": [
           {
            "colorbar": {
             "outlinewidth": 0,
             "ticks": ""
            },
            "colorscale": [
             [
              0,
              "#0d0887"
             ],
             [
              0.1111111111111111,
              "#46039f"
             ],
             [
              0.2222222222222222,
              "#7201a8"
             ],
             [
              0.3333333333333333,
              "#9c179e"
             ],
             [
              0.4444444444444444,
              "#bd3786"
             ],
             [
              0.5555555555555556,
              "#d8576b"
             ],
             [
              0.6666666666666666,
              "#ed7953"
             ],
             [
              0.7777777777777778,
              "#fb9f3a"
             ],
             [
              0.8888888888888888,
              "#fdca26"
             ],
             [
              1,
              "#f0f921"
             ]
            ],
            "type": "surface"
           }
          ],
          "table": [
           {
            "cells": {
             "fill": {
              "color": "#EBF0F8"
             },
             "line": {
              "color": "white"
             }
            },
            "header": {
             "fill": {
              "color": "#C8D4E3"
             },
             "line": {
              "color": "white"
             }
            },
            "type": "table"
           }
          ]
         },
         "layout": {
          "annotationdefaults": {
           "arrowcolor": "#2a3f5f",
           "arrowhead": 0,
           "arrowwidth": 1
          },
          "autotypenumbers": "strict",
          "coloraxis": {
           "colorbar": {
            "outlinewidth": 0,
            "ticks": ""
           }
          },
          "colorscale": {
           "diverging": [
            [
             0,
             "#8e0152"
            ],
            [
             0.1,
             "#c51b7d"
            ],
            [
             0.2,
             "#de77ae"
            ],
            [
             0.3,
             "#f1b6da"
            ],
            [
             0.4,
             "#fde0ef"
            ],
            [
             0.5,
             "#f7f7f7"
            ],
            [
             0.6,
             "#e6f5d0"
            ],
            [
             0.7,
             "#b8e186"
            ],
            [
             0.8,
             "#7fbc41"
            ],
            [
             0.9,
             "#4d9221"
            ],
            [
             1,
             "#276419"
            ]
           ],
           "sequential": [
            [
             0,
             "#0d0887"
            ],
            [
             0.1111111111111111,
             "#46039f"
            ],
            [
             0.2222222222222222,
             "#7201a8"
            ],
            [
             0.3333333333333333,
             "#9c179e"
            ],
            [
             0.4444444444444444,
             "#bd3786"
            ],
            [
             0.5555555555555556,
             "#d8576b"
            ],
            [
             0.6666666666666666,
             "#ed7953"
            ],
            [
             0.7777777777777778,
             "#fb9f3a"
            ],
            [
             0.8888888888888888,
             "#fdca26"
            ],
            [
             1,
             "#f0f921"
            ]
           ],
           "sequentialminus": [
            [
             0,
             "#0d0887"
            ],
            [
             0.1111111111111111,
             "#46039f"
            ],
            [
             0.2222222222222222,
             "#7201a8"
            ],
            [
             0.3333333333333333,
             "#9c179e"
            ],
            [
             0.4444444444444444,
             "#bd3786"
            ],
            [
             0.5555555555555556,
             "#d8576b"
            ],
            [
             0.6666666666666666,
             "#ed7953"
            ],
            [
             0.7777777777777778,
             "#fb9f3a"
            ],
            [
             0.8888888888888888,
             "#fdca26"
            ],
            [
             1,
             "#f0f921"
            ]
           ]
          },
          "colorway": [
           "#636efa",
           "#EF553B",
           "#00cc96",
           "#ab63fa",
           "#FFA15A",
           "#19d3f3",
           "#FF6692",
           "#B6E880",
           "#FF97FF",
           "#FECB52"
          ],
          "font": {
           "color": "#2a3f5f"
          },
          "geo": {
           "bgcolor": "white",
           "lakecolor": "white",
           "landcolor": "#E5ECF6",
           "showlakes": true,
           "showland": true,
           "subunitcolor": "white"
          },
          "hoverlabel": {
           "align": "left"
          },
          "hovermode": "closest",
          "mapbox": {
           "style": "light"
          },
          "paper_bgcolor": "white",
          "plot_bgcolor": "#E5ECF6",
          "polar": {
           "angularaxis": {
            "gridcolor": "white",
            "linecolor": "white",
            "ticks": ""
           },
           "bgcolor": "#E5ECF6",
           "radialaxis": {
            "gridcolor": "white",
            "linecolor": "white",
            "ticks": ""
           }
          },
          "scene": {
           "xaxis": {
            "backgroundcolor": "#E5ECF6",
            "gridcolor": "white",
            "gridwidth": 2,
            "linecolor": "white",
            "showbackground": true,
            "ticks": "",
            "zerolinecolor": "white"
           },
           "yaxis": {
            "backgroundcolor": "#E5ECF6",
            "gridcolor": "white",
            "gridwidth": 2,
            "linecolor": "white",
            "showbackground": true,
            "ticks": "",
            "zerolinecolor": "white"
           },
           "zaxis": {
            "backgroundcolor": "#E5ECF6",
            "gridcolor": "white",
            "gridwidth": 2,
            "linecolor": "white",
            "showbackground": true,
            "ticks": "",
            "zerolinecolor": "white"
           }
          },
          "shapedefaults": {
           "line": {
            "color": "#2a3f5f"
           }
          },
          "ternary": {
           "aaxis": {
            "gridcolor": "white",
            "linecolor": "white",
            "ticks": ""
           },
           "baxis": {
            "gridcolor": "white",
            "linecolor": "white",
            "ticks": ""
           },
           "bgcolor": "#E5ECF6",
           "caxis": {
            "gridcolor": "white",
            "linecolor": "white",
            "ticks": ""
           }
          },
          "title": {
           "x": 0.05
          },
          "xaxis": {
           "automargin": true,
           "gridcolor": "white",
           "linecolor": "white",
           "ticks": "",
           "title": {
            "standoff": 15
           },
           "zerolinecolor": "white",
           "zerolinewidth": 2
          },
          "yaxis": {
           "automargin": true,
           "gridcolor": "white",
           "linecolor": "white",
           "ticks": "",
           "title": {
            "standoff": 15
           },
           "zerolinecolor": "white",
           "zerolinewidth": 2
          }
         }
        },
        "xaxis": {
         "anchor": "y",
         "domain": [
          0,
          1
         ],
         "title": {
          "text": "x"
         }
        },
        "yaxis": {
         "anchor": "x",
         "domain": [
          0,
          1
         ],
         "title": {
          "text": "y"
         }
        }
       }
      }
     },
     "metadata": {},
     "output_type": "display_data"
    }
   ],
   "source": [
    "# plot bar chart of Family column (x values, y counts)\n",
    "stats = df[col_name].value_counts().to_dict()\n",
    "stats = {str(k): v for k, v in stats.items()}\n",
    "stats['nan'] = df[col_name].isna().sum()\n",
    "fig = px.bar(x=list(stats.keys()), y=list(stats.values()))\n",
    "fig.show()"
   ]
  },
  {
   "cell_type": "code",
   "execution_count": 470,
   "id": "ff5bcbcf",
   "metadata": {},
   "outputs": [
    {
     "name": "stdout",
     "output_type": "stream",
     "text": [
      "0    3139\n",
      "1     618\n",
      "Name: Family, dtype: int64\n"
     ]
    }
   ],
   "source": [
    "df[col_name] = df[col_name].astype(str)\n",
    "df[col_name] = df[col_name].replace('nan', 0)\n",
    "df[col_name] = df[col_name].replace('no', 0)\n",
    "vals = df[col_name].unique().tolist()\n",
    "vals.remove(0)\n",
    "df[col_name] = df[col_name].replace(vals, 1)\n",
    "print(df[col_name].value_counts())"
   ]
  },
  {
   "cell_type": "code",
   "execution_count": 471,
   "id": "5b28b735",
   "metadata": {},
   "outputs": [
    {
     "data": {
      "application/vnd.plotly.v1+json": {
       "config": {
        "plotlyServerURL": "https://plot.ly"
       },
       "data": [
        {
         "domain": {
          "x": [
           0,
           1
          ],
          "y": [
           0,
           1
          ]
         },
         "hovertemplate": "label=%{label}<br>value=%{value}<extra></extra>",
         "labels": [
          0,
          1
         ],
         "legendgroup": "",
         "name": "",
         "showlegend": true,
         "type": "pie",
         "values": [
          3139,
          618
         ]
        }
       ],
       "layout": {
        "legend": {
         "tracegroupgap": 0
        },
        "template": {
         "data": {
          "bar": [
           {
            "error_x": {
             "color": "#2a3f5f"
            },
            "error_y": {
             "color": "#2a3f5f"
            },
            "marker": {
             "line": {
              "color": "#E5ECF6",
              "width": 0.5
             },
             "pattern": {
              "fillmode": "overlay",
              "size": 10,
              "solidity": 0.2
             }
            },
            "type": "bar"
           }
          ],
          "barpolar": [
           {
            "marker": {
             "line": {
              "color": "#E5ECF6",
              "width": 0.5
             },
             "pattern": {
              "fillmode": "overlay",
              "size": 10,
              "solidity": 0.2
             }
            },
            "type": "barpolar"
           }
          ],
          "carpet": [
           {
            "aaxis": {
             "endlinecolor": "#2a3f5f",
             "gridcolor": "white",
             "linecolor": "white",
             "minorgridcolor": "white",
             "startlinecolor": "#2a3f5f"
            },
            "baxis": {
             "endlinecolor": "#2a3f5f",
             "gridcolor": "white",
             "linecolor": "white",
             "minorgridcolor": "white",
             "startlinecolor": "#2a3f5f"
            },
            "type": "carpet"
           }
          ],
          "choropleth": [
           {
            "colorbar": {
             "outlinewidth": 0,
             "ticks": ""
            },
            "type": "choropleth"
           }
          ],
          "contour": [
           {
            "colorbar": {
             "outlinewidth": 0,
             "ticks": ""
            },
            "colorscale": [
             [
              0,
              "#0d0887"
             ],
             [
              0.1111111111111111,
              "#46039f"
             ],
             [
              0.2222222222222222,
              "#7201a8"
             ],
             [
              0.3333333333333333,
              "#9c179e"
             ],
             [
              0.4444444444444444,
              "#bd3786"
             ],
             [
              0.5555555555555556,
              "#d8576b"
             ],
             [
              0.6666666666666666,
              "#ed7953"
             ],
             [
              0.7777777777777778,
              "#fb9f3a"
             ],
             [
              0.8888888888888888,
              "#fdca26"
             ],
             [
              1,
              "#f0f921"
             ]
            ],
            "type": "contour"
           }
          ],
          "contourcarpet": [
           {
            "colorbar": {
             "outlinewidth": 0,
             "ticks": ""
            },
            "type": "contourcarpet"
           }
          ],
          "heatmap": [
           {
            "colorbar": {
             "outlinewidth": 0,
             "ticks": ""
            },
            "colorscale": [
             [
              0,
              "#0d0887"
             ],
             [
              0.1111111111111111,
              "#46039f"
             ],
             [
              0.2222222222222222,
              "#7201a8"
             ],
             [
              0.3333333333333333,
              "#9c179e"
             ],
             [
              0.4444444444444444,
              "#bd3786"
             ],
             [
              0.5555555555555556,
              "#d8576b"
             ],
             [
              0.6666666666666666,
              "#ed7953"
             ],
             [
              0.7777777777777778,
              "#fb9f3a"
             ],
             [
              0.8888888888888888,
              "#fdca26"
             ],
             [
              1,
              "#f0f921"
             ]
            ],
            "type": "heatmap"
           }
          ],
          "heatmapgl": [
           {
            "colorbar": {
             "outlinewidth": 0,
             "ticks": ""
            },
            "colorscale": [
             [
              0,
              "#0d0887"
             ],
             [
              0.1111111111111111,
              "#46039f"
             ],
             [
              0.2222222222222222,
              "#7201a8"
             ],
             [
              0.3333333333333333,
              "#9c179e"
             ],
             [
              0.4444444444444444,
              "#bd3786"
             ],
             [
              0.5555555555555556,
              "#d8576b"
             ],
             [
              0.6666666666666666,
              "#ed7953"
             ],
             [
              0.7777777777777778,
              "#fb9f3a"
             ],
             [
              0.8888888888888888,
              "#fdca26"
             ],
             [
              1,
              "#f0f921"
             ]
            ],
            "type": "heatmapgl"
           }
          ],
          "histogram": [
           {
            "marker": {
             "pattern": {
              "fillmode": "overlay",
              "size": 10,
              "solidity": 0.2
             }
            },
            "type": "histogram"
           }
          ],
          "histogram2d": [
           {
            "colorbar": {
             "outlinewidth": 0,
             "ticks": ""
            },
            "colorscale": [
             [
              0,
              "#0d0887"
             ],
             [
              0.1111111111111111,
              "#46039f"
             ],
             [
              0.2222222222222222,
              "#7201a8"
             ],
             [
              0.3333333333333333,
              "#9c179e"
             ],
             [
              0.4444444444444444,
              "#bd3786"
             ],
             [
              0.5555555555555556,
              "#d8576b"
             ],
             [
              0.6666666666666666,
              "#ed7953"
             ],
             [
              0.7777777777777778,
              "#fb9f3a"
             ],
             [
              0.8888888888888888,
              "#fdca26"
             ],
             [
              1,
              "#f0f921"
             ]
            ],
            "type": "histogram2d"
           }
          ],
          "histogram2dcontour": [
           {
            "colorbar": {
             "outlinewidth": 0,
             "ticks": ""
            },
            "colorscale": [
             [
              0,
              "#0d0887"
             ],
             [
              0.1111111111111111,
              "#46039f"
             ],
             [
              0.2222222222222222,
              "#7201a8"
             ],
             [
              0.3333333333333333,
              "#9c179e"
             ],
             [
              0.4444444444444444,
              "#bd3786"
             ],
             [
              0.5555555555555556,
              "#d8576b"
             ],
             [
              0.6666666666666666,
              "#ed7953"
             ],
             [
              0.7777777777777778,
              "#fb9f3a"
             ],
             [
              0.8888888888888888,
              "#fdca26"
             ],
             [
              1,
              "#f0f921"
             ]
            ],
            "type": "histogram2dcontour"
           }
          ],
          "mesh3d": [
           {
            "colorbar": {
             "outlinewidth": 0,
             "ticks": ""
            },
            "type": "mesh3d"
           }
          ],
          "parcoords": [
           {
            "line": {
             "colorbar": {
              "outlinewidth": 0,
              "ticks": ""
             }
            },
            "type": "parcoords"
           }
          ],
          "pie": [
           {
            "automargin": true,
            "type": "pie"
           }
          ],
          "scatter": [
           {
            "fillpattern": {
             "fillmode": "overlay",
             "size": 10,
             "solidity": 0.2
            },
            "type": "scatter"
           }
          ],
          "scatter3d": [
           {
            "line": {
             "colorbar": {
              "outlinewidth": 0,
              "ticks": ""
             }
            },
            "marker": {
             "colorbar": {
              "outlinewidth": 0,
              "ticks": ""
             }
            },
            "type": "scatter3d"
           }
          ],
          "scattercarpet": [
           {
            "marker": {
             "colorbar": {
              "outlinewidth": 0,
              "ticks": ""
             }
            },
            "type": "scattercarpet"
           }
          ],
          "scattergeo": [
           {
            "marker": {
             "colorbar": {
              "outlinewidth": 0,
              "ticks": ""
             }
            },
            "type": "scattergeo"
           }
          ],
          "scattergl": [
           {
            "marker": {
             "colorbar": {
              "outlinewidth": 0,
              "ticks": ""
             }
            },
            "type": "scattergl"
           }
          ],
          "scattermapbox": [
           {
            "marker": {
             "colorbar": {
              "outlinewidth": 0,
              "ticks": ""
             }
            },
            "type": "scattermapbox"
           }
          ],
          "scatterpolar": [
           {
            "marker": {
             "colorbar": {
              "outlinewidth": 0,
              "ticks": ""
             }
            },
            "type": "scatterpolar"
           }
          ],
          "scatterpolargl": [
           {
            "marker": {
             "colorbar": {
              "outlinewidth": 0,
              "ticks": ""
             }
            },
            "type": "scatterpolargl"
           }
          ],
          "scatterternary": [
           {
            "marker": {
             "colorbar": {
              "outlinewidth": 0,
              "ticks": ""
             }
            },
            "type": "scatterternary"
           }
          ],
          "surface": [
           {
            "colorbar": {
             "outlinewidth": 0,
             "ticks": ""
            },
            "colorscale": [
             [
              0,
              "#0d0887"
             ],
             [
              0.1111111111111111,
              "#46039f"
             ],
             [
              0.2222222222222222,
              "#7201a8"
             ],
             [
              0.3333333333333333,
              "#9c179e"
             ],
             [
              0.4444444444444444,
              "#bd3786"
             ],
             [
              0.5555555555555556,
              "#d8576b"
             ],
             [
              0.6666666666666666,
              "#ed7953"
             ],
             [
              0.7777777777777778,
              "#fb9f3a"
             ],
             [
              0.8888888888888888,
              "#fdca26"
             ],
             [
              1,
              "#f0f921"
             ]
            ],
            "type": "surface"
           }
          ],
          "table": [
           {
            "cells": {
             "fill": {
              "color": "#EBF0F8"
             },
             "line": {
              "color": "white"
             }
            },
            "header": {
             "fill": {
              "color": "#C8D4E3"
             },
             "line": {
              "color": "white"
             }
            },
            "type": "table"
           }
          ]
         },
         "layout": {
          "annotationdefaults": {
           "arrowcolor": "#2a3f5f",
           "arrowhead": 0,
           "arrowwidth": 1
          },
          "autotypenumbers": "strict",
          "coloraxis": {
           "colorbar": {
            "outlinewidth": 0,
            "ticks": ""
           }
          },
          "colorscale": {
           "diverging": [
            [
             0,
             "#8e0152"
            ],
            [
             0.1,
             "#c51b7d"
            ],
            [
             0.2,
             "#de77ae"
            ],
            [
             0.3,
             "#f1b6da"
            ],
            [
             0.4,
             "#fde0ef"
            ],
            [
             0.5,
             "#f7f7f7"
            ],
            [
             0.6,
             "#e6f5d0"
            ],
            [
             0.7,
             "#b8e186"
            ],
            [
             0.8,
             "#7fbc41"
            ],
            [
             0.9,
             "#4d9221"
            ],
            [
             1,
             "#276419"
            ]
           ],
           "sequential": [
            [
             0,
             "#0d0887"
            ],
            [
             0.1111111111111111,
             "#46039f"
            ],
            [
             0.2222222222222222,
             "#7201a8"
            ],
            [
             0.3333333333333333,
             "#9c179e"
            ],
            [
             0.4444444444444444,
             "#bd3786"
            ],
            [
             0.5555555555555556,
             "#d8576b"
            ],
            [
             0.6666666666666666,
             "#ed7953"
            ],
            [
             0.7777777777777778,
             "#fb9f3a"
            ],
            [
             0.8888888888888888,
             "#fdca26"
            ],
            [
             1,
             "#f0f921"
            ]
           ],
           "sequentialminus": [
            [
             0,
             "#0d0887"
            ],
            [
             0.1111111111111111,
             "#46039f"
            ],
            [
             0.2222222222222222,
             "#7201a8"
            ],
            [
             0.3333333333333333,
             "#9c179e"
            ],
            [
             0.4444444444444444,
             "#bd3786"
            ],
            [
             0.5555555555555556,
             "#d8576b"
            ],
            [
             0.6666666666666666,
             "#ed7953"
            ],
            [
             0.7777777777777778,
             "#fb9f3a"
            ],
            [
             0.8888888888888888,
             "#fdca26"
            ],
            [
             1,
             "#f0f921"
            ]
           ]
          },
          "colorway": [
           "#636efa",
           "#EF553B",
           "#00cc96",
           "#ab63fa",
           "#FFA15A",
           "#19d3f3",
           "#FF6692",
           "#B6E880",
           "#FF97FF",
           "#FECB52"
          ],
          "font": {
           "color": "#2a3f5f"
          },
          "geo": {
           "bgcolor": "white",
           "lakecolor": "white",
           "landcolor": "#E5ECF6",
           "showlakes": true,
           "showland": true,
           "subunitcolor": "white"
          },
          "hoverlabel": {
           "align": "left"
          },
          "hovermode": "closest",
          "mapbox": {
           "style": "light"
          },
          "paper_bgcolor": "white",
          "plot_bgcolor": "#E5ECF6",
          "polar": {
           "angularaxis": {
            "gridcolor": "white",
            "linecolor": "white",
            "ticks": ""
           },
           "bgcolor": "#E5ECF6",
           "radialaxis": {
            "gridcolor": "white",
            "linecolor": "white",
            "ticks": ""
           }
          },
          "scene": {
           "xaxis": {
            "backgroundcolor": "#E5ECF6",
            "gridcolor": "white",
            "gridwidth": 2,
            "linecolor": "white",
            "showbackground": true,
            "ticks": "",
            "zerolinecolor": "white"
           },
           "yaxis": {
            "backgroundcolor": "#E5ECF6",
            "gridcolor": "white",
            "gridwidth": 2,
            "linecolor": "white",
            "showbackground": true,
            "ticks": "",
            "zerolinecolor": "white"
           },
           "zaxis": {
            "backgroundcolor": "#E5ECF6",
            "gridcolor": "white",
            "gridwidth": 2,
            "linecolor": "white",
            "showbackground": true,
            "ticks": "",
            "zerolinecolor": "white"
           }
          },
          "shapedefaults": {
           "line": {
            "color": "#2a3f5f"
           }
          },
          "ternary": {
           "aaxis": {
            "gridcolor": "white",
            "linecolor": "white",
            "ticks": ""
           },
           "baxis": {
            "gridcolor": "white",
            "linecolor": "white",
            "ticks": ""
           },
           "bgcolor": "#E5ECF6",
           "caxis": {
            "gridcolor": "white",
            "linecolor": "white",
            "ticks": ""
           }
          },
          "title": {
           "x": 0.05
          },
          "xaxis": {
           "automargin": true,
           "gridcolor": "white",
           "linecolor": "white",
           "ticks": "",
           "title": {
            "standoff": 15
           },
           "zerolinecolor": "white",
           "zerolinewidth": 2
          },
          "yaxis": {
           "automargin": true,
           "gridcolor": "white",
           "linecolor": "white",
           "ticks": "",
           "title": {
            "standoff": 15
           },
           "zerolinecolor": "white",
           "zerolinewidth": 2
          }
         }
        },
        "title": {
         "text": "Family"
        }
       }
      }
     },
     "metadata": {},
     "output_type": "display_data"
    }
   ],
   "source": [
    "fig = px.pie(df[col_name].value_counts(), values=df[col_name].value_counts().values, names=df[col_name].value_counts().index, title='Family')\n",
    "fig.show()"
   ]
  },
  {
   "cell_type": "markdown",
   "id": "4b487e9c",
   "metadata": {},
   "source": [
    "### LB.sign"
   ]
  },
  {
   "cell_type": "code",
   "execution_count": 472,
   "id": "253664ff",
   "metadata": {},
   "outputs": [
    {
     "name": "stdout",
     "output_type": "stream",
     "text": [
      "Number of nan values in LB.sign column:  3035\n",
      "Proportion of nan values in LB.sign column:  0.8078253926004791\n",
      "category\n"
     ]
    }
   ],
   "source": [
    "col_name = 'LB.sign'\n",
    "print(f'Number of nan values in {col_name} column: ', df[col_name].isna().sum())\n",
    "print(f'Proportion of nan values in {col_name} column: ', df[col_name].isna().sum() / df.shape[0])\n",
    "print(df[col_name].dtype)"
   ]
  },
  {
   "cell_type": "code",
   "execution_count": 473,
   "id": "ba28a6c3",
   "metadata": {},
   "outputs": [
    {
     "data": {
      "text/plain": [
       "['mass',\n",
       " nan,\n",
       " 'thickening',\n",
       " 'nodularity',\n",
       " 'normal',\n",
       " 'edema',\n",
       " 41.0,\n",
       " 91.0,\n",
       " 10861.0,\n",
       " 29.0,\n",
       " 39.0,\n",
       " 62.0,\n",
       " 1410.0,\n",
       " 53.0,\n",
       " 'erythema',\n",
       " 31.0,\n",
       " 9831.0,\n",
       " 1065321.0,\n",
       " 81.0,\n",
       " 'nipple retriaction',\n",
       " 532.0,\n",
       " 92.0,\n",
       " 3091.0,\n",
       " 'paget sign',\n",
       " 105321.0,\n",
       " 23.0,\n",
       " 'adenopathy',\n",
       " 1610.0,\n",
       " 109.0,\n",
       " 13.0,\n",
       " 1064.0,\n",
       " 921.0,\n",
       " 19.0,\n",
       " 346.0,\n",
       " 61.0,\n",
       " 'dimpling',\n",
       " 104.0,\n",
       " 94.0,\n",
       " 10532.0,\n",
       " 641.0,\n",
       " 1051.0,\n",
       " 'ulcer',\n",
       " 'bulging',\n",
       " 102.0,\n",
       " 3051.0,\n",
       " 431.0,\n",
       " 1096.0,\n",
       " 1091.0,\n",
       " 3041.0,\n",
       " 101.0,\n",
       " 1061.0,\n",
       " 21.0,\n",
       " 'peod orange',\n",
       " 931.0,\n",
       " 401.0,\n",
       " 1031.0,\n",
       " 11.0]"
      ]
     },
     "execution_count": 473,
     "metadata": {},
     "output_type": "execute_result"
    }
   ],
   "source": [
    "df[col_name].unique().tolist()"
   ]
  },
  {
   "cell_type": "code",
   "execution_count": 474,
   "id": "517cf6ef",
   "metadata": {},
   "outputs": [
    {
     "data": {
      "application/vnd.plotly.v1+json": {
       "config": {
        "plotlyServerURL": "https://plot.ly"
       },
       "data": [
        {
         "alignmentgroup": "True",
         "hovertemplate": "x=%{x}<br>y=%{y}<extra></extra>",
         "legendgroup": "",
         "marker": {
          "color": "#636efa",
          "pattern": {
           "shape": ""
          }
         },
         "name": "",
         "offsetgroup": "",
         "orientation": "v",
         "showlegend": false,
         "textposition": "auto",
         "type": "bar",
         "x": [
          "mass",
          "normal",
          "nodularity",
          "91.0",
          "thickening",
          "41.0",
          "31.0",
          "81.0",
          "nipple retriaction",
          "edema",
          "ulcer",
          "92.0",
          "101.0",
          "19.0",
          "dimpling",
          "bulging",
          "10861.0",
          "3041.0",
          "1610.0",
          "3051.0",
          "3091.0",
          "9831.0",
          "10532.0",
          "erythema",
          "105321.0",
          "1065321.0",
          "adenopathy",
          "1096.0",
          "paget sign",
          "peod orange",
          "1410.0",
          "11.0",
          "1091.0",
          "1064.0",
          "21.0",
          "23.0",
          "29.0",
          "39.0",
          "53.0",
          "61.0",
          "62.0",
          "94.0",
          "102.0",
          "104.0",
          "109.0",
          "346.0",
          "401.0",
          "431.0",
          "532.0",
          "641.0",
          "921.0",
          "931.0",
          "1031.0",
          "13.0",
          "1061.0",
          "1051.0",
          "nan"
         ],
         "xaxis": "x",
         "y": [
          297,
          236,
          82,
          17,
          11,
          10,
          6,
          4,
          3,
          3,
          3,
          2,
          2,
          2,
          2,
          2,
          1,
          1,
          1,
          1,
          1,
          1,
          1,
          1,
          1,
          1,
          1,
          1,
          1,
          1,
          1,
          1,
          1,
          1,
          1,
          1,
          1,
          1,
          1,
          1,
          1,
          1,
          1,
          1,
          1,
          1,
          1,
          1,
          1,
          1,
          1,
          1,
          1,
          1,
          1,
          1,
          3035
         ],
         "yaxis": "y"
        }
       ],
       "layout": {
        "barmode": "relative",
        "legend": {
         "tracegroupgap": 0
        },
        "margin": {
         "t": 60
        },
        "template": {
         "data": {
          "bar": [
           {
            "error_x": {
             "color": "#2a3f5f"
            },
            "error_y": {
             "color": "#2a3f5f"
            },
            "marker": {
             "line": {
              "color": "#E5ECF6",
              "width": 0.5
             },
             "pattern": {
              "fillmode": "overlay",
              "size": 10,
              "solidity": 0.2
             }
            },
            "type": "bar"
           }
          ],
          "barpolar": [
           {
            "marker": {
             "line": {
              "color": "#E5ECF6",
              "width": 0.5
             },
             "pattern": {
              "fillmode": "overlay",
              "size": 10,
              "solidity": 0.2
             }
            },
            "type": "barpolar"
           }
          ],
          "carpet": [
           {
            "aaxis": {
             "endlinecolor": "#2a3f5f",
             "gridcolor": "white",
             "linecolor": "white",
             "minorgridcolor": "white",
             "startlinecolor": "#2a3f5f"
            },
            "baxis": {
             "endlinecolor": "#2a3f5f",
             "gridcolor": "white",
             "linecolor": "white",
             "minorgridcolor": "white",
             "startlinecolor": "#2a3f5f"
            },
            "type": "carpet"
           }
          ],
          "choropleth": [
           {
            "colorbar": {
             "outlinewidth": 0,
             "ticks": ""
            },
            "type": "choropleth"
           }
          ],
          "contour": [
           {
            "colorbar": {
             "outlinewidth": 0,
             "ticks": ""
            },
            "colorscale": [
             [
              0,
              "#0d0887"
             ],
             [
              0.1111111111111111,
              "#46039f"
             ],
             [
              0.2222222222222222,
              "#7201a8"
             ],
             [
              0.3333333333333333,
              "#9c179e"
             ],
             [
              0.4444444444444444,
              "#bd3786"
             ],
             [
              0.5555555555555556,
              "#d8576b"
             ],
             [
              0.6666666666666666,
              "#ed7953"
             ],
             [
              0.7777777777777778,
              "#fb9f3a"
             ],
             [
              0.8888888888888888,
              "#fdca26"
             ],
             [
              1,
              "#f0f921"
             ]
            ],
            "type": "contour"
           }
          ],
          "contourcarpet": [
           {
            "colorbar": {
             "outlinewidth": 0,
             "ticks": ""
            },
            "type": "contourcarpet"
           }
          ],
          "heatmap": [
           {
            "colorbar": {
             "outlinewidth": 0,
             "ticks": ""
            },
            "colorscale": [
             [
              0,
              "#0d0887"
             ],
             [
              0.1111111111111111,
              "#46039f"
             ],
             [
              0.2222222222222222,
              "#7201a8"
             ],
             [
              0.3333333333333333,
              "#9c179e"
             ],
             [
              0.4444444444444444,
              "#bd3786"
             ],
             [
              0.5555555555555556,
              "#d8576b"
             ],
             [
              0.6666666666666666,
              "#ed7953"
             ],
             [
              0.7777777777777778,
              "#fb9f3a"
             ],
             [
              0.8888888888888888,
              "#fdca26"
             ],
             [
              1,
              "#f0f921"
             ]
            ],
            "type": "heatmap"
           }
          ],
          "heatmapgl": [
           {
            "colorbar": {
             "outlinewidth": 0,
             "ticks": ""
            },
            "colorscale": [
             [
              0,
              "#0d0887"
             ],
             [
              0.1111111111111111,
              "#46039f"
             ],
             [
              0.2222222222222222,
              "#7201a8"
             ],
             [
              0.3333333333333333,
              "#9c179e"
             ],
             [
              0.4444444444444444,
              "#bd3786"
             ],
             [
              0.5555555555555556,
              "#d8576b"
             ],
             [
              0.6666666666666666,
              "#ed7953"
             ],
             [
              0.7777777777777778,
              "#fb9f3a"
             ],
             [
              0.8888888888888888,
              "#fdca26"
             ],
             [
              1,
              "#f0f921"
             ]
            ],
            "type": "heatmapgl"
           }
          ],
          "histogram": [
           {
            "marker": {
             "pattern": {
              "fillmode": "overlay",
              "size": 10,
              "solidity": 0.2
             }
            },
            "type": "histogram"
           }
          ],
          "histogram2d": [
           {
            "colorbar": {
             "outlinewidth": 0,
             "ticks": ""
            },
            "colorscale": [
             [
              0,
              "#0d0887"
             ],
             [
              0.1111111111111111,
              "#46039f"
             ],
             [
              0.2222222222222222,
              "#7201a8"
             ],
             [
              0.3333333333333333,
              "#9c179e"
             ],
             [
              0.4444444444444444,
              "#bd3786"
             ],
             [
              0.5555555555555556,
              "#d8576b"
             ],
             [
              0.6666666666666666,
              "#ed7953"
             ],
             [
              0.7777777777777778,
              "#fb9f3a"
             ],
             [
              0.8888888888888888,
              "#fdca26"
             ],
             [
              1,
              "#f0f921"
             ]
            ],
            "type": "histogram2d"
           }
          ],
          "histogram2dcontour": [
           {
            "colorbar": {
             "outlinewidth": 0,
             "ticks": ""
            },
            "colorscale": [
             [
              0,
              "#0d0887"
             ],
             [
              0.1111111111111111,
              "#46039f"
             ],
             [
              0.2222222222222222,
              "#7201a8"
             ],
             [
              0.3333333333333333,
              "#9c179e"
             ],
             [
              0.4444444444444444,
              "#bd3786"
             ],
             [
              0.5555555555555556,
              "#d8576b"
             ],
             [
              0.6666666666666666,
              "#ed7953"
             ],
             [
              0.7777777777777778,
              "#fb9f3a"
             ],
             [
              0.8888888888888888,
              "#fdca26"
             ],
             [
              1,
              "#f0f921"
             ]
            ],
            "type": "histogram2dcontour"
           }
          ],
          "mesh3d": [
           {
            "colorbar": {
             "outlinewidth": 0,
             "ticks": ""
            },
            "type": "mesh3d"
           }
          ],
          "parcoords": [
           {
            "line": {
             "colorbar": {
              "outlinewidth": 0,
              "ticks": ""
             }
            },
            "type": "parcoords"
           }
          ],
          "pie": [
           {
            "automargin": true,
            "type": "pie"
           }
          ],
          "scatter": [
           {
            "fillpattern": {
             "fillmode": "overlay",
             "size": 10,
             "solidity": 0.2
            },
            "type": "scatter"
           }
          ],
          "scatter3d": [
           {
            "line": {
             "colorbar": {
              "outlinewidth": 0,
              "ticks": ""
             }
            },
            "marker": {
             "colorbar": {
              "outlinewidth": 0,
              "ticks": ""
             }
            },
            "type": "scatter3d"
           }
          ],
          "scattercarpet": [
           {
            "marker": {
             "colorbar": {
              "outlinewidth": 0,
              "ticks": ""
             }
            },
            "type": "scattercarpet"
           }
          ],
          "scattergeo": [
           {
            "marker": {
             "colorbar": {
              "outlinewidth": 0,
              "ticks": ""
             }
            },
            "type": "scattergeo"
           }
          ],
          "scattergl": [
           {
            "marker": {
             "colorbar": {
              "outlinewidth": 0,
              "ticks": ""
             }
            },
            "type": "scattergl"
           }
          ],
          "scattermapbox": [
           {
            "marker": {
             "colorbar": {
              "outlinewidth": 0,
              "ticks": ""
             }
            },
            "type": "scattermapbox"
           }
          ],
          "scatterpolar": [
           {
            "marker": {
             "colorbar": {
              "outlinewidth": 0,
              "ticks": ""
             }
            },
            "type": "scatterpolar"
           }
          ],
          "scatterpolargl": [
           {
            "marker": {
             "colorbar": {
              "outlinewidth": 0,
              "ticks": ""
             }
            },
            "type": "scatterpolargl"
           }
          ],
          "scatterternary": [
           {
            "marker": {
             "colorbar": {
              "outlinewidth": 0,
              "ticks": ""
             }
            },
            "type": "scatterternary"
           }
          ],
          "surface": [
           {
            "colorbar": {
             "outlinewidth": 0,
             "ticks": ""
            },
            "colorscale": [
             [
              0,
              "#0d0887"
             ],
             [
              0.1111111111111111,
              "#46039f"
             ],
             [
              0.2222222222222222,
              "#7201a8"
             ],
             [
              0.3333333333333333,
              "#9c179e"
             ],
             [
              0.4444444444444444,
              "#bd3786"
             ],
             [
              0.5555555555555556,
              "#d8576b"
             ],
             [
              0.6666666666666666,
              "#ed7953"
             ],
             [
              0.7777777777777778,
              "#fb9f3a"
             ],
             [
              0.8888888888888888,
              "#fdca26"
             ],
             [
              1,
              "#f0f921"
             ]
            ],
            "type": "surface"
           }
          ],
          "table": [
           {
            "cells": {
             "fill": {
              "color": "#EBF0F8"
             },
             "line": {
              "color": "white"
             }
            },
            "header": {
             "fill": {
              "color": "#C8D4E3"
             },
             "line": {
              "color": "white"
             }
            },
            "type": "table"
           }
          ]
         },
         "layout": {
          "annotationdefaults": {
           "arrowcolor": "#2a3f5f",
           "arrowhead": 0,
           "arrowwidth": 1
          },
          "autotypenumbers": "strict",
          "coloraxis": {
           "colorbar": {
            "outlinewidth": 0,
            "ticks": ""
           }
          },
          "colorscale": {
           "diverging": [
            [
             0,
             "#8e0152"
            ],
            [
             0.1,
             "#c51b7d"
            ],
            [
             0.2,
             "#de77ae"
            ],
            [
             0.3,
             "#f1b6da"
            ],
            [
             0.4,
             "#fde0ef"
            ],
            [
             0.5,
             "#f7f7f7"
            ],
            [
             0.6,
             "#e6f5d0"
            ],
            [
             0.7,
             "#b8e186"
            ],
            [
             0.8,
             "#7fbc41"
            ],
            [
             0.9,
             "#4d9221"
            ],
            [
             1,
             "#276419"
            ]
           ],
           "sequential": [
            [
             0,
             "#0d0887"
            ],
            [
             0.1111111111111111,
             "#46039f"
            ],
            [
             0.2222222222222222,
             "#7201a8"
            ],
            [
             0.3333333333333333,
             "#9c179e"
            ],
            [
             0.4444444444444444,
             "#bd3786"
            ],
            [
             0.5555555555555556,
             "#d8576b"
            ],
            [
             0.6666666666666666,
             "#ed7953"
            ],
            [
             0.7777777777777778,
             "#fb9f3a"
            ],
            [
             0.8888888888888888,
             "#fdca26"
            ],
            [
             1,
             "#f0f921"
            ]
           ],
           "sequentialminus": [
            [
             0,
             "#0d0887"
            ],
            [
             0.1111111111111111,
             "#46039f"
            ],
            [
             0.2222222222222222,
             "#7201a8"
            ],
            [
             0.3333333333333333,
             "#9c179e"
            ],
            [
             0.4444444444444444,
             "#bd3786"
            ],
            [
             0.5555555555555556,
             "#d8576b"
            ],
            [
             0.6666666666666666,
             "#ed7953"
            ],
            [
             0.7777777777777778,
             "#fb9f3a"
            ],
            [
             0.8888888888888888,
             "#fdca26"
            ],
            [
             1,
             "#f0f921"
            ]
           ]
          },
          "colorway": [
           "#636efa",
           "#EF553B",
           "#00cc96",
           "#ab63fa",
           "#FFA15A",
           "#19d3f3",
           "#FF6692",
           "#B6E880",
           "#FF97FF",
           "#FECB52"
          ],
          "font": {
           "color": "#2a3f5f"
          },
          "geo": {
           "bgcolor": "white",
           "lakecolor": "white",
           "landcolor": "#E5ECF6",
           "showlakes": true,
           "showland": true,
           "subunitcolor": "white"
          },
          "hoverlabel": {
           "align": "left"
          },
          "hovermode": "closest",
          "mapbox": {
           "style": "light"
          },
          "paper_bgcolor": "white",
          "plot_bgcolor": "#E5ECF6",
          "polar": {
           "angularaxis": {
            "gridcolor": "white",
            "linecolor": "white",
            "ticks": ""
           },
           "bgcolor": "#E5ECF6",
           "radialaxis": {
            "gridcolor": "white",
            "linecolor": "white",
            "ticks": ""
           }
          },
          "scene": {
           "xaxis": {
            "backgroundcolor": "#E5ECF6",
            "gridcolor": "white",
            "gridwidth": 2,
            "linecolor": "white",
            "showbackground": true,
            "ticks": "",
            "zerolinecolor": "white"
           },
           "yaxis": {
            "backgroundcolor": "#E5ECF6",
            "gridcolor": "white",
            "gridwidth": 2,
            "linecolor": "white",
            "showbackground": true,
            "ticks": "",
            "zerolinecolor": "white"
           },
           "zaxis": {
            "backgroundcolor": "#E5ECF6",
            "gridcolor": "white",
            "gridwidth": 2,
            "linecolor": "white",
            "showbackground": true,
            "ticks": "",
            "zerolinecolor": "white"
           }
          },
          "shapedefaults": {
           "line": {
            "color": "#2a3f5f"
           }
          },
          "ternary": {
           "aaxis": {
            "gridcolor": "white",
            "linecolor": "white",
            "ticks": ""
           },
           "baxis": {
            "gridcolor": "white",
            "linecolor": "white",
            "ticks": ""
           },
           "bgcolor": "#E5ECF6",
           "caxis": {
            "gridcolor": "white",
            "linecolor": "white",
            "ticks": ""
           }
          },
          "title": {
           "x": 0.05
          },
          "xaxis": {
           "automargin": true,
           "gridcolor": "white",
           "linecolor": "white",
           "ticks": "",
           "title": {
            "standoff": 15
           },
           "zerolinecolor": "white",
           "zerolinewidth": 2
          },
          "yaxis": {
           "automargin": true,
           "gridcolor": "white",
           "linecolor": "white",
           "ticks": "",
           "title": {
            "standoff": 15
           },
           "zerolinecolor": "white",
           "zerolinewidth": 2
          }
         }
        },
        "xaxis": {
         "anchor": "y",
         "domain": [
          0,
          1
         ],
         "title": {
          "text": "x"
         }
        },
        "yaxis": {
         "anchor": "x",
         "domain": [
          0,
          1
         ],
         "title": {
          "text": "y"
         }
        }
       }
      }
     },
     "metadata": {},
     "output_type": "display_data"
    }
   ],
   "source": [
    "# plot bar chart of Family column (x values, y counts)\n",
    "stats = df[col_name].value_counts().to_dict()\n",
    "stats = {str(k): v for k, v in stats.items()}\n",
    "stats['nan'] = df[col_name].isna().sum()\n",
    "fig = px.bar(x=list(stats.keys()), y=list(stats.values()))\n",
    "fig.show()"
   ]
  },
  {
   "cell_type": "code",
   "execution_count": 475,
   "id": "364fff3d",
   "metadata": {},
   "outputs": [],
   "source": [
    "# fill"
   ]
  },
  {
   "cell_type": "code",
   "execution_count": null,
   "id": "1aa5e95a",
   "metadata": {},
   "outputs": [],
   "source": []
  },
  {
   "cell_type": "markdown",
   "id": "e048e53c",
   "metadata": {},
   "source": [
    "### RB.sign"
   ]
  },
  {
   "cell_type": "code",
   "execution_count": 476,
   "id": "7156989d",
   "metadata": {},
   "outputs": [
    {
     "name": "stdout",
     "output_type": "stream",
     "text": [
      "Number of nan values in RB.sign column:  2991\n",
      "Proportion of nan values in RB.sign column:  0.7961139206813947\n",
      "category\n"
     ]
    }
   ],
   "source": [
    "col_name = 'RB.sign'\n",
    "print(f'Number of nan values in {col_name} column: ', df[col_name].isna().sum())\n",
    "print(f'Proportion of nan values in {col_name} column: ', df[col_name].isna().sum() / df.shape[0])\n",
    "print(df[col_name].dtype)"
   ]
  },
  {
   "cell_type": "code",
   "execution_count": 477,
   "id": "3797573f",
   "metadata": {},
   "outputs": [
    {
     "data": {
      "text/plain": [
       "['normal',\n",
       " nan,\n",
       " 532.0,\n",
       " 12.0,\n",
       " 'nodularity',\n",
       " 'mass',\n",
       " 'thickening',\n",
       " 861.0,\n",
       " 81.0,\n",
       " 92.0,\n",
       " 41.0,\n",
       " 91.0,\n",
       " 101.0,\n",
       " 651.0,\n",
       " 510.0,\n",
       " 21.0,\n",
       " 31.0,\n",
       " 14.0,\n",
       " 'paget sign',\n",
       " 1061.0,\n",
       " 921.0,\n",
       " 96.0,\n",
       " 10421.0,\n",
       " 'bulging',\n",
       " 9321.0,\n",
       " 32.0,\n",
       " 1456.0,\n",
       " 105.0,\n",
       " 301.0,\n",
       " 19.0,\n",
       " 201.0,\n",
       " 610.0,\n",
       " 1239.0,\n",
       " 26.0,\n",
       " 2930.0,\n",
       " 93.0,\n",
       " 102.0,\n",
       " 106531.0,\n",
       " 'ulcer',\n",
       " 'dimpling',\n",
       " 321.0,\n",
       " 1065.0,\n",
       " 29.0,\n",
       " 109.0,\n",
       " 431.0,\n",
       " 'ecimose',\n",
       " 11.0]"
      ]
     },
     "execution_count": 477,
     "metadata": {},
     "output_type": "execute_result"
    }
   ],
   "source": [
    "df[col_name].unique().tolist()"
   ]
  },
  {
   "cell_type": "code",
   "execution_count": 478,
   "id": "46c89fa2",
   "metadata": {},
   "outputs": [
    {
     "data": {
      "application/vnd.plotly.v1+json": {
       "config": {
        "plotlyServerURL": "https://plot.ly"
       },
       "data": [
        {
         "alignmentgroup": "True",
         "hovertemplate": "x=%{x}<br>y=%{y}<extra></extra>",
         "legendgroup": "",
         "marker": {
          "color": "#636efa",
          "pattern": {
           "shape": ""
          }
         },
         "name": "",
         "offsetgroup": "",
         "orientation": "v",
         "showlegend": false,
         "textposition": "auto",
         "type": "bar",
         "x": [
          "normal",
          "mass",
          "nodularity",
          "thickening",
          "91.0",
          "41.0",
          "92.0",
          "31.0",
          "bulging",
          "81.0",
          "11.0",
          "861.0",
          "1061.0",
          "ulcer",
          "21.0",
          "96.0",
          "101.0",
          "14.0",
          "paget sign",
          "19.0",
          "26.0",
          "ecimose",
          "dimpling",
          "29.0",
          "106531.0",
          "10421.0",
          "9321.0",
          "2930.0",
          "1456.0",
          "1239.0",
          "1065.0",
          "32.0",
          "921.0",
          "93.0",
          "651.0",
          "610.0",
          "532.0",
          "12.0",
          "431.0",
          "321.0",
          "301.0",
          "201.0",
          "109.0",
          "105.0",
          "102.0",
          "510.0",
          "nan"
         ],
         "xaxis": "x",
         "y": [
          294,
          280,
          93,
          13,
          12,
          9,
          6,
          5,
          4,
          4,
          3,
          3,
          3,
          3,
          3,
          1,
          1,
          1,
          1,
          1,
          1,
          1,
          1,
          1,
          1,
          1,
          1,
          1,
          1,
          1,
          1,
          1,
          1,
          1,
          1,
          1,
          1,
          1,
          1,
          1,
          1,
          1,
          1,
          1,
          1,
          1,
          2991
         ],
         "yaxis": "y"
        }
       ],
       "layout": {
        "barmode": "relative",
        "legend": {
         "tracegroupgap": 0
        },
        "margin": {
         "t": 60
        },
        "template": {
         "data": {
          "bar": [
           {
            "error_x": {
             "color": "#2a3f5f"
            },
            "error_y": {
             "color": "#2a3f5f"
            },
            "marker": {
             "line": {
              "color": "#E5ECF6",
              "width": 0.5
             },
             "pattern": {
              "fillmode": "overlay",
              "size": 10,
              "solidity": 0.2
             }
            },
            "type": "bar"
           }
          ],
          "barpolar": [
           {
            "marker": {
             "line": {
              "color": "#E5ECF6",
              "width": 0.5
             },
             "pattern": {
              "fillmode": "overlay",
              "size": 10,
              "solidity": 0.2
             }
            },
            "type": "barpolar"
           }
          ],
          "carpet": [
           {
            "aaxis": {
             "endlinecolor": "#2a3f5f",
             "gridcolor": "white",
             "linecolor": "white",
             "minorgridcolor": "white",
             "startlinecolor": "#2a3f5f"
            },
            "baxis": {
             "endlinecolor": "#2a3f5f",
             "gridcolor": "white",
             "linecolor": "white",
             "minorgridcolor": "white",
             "startlinecolor": "#2a3f5f"
            },
            "type": "carpet"
           }
          ],
          "choropleth": [
           {
            "colorbar": {
             "outlinewidth": 0,
             "ticks": ""
            },
            "type": "choropleth"
           }
          ],
          "contour": [
           {
            "colorbar": {
             "outlinewidth": 0,
             "ticks": ""
            },
            "colorscale": [
             [
              0,
              "#0d0887"
             ],
             [
              0.1111111111111111,
              "#46039f"
             ],
             [
              0.2222222222222222,
              "#7201a8"
             ],
             [
              0.3333333333333333,
              "#9c179e"
             ],
             [
              0.4444444444444444,
              "#bd3786"
             ],
             [
              0.5555555555555556,
              "#d8576b"
             ],
             [
              0.6666666666666666,
              "#ed7953"
             ],
             [
              0.7777777777777778,
              "#fb9f3a"
             ],
             [
              0.8888888888888888,
              "#fdca26"
             ],
             [
              1,
              "#f0f921"
             ]
            ],
            "type": "contour"
           }
          ],
          "contourcarpet": [
           {
            "colorbar": {
             "outlinewidth": 0,
             "ticks": ""
            },
            "type": "contourcarpet"
           }
          ],
          "heatmap": [
           {
            "colorbar": {
             "outlinewidth": 0,
             "ticks": ""
            },
            "colorscale": [
             [
              0,
              "#0d0887"
             ],
             [
              0.1111111111111111,
              "#46039f"
             ],
             [
              0.2222222222222222,
              "#7201a8"
             ],
             [
              0.3333333333333333,
              "#9c179e"
             ],
             [
              0.4444444444444444,
              "#bd3786"
             ],
             [
              0.5555555555555556,
              "#d8576b"
             ],
             [
              0.6666666666666666,
              "#ed7953"
             ],
             [
              0.7777777777777778,
              "#fb9f3a"
             ],
             [
              0.8888888888888888,
              "#fdca26"
             ],
             [
              1,
              "#f0f921"
             ]
            ],
            "type": "heatmap"
           }
          ],
          "heatmapgl": [
           {
            "colorbar": {
             "outlinewidth": 0,
             "ticks": ""
            },
            "colorscale": [
             [
              0,
              "#0d0887"
             ],
             [
              0.1111111111111111,
              "#46039f"
             ],
             [
              0.2222222222222222,
              "#7201a8"
             ],
             [
              0.3333333333333333,
              "#9c179e"
             ],
             [
              0.4444444444444444,
              "#bd3786"
             ],
             [
              0.5555555555555556,
              "#d8576b"
             ],
             [
              0.6666666666666666,
              "#ed7953"
             ],
             [
              0.7777777777777778,
              "#fb9f3a"
             ],
             [
              0.8888888888888888,
              "#fdca26"
             ],
             [
              1,
              "#f0f921"
             ]
            ],
            "type": "heatmapgl"
           }
          ],
          "histogram": [
           {
            "marker": {
             "pattern": {
              "fillmode": "overlay",
              "size": 10,
              "solidity": 0.2
             }
            },
            "type": "histogram"
           }
          ],
          "histogram2d": [
           {
            "colorbar": {
             "outlinewidth": 0,
             "ticks": ""
            },
            "colorscale": [
             [
              0,
              "#0d0887"
             ],
             [
              0.1111111111111111,
              "#46039f"
             ],
             [
              0.2222222222222222,
              "#7201a8"
             ],
             [
              0.3333333333333333,
              "#9c179e"
             ],
             [
              0.4444444444444444,
              "#bd3786"
             ],
             [
              0.5555555555555556,
              "#d8576b"
             ],
             [
              0.6666666666666666,
              "#ed7953"
             ],
             [
              0.7777777777777778,
              "#fb9f3a"
             ],
             [
              0.8888888888888888,
              "#fdca26"
             ],
             [
              1,
              "#f0f921"
             ]
            ],
            "type": "histogram2d"
           }
          ],
          "histogram2dcontour": [
           {
            "colorbar": {
             "outlinewidth": 0,
             "ticks": ""
            },
            "colorscale": [
             [
              0,
              "#0d0887"
             ],
             [
              0.1111111111111111,
              "#46039f"
             ],
             [
              0.2222222222222222,
              "#7201a8"
             ],
             [
              0.3333333333333333,
              "#9c179e"
             ],
             [
              0.4444444444444444,
              "#bd3786"
             ],
             [
              0.5555555555555556,
              "#d8576b"
             ],
             [
              0.6666666666666666,
              "#ed7953"
             ],
             [
              0.7777777777777778,
              "#fb9f3a"
             ],
             [
              0.8888888888888888,
              "#fdca26"
             ],
             [
              1,
              "#f0f921"
             ]
            ],
            "type": "histogram2dcontour"
           }
          ],
          "mesh3d": [
           {
            "colorbar": {
             "outlinewidth": 0,
             "ticks": ""
            },
            "type": "mesh3d"
           }
          ],
          "parcoords": [
           {
            "line": {
             "colorbar": {
              "outlinewidth": 0,
              "ticks": ""
             }
            },
            "type": "parcoords"
           }
          ],
          "pie": [
           {
            "automargin": true,
            "type": "pie"
           }
          ],
          "scatter": [
           {
            "fillpattern": {
             "fillmode": "overlay",
             "size": 10,
             "solidity": 0.2
            },
            "type": "scatter"
           }
          ],
          "scatter3d": [
           {
            "line": {
             "colorbar": {
              "outlinewidth": 0,
              "ticks": ""
             }
            },
            "marker": {
             "colorbar": {
              "outlinewidth": 0,
              "ticks": ""
             }
            },
            "type": "scatter3d"
           }
          ],
          "scattercarpet": [
           {
            "marker": {
             "colorbar": {
              "outlinewidth": 0,
              "ticks": ""
             }
            },
            "type": "scattercarpet"
           }
          ],
          "scattergeo": [
           {
            "marker": {
             "colorbar": {
              "outlinewidth": 0,
              "ticks": ""
             }
            },
            "type": "scattergeo"
           }
          ],
          "scattergl": [
           {
            "marker": {
             "colorbar": {
              "outlinewidth": 0,
              "ticks": ""
             }
            },
            "type": "scattergl"
           }
          ],
          "scattermapbox": [
           {
            "marker": {
             "colorbar": {
              "outlinewidth": 0,
              "ticks": ""
             }
            },
            "type": "scattermapbox"
           }
          ],
          "scatterpolar": [
           {
            "marker": {
             "colorbar": {
              "outlinewidth": 0,
              "ticks": ""
             }
            },
            "type": "scatterpolar"
           }
          ],
          "scatterpolargl": [
           {
            "marker": {
             "colorbar": {
              "outlinewidth": 0,
              "ticks": ""
             }
            },
            "type": "scatterpolargl"
           }
          ],
          "scatterternary": [
           {
            "marker": {
             "colorbar": {
              "outlinewidth": 0,
              "ticks": ""
             }
            },
            "type": "scatterternary"
           }
          ],
          "surface": [
           {
            "colorbar": {
             "outlinewidth": 0,
             "ticks": ""
            },
            "colorscale": [
             [
              0,
              "#0d0887"
             ],
             [
              0.1111111111111111,
              "#46039f"
             ],
             [
              0.2222222222222222,
              "#7201a8"
             ],
             [
              0.3333333333333333,
              "#9c179e"
             ],
             [
              0.4444444444444444,
              "#bd3786"
             ],
             [
              0.5555555555555556,
              "#d8576b"
             ],
             [
              0.6666666666666666,
              "#ed7953"
             ],
             [
              0.7777777777777778,
              "#fb9f3a"
             ],
             [
              0.8888888888888888,
              "#fdca26"
             ],
             [
              1,
              "#f0f921"
             ]
            ],
            "type": "surface"
           }
          ],
          "table": [
           {
            "cells": {
             "fill": {
              "color": "#EBF0F8"
             },
             "line": {
              "color": "white"
             }
            },
            "header": {
             "fill": {
              "color": "#C8D4E3"
             },
             "line": {
              "color": "white"
             }
            },
            "type": "table"
           }
          ]
         },
         "layout": {
          "annotationdefaults": {
           "arrowcolor": "#2a3f5f",
           "arrowhead": 0,
           "arrowwidth": 1
          },
          "autotypenumbers": "strict",
          "coloraxis": {
           "colorbar": {
            "outlinewidth": 0,
            "ticks": ""
           }
          },
          "colorscale": {
           "diverging": [
            [
             0,
             "#8e0152"
            ],
            [
             0.1,
             "#c51b7d"
            ],
            [
             0.2,
             "#de77ae"
            ],
            [
             0.3,
             "#f1b6da"
            ],
            [
             0.4,
             "#fde0ef"
            ],
            [
             0.5,
             "#f7f7f7"
            ],
            [
             0.6,
             "#e6f5d0"
            ],
            [
             0.7,
             "#b8e186"
            ],
            [
             0.8,
             "#7fbc41"
            ],
            [
             0.9,
             "#4d9221"
            ],
            [
             1,
             "#276419"
            ]
           ],
           "sequential": [
            [
             0,
             "#0d0887"
            ],
            [
             0.1111111111111111,
             "#46039f"
            ],
            [
             0.2222222222222222,
             "#7201a8"
            ],
            [
             0.3333333333333333,
             "#9c179e"
            ],
            [
             0.4444444444444444,
             "#bd3786"
            ],
            [
             0.5555555555555556,
             "#d8576b"
            ],
            [
             0.6666666666666666,
             "#ed7953"
            ],
            [
             0.7777777777777778,
             "#fb9f3a"
            ],
            [
             0.8888888888888888,
             "#fdca26"
            ],
            [
             1,
             "#f0f921"
            ]
           ],
           "sequentialminus": [
            [
             0,
             "#0d0887"
            ],
            [
             0.1111111111111111,
             "#46039f"
            ],
            [
             0.2222222222222222,
             "#7201a8"
            ],
            [
             0.3333333333333333,
             "#9c179e"
            ],
            [
             0.4444444444444444,
             "#bd3786"
            ],
            [
             0.5555555555555556,
             "#d8576b"
            ],
            [
             0.6666666666666666,
             "#ed7953"
            ],
            [
             0.7777777777777778,
             "#fb9f3a"
            ],
            [
             0.8888888888888888,
             "#fdca26"
            ],
            [
             1,
             "#f0f921"
            ]
           ]
          },
          "colorway": [
           "#636efa",
           "#EF553B",
           "#00cc96",
           "#ab63fa",
           "#FFA15A",
           "#19d3f3",
           "#FF6692",
           "#B6E880",
           "#FF97FF",
           "#FECB52"
          ],
          "font": {
           "color": "#2a3f5f"
          },
          "geo": {
           "bgcolor": "white",
           "lakecolor": "white",
           "landcolor": "#E5ECF6",
           "showlakes": true,
           "showland": true,
           "subunitcolor": "white"
          },
          "hoverlabel": {
           "align": "left"
          },
          "hovermode": "closest",
          "mapbox": {
           "style": "light"
          },
          "paper_bgcolor": "white",
          "plot_bgcolor": "#E5ECF6",
          "polar": {
           "angularaxis": {
            "gridcolor": "white",
            "linecolor": "white",
            "ticks": ""
           },
           "bgcolor": "#E5ECF6",
           "radialaxis": {
            "gridcolor": "white",
            "linecolor": "white",
            "ticks": ""
           }
          },
          "scene": {
           "xaxis": {
            "backgroundcolor": "#E5ECF6",
            "gridcolor": "white",
            "gridwidth": 2,
            "linecolor": "white",
            "showbackground": true,
            "ticks": "",
            "zerolinecolor": "white"
           },
           "yaxis": {
            "backgroundcolor": "#E5ECF6",
            "gridcolor": "white",
            "gridwidth": 2,
            "linecolor": "white",
            "showbackground": true,
            "ticks": "",
            "zerolinecolor": "white"
           },
           "zaxis": {
            "backgroundcolor": "#E5ECF6",
            "gridcolor": "white",
            "gridwidth": 2,
            "linecolor": "white",
            "showbackground": true,
            "ticks": "",
            "zerolinecolor": "white"
           }
          },
          "shapedefaults": {
           "line": {
            "color": "#2a3f5f"
           }
          },
          "ternary": {
           "aaxis": {
            "gridcolor": "white",
            "linecolor": "white",
            "ticks": ""
           },
           "baxis": {
            "gridcolor": "white",
            "linecolor": "white",
            "ticks": ""
           },
           "bgcolor": "#E5ECF6",
           "caxis": {
            "gridcolor": "white",
            "linecolor": "white",
            "ticks": ""
           }
          },
          "title": {
           "x": 0.05
          },
          "xaxis": {
           "automargin": true,
           "gridcolor": "white",
           "linecolor": "white",
           "ticks": "",
           "title": {
            "standoff": 15
           },
           "zerolinecolor": "white",
           "zerolinewidth": 2
          },
          "yaxis": {
           "automargin": true,
           "gridcolor": "white",
           "linecolor": "white",
           "ticks": "",
           "title": {
            "standoff": 15
           },
           "zerolinecolor": "white",
           "zerolinewidth": 2
          }
         }
        },
        "xaxis": {
         "anchor": "y",
         "domain": [
          0,
          1
         ],
         "title": {
          "text": "x"
         }
        },
        "yaxis": {
         "anchor": "x",
         "domain": [
          0,
          1
         ],
         "title": {
          "text": "y"
         }
        }
       }
      }
     },
     "metadata": {},
     "output_type": "display_data"
    }
   ],
   "source": [
    "# plot bar chart of Family column (x values, y counts)\n",
    "stats = df[col_name].value_counts().to_dict()\n",
    "stats = {str(k): v for k, v in stats.items()}\n",
    "stats['nan'] = df[col_name].isna().sum()\n",
    "fig = px.bar(x=list(stats.keys()), y=list(stats.values()))\n",
    "fig.show()"
   ]
  },
  {
   "cell_type": "code",
   "execution_count": 479,
   "id": "63c8818b",
   "metadata": {},
   "outputs": [],
   "source": [
    "# fill"
   ]
  },
  {
   "cell_type": "code",
   "execution_count": null,
   "id": "a96946c2",
   "metadata": {},
   "outputs": [],
   "source": []
  },
  {
   "cell_type": "markdown",
   "metadata": {},
   "source": [
    "### Age"
   ]
  },
  {
   "cell_type": "code",
   "execution_count": 480,
   "id": "99d2acc4",
   "metadata": {},
   "outputs": [
    {
     "name": "stdout",
     "output_type": "stream",
     "text": [
      "Number of nan values in age column:  955\n",
      "Proportion of nan values in age column:  0.2541921746073995\n",
      "float64\n"
     ]
    }
   ],
   "source": [
    "col_name = 'age'\n",
    "print(f'Number of nan values in {col_name} column: ', df[col_name].isna().sum())\n",
    "print(f'Proportion of nan values in {col_name} column: ', df[col_name].isna().sum() / df.shape[0])\n",
    "print(df[col_name].dtype)"
   ]
  },
  {
   "cell_type": "code",
   "execution_count": 481,
   "id": "19529e99",
   "metadata": {},
   "outputs": [
    {
     "data": {
      "text/plain": [
       "[42.0,\n",
       " nan,\n",
       " 53.0,\n",
       " 63.0,\n",
       " 41.0,\n",
       " 43.0,\n",
       " 49.0,\n",
       " 59.0,\n",
       " 55.0,\n",
       " 50.0,\n",
       " 30.0,\n",
       " 32.0,\n",
       " 40.0,\n",
       " 60.0,\n",
       " 39.0,\n",
       " 47.0,\n",
       " 51.0,\n",
       " 45.0,\n",
       " 33.0,\n",
       " 27.0,\n",
       " 46.0,\n",
       " 31.0,\n",
       " 57.0,\n",
       " 71.0,\n",
       " 44.0,\n",
       " 25.0,\n",
       " 54.0,\n",
       " 52.0,\n",
       " 37.0,\n",
       " 65.0,\n",
       " 29.0,\n",
       " 58.0,\n",
       " 62.0,\n",
       " 79.0,\n",
       " 48.0,\n",
       " 69.0,\n",
       " 64.0,\n",
       " 68.0,\n",
       " 38.0,\n",
       " 28.0,\n",
       " 56.0,\n",
       " 36.0,\n",
       " 66.0,\n",
       " 61.0,\n",
       " 35.0,\n",
       " 26.0,\n",
       " 34.0,\n",
       " 72.0,\n",
       " 23.0,\n",
       " 75.0,\n",
       " 70.0,\n",
       " 74.0,\n",
       " 78.0,\n",
       " 67.0,\n",
       " 73.0,\n",
       " 77.0,\n",
       " 87.0,\n",
       " 76.0,\n",
       " 83.0,\n",
       " 81.0,\n",
       " 18.0,\n",
       " 82.0,\n",
       " 80.0,\n",
       " 24.0,\n",
       " 84.0,\n",
       " 85.0,\n",
       " 0.0]"
      ]
     },
     "execution_count": 481,
     "metadata": {},
     "output_type": "execute_result"
    }
   ],
   "source": [
    "df[col_name].unique().tolist()"
   ]
  },
  {
   "cell_type": "code",
   "execution_count": 482,
   "id": "aa456216",
   "metadata": {},
   "outputs": [
    {
     "data": {
      "application/vnd.plotly.v1+json": {
       "config": {
        "plotlyServerURL": "https://plot.ly"
       },
       "data": [
        {
         "alignmentgroup": "True",
         "hovertemplate": "x=%{x}<br>y=%{y}<extra></extra>",
         "legendgroup": "",
         "marker": {
          "color": "#636efa",
          "pattern": {
           "shape": ""
          }
         },
         "name": "",
         "offsetgroup": "",
         "orientation": "v",
         "showlegend": false,
         "textposition": "auto",
         "type": "bar",
         "x": [
          "47.0",
          "44.0",
          "46.0",
          "45.0",
          "42.0",
          "49.0",
          "50.0",
          "48.0",
          "43.0",
          "39.0",
          "40.0",
          "41.0",
          "52.0",
          "35.0",
          "51.0",
          "38.0",
          "54.0",
          "56.0",
          "55.0",
          "53.0",
          "58.0",
          "60.0",
          "36.0",
          "37.0",
          "34.0",
          "33.0",
          "57.0",
          "32.0",
          "62.0",
          "31.0",
          "64.0",
          "61.0",
          "59.0",
          "63.0",
          "66.0",
          "65.0",
          "30.0",
          "29.0",
          "72.0",
          "68.0",
          "70.0",
          "27.0",
          "28.0",
          "69.0",
          "67.0",
          "74.0",
          "71.0",
          "26.0",
          "76.0",
          "73.0",
          "78.0",
          "24.0",
          "77.0",
          "75.0",
          "25.0",
          "23.0",
          "81.0",
          "80.0",
          "0.0",
          "79.0",
          "84.0",
          "87.0",
          "82.0",
          "83.0",
          "18.0",
          "85.0",
          "nan"
         ],
         "xaxis": "x",
         "y": [
          111,
          108,
          107,
          103,
          102,
          100,
          99,
          93,
          93,
          91,
          90,
          88,
          83,
          82,
          82,
          77,
          77,
          66,
          62,
          60,
          58,
          58,
          58,
          57,
          56,
          50,
          49,
          47,
          40,
          37,
          37,
          37,
          37,
          35,
          31,
          30,
          28,
          22,
          21,
          21,
          20,
          20,
          20,
          17,
          15,
          15,
          14,
          8,
          8,
          8,
          8,
          7,
          7,
          7,
          7,
          6,
          5,
          5,
          5,
          4,
          4,
          3,
          3,
          1,
          1,
          1,
          955
         ],
         "yaxis": "y"
        }
       ],
       "layout": {
        "barmode": "relative",
        "legend": {
         "tracegroupgap": 0
        },
        "margin": {
         "t": 60
        },
        "template": {
         "data": {
          "bar": [
           {
            "error_x": {
             "color": "#2a3f5f"
            },
            "error_y": {
             "color": "#2a3f5f"
            },
            "marker": {
             "line": {
              "color": "#E5ECF6",
              "width": 0.5
             },
             "pattern": {
              "fillmode": "overlay",
              "size": 10,
              "solidity": 0.2
             }
            },
            "type": "bar"
           }
          ],
          "barpolar": [
           {
            "marker": {
             "line": {
              "color": "#E5ECF6",
              "width": 0.5
             },
             "pattern": {
              "fillmode": "overlay",
              "size": 10,
              "solidity": 0.2
             }
            },
            "type": "barpolar"
           }
          ],
          "carpet": [
           {
            "aaxis": {
             "endlinecolor": "#2a3f5f",
             "gridcolor": "white",
             "linecolor": "white",
             "minorgridcolor": "white",
             "startlinecolor": "#2a3f5f"
            },
            "baxis": {
             "endlinecolor": "#2a3f5f",
             "gridcolor": "white",
             "linecolor": "white",
             "minorgridcolor": "white",
             "startlinecolor": "#2a3f5f"
            },
            "type": "carpet"
           }
          ],
          "choropleth": [
           {
            "colorbar": {
             "outlinewidth": 0,
             "ticks": ""
            },
            "type": "choropleth"
           }
          ],
          "contour": [
           {
            "colorbar": {
             "outlinewidth": 0,
             "ticks": ""
            },
            "colorscale": [
             [
              0,
              "#0d0887"
             ],
             [
              0.1111111111111111,
              "#46039f"
             ],
             [
              0.2222222222222222,
              "#7201a8"
             ],
             [
              0.3333333333333333,
              "#9c179e"
             ],
             [
              0.4444444444444444,
              "#bd3786"
             ],
             [
              0.5555555555555556,
              "#d8576b"
             ],
             [
              0.6666666666666666,
              "#ed7953"
             ],
             [
              0.7777777777777778,
              "#fb9f3a"
             ],
             [
              0.8888888888888888,
              "#fdca26"
             ],
             [
              1,
              "#f0f921"
             ]
            ],
            "type": "contour"
           }
          ],
          "contourcarpet": [
           {
            "colorbar": {
             "outlinewidth": 0,
             "ticks": ""
            },
            "type": "contourcarpet"
           }
          ],
          "heatmap": [
           {
            "colorbar": {
             "outlinewidth": 0,
             "ticks": ""
            },
            "colorscale": [
             [
              0,
              "#0d0887"
             ],
             [
              0.1111111111111111,
              "#46039f"
             ],
             [
              0.2222222222222222,
              "#7201a8"
             ],
             [
              0.3333333333333333,
              "#9c179e"
             ],
             [
              0.4444444444444444,
              "#bd3786"
             ],
             [
              0.5555555555555556,
              "#d8576b"
             ],
             [
              0.6666666666666666,
              "#ed7953"
             ],
             [
              0.7777777777777778,
              "#fb9f3a"
             ],
             [
              0.8888888888888888,
              "#fdca26"
             ],
             [
              1,
              "#f0f921"
             ]
            ],
            "type": "heatmap"
           }
          ],
          "heatmapgl": [
           {
            "colorbar": {
             "outlinewidth": 0,
             "ticks": ""
            },
            "colorscale": [
             [
              0,
              "#0d0887"
             ],
             [
              0.1111111111111111,
              "#46039f"
             ],
             [
              0.2222222222222222,
              "#7201a8"
             ],
             [
              0.3333333333333333,
              "#9c179e"
             ],
             [
              0.4444444444444444,
              "#bd3786"
             ],
             [
              0.5555555555555556,
              "#d8576b"
             ],
             [
              0.6666666666666666,
              "#ed7953"
             ],
             [
              0.7777777777777778,
              "#fb9f3a"
             ],
             [
              0.8888888888888888,
              "#fdca26"
             ],
             [
              1,
              "#f0f921"
             ]
            ],
            "type": "heatmapgl"
           }
          ],
          "histogram": [
           {
            "marker": {
             "pattern": {
              "fillmode": "overlay",
              "size": 10,
              "solidity": 0.2
             }
            },
            "type": "histogram"
           }
          ],
          "histogram2d": [
           {
            "colorbar": {
             "outlinewidth": 0,
             "ticks": ""
            },
            "colorscale": [
             [
              0,
              "#0d0887"
             ],
             [
              0.1111111111111111,
              "#46039f"
             ],
             [
              0.2222222222222222,
              "#7201a8"
             ],
             [
              0.3333333333333333,
              "#9c179e"
             ],
             [
              0.4444444444444444,
              "#bd3786"
             ],
             [
              0.5555555555555556,
              "#d8576b"
             ],
             [
              0.6666666666666666,
              "#ed7953"
             ],
             [
              0.7777777777777778,
              "#fb9f3a"
             ],
             [
              0.8888888888888888,
              "#fdca26"
             ],
             [
              1,
              "#f0f921"
             ]
            ],
            "type": "histogram2d"
           }
          ],
          "histogram2dcontour": [
           {
            "colorbar": {
             "outlinewidth": 0,
             "ticks": ""
            },
            "colorscale": [
             [
              0,
              "#0d0887"
             ],
             [
              0.1111111111111111,
              "#46039f"
             ],
             [
              0.2222222222222222,
              "#7201a8"
             ],
             [
              0.3333333333333333,
              "#9c179e"
             ],
             [
              0.4444444444444444,
              "#bd3786"
             ],
             [
              0.5555555555555556,
              "#d8576b"
             ],
             [
              0.6666666666666666,
              "#ed7953"
             ],
             [
              0.7777777777777778,
              "#fb9f3a"
             ],
             [
              0.8888888888888888,
              "#fdca26"
             ],
             [
              1,
              "#f0f921"
             ]
            ],
            "type": "histogram2dcontour"
           }
          ],
          "mesh3d": [
           {
            "colorbar": {
             "outlinewidth": 0,
             "ticks": ""
            },
            "type": "mesh3d"
           }
          ],
          "parcoords": [
           {
            "line": {
             "colorbar": {
              "outlinewidth": 0,
              "ticks": ""
             }
            },
            "type": "parcoords"
           }
          ],
          "pie": [
           {
            "automargin": true,
            "type": "pie"
           }
          ],
          "scatter": [
           {
            "fillpattern": {
             "fillmode": "overlay",
             "size": 10,
             "solidity": 0.2
            },
            "type": "scatter"
           }
          ],
          "scatter3d": [
           {
            "line": {
             "colorbar": {
              "outlinewidth": 0,
              "ticks": ""
             }
            },
            "marker": {
             "colorbar": {
              "outlinewidth": 0,
              "ticks": ""
             }
            },
            "type": "scatter3d"
           }
          ],
          "scattercarpet": [
           {
            "marker": {
             "colorbar": {
              "outlinewidth": 0,
              "ticks": ""
             }
            },
            "type": "scattercarpet"
           }
          ],
          "scattergeo": [
           {
            "marker": {
             "colorbar": {
              "outlinewidth": 0,
              "ticks": ""
             }
            },
            "type": "scattergeo"
           }
          ],
          "scattergl": [
           {
            "marker": {
             "colorbar": {
              "outlinewidth": 0,
              "ticks": ""
             }
            },
            "type": "scattergl"
           }
          ],
          "scattermapbox": [
           {
            "marker": {
             "colorbar": {
              "outlinewidth": 0,
              "ticks": ""
             }
            },
            "type": "scattermapbox"
           }
          ],
          "scatterpolar": [
           {
            "marker": {
             "colorbar": {
              "outlinewidth": 0,
              "ticks": ""
             }
            },
            "type": "scatterpolar"
           }
          ],
          "scatterpolargl": [
           {
            "marker": {
             "colorbar": {
              "outlinewidth": 0,
              "ticks": ""
             }
            },
            "type": "scatterpolargl"
           }
          ],
          "scatterternary": [
           {
            "marker": {
             "colorbar": {
              "outlinewidth": 0,
              "ticks": ""
             }
            },
            "type": "scatterternary"
           }
          ],
          "surface": [
           {
            "colorbar": {
             "outlinewidth": 0,
             "ticks": ""
            },
            "colorscale": [
             [
              0,
              "#0d0887"
             ],
             [
              0.1111111111111111,
              "#46039f"
             ],
             [
              0.2222222222222222,
              "#7201a8"
             ],
             [
              0.3333333333333333,
              "#9c179e"
             ],
             [
              0.4444444444444444,
              "#bd3786"
             ],
             [
              0.5555555555555556,
              "#d8576b"
             ],
             [
              0.6666666666666666,
              "#ed7953"
             ],
             [
              0.7777777777777778,
              "#fb9f3a"
             ],
             [
              0.8888888888888888,
              "#fdca26"
             ],
             [
              1,
              "#f0f921"
             ]
            ],
            "type": "surface"
           }
          ],
          "table": [
           {
            "cells": {
             "fill": {
              "color": "#EBF0F8"
             },
             "line": {
              "color": "white"
             }
            },
            "header": {
             "fill": {
              "color": "#C8D4E3"
             },
             "line": {
              "color": "white"
             }
            },
            "type": "table"
           }
          ]
         },
         "layout": {
          "annotationdefaults": {
           "arrowcolor": "#2a3f5f",
           "arrowhead": 0,
           "arrowwidth": 1
          },
          "autotypenumbers": "strict",
          "coloraxis": {
           "colorbar": {
            "outlinewidth": 0,
            "ticks": ""
           }
          },
          "colorscale": {
           "diverging": [
            [
             0,
             "#8e0152"
            ],
            [
             0.1,
             "#c51b7d"
            ],
            [
             0.2,
             "#de77ae"
            ],
            [
             0.3,
             "#f1b6da"
            ],
            [
             0.4,
             "#fde0ef"
            ],
            [
             0.5,
             "#f7f7f7"
            ],
            [
             0.6,
             "#e6f5d0"
            ],
            [
             0.7,
             "#b8e186"
            ],
            [
             0.8,
             "#7fbc41"
            ],
            [
             0.9,
             "#4d9221"
            ],
            [
             1,
             "#276419"
            ]
           ],
           "sequential": [
            [
             0,
             "#0d0887"
            ],
            [
             0.1111111111111111,
             "#46039f"
            ],
            [
             0.2222222222222222,
             "#7201a8"
            ],
            [
             0.3333333333333333,
             "#9c179e"
            ],
            [
             0.4444444444444444,
             "#bd3786"
            ],
            [
             0.5555555555555556,
             "#d8576b"
            ],
            [
             0.6666666666666666,
             "#ed7953"
            ],
            [
             0.7777777777777778,
             "#fb9f3a"
            ],
            [
             0.8888888888888888,
             "#fdca26"
            ],
            [
             1,
             "#f0f921"
            ]
           ],
           "sequentialminus": [
            [
             0,
             "#0d0887"
            ],
            [
             0.1111111111111111,
             "#46039f"
            ],
            [
             0.2222222222222222,
             "#7201a8"
            ],
            [
             0.3333333333333333,
             "#9c179e"
            ],
            [
             0.4444444444444444,
             "#bd3786"
            ],
            [
             0.5555555555555556,
             "#d8576b"
            ],
            [
             0.6666666666666666,
             "#ed7953"
            ],
            [
             0.7777777777777778,
             "#fb9f3a"
            ],
            [
             0.8888888888888888,
             "#fdca26"
            ],
            [
             1,
             "#f0f921"
            ]
           ]
          },
          "colorway": [
           "#636efa",
           "#EF553B",
           "#00cc96",
           "#ab63fa",
           "#FFA15A",
           "#19d3f3",
           "#FF6692",
           "#B6E880",
           "#FF97FF",
           "#FECB52"
          ],
          "font": {
           "color": "#2a3f5f"
          },
          "geo": {
           "bgcolor": "white",
           "lakecolor": "white",
           "landcolor": "#E5ECF6",
           "showlakes": true,
           "showland": true,
           "subunitcolor": "white"
          },
          "hoverlabel": {
           "align": "left"
          },
          "hovermode": "closest",
          "mapbox": {
           "style": "light"
          },
          "paper_bgcolor": "white",
          "plot_bgcolor": "#E5ECF6",
          "polar": {
           "angularaxis": {
            "gridcolor": "white",
            "linecolor": "white",
            "ticks": ""
           },
           "bgcolor": "#E5ECF6",
           "radialaxis": {
            "gridcolor": "white",
            "linecolor": "white",
            "ticks": ""
           }
          },
          "scene": {
           "xaxis": {
            "backgroundcolor": "#E5ECF6",
            "gridcolor": "white",
            "gridwidth": 2,
            "linecolor": "white",
            "showbackground": true,
            "ticks": "",
            "zerolinecolor": "white"
           },
           "yaxis": {
            "backgroundcolor": "#E5ECF6",
            "gridcolor": "white",
            "gridwidth": 2,
            "linecolor": "white",
            "showbackground": true,
            "ticks": "",
            "zerolinecolor": "white"
           },
           "zaxis": {
            "backgroundcolor": "#E5ECF6",
            "gridcolor": "white",
            "gridwidth": 2,
            "linecolor": "white",
            "showbackground": true,
            "ticks": "",
            "zerolinecolor": "white"
           }
          },
          "shapedefaults": {
           "line": {
            "color": "#2a3f5f"
           }
          },
          "ternary": {
           "aaxis": {
            "gridcolor": "white",
            "linecolor": "white",
            "ticks": ""
           },
           "baxis": {
            "gridcolor": "white",
            "linecolor": "white",
            "ticks": ""
           },
           "bgcolor": "#E5ECF6",
           "caxis": {
            "gridcolor": "white",
            "linecolor": "white",
            "ticks": ""
           }
          },
          "title": {
           "x": 0.05
          },
          "xaxis": {
           "automargin": true,
           "gridcolor": "white",
           "linecolor": "white",
           "ticks": "",
           "title": {
            "standoff": 15
           },
           "zerolinecolor": "white",
           "zerolinewidth": 2
          },
          "yaxis": {
           "automargin": true,
           "gridcolor": "white",
           "linecolor": "white",
           "ticks": "",
           "title": {
            "standoff": 15
           },
           "zerolinecolor": "white",
           "zerolinewidth": 2
          }
         }
        },
        "xaxis": {
         "anchor": "y",
         "domain": [
          0,
          1
         ],
         "title": {
          "text": "x"
         }
        },
        "yaxis": {
         "anchor": "x",
         "domain": [
          0,
          1
         ],
         "title": {
          "text": "y"
         }
        }
       }
      }
     },
     "metadata": {},
     "output_type": "display_data"
    }
   ],
   "source": [
    "# plot bar chart of Family column (x values, y counts)\n",
    "stats = df[col_name].value_counts().to_dict()\n",
    "stats = {str(k): v for k, v in stats.items()}\n",
    "stats['nan'] = df[col_name].isna().sum()\n",
    "fig = px.bar(x=list(stats.keys()), y=list(stats.values()))\n",
    "fig.show()"
   ]
  },
  {
   "cell_type": "code",
   "execution_count": 483,
   "id": "01317f35",
   "metadata": {},
   "outputs": [],
   "source": [
    "df[col_name] = df[col_name].fillna(df[col_name].mean())"
   ]
  },
  {
   "cell_type": "code",
   "execution_count": 484,
   "id": "e18bd2f1",
   "metadata": {},
   "outputs": [
    {
     "data": {
      "application/vnd.plotly.v1+json": {
       "config": {
        "plotlyServerURL": "https://plot.ly"
       },
       "data": [
        {
         "alignmentgroup": "True",
         "bingroup": "x",
         "hovertemplate": "age=%{x}<br>count=%{y}<extra></extra>",
         "legendgroup": "",
         "marker": {
          "color": "#636efa",
          "pattern": {
           "shape": ""
          }
         },
         "name": "",
         "offsetgroup": "",
         "orientation": "v",
         "showlegend": false,
         "type": "histogram",
         "x": [
          42,
          47.84618129907209,
          47.84618129907209,
          53,
          47.84618129907209,
          63,
          41,
          43,
          41,
          49,
          59,
          55,
          42,
          50,
          30,
          32,
          40,
          60,
          39,
          47,
          51,
          55,
          45,
          32,
          55,
          42,
          33,
          60,
          27,
          39,
          47,
          32,
          60,
          50,
          42,
          53,
          55,
          47.84618129907209,
          46,
          39,
          31,
          55,
          57,
          30,
          42,
          63,
          71,
          46,
          50,
          44,
          25,
          54,
          39,
          44,
          49,
          44,
          44,
          63,
          52,
          37,
          37,
          39,
          39,
          65,
          31,
          47,
          65,
          45,
          63,
          47.84618129907209,
          57,
          29,
          53,
          51,
          58,
          43,
          45,
          62,
          58,
          42,
          44,
          79,
          48,
          58,
          47,
          47,
          47,
          40,
          45,
          39,
          69,
          53,
          62,
          64,
          42,
          42,
          42,
          55,
          43,
          42,
          46,
          54,
          68,
          30,
          58,
          38,
          28,
          56,
          42,
          44,
          49,
          42,
          64,
          47,
          39,
          45,
          45,
          36,
          45,
          48,
          37,
          54,
          46,
          49,
          32,
          66,
          28,
          53,
          43,
          41,
          49,
          63,
          31,
          52,
          47,
          50,
          53,
          43,
          37,
          33,
          60,
          50,
          49,
          27,
          33,
          58,
          61,
          32,
          42,
          39,
          35,
          36,
          31,
          26,
          45,
          46,
          52,
          28,
          40,
          49,
          42,
          47.84618129907209,
          46,
          63,
          59,
          50,
          46,
          60,
          48,
          51,
          65,
          49,
          46,
          55,
          57,
          44,
          42,
          36,
          42,
          52,
          41,
          45,
          68,
          34,
          40,
          45,
          40,
          35,
          48,
          46,
          52,
          50,
          27,
          68,
          35,
          55,
          45,
          46,
          45,
          45,
          56,
          49,
          46,
          52,
          41,
          40,
          68,
          44,
          54,
          47,
          43,
          45,
          38,
          52,
          37,
          44,
          37,
          41,
          57,
          72,
          38,
          40,
          56,
          60,
          50,
          25,
          37,
          39,
          39,
          41,
          65,
          23,
          47,
          50,
          60,
          45,
          64,
          51,
          55,
          54,
          42,
          43,
          41,
          29,
          31,
          30,
          54,
          58,
          52,
          48,
          41,
          49,
          40,
          75,
          70,
          48,
          49,
          38,
          51,
          38,
          60,
          57,
          57,
          66,
          46,
          51,
          49,
          43,
          37,
          26,
          36,
          47,
          52,
          47,
          54,
          39,
          68,
          59,
          44,
          34,
          43,
          56,
          56,
          59,
          50,
          66,
          31,
          39,
          55,
          42,
          42,
          42,
          40,
          51,
          48,
          25,
          45,
          45,
          40,
          74,
          38,
          46,
          34,
          33,
          47.84618129907209,
          52,
          41,
          46,
          36,
          54,
          39,
          52,
          35,
          52,
          41,
          57,
          50,
          28,
          45,
          52,
          41,
          36,
          43,
          35,
          47,
          28,
          43,
          55,
          37,
          48,
          42,
          45,
          40,
          64,
          44,
          45,
          35,
          43,
          35,
          40,
          42,
          39,
          43,
          43,
          36,
          45,
          74,
          59,
          42,
          65,
          37,
          46,
          45,
          50,
          78,
          60,
          35,
          39,
          31,
          64,
          67,
          70,
          45,
          60,
          40,
          27,
          26,
          44,
          36,
          49,
          47,
          43,
          46,
          35,
          51,
          37,
          35,
          64,
          42,
          50,
          45,
          67,
          45,
          44,
          42,
          42,
          60,
          43,
          46,
          50,
          35,
          39,
          60,
          55,
          37,
          36,
          43,
          48,
          58,
          40,
          35,
          53,
          43,
          31,
          25,
          53,
          33,
          31,
          47,
          47,
          57,
          39,
          51,
          43,
          40,
          36,
          38,
          43,
          56,
          55,
          40,
          46,
          71,
          31,
          44,
          48,
          43,
          46,
          43,
          43,
          59,
          53,
          35,
          73,
          43,
          77,
          59,
          41,
          61,
          30,
          63,
          32,
          56,
          61,
          47,
          49,
          50,
          43,
          35,
          35,
          45,
          66,
          33,
          28,
          51,
          52,
          29,
          54,
          60,
          35,
          38,
          40,
          59,
          39,
          51,
          40,
          46,
          48,
          78,
          49,
          42,
          62,
          42,
          49,
          53,
          64,
          50,
          34,
          38,
          38,
          42,
          58,
          40,
          55,
          47,
          48,
          25,
          41,
          59,
          70,
          55,
          38,
          71,
          51,
          66,
          50,
          34,
          47,
          49,
          52,
          36,
          38,
          46,
          56,
          50,
          42,
          48,
          64,
          32,
          53,
          56,
          27,
          32,
          70,
          69,
          32,
          39,
          44,
          54,
          51,
          38,
          45,
          72,
          54,
          32,
          44,
          35,
          47,
          54,
          50,
          58,
          34,
          48,
          48,
          47,
          64,
          54,
          50,
          45,
          46,
          47,
          54,
          38,
          47,
          45,
          36,
          33,
          33,
          44,
          53,
          36,
          38,
          52,
          52,
          45,
          65,
          47,
          58,
          51,
          31,
          51,
          69,
          44,
          35,
          45,
          87,
          45,
          53,
          76,
          42,
          44,
          42,
          72,
          62,
          41,
          39,
          54,
          43,
          47,
          38,
          50,
          48,
          47,
          46,
          56,
          52,
          23,
          42,
          54,
          75,
          41,
          40,
          56,
          56,
          70,
          62,
          26,
          39,
          50,
          27,
          47.84618129907209,
          62,
          51,
          71,
          60,
          51,
          64,
          52,
          47,
          69,
          77,
          57,
          76,
          46,
          69,
          50,
          61,
          44,
          27,
          35,
          63,
          37,
          58,
          50,
          41,
          65,
          46,
          52,
          60,
          38,
          37,
          48,
          41,
          74,
          47,
          47.84618129907209,
          79,
          60,
          62,
          45,
          37,
          54,
          44,
          56,
          74,
          55,
          58,
          58,
          39,
          67,
          37,
          71,
          47.84618129907209,
          54,
          57,
          47.84618129907209,
          46,
          58,
          51,
          59,
          34,
          50,
          39,
          51,
          47,
          53,
          45,
          31,
          52,
          41,
          56,
          55,
          38,
          32,
          39,
          42,
          64,
          78,
          47,
          56,
          70,
          47,
          46,
          41,
          57,
          49,
          53,
          52,
          40,
          36,
          54,
          33,
          34,
          47,
          48,
          38,
          29,
          47,
          32,
          45,
          55,
          34,
          35,
          40,
          44,
          42,
          54,
          50,
          56,
          37,
          54,
          32,
          40,
          35,
          43,
          83,
          60,
          34,
          36,
          39,
          35,
          50,
          28,
          43,
          52,
          27,
          62,
          38,
          43,
          58,
          41,
          59,
          70,
          70,
          47,
          45,
          56,
          49,
          31,
          55,
          64,
          43,
          43,
          43,
          61,
          46,
          49,
          46,
          36,
          78,
          43,
          52,
          33,
          36,
          64,
          61,
          42,
          48,
          45,
          46,
          34,
          45,
          49,
          62,
          60,
          56,
          35,
          50,
          58,
          48,
          35,
          28,
          48,
          28,
          56,
          42,
          29,
          47,
          49,
          39,
          57,
          68,
          52,
          57,
          53,
          47,
          74,
          53,
          27,
          36,
          42,
          52,
          42,
          35,
          47.84618129907209,
          70,
          43,
          55,
          62,
          54,
          58,
          72,
          53,
          53,
          41,
          47,
          49,
          68,
          51,
          58,
          36,
          42,
          47,
          30,
          40,
          44,
          44,
          38,
          52,
          44,
          47,
          44,
          40,
          48,
          71,
          58,
          47.84618129907209,
          63,
          27,
          42,
          39,
          55,
          38,
          31,
          37,
          48,
          35,
          42,
          44,
          34,
          42,
          43,
          87,
          66,
          57,
          48,
          64,
          37,
          41,
          38,
          37,
          72,
          46,
          58,
          53,
          54,
          56,
          40,
          31,
          44,
          47,
          43,
          81,
          44,
          49,
          68,
          74,
          55,
          62,
          30,
          62,
          46,
          49,
          41,
          49,
          57,
          51,
          60,
          63,
          28,
          31,
          58,
          45,
          50,
          53,
          34,
          31,
          49,
          53,
          33,
          49,
          49,
          41,
          48,
          45,
          64,
          73,
          39,
          40,
          49,
          18,
          40,
          53,
          44,
          65,
          40,
          47.84618129907209,
          47.84618129907209,
          55,
          40,
          70,
          40,
          43,
          44,
          52,
          46,
          47.84618129907209,
          23,
          56,
          60,
          48,
          57,
          33,
          65,
          35,
          47.84618129907209,
          40,
          52,
          31,
          46,
          47.84618129907209,
          58,
          34,
          62,
          59,
          39,
          38,
          62,
          47.84618129907209,
          29,
          72,
          40,
          50,
          63,
          51,
          50,
          47.84618129907209,
          43,
          52,
          60,
          63,
          46,
          60,
          44,
          58,
          46,
          46,
          37,
          49,
          45,
          45,
          36,
          44,
          32,
          50,
          50,
          43,
          48,
          49,
          47,
          64,
          26,
          40,
          43,
          34,
          59,
          42,
          60,
          49,
          50,
          51,
          32,
          38,
          42,
          39,
          48,
          38,
          33,
          42,
          55,
          56,
          49,
          58,
          54,
          46,
          59,
          67,
          50,
          49,
          47,
          79,
          49,
          62,
          46,
          40,
          65,
          52,
          43,
          49,
          68,
          46,
          68,
          64,
          36,
          45,
          40,
          35,
          44,
          39,
          50,
          47.84618129907209,
          39,
          50,
          49,
          58,
          33,
          43,
          56,
          44,
          73,
          53,
          34,
          56,
          32,
          56,
          63,
          29,
          72,
          45,
          44,
          60,
          37,
          57,
          52,
          55,
          41,
          33,
          47,
          40,
          50,
          49,
          36,
          50,
          27,
          41,
          60,
          36,
          33,
          52,
          48,
          53,
          50,
          40,
          57,
          30,
          42,
          53,
          36,
          47.84618129907209,
          43,
          45,
          43,
          42,
          49,
          69,
          35,
          31,
          46,
          46,
          44,
          46,
          40,
          40,
          29,
          33,
          55,
          29,
          41,
          38,
          38,
          36,
          44,
          31,
          35,
          49,
          33,
          48,
          43,
          41,
          53,
          49,
          45,
          45,
          51,
          44,
          57,
          51,
          49,
          33,
          54,
          35,
          38,
          66,
          56,
          49,
          32,
          56,
          56,
          45,
          41,
          31,
          45,
          36,
          35,
          36,
          34,
          63,
          64,
          33,
          40,
          39,
          49,
          55,
          51,
          35,
          35,
          48,
          48,
          29,
          57,
          35,
          46,
          39,
          48,
          36,
          40,
          43,
          47.84618129907209,
          73,
          38,
          61,
          49,
          47.84618129907209,
          47.84618129907209,
          34,
          54,
          36,
          32,
          40,
          71,
          41,
          35,
          50,
          34,
          40,
          49,
          44,
          46,
          56,
          41,
          36,
          47,
          62,
          57,
          49,
          44,
          70,
          48,
          82,
          37,
          50,
          44,
          60,
          50,
          61,
          47,
          51,
          39,
          43,
          41,
          49,
          59,
          38,
          87,
          51,
          54,
          35,
          39,
          54,
          47.84618129907209,
          40,
          44,
          38,
          50,
          63,
          54,
          54,
          54,
          41,
          42,
          49,
          34,
          47.84618129907209,
          46,
          38,
          60,
          61,
          40,
          50,
          49,
          77,
          56,
          47.84618129907209,
          34,
          28,
          56,
          30,
          50,
          51,
          68,
          33,
          50,
          51,
          43,
          44,
          45,
          55,
          66,
          47.84618129907209,
          47.84618129907209,
          36,
          53,
          49,
          41,
          51,
          66,
          57,
          55,
          27,
          55,
          48,
          42,
          50,
          43,
          35,
          48,
          44,
          40,
          39,
          51,
          48,
          47,
          39,
          58,
          61,
          46,
          75,
          43,
          27,
          58,
          50,
          40,
          61,
          35,
          32,
          49,
          56,
          38,
          56,
          39,
          42,
          28,
          57,
          50,
          46,
          56,
          49,
          39,
          52,
          41,
          49,
          54,
          53,
          70,
          67,
          74,
          45,
          37,
          47.84618129907209,
          47,
          49,
          60,
          54,
          48,
          38,
          54,
          46,
          39,
          56,
          61,
          48,
          52,
          54,
          48,
          51,
          63,
          46,
          66,
          38,
          66,
          43,
          36,
          74,
          62,
          66,
          52,
          42,
          44,
          60,
          40,
          38,
          59,
          38,
          47.84618129907209,
          42,
          51,
          47,
          42,
          52,
          80,
          51,
          82,
          48,
          48,
          46,
          47,
          53,
          52,
          64,
          68,
          46,
          48,
          39,
          43,
          66,
          38,
          56,
          32,
          58,
          43,
          56,
          34,
          74,
          61,
          39,
          44,
          63,
          69,
          49,
          36,
          33,
          33,
          40,
          44,
          34,
          53,
          29,
          43,
          53,
          68,
          42,
          61,
          56,
          43,
          31,
          41,
          54,
          44,
          49,
          59,
          42,
          35,
          69,
          46,
          51,
          57,
          64,
          43,
          40,
          56,
          34,
          42,
          72,
          42,
          47,
          46,
          46,
          60,
          49,
          47,
          42,
          48,
          48,
          45,
          39,
          46,
          38,
          72,
          42,
          67,
          37,
          67,
          32,
          47,
          72,
          43,
          42,
          45,
          39,
          48,
          48,
          29,
          29,
          36,
          54,
          51,
          56,
          47,
          33,
          47.84618129907209,
          32,
          44,
          40,
          59,
          54,
          56,
          74,
          48,
          58,
          49,
          77,
          48,
          47.84618129907209,
          56,
          62,
          37,
          35,
          36,
          45,
          34,
          38,
          40,
          33,
          54,
          35,
          47,
          40,
          47,
          47,
          47.84618129907209,
          50,
          50,
          47,
          32,
          56,
          47,
          67,
          46,
          55,
          72,
          43,
          64,
          37,
          42,
          48,
          52,
          78,
          49,
          32,
          40,
          47.84618129907209,
          53,
          58,
          52,
          67,
          41,
          48,
          39,
          65,
          74,
          38,
          36,
          53,
          30,
          40,
          44,
          31,
          57,
          33,
          44,
          55,
          37,
          31,
          47,
          48,
          43,
          61,
          51,
          39,
          35,
          54,
          66,
          51,
          45,
          47.84618129907209,
          48,
          50,
          46,
          48,
          37,
          39,
          66,
          39,
          53,
          51,
          37,
          35,
          48,
          56,
          47.84618129907209,
          55,
          37,
          30,
          46,
          45,
          59,
          34,
          33,
          41,
          47.84618129907209,
          44,
          52,
          49,
          69,
          52,
          47.84618129907209,
          47.84618129907209,
          34,
          40,
          47.84618129907209,
          50,
          43,
          47.84618129907209,
          50,
          58,
          37,
          47.84618129907209,
          24,
          50,
          59,
          35,
          49,
          41,
          50,
          34,
          56,
          47.84618129907209,
          43,
          47,
          40,
          47.84618129907209,
          30,
          51,
          33,
          47.84618129907209,
          47.84618129907209,
          43,
          47,
          52,
          63,
          47.84618129907209,
          45,
          71,
          47.84618129907209,
          51,
          39,
          44,
          46,
          57,
          47.84618129907209,
          63,
          30,
          69,
          45,
          53,
          38,
          49,
          50,
          35,
          44,
          47.84618129907209,
          47.84618129907209,
          47.84618129907209,
          56,
          47.84618129907209,
          50,
          47.84618129907209,
          47.84618129907209,
          47,
          47.84618129907209,
          47.84618129907209,
          47.84618129907209,
          47.84618129907209,
          47.84618129907209,
          82,
          47.84618129907209,
          55,
          39,
          47.84618129907209,
          52,
          47.84618129907209,
          51,
          44,
          47.84618129907209,
          47.84618129907209,
          47.84618129907209,
          47.84618129907209,
          47.84618129907209,
          47.84618129907209,
          47.84618129907209,
          47.84618129907209,
          47.84618129907209,
          47.84618129907209,
          47,
          47.84618129907209,
          64,
          55,
          47.84618129907209,
          47.84618129907209,
          76,
          47.84618129907209,
          27,
          38,
          58,
          53,
          47.84618129907209,
          43,
          47.84618129907209,
          47.84618129907209,
          47.84618129907209,
          47.84618129907209,
          47.84618129907209,
          46,
          47.84618129907209,
          60,
          47.84618129907209,
          47.84618129907209,
          47.84618129907209,
          47.84618129907209,
          47.84618129907209,
          47.84618129907209,
          41,
          46,
          47.84618129907209,
          47.84618129907209,
          47.84618129907209,
          43,
          47.84618129907209,
          47.84618129907209,
          30,
          47.84618129907209,
          47.84618129907209,
          30,
          47.84618129907209,
          47.84618129907209,
          47.84618129907209,
          47.84618129907209,
          47.84618129907209,
          47.84618129907209,
          47.84618129907209,
          47.84618129907209,
          47.84618129907209,
          47.84618129907209,
          47.84618129907209,
          47.84618129907209,
          47.84618129907209,
          47.84618129907209,
          47.84618129907209,
          47.84618129907209,
          47.84618129907209,
          47.84618129907209,
          47.84618129907209,
          47.84618129907209,
          47.84618129907209,
          47.84618129907209,
          47.84618129907209,
          47.84618129907209,
          47.84618129907209,
          47.84618129907209,
          47.84618129907209,
          47.84618129907209,
          47.84618129907209,
          47.84618129907209,
          47.84618129907209,
          47.84618129907209,
          47.84618129907209,
          47.84618129907209,
          47.84618129907209,
          47.84618129907209,
          47.84618129907209,
          47.84618129907209,
          47.84618129907209,
          47.84618129907209,
          47.84618129907209,
          47.84618129907209,
          47.84618129907209,
          47.84618129907209,
          47.84618129907209,
          47.84618129907209,
          47.84618129907209,
          47.84618129907209,
          47.84618129907209,
          47.84618129907209,
          47.84618129907209,
          47.84618129907209,
          47.84618129907209,
          47.84618129907209,
          47.84618129907209,
          47.84618129907209,
          47.84618129907209,
          47.84618129907209,
          47.84618129907209,
          47.84618129907209,
          47.84618129907209,
          47.84618129907209,
          47.84618129907209,
          47.84618129907209,
          47.84618129907209,
          47.84618129907209,
          47.84618129907209,
          47.84618129907209,
          47.84618129907209,
          47.84618129907209,
          47.84618129907209,
          47.84618129907209,
          47.84618129907209,
          47.84618129907209,
          47.84618129907209,
          47.84618129907209,
          47.84618129907209,
          47.84618129907209,
          47.84618129907209,
          47.84618129907209,
          47.84618129907209,
          47.84618129907209,
          47.84618129907209,
          47.84618129907209,
          47.84618129907209,
          47.84618129907209,
          47.84618129907209,
          47.84618129907209,
          47.84618129907209,
          47.84618129907209,
          47.84618129907209,
          47.84618129907209,
          47.84618129907209,
          47.84618129907209,
          47.84618129907209,
          47.84618129907209,
          47.84618129907209,
          47.84618129907209,
          47.84618129907209,
          47.84618129907209,
          47.84618129907209,
          47.84618129907209,
          47.84618129907209,
          47.84618129907209,
          47.84618129907209,
          47.84618129907209,
          47.84618129907209,
          47.84618129907209,
          47.84618129907209,
          47.84618129907209,
          47.84618129907209,
          47.84618129907209,
          47.84618129907209,
          47.84618129907209,
          47.84618129907209,
          47.84618129907209,
          47.84618129907209,
          47.84618129907209,
          47.84618129907209,
          47.84618129907209,
          47.84618129907209,
          78,
          47.84618129907209,
          47.84618129907209,
          47.84618129907209,
          47.84618129907209,
          47.84618129907209,
          47.84618129907209,
          47.84618129907209,
          47.84618129907209,
          47.84618129907209,
          47.84618129907209,
          47.84618129907209,
          47.84618129907209,
          47.84618129907209,
          47.84618129907209,
          47.84618129907209,
          47.84618129907209,
          47.84618129907209,
          47.84618129907209,
          47.84618129907209,
          47.84618129907209,
          47.84618129907209,
          47.84618129907209,
          47.84618129907209,
          47.84618129907209,
          47.84618129907209,
          47.84618129907209,
          47.84618129907209,
          47.84618129907209,
          47.84618129907209,
          47.84618129907209,
          47.84618129907209,
          47.84618129907209,
          47.84618129907209,
          47.84618129907209,
          47.84618129907209,
          47.84618129907209,
          47.84618129907209,
          47.84618129907209,
          47.84618129907209,
          47.84618129907209,
          47.84618129907209,
          47.84618129907209,
          47.84618129907209,
          47.84618129907209,
          47.84618129907209,
          47.84618129907209,
          47.84618129907209,
          47.84618129907209,
          47.84618129907209,
          47.84618129907209,
          47.84618129907209,
          47.84618129907209,
          47.84618129907209,
          47.84618129907209,
          47.84618129907209,
          47.84618129907209,
          47.84618129907209,
          47.84618129907209,
          47.84618129907209,
          47.84618129907209,
          47.84618129907209,
          47.84618129907209,
          47.84618129907209,
          47.84618129907209,
          47.84618129907209,
          47.84618129907209,
          47.84618129907209,
          47.84618129907209,
          47.84618129907209,
          47.84618129907209,
          47.84618129907209,
          47.84618129907209,
          47.84618129907209,
          47.84618129907209,
          47.84618129907209,
          47.84618129907209,
          47.84618129907209,
          47.84618129907209,
          47.84618129907209,
          47.84618129907209,
          47.84618129907209,
          47.84618129907209,
          47.84618129907209,
          47.84618129907209,
          47.84618129907209,
          47.84618129907209,
          47.84618129907209,
          47.84618129907209,
          47.84618129907209,
          47.84618129907209,
          47.84618129907209,
          47.84618129907209,
          47.84618129907209,
          47.84618129907209,
          47.84618129907209,
          47.84618129907209,
          47.84618129907209,
          47.84618129907209,
          47.84618129907209,
          47.84618129907209,
          47.84618129907209,
          47.84618129907209,
          47.84618129907209,
          47.84618129907209,
          47.84618129907209,
          47.84618129907209,
          47.84618129907209,
          47.84618129907209,
          47.84618129907209,
          47.84618129907209,
          47.84618129907209,
          47.84618129907209,
          47.84618129907209,
          47.84618129907209,
          47.84618129907209,
          47.84618129907209,
          47.84618129907209,
          47.84618129907209,
          47.84618129907209,
          47.84618129907209,
          47.84618129907209,
          47.84618129907209,
          47.84618129907209,
          47.84618129907209,
          47.84618129907209,
          47.84618129907209,
          47.84618129907209,
          47.84618129907209,
          47.84618129907209,
          47.84618129907209,
          47.84618129907209,
          47.84618129907209,
          47.84618129907209,
          47.84618129907209,
          47.84618129907209,
          47.84618129907209,
          47.84618129907209,
          47.84618129907209,
          47.84618129907209,
          47.84618129907209,
          47.84618129907209,
          47.84618129907209,
          47.84618129907209,
          47.84618129907209,
          47.84618129907209,
          47.84618129907209,
          47.84618129907209,
          47.84618129907209,
          47.84618129907209,
          47.84618129907209,
          47.84618129907209,
          47.84618129907209,
          47.84618129907209,
          47.84618129907209,
          47.84618129907209,
          47.84618129907209,
          47.84618129907209,
          47.84618129907209,
          47.84618129907209,
          47.84618129907209,
          47.84618129907209,
          47.84618129907209,
          47.84618129907209,
          47.84618129907209,
          47.84618129907209,
          47.84618129907209,
          47.84618129907209,
          47.84618129907209,
          47.84618129907209,
          47.84618129907209,
          47.84618129907209,
          47.84618129907209,
          47.84618129907209,
          47.84618129907209,
          47.84618129907209,
          47.84618129907209,
          47.84618129907209,
          47.84618129907209,
          47.84618129907209,
          47.84618129907209,
          47.84618129907209,
          47.84618129907209,
          47.84618129907209,
          47.84618129907209,
          47.84618129907209,
          47.84618129907209,
          47.84618129907209,
          47.84618129907209,
          47.84618129907209,
          47.84618129907209,
          47.84618129907209,
          47.84618129907209,
          47.84618129907209,
          47.84618129907209,
          47.84618129907209,
          47.84618129907209,
          47.84618129907209,
          47.84618129907209,
          47.84618129907209,
          47.84618129907209,
          47.84618129907209,
          47.84618129907209,
          47.84618129907209,
          47.84618129907209,
          47.84618129907209,
          47.84618129907209,
          47.84618129907209,
          47.84618129907209,
          47.84618129907209,
          47.84618129907209,
          47.84618129907209,
          47.84618129907209,
          47.84618129907209,
          47.84618129907209,
          47.84618129907209,
          47.84618129907209,
          47.84618129907209,
          47.84618129907209,
          47.84618129907209,
          47.84618129907209,
          47.84618129907209,
          47.84618129907209,
          47.84618129907209,
          47.84618129907209,
          47.84618129907209,
          47.84618129907209,
          47.84618129907209,
          47.84618129907209,
          47.84618129907209,
          47.84618129907209,
          47.84618129907209,
          47.84618129907209,
          47.84618129907209,
          47.84618129907209,
          47.84618129907209,
          47.84618129907209,
          47.84618129907209,
          47.84618129907209,
          47.84618129907209,
          47.84618129907209,
          47.84618129907209,
          47.84618129907209,
          47.84618129907209,
          47.84618129907209,
          47.84618129907209,
          47.84618129907209,
          47.84618129907209,
          47.84618129907209,
          47.84618129907209,
          47.84618129907209,
          47.84618129907209,
          47.84618129907209,
          47.84618129907209,
          47.84618129907209,
          47.84618129907209,
          47.84618129907209,
          47.84618129907209,
          47.84618129907209,
          47.84618129907209,
          47.84618129907209,
          47.84618129907209,
          47.84618129907209,
          47.84618129907209,
          47.84618129907209,
          47.84618129907209,
          47.84618129907209,
          47.84618129907209,
          47.84618129907209,
          47.84618129907209,
          47.84618129907209,
          47.84618129907209,
          47.84618129907209,
          47.84618129907209,
          47.84618129907209,
          47.84618129907209,
          47.84618129907209,
          47.84618129907209,
          47.84618129907209,
          47.84618129907209,
          47.84618129907209,
          47.84618129907209,
          47.84618129907209,
          47.84618129907209,
          47.84618129907209,
          47.84618129907209,
          47.84618129907209,
          47.84618129907209,
          47.84618129907209,
          47.84618129907209,
          47.84618129907209,
          47.84618129907209,
          47.84618129907209,
          47.84618129907209,
          47.84618129907209,
          47.84618129907209,
          47.84618129907209,
          47.84618129907209,
          47.84618129907209,
          47.84618129907209,
          47.84618129907209,
          47.84618129907209,
          47.84618129907209,
          47.84618129907209,
          47.84618129907209,
          47.84618129907209,
          47.84618129907209,
          47.84618129907209,
          47.84618129907209,
          47.84618129907209,
          47.84618129907209,
          47.84618129907209,
          47.84618129907209,
          47.84618129907209,
          47.84618129907209,
          47.84618129907209,
          47.84618129907209,
          47.84618129907209,
          47.84618129907209,
          47.84618129907209,
          47.84618129907209,
          47.84618129907209,
          47.84618129907209,
          47.84618129907209,
          47.84618129907209,
          47.84618129907209,
          47.84618129907209,
          47.84618129907209,
          47.84618129907209,
          47.84618129907209,
          47.84618129907209,
          47.84618129907209,
          47.84618129907209,
          47.84618129907209,
          47.84618129907209,
          47.84618129907209,
          47.84618129907209,
          47.84618129907209,
          47.84618129907209,
          47.84618129907209,
          47.84618129907209,
          47.84618129907209,
          47.84618129907209,
          47.84618129907209,
          47.84618129907209,
          47.84618129907209,
          47.84618129907209,
          47.84618129907209,
          47.84618129907209,
          47.84618129907209,
          47.84618129907209,
          47.84618129907209,
          47.84618129907209,
          47.84618129907209,
          47.84618129907209,
          47.84618129907209,
          47.84618129907209,
          47.84618129907209,
          47.84618129907209,
          47.84618129907209,
          47.84618129907209,
          47.84618129907209,
          47.84618129907209,
          47.84618129907209,
          47.84618129907209,
          47.84618129907209,
          47.84618129907209,
          47.84618129907209,
          47.84618129907209,
          47.84618129907209,
          47.84618129907209,
          47.84618129907209,
          47.84618129907209,
          47.84618129907209,
          47.84618129907209,
          47.84618129907209,
          47.84618129907209,
          47.84618129907209,
          47.84618129907209,
          47.84618129907209,
          47.84618129907209,
          47.84618129907209,
          47.84618129907209,
          47.84618129907209,
          47.84618129907209,
          47.84618129907209,
          47.84618129907209,
          47.84618129907209,
          47.84618129907209,
          47.84618129907209,
          47.84618129907209,
          47.84618129907209,
          47.84618129907209,
          47.84618129907209,
          47.84618129907209,
          47.84618129907209,
          47.84618129907209,
          47.84618129907209,
          47.84618129907209,
          47.84618129907209,
          47.84618129907209,
          47.84618129907209,
          47.84618129907209,
          47.84618129907209,
          47.84618129907209,
          47.84618129907209,
          47.84618129907209,
          47.84618129907209,
          47.84618129907209,
          47.84618129907209,
          47.84618129907209,
          47.84618129907209,
          47.84618129907209,
          47.84618129907209,
          47.84618129907209,
          47.84618129907209,
          47.84618129907209,
          47.84618129907209,
          47.84618129907209,
          47.84618129907209,
          47.84618129907209,
          47.84618129907209,
          47.84618129907209,
          47.84618129907209,
          47.84618129907209,
          47.84618129907209,
          47.84618129907209,
          47.84618129907209,
          47.84618129907209,
          47.84618129907209,
          47.84618129907209,
          47.84618129907209,
          47.84618129907209,
          47.84618129907209,
          47.84618129907209,
          47.84618129907209,
          47.84618129907209,
          47.84618129907209,
          47.84618129907209,
          47.84618129907209,
          47.84618129907209,
          47.84618129907209,
          47.84618129907209,
          47.84618129907209,
          47.84618129907209,
          47.84618129907209,
          47.84618129907209,
          47.84618129907209,
          47.84618129907209,
          47.84618129907209,
          47.84618129907209,
          47.84618129907209,
          47.84618129907209,
          47.84618129907209,
          47.84618129907209,
          47.84618129907209,
          47.84618129907209,
          47.84618129907209,
          47.84618129907209,
          47.84618129907209,
          47.84618129907209,
          47.84618129907209,
          47.84618129907209,
          47.84618129907209,
          47.84618129907209,
          47.84618129907209,
          47.84618129907209,
          47.84618129907209,
          47.84618129907209,
          47.84618129907209,
          47.84618129907209,
          47.84618129907209,
          47.84618129907209,
          47.84618129907209,
          47.84618129907209,
          47.84618129907209,
          47.84618129907209,
          47.84618129907209,
          47.84618129907209,
          47.84618129907209,
          47.84618129907209,
          47.84618129907209,
          47.84618129907209,
          47.84618129907209,
          47.84618129907209,
          47.84618129907209,
          47.84618129907209,
          47.84618129907209,
          47.84618129907209,
          47.84618129907209,
          47.84618129907209,
          47.84618129907209,
          47.84618129907209,
          47.84618129907209,
          47.84618129907209,
          47.84618129907209,
          47.84618129907209,
          47.84618129907209,
          40,
          47.84618129907209,
          47.84618129907209,
          47.84618129907209,
          47.84618129907209,
          47.84618129907209,
          47.84618129907209,
          47.84618129907209,
          47.84618129907209,
          47.84618129907209,
          47.84618129907209,
          47.84618129907209,
          47.84618129907209,
          47.84618129907209,
          47.84618129907209,
          47.84618129907209,
          47.84618129907209,
          47.84618129907209,
          47.84618129907209,
          47.84618129907209,
          47.84618129907209,
          47.84618129907209,
          47.84618129907209,
          47.84618129907209,
          47.84618129907209,
          47.84618129907209,
          47.84618129907209,
          47.84618129907209,
          47.84618129907209,
          47.84618129907209,
          47.84618129907209,
          47.84618129907209,
          47.84618129907209,
          47.84618129907209,
          47.84618129907209,
          47.84618129907209,
          47.84618129907209,
          47.84618129907209,
          47.84618129907209,
          47.84618129907209,
          47.84618129907209,
          47.84618129907209,
          47.84618129907209,
          47.84618129907209,
          47.84618129907209,
          47.84618129907209,
          47.84618129907209,
          47.84618129907209,
          47.84618129907209,
          47.84618129907209,
          47.84618129907209,
          47.84618129907209,
          47.84618129907209,
          47.84618129907209,
          47.84618129907209,
          47.84618129907209,
          47.84618129907209,
          47.84618129907209,
          47.84618129907209,
          47.84618129907209,
          47.84618129907209,
          47.84618129907209,
          47.84618129907209,
          47.84618129907209,
          47.84618129907209,
          47.84618129907209,
          47.84618129907209,
          47.84618129907209,
          47.84618129907209,
          47.84618129907209,
          47.84618129907209,
          47.84618129907209,
          47.84618129907209,
          47.84618129907209,
          47.84618129907209,
          47.84618129907209,
          47.84618129907209,
          47.84618129907209,
          47.84618129907209,
          47.84618129907209,
          47.84618129907209,
          47.84618129907209,
          47.84618129907209,
          47.84618129907209,
          47.84618129907209,
          47.84618129907209,
          47.84618129907209,
          47.84618129907209,
          47.84618129907209,
          47.84618129907209,
          47.84618129907209,
          47.84618129907209,
          47.84618129907209,
          47.84618129907209,
          47.84618129907209,
          47.84618129907209,
          47.84618129907209,
          47.84618129907209,
          47.84618129907209,
          47.84618129907209,
          47.84618129907209,
          47.84618129907209,
          47.84618129907209,
          47.84618129907209,
          47.84618129907209,
          47.84618129907209,
          47.84618129907209,
          47.84618129907209,
          47.84618129907209,
          47.84618129907209,
          47.84618129907209,
          47.84618129907209,
          47.84618129907209,
          47.84618129907209,
          47.84618129907209,
          47.84618129907209,
          47.84618129907209,
          47.84618129907209,
          47.84618129907209,
          47.84618129907209,
          47.84618129907209,
          47.84618129907209,
          47.84618129907209,
          47.84618129907209,
          62,
          47.84618129907209,
          47.84618129907209,
          47.84618129907209,
          47.84618129907209,
          47.84618129907209,
          47.84618129907209,
          47.84618129907209,
          47.84618129907209,
          47.84618129907209,
          47.84618129907209,
          47.84618129907209,
          47.84618129907209,
          47.84618129907209,
          47.84618129907209,
          47.84618129907209,
          47.84618129907209,
          47.84618129907209,
          47.84618129907209,
          47.84618129907209,
          47.84618129907209,
          47.84618129907209,
          47.84618129907209,
          47.84618129907209,
          47.84618129907209,
          47.84618129907209,
          47.84618129907209,
          47.84618129907209,
          47.84618129907209,
          47.84618129907209,
          47.84618129907209,
          47.84618129907209,
          47.84618129907209,
          47.84618129907209,
          47.84618129907209,
          47.84618129907209,
          47.84618129907209,
          47.84618129907209,
          47.84618129907209,
          47.84618129907209,
          47.84618129907209,
          47.84618129907209,
          47.84618129907209,
          47.84618129907209,
          47.84618129907209,
          47.84618129907209,
          47.84618129907209,
          47.84618129907209,
          47.84618129907209,
          47.84618129907209,
          47.84618129907209,
          47.84618129907209,
          47.84618129907209,
          47.84618129907209,
          47.84618129907209,
          47.84618129907209,
          47.84618129907209,
          47.84618129907209,
          47.84618129907209,
          47.84618129907209,
          47.84618129907209,
          47.84618129907209,
          47.84618129907209,
          47.84618129907209,
          47.84618129907209,
          47.84618129907209,
          47.84618129907209,
          47.84618129907209,
          47.84618129907209,
          47.84618129907209,
          47.84618129907209,
          47.84618129907209,
          47.84618129907209,
          47.84618129907209,
          47.84618129907209,
          47.84618129907209,
          47.84618129907209,
          47.84618129907209,
          47.84618129907209,
          47.84618129907209,
          47.84618129907209,
          47.84618129907209,
          47.84618129907209,
          47.84618129907209,
          47.84618129907209,
          47.84618129907209,
          47.84618129907209,
          47.84618129907209,
          47.84618129907209,
          47.84618129907209,
          47.84618129907209,
          47.84618129907209,
          47.84618129907209,
          47.84618129907209,
          47.84618129907209,
          46,
          49,
          52,
          38,
          47.84618129907209,
          47.84618129907209,
          47.84618129907209,
          47.84618129907209,
          47.84618129907209,
          57,
          45,
          44,
          47,
          45,
          68,
          47,
          54,
          34,
          55,
          38,
          47,
          59,
          44,
          51,
          30,
          43,
          50,
          56,
          37,
          44,
          46,
          47.84618129907209,
          58,
          54,
          44,
          59,
          45,
          45,
          45,
          35,
          55,
          49,
          51,
          43,
          62,
          31,
          62,
          48,
          58,
          35,
          43,
          50,
          35,
          45,
          42,
          56,
          33,
          55,
          51,
          51,
          37,
          41,
          42,
          62,
          52,
          38,
          53,
          46,
          49,
          39,
          65,
          24,
          47,
          61,
          38,
          62,
          35,
          37,
          56,
          35,
          59,
          45,
          66,
          65,
          48,
          72,
          40,
          58,
          52,
          32,
          38,
          60,
          41,
          50,
          37,
          41,
          48,
          52,
          41,
          62,
          56,
          51,
          47,
          47.84618129907209,
          47.84618129907209,
          64,
          57,
          40,
          64,
          61,
          34,
          45,
          71,
          42,
          49,
          41,
          54,
          70,
          39,
          55,
          37,
          50,
          47,
          48,
          30,
          49,
          36,
          54,
          58,
          41,
          46,
          33,
          35,
          45,
          42,
          48,
          30,
          70,
          64,
          41,
          45,
          67,
          64,
          40,
          46,
          37,
          39,
          33,
          35,
          46,
          44,
          46,
          29,
          39,
          39,
          37,
          74,
          65,
          44,
          47,
          60,
          72,
          51,
          72,
          54,
          51,
          34,
          55,
          45,
          44,
          32,
          50,
          50,
          68,
          46,
          61,
          47,
          72,
          46,
          37,
          40,
          38,
          43,
          65,
          44,
          54,
          47,
          26,
          47,
          41,
          32,
          56,
          50,
          41,
          62,
          51,
          50,
          48,
          47.84618129907209,
          45,
          64,
          47,
          36,
          51,
          33,
          55,
          47,
          48,
          28,
          45,
          38,
          46,
          47,
          33,
          48,
          33,
          57,
          52,
          38,
          51,
          57,
          42,
          47,
          24,
          42,
          33,
          54,
          38,
          44,
          24,
          35,
          44,
          53,
          41,
          42,
          47.84618129907209,
          52,
          54,
          47,
          46,
          39,
          32,
          48,
          41,
          43,
          61,
          60,
          58,
          40,
          51,
          46,
          54,
          60,
          35,
          49,
          55,
          41,
          70,
          47.84618129907209,
          36,
          46,
          45,
          44,
          34,
          39,
          32,
          41,
          35,
          44,
          54,
          44,
          34,
          46,
          36,
          34,
          28,
          72,
          39,
          57,
          34,
          46,
          57,
          32,
          38,
          31,
          34,
          56,
          64,
          35,
          45,
          57,
          33,
          41,
          58,
          32,
          27,
          40,
          35,
          44,
          24,
          74,
          37,
          48,
          54,
          29,
          44,
          60,
          49,
          41,
          65,
          48,
          63,
          51,
          49,
          63,
          60,
          45,
          31,
          42,
          47,
          59,
          41,
          63,
          51,
          46,
          36,
          51,
          64,
          45,
          58,
          80,
          45,
          52,
          47,
          58,
          52,
          72,
          43,
          71,
          49,
          57,
          42,
          52,
          64,
          47,
          40,
          49,
          55,
          77,
          48,
          47,
          43,
          45,
          45,
          77,
          28,
          51,
          51,
          32,
          58,
          38,
          44,
          54,
          40,
          36,
          54,
          47,
          32,
          49,
          46,
          52,
          45,
          38,
          26,
          46,
          60,
          35,
          53,
          33,
          41,
          38,
          46,
          42,
          49,
          39,
          50,
          69,
          65,
          45,
          35,
          43,
          42,
          60,
          39,
          43,
          53,
          32,
          42,
          59,
          50,
          35,
          76,
          60,
          45,
          54,
          33,
          37,
          25,
          43,
          51,
          47,
          48,
          23,
          44,
          50,
          51,
          54,
          46,
          51,
          45,
          42,
          57,
          40,
          49,
          50,
          38,
          48,
          49,
          37,
          44,
          51,
          23,
          47,
          40,
          39,
          32,
          64,
          47,
          51,
          53,
          41,
          50,
          43,
          35,
          60,
          59,
          37,
          27,
          32,
          66,
          73,
          49,
          40,
          55,
          32,
          44,
          52,
          39,
          38,
          63,
          50,
          45,
          48,
          46,
          43,
          52,
          44,
          47.84618129907209,
          51,
          57,
          47,
          61,
          35,
          52,
          47.84618129907209,
          48,
          36,
          42,
          54,
          56,
          56,
          45,
          66,
          46,
          84,
          44,
          34,
          35,
          60,
          42,
          57,
          45,
          62,
          65,
          64,
          52,
          45,
          46,
          54,
          50,
          54,
          51,
          40,
          65,
          73,
          41,
          31,
          55,
          49,
          51,
          38,
          50,
          71,
          41,
          46,
          57,
          29,
          45,
          39,
          41,
          29,
          48,
          47,
          59,
          33,
          57,
          37,
          44,
          65,
          49,
          68,
          63,
          45,
          55,
          48,
          41,
          51,
          49,
          58,
          60,
          53,
          62,
          47,
          68,
          44,
          53,
          37,
          39,
          44,
          48,
          52,
          54,
          36,
          46,
          42,
          59,
          27,
          47,
          44,
          55,
          42,
          61,
          34,
          33,
          48,
          45,
          50,
          58,
          40,
          65,
          41,
          42,
          53,
          72,
          55,
          81,
          65,
          40,
          55,
          33,
          40,
          75,
          47.84618129907209,
          32,
          76,
          44,
          47,
          59,
          60,
          70,
          49,
          42,
          24,
          36,
          37,
          54,
          47,
          30,
          62,
          52,
          44,
          56,
          48,
          58,
          69,
          47.84618129907209,
          48,
          39,
          39,
          60,
          39,
          45,
          62,
          54,
          52,
          51,
          53,
          61,
          46,
          47,
          37,
          80,
          34,
          58,
          43,
          45,
          42,
          44,
          39,
          44,
          52,
          43,
          33,
          34,
          51,
          65,
          44,
          60,
          57,
          44,
          81,
          42,
          53,
          43,
          51,
          44,
          58,
          47,
          46,
          44,
          66,
          28,
          63,
          52,
          47,
          61,
          63,
          58,
          43,
          38,
          36,
          39,
          35,
          74,
          51,
          60,
          41,
          40,
          66,
          41,
          63,
          37,
          53,
          55,
          43,
          43,
          64,
          31,
          66,
          49,
          40,
          50,
          60,
          52,
          61,
          43,
          44,
          59,
          67,
          55,
          55,
          49,
          31,
          53,
          28,
          51,
          28,
          47,
          41,
          42,
          44,
          35,
          33,
          62,
          53,
          34,
          31,
          41,
          50,
          62,
          47,
          39,
          35,
          64,
          43,
          54,
          45,
          51,
          41,
          47,
          41,
          40,
          61,
          44,
          57,
          57,
          46,
          66,
          47,
          68,
          31,
          84,
          41,
          36,
          47,
          34,
          41,
          46,
          62,
          52,
          49,
          72,
          53,
          48,
          44,
          46,
          44,
          57,
          54,
          49,
          53,
          27,
          46,
          50,
          50,
          34,
          34,
          81,
          52,
          38,
          54,
          59,
          60,
          76,
          42,
          36,
          69,
          60,
          39,
          57,
          51,
          41,
          41,
          65,
          61,
          76,
          45,
          57,
          59,
          34,
          42,
          40,
          54,
          59,
          42,
          38,
          56,
          57,
          80,
          63,
          56,
          45,
          36,
          44,
          58,
          53,
          47,
          42,
          44,
          34,
          74,
          37,
          54,
          52,
          84,
          50,
          66,
          37,
          39,
          36,
          39,
          48,
          35,
          55,
          38,
          34,
          50,
          64,
          61,
          48,
          41,
          28,
          39,
          33,
          47.84618129907209,
          56,
          41,
          39,
          63,
          33,
          32,
          48,
          45,
          34,
          50,
          41,
          52,
          70,
          39,
          54,
          26,
          60,
          38,
          34,
          58,
          66,
          38,
          50,
          69,
          50,
          47,
          42,
          31,
          43,
          35,
          44,
          44,
          62,
          44,
          62,
          69,
          36,
          44,
          49,
          49,
          45,
          41,
          70,
          42,
          54,
          40,
          37,
          50,
          58,
          41,
          72,
          37,
          57,
          34,
          40,
          37,
          61,
          75,
          52,
          60,
          56,
          59,
          35,
          50,
          41,
          60,
          46,
          41,
          54,
          48,
          38,
          35,
          42,
          49,
          50,
          50,
          32,
          67,
          42,
          69,
          63,
          61,
          44,
          35,
          47.84618129907209,
          34,
          41,
          41,
          30,
          32,
          54,
          64,
          85,
          52,
          61,
          44,
          31,
          52,
          35,
          29,
          30,
          50,
          0,
          49,
          43,
          66,
          34,
          68,
          34,
          52,
          55,
          24,
          30,
          58,
          76,
          66,
          0,
          0,
          44,
          80,
          67,
          39,
          59,
          48,
          38,
          39,
          47,
          29,
          52,
          35,
          42,
          60,
          62,
          68,
          38,
          67,
          42,
          48,
          46,
          56,
          30,
          38,
          61,
          32,
          41,
          51,
          52,
          36,
          62,
          35,
          45,
          48,
          54,
          36,
          62,
          49,
          66,
          52,
          53,
          39,
          56,
          55,
          65,
          75,
          51,
          54,
          40,
          46,
          47,
          50,
          34,
          42,
          47,
          75,
          65,
          81,
          56,
          53,
          45,
          73,
          72,
          53,
          42,
          52,
          71,
          44,
          0,
          50,
          44,
          38,
          58,
          39,
          37,
          60,
          55,
          63,
          32,
          38,
          27,
          71,
          39,
          54,
          67,
          66,
          51,
          42,
          66,
          50,
          38,
          59,
          44,
          60,
          62,
          46,
          55,
          38,
          36,
          40,
          45,
          53,
          78,
          50,
          50,
          60,
          48,
          65,
          25,
          42,
          39,
          51,
          52,
          61,
          38,
          43,
          37,
          44,
          70,
          58,
          30,
          30,
          57,
          52,
          32,
          0,
          41,
          45,
          51,
          47,
          46,
          33,
          38,
          31,
          84,
          66,
          48,
          52,
          31,
          47,
          79,
          56,
          53,
          68,
          43,
          28,
          48,
          27,
          30,
          46,
          56,
          47,
          56,
          48,
          31,
          40,
          49,
          63,
          35,
          39,
          40,
          78,
          40,
          35,
          51,
          32,
          58,
          58,
          33,
          73,
          63,
          41,
          35,
          30,
          71,
          62,
          45,
          58,
          40,
          48,
          42,
          62,
          55,
          46,
          65,
          65,
          40,
          45,
          42,
          49,
          33,
          54,
          48,
          36,
          40,
          38,
          47.84618129907209,
          55,
          64,
          59,
          46,
          50,
          29,
          65,
          43,
          52,
          42,
          77,
          39,
          49,
          47,
          61,
          47,
          32,
          63,
          35,
          34,
          60,
          48,
          40,
          39,
          39,
          69,
          49,
          46,
          46,
          34,
          35,
          23,
          43,
          33,
          48,
          58,
          61,
          55,
          49,
          53,
          29,
          45,
          51,
          32,
          55,
          40,
          57,
          52,
          30,
          50,
          41,
          36,
          36,
          50,
          39,
          35,
          56,
          29,
          52,
          49,
          54,
          43,
          61,
          43,
          36,
          44,
          66,
          53,
          46,
          43,
          46,
          46,
          39,
          46,
          55,
          54,
          49,
          70,
          39,
          41,
          58,
          52,
          33,
          63,
          37,
          42,
          50,
          54,
          61,
          49,
          35,
          47,
          61,
          47.84618129907209,
          47.84618129907209,
          47.84618129907209
         ],
         "xaxis": "x",
         "yaxis": "y"
        }
       ],
       "layout": {
        "barmode": "relative",
        "legend": {
         "tracegroupgap": 0
        },
        "margin": {
         "t": 60
        },
        "template": {
         "data": {
          "bar": [
           {
            "error_x": {
             "color": "#2a3f5f"
            },
            "error_y": {
             "color": "#2a3f5f"
            },
            "marker": {
             "line": {
              "color": "#E5ECF6",
              "width": 0.5
             },
             "pattern": {
              "fillmode": "overlay",
              "size": 10,
              "solidity": 0.2
             }
            },
            "type": "bar"
           }
          ],
          "barpolar": [
           {
            "marker": {
             "line": {
              "color": "#E5ECF6",
              "width": 0.5
             },
             "pattern": {
              "fillmode": "overlay",
              "size": 10,
              "solidity": 0.2
             }
            },
            "type": "barpolar"
           }
          ],
          "carpet": [
           {
            "aaxis": {
             "endlinecolor": "#2a3f5f",
             "gridcolor": "white",
             "linecolor": "white",
             "minorgridcolor": "white",
             "startlinecolor": "#2a3f5f"
            },
            "baxis": {
             "endlinecolor": "#2a3f5f",
             "gridcolor": "white",
             "linecolor": "white",
             "minorgridcolor": "white",
             "startlinecolor": "#2a3f5f"
            },
            "type": "carpet"
           }
          ],
          "choropleth": [
           {
            "colorbar": {
             "outlinewidth": 0,
             "ticks": ""
            },
            "type": "choropleth"
           }
          ],
          "contour": [
           {
            "colorbar": {
             "outlinewidth": 0,
             "ticks": ""
            },
            "colorscale": [
             [
              0,
              "#0d0887"
             ],
             [
              0.1111111111111111,
              "#46039f"
             ],
             [
              0.2222222222222222,
              "#7201a8"
             ],
             [
              0.3333333333333333,
              "#9c179e"
             ],
             [
              0.4444444444444444,
              "#bd3786"
             ],
             [
              0.5555555555555556,
              "#d8576b"
             ],
             [
              0.6666666666666666,
              "#ed7953"
             ],
             [
              0.7777777777777778,
              "#fb9f3a"
             ],
             [
              0.8888888888888888,
              "#fdca26"
             ],
             [
              1,
              "#f0f921"
             ]
            ],
            "type": "contour"
           }
          ],
          "contourcarpet": [
           {
            "colorbar": {
             "outlinewidth": 0,
             "ticks": ""
            },
            "type": "contourcarpet"
           }
          ],
          "heatmap": [
           {
            "colorbar": {
             "outlinewidth": 0,
             "ticks": ""
            },
            "colorscale": [
             [
              0,
              "#0d0887"
             ],
             [
              0.1111111111111111,
              "#46039f"
             ],
             [
              0.2222222222222222,
              "#7201a8"
             ],
             [
              0.3333333333333333,
              "#9c179e"
             ],
             [
              0.4444444444444444,
              "#bd3786"
             ],
             [
              0.5555555555555556,
              "#d8576b"
             ],
             [
              0.6666666666666666,
              "#ed7953"
             ],
             [
              0.7777777777777778,
              "#fb9f3a"
             ],
             [
              0.8888888888888888,
              "#fdca26"
             ],
             [
              1,
              "#f0f921"
             ]
            ],
            "type": "heatmap"
           }
          ],
          "heatmapgl": [
           {
            "colorbar": {
             "outlinewidth": 0,
             "ticks": ""
            },
            "colorscale": [
             [
              0,
              "#0d0887"
             ],
             [
              0.1111111111111111,
              "#46039f"
             ],
             [
              0.2222222222222222,
              "#7201a8"
             ],
             [
              0.3333333333333333,
              "#9c179e"
             ],
             [
              0.4444444444444444,
              "#bd3786"
             ],
             [
              0.5555555555555556,
              "#d8576b"
             ],
             [
              0.6666666666666666,
              "#ed7953"
             ],
             [
              0.7777777777777778,
              "#fb9f3a"
             ],
             [
              0.8888888888888888,
              "#fdca26"
             ],
             [
              1,
              "#f0f921"
             ]
            ],
            "type": "heatmapgl"
           }
          ],
          "histogram": [
           {
            "marker": {
             "pattern": {
              "fillmode": "overlay",
              "size": 10,
              "solidity": 0.2
             }
            },
            "type": "histogram"
           }
          ],
          "histogram2d": [
           {
            "colorbar": {
             "outlinewidth": 0,
             "ticks": ""
            },
            "colorscale": [
             [
              0,
              "#0d0887"
             ],
             [
              0.1111111111111111,
              "#46039f"
             ],
             [
              0.2222222222222222,
              "#7201a8"
             ],
             [
              0.3333333333333333,
              "#9c179e"
             ],
             [
              0.4444444444444444,
              "#bd3786"
             ],
             [
              0.5555555555555556,
              "#d8576b"
             ],
             [
              0.6666666666666666,
              "#ed7953"
             ],
             [
              0.7777777777777778,
              "#fb9f3a"
             ],
             [
              0.8888888888888888,
              "#fdca26"
             ],
             [
              1,
              "#f0f921"
             ]
            ],
            "type": "histogram2d"
           }
          ],
          "histogram2dcontour": [
           {
            "colorbar": {
             "outlinewidth": 0,
             "ticks": ""
            },
            "colorscale": [
             [
              0,
              "#0d0887"
             ],
             [
              0.1111111111111111,
              "#46039f"
             ],
             [
              0.2222222222222222,
              "#7201a8"
             ],
             [
              0.3333333333333333,
              "#9c179e"
             ],
             [
              0.4444444444444444,
              "#bd3786"
             ],
             [
              0.5555555555555556,
              "#d8576b"
             ],
             [
              0.6666666666666666,
              "#ed7953"
             ],
             [
              0.7777777777777778,
              "#fb9f3a"
             ],
             [
              0.8888888888888888,
              "#fdca26"
             ],
             [
              1,
              "#f0f921"
             ]
            ],
            "type": "histogram2dcontour"
           }
          ],
          "mesh3d": [
           {
            "colorbar": {
             "outlinewidth": 0,
             "ticks": ""
            },
            "type": "mesh3d"
           }
          ],
          "parcoords": [
           {
            "line": {
             "colorbar": {
              "outlinewidth": 0,
              "ticks": ""
             }
            },
            "type": "parcoords"
           }
          ],
          "pie": [
           {
            "automargin": true,
            "type": "pie"
           }
          ],
          "scatter": [
           {
            "fillpattern": {
             "fillmode": "overlay",
             "size": 10,
             "solidity": 0.2
            },
            "type": "scatter"
           }
          ],
          "scatter3d": [
           {
            "line": {
             "colorbar": {
              "outlinewidth": 0,
              "ticks": ""
             }
            },
            "marker": {
             "colorbar": {
              "outlinewidth": 0,
              "ticks": ""
             }
            },
            "type": "scatter3d"
           }
          ],
          "scattercarpet": [
           {
            "marker": {
             "colorbar": {
              "outlinewidth": 0,
              "ticks": ""
             }
            },
            "type": "scattercarpet"
           }
          ],
          "scattergeo": [
           {
            "marker": {
             "colorbar": {
              "outlinewidth": 0,
              "ticks": ""
             }
            },
            "type": "scattergeo"
           }
          ],
          "scattergl": [
           {
            "marker": {
             "colorbar": {
              "outlinewidth": 0,
              "ticks": ""
             }
            },
            "type": "scattergl"
           }
          ],
          "scattermapbox": [
           {
            "marker": {
             "colorbar": {
              "outlinewidth": 0,
              "ticks": ""
             }
            },
            "type": "scattermapbox"
           }
          ],
          "scatterpolar": [
           {
            "marker": {
             "colorbar": {
              "outlinewidth": 0,
              "ticks": ""
             }
            },
            "type": "scatterpolar"
           }
          ],
          "scatterpolargl": [
           {
            "marker": {
             "colorbar": {
              "outlinewidth": 0,
              "ticks": ""
             }
            },
            "type": "scatterpolargl"
           }
          ],
          "scatterternary": [
           {
            "marker": {
             "colorbar": {
              "outlinewidth": 0,
              "ticks": ""
             }
            },
            "type": "scatterternary"
           }
          ],
          "surface": [
           {
            "colorbar": {
             "outlinewidth": 0,
             "ticks": ""
            },
            "colorscale": [
             [
              0,
              "#0d0887"
             ],
             [
              0.1111111111111111,
              "#46039f"
             ],
             [
              0.2222222222222222,
              "#7201a8"
             ],
             [
              0.3333333333333333,
              "#9c179e"
             ],
             [
              0.4444444444444444,
              "#bd3786"
             ],
             [
              0.5555555555555556,
              "#d8576b"
             ],
             [
              0.6666666666666666,
              "#ed7953"
             ],
             [
              0.7777777777777778,
              "#fb9f3a"
             ],
             [
              0.8888888888888888,
              "#fdca26"
             ],
             [
              1,
              "#f0f921"
             ]
            ],
            "type": "surface"
           }
          ],
          "table": [
           {
            "cells": {
             "fill": {
              "color": "#EBF0F8"
             },
             "line": {
              "color": "white"
             }
            },
            "header": {
             "fill": {
              "color": "#C8D4E3"
             },
             "line": {
              "color": "white"
             }
            },
            "type": "table"
           }
          ]
         },
         "layout": {
          "annotationdefaults": {
           "arrowcolor": "#2a3f5f",
           "arrowhead": 0,
           "arrowwidth": 1
          },
          "autotypenumbers": "strict",
          "coloraxis": {
           "colorbar": {
            "outlinewidth": 0,
            "ticks": ""
           }
          },
          "colorscale": {
           "diverging": [
            [
             0,
             "#8e0152"
            ],
            [
             0.1,
             "#c51b7d"
            ],
            [
             0.2,
             "#de77ae"
            ],
            [
             0.3,
             "#f1b6da"
            ],
            [
             0.4,
             "#fde0ef"
            ],
            [
             0.5,
             "#f7f7f7"
            ],
            [
             0.6,
             "#e6f5d0"
            ],
            [
             0.7,
             "#b8e186"
            ],
            [
             0.8,
             "#7fbc41"
            ],
            [
             0.9,
             "#4d9221"
            ],
            [
             1,
             "#276419"
            ]
           ],
           "sequential": [
            [
             0,
             "#0d0887"
            ],
            [
             0.1111111111111111,
             "#46039f"
            ],
            [
             0.2222222222222222,
             "#7201a8"
            ],
            [
             0.3333333333333333,
             "#9c179e"
            ],
            [
             0.4444444444444444,
             "#bd3786"
            ],
            [
             0.5555555555555556,
             "#d8576b"
            ],
            [
             0.6666666666666666,
             "#ed7953"
            ],
            [
             0.7777777777777778,
             "#fb9f3a"
            ],
            [
             0.8888888888888888,
             "#fdca26"
            ],
            [
             1,
             "#f0f921"
            ]
           ],
           "sequentialminus": [
            [
             0,
             "#0d0887"
            ],
            [
             0.1111111111111111,
             "#46039f"
            ],
            [
             0.2222222222222222,
             "#7201a8"
            ],
            [
             0.3333333333333333,
             "#9c179e"
            ],
            [
             0.4444444444444444,
             "#bd3786"
            ],
            [
             0.5555555555555556,
             "#d8576b"
            ],
            [
             0.6666666666666666,
             "#ed7953"
            ],
            [
             0.7777777777777778,
             "#fb9f3a"
            ],
            [
             0.8888888888888888,
             "#fdca26"
            ],
            [
             1,
             "#f0f921"
            ]
           ]
          },
          "colorway": [
           "#636efa",
           "#EF553B",
           "#00cc96",
           "#ab63fa",
           "#FFA15A",
           "#19d3f3",
           "#FF6692",
           "#B6E880",
           "#FF97FF",
           "#FECB52"
          ],
          "font": {
           "color": "#2a3f5f"
          },
          "geo": {
           "bgcolor": "white",
           "lakecolor": "white",
           "landcolor": "#E5ECF6",
           "showlakes": true,
           "showland": true,
           "subunitcolor": "white"
          },
          "hoverlabel": {
           "align": "left"
          },
          "hovermode": "closest",
          "mapbox": {
           "style": "light"
          },
          "paper_bgcolor": "white",
          "plot_bgcolor": "#E5ECF6",
          "polar": {
           "angularaxis": {
            "gridcolor": "white",
            "linecolor": "white",
            "ticks": ""
           },
           "bgcolor": "#E5ECF6",
           "radialaxis": {
            "gridcolor": "white",
            "linecolor": "white",
            "ticks": ""
           }
          },
          "scene": {
           "xaxis": {
            "backgroundcolor": "#E5ECF6",
            "gridcolor": "white",
            "gridwidth": 2,
            "linecolor": "white",
            "showbackground": true,
            "ticks": "",
            "zerolinecolor": "white"
           },
           "yaxis": {
            "backgroundcolor": "#E5ECF6",
            "gridcolor": "white",
            "gridwidth": 2,
            "linecolor": "white",
            "showbackground": true,
            "ticks": "",
            "zerolinecolor": "white"
           },
           "zaxis": {
            "backgroundcolor": "#E5ECF6",
            "gridcolor": "white",
            "gridwidth": 2,
            "linecolor": "white",
            "showbackground": true,
            "ticks": "",
            "zerolinecolor": "white"
           }
          },
          "shapedefaults": {
           "line": {
            "color": "#2a3f5f"
           }
          },
          "ternary": {
           "aaxis": {
            "gridcolor": "white",
            "linecolor": "white",
            "ticks": ""
           },
           "baxis": {
            "gridcolor": "white",
            "linecolor": "white",
            "ticks": ""
           },
           "bgcolor": "#E5ECF6",
           "caxis": {
            "gridcolor": "white",
            "linecolor": "white",
            "ticks": ""
           }
          },
          "title": {
           "x": 0.05
          },
          "xaxis": {
           "automargin": true,
           "gridcolor": "white",
           "linecolor": "white",
           "ticks": "",
           "title": {
            "standoff": 15
           },
           "zerolinecolor": "white",
           "zerolinewidth": 2
          },
          "yaxis": {
           "automargin": true,
           "gridcolor": "white",
           "linecolor": "white",
           "ticks": "",
           "title": {
            "standoff": 15
           },
           "zerolinecolor": "white",
           "zerolinewidth": 2
          }
         }
        },
        "xaxis": {
         "anchor": "y",
         "domain": [
          0,
          1
         ],
         "title": {
          "text": "age"
         }
        },
        "yaxis": {
         "anchor": "x",
         "domain": [
          0,
          1
         ],
         "title": {
          "text": "count"
         }
        }
       }
      }
     },
     "metadata": {},
     "output_type": "display_data"
    }
   ],
   "source": [
    "# histogram\n",
    "fig = px.histogram(df, x=col_name)\n",
    "fig.show()"
   ]
  },
  {
   "cell_type": "markdown",
   "id": "e543f39b",
   "metadata": {},
   "source": [
    "### age.diag"
   ]
  },
  {
   "cell_type": "code",
   "execution_count": 485,
   "id": "32d0f1e9",
   "metadata": {},
   "outputs": [
    {
     "name": "stdout",
     "output_type": "stream",
     "text": [
      "Number of nan values in age.diag column:  32\n",
      "Proportion of nan values in age.diag column:  0.008517434122970456\n",
      "float64\n"
     ]
    }
   ],
   "source": [
    "col_name = 'age.diag'\n",
    "print(f'Number of nan values in {col_name} column: ', df[col_name].isna().sum())\n",
    "print(f'Proportion of nan values in {col_name} column: ', df[col_name].isna().sum() / df.shape[0])\n",
    "print(df[col_name].dtype)"
   ]
  },
  {
   "cell_type": "code",
   "execution_count": 486,
   "id": "d726a50a",
   "metadata": {},
   "outputs": [
    {
     "data": {
      "text/plain": [
       "[42.0,\n",
       " 41.0,\n",
       " 67.0,\n",
       " 53.0,\n",
       " 63.0,\n",
       " 35.0,\n",
       " 40.0,\n",
       " 46.0,\n",
       " 57.0,\n",
       " 43.0,\n",
       " 48.0,\n",
       " 30.0,\n",
       " 32.0,\n",
       " 60.0,\n",
       " 38.0,\n",
       " 37.0,\n",
       " 54.0,\n",
       " 51.0,\n",
       " 44.0,\n",
       " 29.0,\n",
       " 50.0,\n",
       " 27.0,\n",
       " 52.0,\n",
       " 55.0,\n",
       " 31.0,\n",
       " 71.0,\n",
       " 25.0,\n",
       " 39.0,\n",
       " 49.0,\n",
       " 45.0,\n",
       " 64.0,\n",
       " 33.0,\n",
       " nan,\n",
       " 28.0,\n",
       " 56.0,\n",
       " 62.0,\n",
       " 58.0,\n",
       " 79.0,\n",
       " 47.0,\n",
       " 61.0,\n",
       " 68.0,\n",
       " 36.0,\n",
       " 66.0,\n",
       " 26.0,\n",
       " 65.0,\n",
       " 34.0,\n",
       " 59.0,\n",
       " 72.0,\n",
       " 24.0,\n",
       " 75.0,\n",
       " 70.0,\n",
       " 73.0,\n",
       " 74.0,\n",
       " 78.0,\n",
       " 76.0,\n",
       " 69.0,\n",
       " 87.0,\n",
       " 77.0,\n",
       " 83.0,\n",
       " 82.0,\n",
       " 81.0,\n",
       " 18.0,\n",
       " 80.0,\n",
       " 22.0,\n",
       " 89.0,\n",
       " 21.0,\n",
       " 86.0,\n",
       " 84.0,\n",
       " 92.0,\n",
       " 85.0,\n",
       " 23.0,\n",
       " 16.0,\n",
       " 0.0]"
      ]
     },
     "execution_count": 486,
     "metadata": {},
     "output_type": "execute_result"
    }
   ],
   "source": [
    "df[col_name].unique().tolist()"
   ]
  },
  {
   "cell_type": "code",
   "execution_count": 487,
   "id": "0c0f5dec",
   "metadata": {},
   "outputs": [
    {
     "data": {
      "application/vnd.plotly.v1+json": {
       "config": {
        "plotlyServerURL": "https://plot.ly"
       },
       "data": [
        {
         "alignmentgroup": "True",
         "hovertemplate": "x=%{x}<br>y=%{y}<extra></extra>",
         "legendgroup": "",
         "marker": {
          "color": "#636efa",
          "pattern": {
           "shape": ""
          }
         },
         "name": "",
         "offsetgroup": "",
         "orientation": "v",
         "showlegend": false,
         "textposition": "auto",
         "type": "bar",
         "x": [
          "45.0",
          "47.0",
          "44.0",
          "49.0",
          "46.0",
          "43.0",
          "50.0",
          "48.0",
          "41.0",
          "42.0",
          "40.0",
          "39.0",
          "51.0",
          "54.0",
          "38.0",
          "52.0",
          "35.0",
          "53.0",
          "56.0",
          "36.0",
          "37.0",
          "55.0",
          "34.0",
          "58.0",
          "33.0",
          "32.0",
          "57.0",
          "60.0",
          "59.0",
          "61.0",
          "62.0",
          "31.0",
          "64.0",
          "30.0",
          "63.0",
          "66.0",
          "65.0",
          "29.0",
          "72.0",
          "27.0",
          "68.0",
          "28.0",
          "69.0",
          "70.0",
          "67.0",
          "71.0",
          "26.0",
          "73.0",
          "74.0",
          "75.0",
          "76.0",
          "77.0",
          "25.0",
          "24.0",
          "81.0",
          "78.0",
          "80.0",
          "84.0",
          "0.0",
          "82.0",
          "79.0",
          "23.0",
          "83.0",
          "22.0",
          "87.0",
          "85.0",
          "18.0",
          "89.0",
          "21.0",
          "86.0",
          "92.0",
          "16.0",
          "nan"
         ],
         "xaxis": "x",
         "y": [
          148,
          143,
          136,
          134,
          133,
          130,
          127,
          127,
          125,
          125,
          120,
          117,
          117,
          110,
          109,
          107,
          102,
          89,
          88,
          83,
          82,
          79,
          78,
          75,
          73,
          69,
          65,
          57,
          49,
          48,
          47,
          47,
          45,
          44,
          43,
          42,
          38,
          33,
          27,
          27,
          27,
          24,
          24,
          24,
          24,
          17,
          14,
          12,
          11,
          10,
          10,
          10,
          9,
          9,
          8,
          7,
          7,
          6,
          6,
          5,
          5,
          4,
          2,
          2,
          2,
          2,
          1,
          1,
          1,
          1,
          1,
          1,
          32
         ],
         "yaxis": "y"
        }
       ],
       "layout": {
        "barmode": "relative",
        "legend": {
         "tracegroupgap": 0
        },
        "margin": {
         "t": 60
        },
        "template": {
         "data": {
          "bar": [
           {
            "error_x": {
             "color": "#2a3f5f"
            },
            "error_y": {
             "color": "#2a3f5f"
            },
            "marker": {
             "line": {
              "color": "#E5ECF6",
              "width": 0.5
             },
             "pattern": {
              "fillmode": "overlay",
              "size": 10,
              "solidity": 0.2
             }
            },
            "type": "bar"
           }
          ],
          "barpolar": [
           {
            "marker": {
             "line": {
              "color": "#E5ECF6",
              "width": 0.5
             },
             "pattern": {
              "fillmode": "overlay",
              "size": 10,
              "solidity": 0.2
             }
            },
            "type": "barpolar"
           }
          ],
          "carpet": [
           {
            "aaxis": {
             "endlinecolor": "#2a3f5f",
             "gridcolor": "white",
             "linecolor": "white",
             "minorgridcolor": "white",
             "startlinecolor": "#2a3f5f"
            },
            "baxis": {
             "endlinecolor": "#2a3f5f",
             "gridcolor": "white",
             "linecolor": "white",
             "minorgridcolor": "white",
             "startlinecolor": "#2a3f5f"
            },
            "type": "carpet"
           }
          ],
          "choropleth": [
           {
            "colorbar": {
             "outlinewidth": 0,
             "ticks": ""
            },
            "type": "choropleth"
           }
          ],
          "contour": [
           {
            "colorbar": {
             "outlinewidth": 0,
             "ticks": ""
            },
            "colorscale": [
             [
              0,
              "#0d0887"
             ],
             [
              0.1111111111111111,
              "#46039f"
             ],
             [
              0.2222222222222222,
              "#7201a8"
             ],
             [
              0.3333333333333333,
              "#9c179e"
             ],
             [
              0.4444444444444444,
              "#bd3786"
             ],
             [
              0.5555555555555556,
              "#d8576b"
             ],
             [
              0.6666666666666666,
              "#ed7953"
             ],
             [
              0.7777777777777778,
              "#fb9f3a"
             ],
             [
              0.8888888888888888,
              "#fdca26"
             ],
             [
              1,
              "#f0f921"
             ]
            ],
            "type": "contour"
           }
          ],
          "contourcarpet": [
           {
            "colorbar": {
             "outlinewidth": 0,
             "ticks": ""
            },
            "type": "contourcarpet"
           }
          ],
          "heatmap": [
           {
            "colorbar": {
             "outlinewidth": 0,
             "ticks": ""
            },
            "colorscale": [
             [
              0,
              "#0d0887"
             ],
             [
              0.1111111111111111,
              "#46039f"
             ],
             [
              0.2222222222222222,
              "#7201a8"
             ],
             [
              0.3333333333333333,
              "#9c179e"
             ],
             [
              0.4444444444444444,
              "#bd3786"
             ],
             [
              0.5555555555555556,
              "#d8576b"
             ],
             [
              0.6666666666666666,
              "#ed7953"
             ],
             [
              0.7777777777777778,
              "#fb9f3a"
             ],
             [
              0.8888888888888888,
              "#fdca26"
             ],
             [
              1,
              "#f0f921"
             ]
            ],
            "type": "heatmap"
           }
          ],
          "heatmapgl": [
           {
            "colorbar": {
             "outlinewidth": 0,
             "ticks": ""
            },
            "colorscale": [
             [
              0,
              "#0d0887"
             ],
             [
              0.1111111111111111,
              "#46039f"
             ],
             [
              0.2222222222222222,
              "#7201a8"
             ],
             [
              0.3333333333333333,
              "#9c179e"
             ],
             [
              0.4444444444444444,
              "#bd3786"
             ],
             [
              0.5555555555555556,
              "#d8576b"
             ],
             [
              0.6666666666666666,
              "#ed7953"
             ],
             [
              0.7777777777777778,
              "#fb9f3a"
             ],
             [
              0.8888888888888888,
              "#fdca26"
             ],
             [
              1,
              "#f0f921"
             ]
            ],
            "type": "heatmapgl"
           }
          ],
          "histogram": [
           {
            "marker": {
             "pattern": {
              "fillmode": "overlay",
              "size": 10,
              "solidity": 0.2
             }
            },
            "type": "histogram"
           }
          ],
          "histogram2d": [
           {
            "colorbar": {
             "outlinewidth": 0,
             "ticks": ""
            },
            "colorscale": [
             [
              0,
              "#0d0887"
             ],
             [
              0.1111111111111111,
              "#46039f"
             ],
             [
              0.2222222222222222,
              "#7201a8"
             ],
             [
              0.3333333333333333,
              "#9c179e"
             ],
             [
              0.4444444444444444,
              "#bd3786"
             ],
             [
              0.5555555555555556,
              "#d8576b"
             ],
             [
              0.6666666666666666,
              "#ed7953"
             ],
             [
              0.7777777777777778,
              "#fb9f3a"
             ],
             [
              0.8888888888888888,
              "#fdca26"
             ],
             [
              1,
              "#f0f921"
             ]
            ],
            "type": "histogram2d"
           }
          ],
          "histogram2dcontour": [
           {
            "colorbar": {
             "outlinewidth": 0,
             "ticks": ""
            },
            "colorscale": [
             [
              0,
              "#0d0887"
             ],
             [
              0.1111111111111111,
              "#46039f"
             ],
             [
              0.2222222222222222,
              "#7201a8"
             ],
             [
              0.3333333333333333,
              "#9c179e"
             ],
             [
              0.4444444444444444,
              "#bd3786"
             ],
             [
              0.5555555555555556,
              "#d8576b"
             ],
             [
              0.6666666666666666,
              "#ed7953"
             ],
             [
              0.7777777777777778,
              "#fb9f3a"
             ],
             [
              0.8888888888888888,
              "#fdca26"
             ],
             [
              1,
              "#f0f921"
             ]
            ],
            "type": "histogram2dcontour"
           }
          ],
          "mesh3d": [
           {
            "colorbar": {
             "outlinewidth": 0,
             "ticks": ""
            },
            "type": "mesh3d"
           }
          ],
          "parcoords": [
           {
            "line": {
             "colorbar": {
              "outlinewidth": 0,
              "ticks": ""
             }
            },
            "type": "parcoords"
           }
          ],
          "pie": [
           {
            "automargin": true,
            "type": "pie"
           }
          ],
          "scatter": [
           {
            "fillpattern": {
             "fillmode": "overlay",
             "size": 10,
             "solidity": 0.2
            },
            "type": "scatter"
           }
          ],
          "scatter3d": [
           {
            "line": {
             "colorbar": {
              "outlinewidth": 0,
              "ticks": ""
             }
            },
            "marker": {
             "colorbar": {
              "outlinewidth": 0,
              "ticks": ""
             }
            },
            "type": "scatter3d"
           }
          ],
          "scattercarpet": [
           {
            "marker": {
             "colorbar": {
              "outlinewidth": 0,
              "ticks": ""
             }
            },
            "type": "scattercarpet"
           }
          ],
          "scattergeo": [
           {
            "marker": {
             "colorbar": {
              "outlinewidth": 0,
              "ticks": ""
             }
            },
            "type": "scattergeo"
           }
          ],
          "scattergl": [
           {
            "marker": {
             "colorbar": {
              "outlinewidth": 0,
              "ticks": ""
             }
            },
            "type": "scattergl"
           }
          ],
          "scattermapbox": [
           {
            "marker": {
             "colorbar": {
              "outlinewidth": 0,
              "ticks": ""
             }
            },
            "type": "scattermapbox"
           }
          ],
          "scatterpolar": [
           {
            "marker": {
             "colorbar": {
              "outlinewidth": 0,
              "ticks": ""
             }
            },
            "type": "scatterpolar"
           }
          ],
          "scatterpolargl": [
           {
            "marker": {
             "colorbar": {
              "outlinewidth": 0,
              "ticks": ""
             }
            },
            "type": "scatterpolargl"
           }
          ],
          "scatterternary": [
           {
            "marker": {
             "colorbar": {
              "outlinewidth": 0,
              "ticks": ""
             }
            },
            "type": "scatterternary"
           }
          ],
          "surface": [
           {
            "colorbar": {
             "outlinewidth": 0,
             "ticks": ""
            },
            "colorscale": [
             [
              0,
              "#0d0887"
             ],
             [
              0.1111111111111111,
              "#46039f"
             ],
             [
              0.2222222222222222,
              "#7201a8"
             ],
             [
              0.3333333333333333,
              "#9c179e"
             ],
             [
              0.4444444444444444,
              "#bd3786"
             ],
             [
              0.5555555555555556,
              "#d8576b"
             ],
             [
              0.6666666666666666,
              "#ed7953"
             ],
             [
              0.7777777777777778,
              "#fb9f3a"
             ],
             [
              0.8888888888888888,
              "#fdca26"
             ],
             [
              1,
              "#f0f921"
             ]
            ],
            "type": "surface"
           }
          ],
          "table": [
           {
            "cells": {
             "fill": {
              "color": "#EBF0F8"
             },
             "line": {
              "color": "white"
             }
            },
            "header": {
             "fill": {
              "color": "#C8D4E3"
             },
             "line": {
              "color": "white"
             }
            },
            "type": "table"
           }
          ]
         },
         "layout": {
          "annotationdefaults": {
           "arrowcolor": "#2a3f5f",
           "arrowhead": 0,
           "arrowwidth": 1
          },
          "autotypenumbers": "strict",
          "coloraxis": {
           "colorbar": {
            "outlinewidth": 0,
            "ticks": ""
           }
          },
          "colorscale": {
           "diverging": [
            [
             0,
             "#8e0152"
            ],
            [
             0.1,
             "#c51b7d"
            ],
            [
             0.2,
             "#de77ae"
            ],
            [
             0.3,
             "#f1b6da"
            ],
            [
             0.4,
             "#fde0ef"
            ],
            [
             0.5,
             "#f7f7f7"
            ],
            [
             0.6,
             "#e6f5d0"
            ],
            [
             0.7,
             "#b8e186"
            ],
            [
             0.8,
             "#7fbc41"
            ],
            [
             0.9,
             "#4d9221"
            ],
            [
             1,
             "#276419"
            ]
           ],
           "sequential": [
            [
             0,
             "#0d0887"
            ],
            [
             0.1111111111111111,
             "#46039f"
            ],
            [
             0.2222222222222222,
             "#7201a8"
            ],
            [
             0.3333333333333333,
             "#9c179e"
            ],
            [
             0.4444444444444444,
             "#bd3786"
            ],
            [
             0.5555555555555556,
             "#d8576b"
            ],
            [
             0.6666666666666666,
             "#ed7953"
            ],
            [
             0.7777777777777778,
             "#fb9f3a"
            ],
            [
             0.8888888888888888,
             "#fdca26"
            ],
            [
             1,
             "#f0f921"
            ]
           ],
           "sequentialminus": [
            [
             0,
             "#0d0887"
            ],
            [
             0.1111111111111111,
             "#46039f"
            ],
            [
             0.2222222222222222,
             "#7201a8"
            ],
            [
             0.3333333333333333,
             "#9c179e"
            ],
            [
             0.4444444444444444,
             "#bd3786"
            ],
            [
             0.5555555555555556,
             "#d8576b"
            ],
            [
             0.6666666666666666,
             "#ed7953"
            ],
            [
             0.7777777777777778,
             "#fb9f3a"
            ],
            [
             0.8888888888888888,
             "#fdca26"
            ],
            [
             1,
             "#f0f921"
            ]
           ]
          },
          "colorway": [
           "#636efa",
           "#EF553B",
           "#00cc96",
           "#ab63fa",
           "#FFA15A",
           "#19d3f3",
           "#FF6692",
           "#B6E880",
           "#FF97FF",
           "#FECB52"
          ],
          "font": {
           "color": "#2a3f5f"
          },
          "geo": {
           "bgcolor": "white",
           "lakecolor": "white",
           "landcolor": "#E5ECF6",
           "showlakes": true,
           "showland": true,
           "subunitcolor": "white"
          },
          "hoverlabel": {
           "align": "left"
          },
          "hovermode": "closest",
          "mapbox": {
           "style": "light"
          },
          "paper_bgcolor": "white",
          "plot_bgcolor": "#E5ECF6",
          "polar": {
           "angularaxis": {
            "gridcolor": "white",
            "linecolor": "white",
            "ticks": ""
           },
           "bgcolor": "#E5ECF6",
           "radialaxis": {
            "gridcolor": "white",
            "linecolor": "white",
            "ticks": ""
           }
          },
          "scene": {
           "xaxis": {
            "backgroundcolor": "#E5ECF6",
            "gridcolor": "white",
            "gridwidth": 2,
            "linecolor": "white",
            "showbackground": true,
            "ticks": "",
            "zerolinecolor": "white"
           },
           "yaxis": {
            "backgroundcolor": "#E5ECF6",
            "gridcolor": "white",
            "gridwidth": 2,
            "linecolor": "white",
            "showbackground": true,
            "ticks": "",
            "zerolinecolor": "white"
           },
           "zaxis": {
            "backgroundcolor": "#E5ECF6",
            "gridcolor": "white",
            "gridwidth": 2,
            "linecolor": "white",
            "showbackground": true,
            "ticks": "",
            "zerolinecolor": "white"
           }
          },
          "shapedefaults": {
           "line": {
            "color": "#2a3f5f"
           }
          },
          "ternary": {
           "aaxis": {
            "gridcolor": "white",
            "linecolor": "white",
            "ticks": ""
           },
           "baxis": {
            "gridcolor": "white",
            "linecolor": "white",
            "ticks": ""
           },
           "bgcolor": "#E5ECF6",
           "caxis": {
            "gridcolor": "white",
            "linecolor": "white",
            "ticks": ""
           }
          },
          "title": {
           "x": 0.05
          },
          "xaxis": {
           "automargin": true,
           "gridcolor": "white",
           "linecolor": "white",
           "ticks": "",
           "title": {
            "standoff": 15
           },
           "zerolinecolor": "white",
           "zerolinewidth": 2
          },
          "yaxis": {
           "automargin": true,
           "gridcolor": "white",
           "linecolor": "white",
           "ticks": "",
           "title": {
            "standoff": 15
           },
           "zerolinecolor": "white",
           "zerolinewidth": 2
          }
         }
        },
        "xaxis": {
         "anchor": "y",
         "domain": [
          0,
          1
         ],
         "title": {
          "text": "x"
         }
        },
        "yaxis": {
         "anchor": "x",
         "domain": [
          0,
          1
         ],
         "title": {
          "text": "y"
         }
        }
       }
      }
     },
     "metadata": {},
     "output_type": "display_data"
    }
   ],
   "source": [
    "# plot bar chart of Family column (x values, y counts)\n",
    "stats = df[col_name].value_counts().to_dict()\n",
    "stats = {str(k): v for k, v in stats.items()}\n",
    "stats['nan'] = df[col_name].isna().sum()\n",
    "fig = px.bar(x=list(stats.keys()), y=list(stats.values()))\n",
    "fig.show()"
   ]
  },
  {
   "cell_type": "code",
   "execution_count": 488,
   "id": "44bcdef2",
   "metadata": {},
   "outputs": [
    {
     "name": "stdout",
     "output_type": "stream",
     "text": [
      "(32, 35)\n",
      "(32, 35)\n"
     ]
    }
   ],
   "source": [
    "# count rows missing age.diag\n",
    "print(df[df['age.diag'].isna()].shape)\n",
    "# count rows missing age.diag but available age (count)\n",
    "print(df[(df['age.diag'].isna()) & (df['age'].notna())].shape)"
   ]
  },
  {
   "cell_type": "code",
   "execution_count": 489,
   "id": "fc4b3c96",
   "metadata": {},
   "outputs": [],
   "source": [
    "# fill age.diag with age\n",
    "df['age.diag'] = df['age.diag'].fillna(df['age'])"
   ]
  },
  {
   "cell_type": "code",
   "execution_count": 490,
   "id": "62eb060c",
   "metadata": {},
   "outputs": [
    {
     "data": {
      "application/vnd.plotly.v1+json": {
       "config": {
        "plotlyServerURL": "https://plot.ly"
       },
       "data": [
        {
         "alignmentgroup": "True",
         "bingroup": "x",
         "hovertemplate": "age.diag=%{x}<br>count=%{y}<extra></extra>",
         "legendgroup": "",
         "marker": {
          "color": "#636efa",
          "pattern": {
           "shape": ""
          }
         },
         "name": "",
         "nbinsx": 20,
         "offsetgroup": "",
         "orientation": "v",
         "showlegend": false,
         "type": "histogram",
         "x": [
          42,
          41,
          67,
          53,
          53,
          63,
          35,
          41,
          40,
          46,
          57,
          43,
          41,
          48,
          30,
          32,
          40,
          60,
          38,
          37,
          53,
          54,
          35,
          32,
          51,
          44,
          29,
          50,
          27,
          37,
          46,
          32,
          60,
          48,
          40,
          52,
          55,
          42,
          46,
          38,
          31,
          52,
          53,
          30,
          42,
          63,
          71,
          46,
          50,
          42,
          25,
          54,
          39,
          44,
          49,
          41,
          45,
          57,
          52,
          49,
          49,
          39,
          39,
          64,
          30,
          33,
          63,
          44,
          63,
          47.84618129907209,
          57,
          28,
          53,
          51,
          56,
          43,
          43,
          62,
          58,
          42,
          44,
          79,
          48,
          58,
          47,
          47,
          47,
          40,
          41,
          39,
          67,
          49,
          61,
          61,
          42,
          41,
          42,
          55,
          43,
          42,
          46,
          50,
          68,
          29,
          58,
          33,
          28,
          43,
          41,
          40,
          48,
          42,
          64,
          47,
          39,
          43,
          45,
          36,
          45,
          45,
          35,
          54,
          47,
          49,
          32,
          66,
          27,
          52,
          35,
          40,
          49,
          63,
          31,
          52,
          47,
          50,
          53,
          42,
          37,
          33,
          60,
          50,
          49,
          27,
          33,
          58,
          62,
          32,
          42,
          40,
          35,
          36,
          31,
          26,
          45,
          56,
          51,
          27,
          39,
          47,
          41,
          47.84618129907209,
          44,
          63,
          55,
          50,
          46,
          58,
          43,
          49,
          65,
          49,
          46,
          55,
          57,
          41,
          30,
          36,
          41,
          50,
          37,
          45,
          68,
          34,
          40,
          45,
          40,
          35,
          48,
          46,
          52,
          50,
          27,
          59,
          35,
          55,
          45,
          46,
          45,
          45,
          56,
          42,
          46,
          45,
          41,
          40,
          68,
          38,
          54,
          47,
          44,
          45,
          38,
          52,
          36,
          38,
          37,
          39,
          37,
          72,
          46,
          41,
          56,
          59,
          44,
          24,
          36,
          36,
          39,
          44,
          65,
          25,
          47,
          43,
          60,
          45,
          64,
          51,
          55,
          54,
          40,
          43,
          39,
          29,
          31,
          30,
          53,
          55,
          42,
          46,
          37,
          49,
          40,
          75,
          70,
          45,
          49,
          38,
          51,
          38,
          57,
          57,
          58,
          66,
          46,
          51,
          49,
          43,
          30,
          26,
          39,
          43,
          52,
          47,
          52,
          39,
          67,
          59,
          51,
          34,
          43,
          56,
          56,
          59,
          50,
          46,
          31,
          39,
          47,
          42,
          42,
          44,
          40,
          49,
          48,
          25,
          45,
          44,
          40,
          73,
          38,
          46,
          35,
          33,
          53,
          52,
          40,
          43,
          36,
          54,
          38,
          52,
          35,
          51,
          41,
          57,
          50,
          28,
          35,
          52,
          41,
          36,
          43,
          35,
          47,
          28,
          43,
          55,
          37,
          48,
          36,
          45,
          39,
          64,
          44,
          45,
          34,
          43,
          35,
          40,
          42,
          32,
          43,
          38,
          36,
          45,
          74,
          50,
          42,
          65,
          37,
          46,
          45,
          50,
          78,
          60,
          35,
          39,
          31,
          64,
          64,
          70,
          45,
          59,
          40,
          28,
          26,
          43,
          36,
          49,
          47,
          43,
          46,
          35,
          51,
          37,
          35,
          64,
          42,
          50,
          45,
          65,
          41,
          43,
          45,
          40,
          58,
          43,
          46,
          50,
          36,
          39,
          59,
          57,
          37,
          36,
          43,
          48,
          45,
          40,
          35,
          52,
          43,
          27,
          25,
          53,
          33,
          32,
          48,
          47,
          51,
          39,
          49,
          43,
          40,
          32,
          38,
          42,
          51,
          55,
          40,
          39,
          71,
          31,
          42,
          42,
          43,
          46,
          43,
          39,
          59,
          52,
          36,
          73,
          43,
          78,
          59,
          41,
          50,
          30,
          63,
          32,
          56,
          61,
          47,
          49,
          43,
          43,
          35,
          35,
          45,
          66,
          33,
          28,
          43,
          52,
          29,
          49,
          60,
          35,
          33,
          40,
          59,
          32,
          51,
          40,
          46,
          48,
          76,
          49,
          42,
          57,
          42,
          41,
          38,
          64,
          50,
          34,
          38,
          33,
          42,
          58,
          40,
          55,
          47,
          48,
          25,
          41,
          44,
          70,
          55,
          38,
          71,
          51,
          66,
          50,
          34,
          47,
          49,
          52,
          36,
          38,
          46,
          45,
          50,
          34,
          52,
          56,
          32,
          53,
          55,
          27,
          32,
          69,
          69,
          32,
          38,
          44,
          54,
          50,
          38,
          43,
          72,
          54,
          32,
          43,
          35,
          47,
          54,
          48,
          62,
          32,
          48,
          48,
          46,
          64,
          54,
          48,
          45,
          44,
          39,
          53,
          38,
          47,
          45,
          36,
          33,
          33,
          42,
          54,
          36,
          38,
          52,
          51,
          45,
          49,
          47,
          58,
          51,
          29,
          51,
          69,
          44,
          35,
          45,
          87,
          44,
          53,
          76,
          42,
          41,
          45,
          72,
          62,
          41,
          39,
          54,
          43,
          47,
          37,
          50,
          48,
          47,
          41,
          42,
          46,
          26,
          48,
          49,
          75,
          41,
          40,
          56,
          54,
          66,
          62,
          26,
          39,
          45,
          27,
          45,
          49,
          48,
          65,
          41,
          39,
          55,
          51,
          46,
          55,
          40,
          56,
          70,
          36,
          49,
          40,
          53,
          44,
          26,
          35,
          50,
          34,
          47,
          48,
          35,
          65,
          46,
          51,
          57,
          38,
          37,
          39,
          41,
          70,
          38,
          44,
          77,
          58,
          62,
          45,
          32,
          53,
          44,
          52,
          74,
          54,
          57,
          58,
          33,
          67,
          37,
          46,
          52,
          54,
          57,
          49,
          46,
          57,
          48,
          58,
          34,
          46,
          39,
          51,
          47,
          36,
          45,
          34,
          55,
          41,
          56,
          54,
          38,
          32,
          39,
          36,
          64,
          73,
          44,
          55,
          65,
          47,
          46,
          41,
          57,
          49,
          53,
          51,
          40,
          36,
          54,
          33,
          34,
          41,
          47,
          38,
          29,
          47,
          34,
          45,
          49,
          35,
          35,
          40,
          44,
          42,
          54,
          50,
          56,
          34,
          54,
          32,
          40,
          35,
          43,
          83,
          60,
          34,
          36,
          39,
          31,
          50,
          28,
          44,
          52,
          27,
          58,
          38,
          43,
          58,
          41,
          59,
          70,
          70,
          47,
          40,
          53,
          49,
          30,
          30,
          61,
          43,
          42,
          39,
          61,
          46,
          49,
          46,
          36,
          78,
          43,
          52,
          32,
          37,
          64,
          61,
          42,
          48,
          45,
          45,
          34,
          45,
          49,
          62,
          60,
          46,
          35,
          49,
          58,
          48,
          35,
          28,
          48,
          33,
          48,
          42,
          29,
          44,
          49,
          37,
          56,
          68,
          52,
          57,
          53,
          47,
          47,
          53,
          27,
          36,
          42,
          52,
          42,
          35,
          47.84618129907209,
          70,
          43,
          46,
          62,
          54,
          58,
          66,
          53,
          53,
          41,
          47,
          49,
          68,
          53,
          58,
          36,
          42,
          45,
          30,
          37,
          44,
          49,
          38,
          52,
          44,
          47,
          44,
          40,
          48,
          71,
          59,
          58,
          63,
          27,
          33,
          39,
          56,
          38,
          31,
          39,
          48,
          35,
          42,
          45,
          34,
          42,
          43,
          82,
          66,
          56,
          48,
          46,
          37,
          31,
          38,
          37,
          72,
          46,
          54,
          53,
          54,
          56,
          40,
          31,
          44,
          47,
          43,
          81,
          44,
          49,
          68,
          74,
          55,
          57,
          30,
          62,
          46,
          49,
          43,
          49,
          54,
          42,
          60,
          63,
          26,
          31,
          58,
          43,
          50,
          50,
          34,
          31,
          49,
          53,
          33,
          49,
          49,
          41,
          48,
          45,
          64,
          72,
          39,
          40,
          45,
          18,
          40,
          53,
          44,
          65,
          40,
          75,
          57,
          60,
          40,
          70,
          41,
          43,
          44,
          52,
          46,
          51,
          26,
          56,
          60,
          48,
          57,
          33,
          65,
          35,
          62,
          40,
          52,
          31,
          47,
          55,
          58,
          34,
          62,
          59,
          38,
          38,
          62,
          39,
          29,
          72,
          40,
          50,
          63,
          51,
          50,
          47.84618129907209,
          43,
          52,
          60,
          63,
          45,
          60,
          44,
          58,
          46,
          46,
          37,
          49,
          45,
          44,
          36,
          43,
          32,
          50,
          50,
          43,
          48,
          44,
          47,
          64,
          26,
          40,
          43,
          38,
          59,
          42,
          60,
          44,
          50,
          51,
          32,
          38,
          42,
          39,
          48,
          38,
          33,
          42,
          55,
          56,
          49,
          58,
          54,
          46,
          59,
          67,
          50,
          49,
          47,
          79,
          49,
          62,
          46,
          40,
          65,
          52,
          43,
          49,
          68,
          46,
          66,
          64,
          34,
          45,
          40,
          35,
          44,
          39,
          50,
          48,
          39,
          46,
          49,
          58,
          33,
          43,
          54,
          44,
          69,
          49,
          34,
          56,
          32,
          56,
          63,
          29,
          72,
          44,
          44,
          58,
          37,
          44,
          52,
          55,
          40,
          33,
          47,
          40,
          50,
          49,
          35,
          50,
          27,
          41,
          60,
          36,
          33,
          51,
          48,
          52,
          50,
          40,
          57,
          30,
          45,
          53,
          36,
          59,
          43,
          45,
          43,
          42,
          49,
          69,
          35,
          31,
          43,
          43,
          44,
          46,
          39,
          40,
          29,
          33,
          55,
          29,
          41,
          38,
          38,
          36,
          44,
          31,
          35,
          49,
          33,
          48,
          43,
          47,
          53,
          50,
          46,
          45,
          51,
          44,
          57,
          51,
          49,
          33,
          54,
          35,
          38,
          66,
          56,
          49,
          32,
          56,
          56,
          45,
          41,
          31,
          45,
          36,
          35,
          36,
          34,
          62,
          64,
          33,
          40,
          39,
          46,
          55,
          51,
          35,
          35,
          47,
          47,
          29,
          57,
          35,
          46,
          39,
          48,
          32,
          38,
          43,
          48,
          73,
          38,
          61,
          49,
          68,
          32,
          34,
          54,
          36,
          32,
          40,
          71,
          41,
          35,
          50,
          34,
          38,
          49,
          40,
          45,
          56,
          41,
          36,
          47,
          62,
          57,
          48,
          44,
          70,
          48,
          82,
          37,
          50,
          44,
          60,
          50,
          61,
          47,
          51,
          39,
          43,
          41,
          49,
          61,
          38,
          87,
          51,
          54,
          33,
          39,
          54,
          47,
          39,
          42,
          38,
          50,
          63,
          54,
          54,
          54,
          41,
          42,
          49,
          34,
          46,
          46,
          38,
          54,
          61,
          40,
          46,
          49,
          77,
          56,
          43,
          34,
          28,
          56,
          30,
          50,
          51,
          68,
          33,
          50,
          51,
          43,
          43,
          45,
          55,
          66,
          51,
          27,
          36,
          53,
          49,
          41,
          51,
          66,
          57,
          55,
          27,
          55,
          48,
          42,
          50,
          43,
          35,
          48,
          47,
          40,
          39,
          51,
          48,
          47,
          39,
          58,
          61,
          46,
          74,
          43,
          27,
          58,
          50,
          40,
          61,
          35,
          32,
          49,
          56,
          38,
          56,
          39,
          41,
          28,
          57,
          50,
          46,
          56,
          49,
          39,
          52,
          41,
          49,
          54,
          53,
          70,
          67,
          73,
          45,
          37,
          77,
          47,
          49,
          60,
          54,
          48,
          38,
          54,
          46,
          39,
          56,
          61,
          48,
          52,
          54,
          48,
          51,
          56,
          46,
          66,
          38,
          66,
          43,
          36,
          74,
          62,
          66,
          52,
          42,
          44,
          55,
          40,
          38,
          59,
          38,
          30,
          42,
          51,
          47,
          42,
          51,
          80,
          51,
          82,
          48,
          48,
          46,
          47,
          53,
          52,
          64,
          68,
          46,
          48,
          34,
          43,
          66,
          38,
          56,
          32,
          57,
          43,
          54,
          31,
          74,
          61,
          34,
          44,
          60,
          66,
          49,
          36,
          32,
          33,
          40,
          44,
          34,
          53,
          29,
          41,
          45,
          68,
          42,
          61,
          55,
          43,
          31,
          40,
          54,
          44,
          49,
          48,
          42,
          35,
          69,
          46,
          51,
          57,
          64,
          43,
          40,
          56,
          34,
          42,
          72,
          42,
          47,
          46,
          39,
          56,
          49,
          45,
          42,
          48,
          48,
          45,
          39,
          46,
          39,
          72,
          42,
          67,
          37,
          67,
          32,
          47,
          72,
          43,
          42,
          45,
          39,
          47,
          48,
          29,
          29,
          36,
          54,
          51,
          56,
          47,
          33,
          75,
          32,
          44,
          40,
          59,
          54,
          56,
          74,
          48,
          58,
          49,
          77,
          48,
          50,
          56,
          61,
          37,
          35,
          36,
          45,
          34,
          38,
          40,
          33,
          54,
          35,
          45,
          40,
          47,
          47,
          62,
          50,
          50,
          47,
          32,
          56,
          47,
          67,
          46,
          55,
          72,
          43,
          64,
          37,
          42,
          48,
          52,
          78,
          49,
          32,
          40,
          56,
          53,
          58,
          52,
          67,
          41,
          48,
          39,
          65,
          74,
          38,
          36,
          53,
          30,
          40,
          44,
          31,
          57,
          33,
          44,
          55,
          37,
          31,
          47,
          45,
          43,
          61,
          51,
          39,
          35,
          50,
          66,
          51,
          45,
          81,
          48,
          50,
          46,
          48,
          37,
          39,
          66,
          39,
          52,
          51,
          37,
          35,
          48,
          56,
          48,
          55,
          37,
          30,
          46,
          45,
          59,
          34,
          33,
          41,
          41,
          43,
          52,
          49,
          69,
          52,
          65,
          40,
          34,
          40,
          58,
          50,
          35,
          47.84618129907209,
          50,
          58,
          37,
          51,
          24,
          50,
          59,
          35,
          49,
          41,
          50,
          34,
          56,
          50,
          43,
          47,
          40,
          54,
          30,
          51,
          33,
          49,
          26,
          43,
          47,
          52,
          63,
          45,
          45,
          71,
          38,
          51,
          39,
          44,
          46,
          57,
          45,
          63,
          30,
          69,
          45,
          51,
          38,
          49,
          50,
          35,
          44,
          47.84618129907209,
          51,
          53,
          56,
          47,
          50,
          61,
          39,
          47,
          33,
          43,
          51,
          52,
          46,
          82,
          30,
          55,
          39,
          41,
          52,
          38,
          51,
          44,
          54,
          79,
          44,
          57,
          54,
          45,
          44,
          54,
          54,
          40,
          47,
          30,
          64,
          55,
          81,
          50,
          76,
          41,
          27,
          38,
          58,
          53,
          48,
          43,
          49,
          56,
          67,
          27,
          59,
          46,
          54,
          60,
          46,
          36,
          41,
          67,
          25,
          49,
          41,
          46,
          54,
          47.84618129907209,
          49,
          43,
          31,
          54,
          30,
          45,
          62,
          30,
          63,
          31,
          36,
          37,
          41,
          36,
          51,
          45,
          71,
          52,
          50,
          43,
          42,
          52,
          69,
          48,
          45,
          33,
          45,
          48,
          48,
          64,
          43,
          59,
          52,
          34,
          57,
          50,
          58,
          46,
          39,
          64,
          46,
          43,
          68,
          33,
          58,
          60,
          38,
          53,
          69,
          47.84618129907209,
          53,
          30,
          45,
          37,
          47,
          49,
          47,
          47,
          45,
          41,
          50,
          59,
          41,
          57,
          44,
          44,
          35,
          45,
          72,
          72,
          50,
          53,
          61,
          36,
          49,
          47.84618129907209,
          47,
          60,
          42,
          50,
          36,
          52,
          46,
          52,
          47,
          38,
          46,
          64,
          57,
          37,
          41,
          47,
          31,
          46,
          51,
          48,
          45,
          48,
          58,
          42,
          71,
          63,
          42,
          50,
          38,
          47,
          22,
          35,
          40,
          59,
          56,
          39,
          36,
          50,
          33,
          43,
          58,
          47,
          60,
          36,
          39,
          49,
          63,
          53,
          67,
          54,
          44,
          36,
          31,
          78,
          33,
          38,
          46,
          67,
          65,
          47,
          36,
          46,
          41,
          41,
          47.84618129907209,
          39,
          64,
          50,
          31,
          51,
          54,
          34,
          56,
          40,
          41,
          31,
          45,
          50,
          60,
          55,
          34,
          38,
          31,
          68,
          36,
          44,
          80,
          29,
          55,
          42,
          53,
          40,
          56,
          56,
          47.84618129907209,
          42,
          50,
          39,
          54,
          42,
          53,
          45,
          39,
          35,
          64,
          37,
          46,
          48,
          46,
          47,
          52,
          32,
          51,
          27,
          64,
          43,
          54,
          81,
          42,
          48,
          35,
          45,
          45,
          45,
          38,
          58,
          47,
          22,
          73,
          38,
          58,
          34,
          33,
          45,
          52,
          38,
          52,
          56,
          51,
          54,
          37,
          34,
          33,
          48,
          54,
          39,
          57,
          33,
          36,
          35,
          71,
          54,
          55,
          68,
          47,
          29,
          40,
          64,
          53,
          28,
          34,
          46,
          35,
          58,
          42,
          41,
          34,
          66,
          60,
          49,
          36,
          49,
          47,
          56,
          41,
          54,
          54,
          50,
          44,
          39,
          77,
          72,
          44,
          49,
          56,
          43,
          24,
          65,
          48,
          47,
          55,
          38,
          41,
          68,
          63,
          59,
          33,
          39,
          53,
          89,
          25,
          38,
          35,
          55,
          43,
          44,
          54,
          43,
          47,
          36,
          45,
          37,
          39,
          44,
          49,
          40,
          30,
          35,
          59,
          56,
          58,
          46,
          21,
          30,
          59,
          50,
          52,
          76,
          51,
          40,
          58,
          34,
          34,
          46,
          51,
          53,
          41,
          38,
          29,
          50,
          44,
          38,
          36,
          62,
          43,
          44,
          51,
          50,
          29,
          61,
          37,
          49,
          37,
          50,
          69,
          66,
          52,
          39,
          45,
          47.84618129907209,
          69,
          55,
          47,
          57,
          70,
          56,
          54,
          46,
          62,
          43,
          47,
          63,
          58,
          64,
          50,
          77,
          46,
          80,
          37,
          63,
          47,
          45,
          86,
          53,
          43,
          48,
          61,
          29,
          38,
          37,
          57,
          33,
          46,
          44,
          48,
          68,
          39,
          49,
          60,
          57,
          71,
          54,
          52,
          53,
          62,
          49,
          48,
          33,
          36,
          42,
          47,
          51,
          63,
          53,
          61,
          54,
          47,
          48,
          38,
          42,
          35,
          57,
          59,
          34,
          53,
          35,
          37,
          59,
          44,
          57,
          49,
          67,
          59,
          34,
          63,
          46,
          44,
          45,
          33,
          53,
          51,
          53,
          41,
          57,
          47.84618129907209,
          47,
          39,
          48,
          58,
          53,
          67,
          66,
          30,
          67,
          52,
          36,
          68,
          55,
          61,
          63,
          53,
          39,
          49,
          47,
          51,
          57,
          56,
          50,
          63,
          42,
          54,
          32,
          59,
          43,
          41,
          60,
          55,
          45,
          70,
          38,
          84,
          68,
          37,
          33,
          33,
          57,
          32,
          41,
          46,
          43,
          45,
          44,
          44,
          36,
          40,
          39,
          59,
          43,
          69,
          42,
          72,
          37,
          40,
          48,
          79,
          44,
          40,
          48,
          38,
          46,
          59,
          40,
          53,
          53,
          30,
          29,
          48,
          42,
          31,
          32,
          30,
          49,
          51,
          64,
          38,
          72,
          50,
          44,
          57,
          69,
          54,
          37,
          52,
          35,
          39,
          45,
          58,
          27,
          48,
          37,
          50,
          58,
          31,
          49,
          43,
          73,
          35,
          51,
          44,
          32,
          55,
          32,
          44,
          38,
          53,
          34,
          51,
          34,
          55,
          66,
          30,
          43,
          65,
          47,
          41,
          32,
          61,
          33,
          65,
          49,
          61,
          36,
          63,
          65,
          40,
          55,
          50,
          45,
          44,
          28,
          62,
          42,
          83,
          43,
          53,
          40,
          44,
          28,
          43,
          39,
          42,
          52,
          63,
          29,
          41,
          47.84618129907209,
          40,
          49,
          92,
          48,
          44,
          45,
          54,
          47,
          55,
          34,
          45,
          34,
          60,
          39,
          28,
          62,
          53,
          42,
          53,
          39,
          40,
          54,
          52,
          54,
          53,
          49,
          32,
          42,
          45,
          35,
          44,
          54,
          62,
          49,
          42,
          33,
          66,
          46,
          55,
          63,
          49,
          73,
          38,
          34,
          45,
          66,
          66,
          73,
          37,
          39,
          72,
          37,
          34,
          33,
          47,
          40,
          62,
          45,
          49,
          60,
          59,
          45,
          44,
          75,
          41,
          35,
          41,
          53,
          39,
          36,
          75,
          46,
          52,
          37,
          41,
          31,
          43,
          41,
          50,
          46,
          66,
          51,
          36,
          52,
          45,
          50,
          58,
          42,
          56,
          51,
          43,
          54,
          39,
          67,
          36,
          56,
          42,
          47,
          37,
          63,
          48,
          61,
          47,
          51,
          51,
          49,
          60,
          26,
          40,
          48,
          45,
          56,
          38,
          50,
          50,
          45,
          54,
          49,
          60,
          65,
          53,
          54,
          66,
          70,
          28,
          48,
          35,
          50,
          64,
          32,
          53,
          47,
          52,
          56,
          54,
          33,
          71,
          51,
          41,
          38,
          66,
          64,
          55,
          48,
          34,
          48,
          33,
          52,
          42,
          43,
          56,
          55,
          55,
          46,
          50,
          37,
          57,
          69,
          40,
          50,
          34,
          42,
          51,
          42,
          65,
          69,
          36,
          55,
          40,
          45,
          49,
          52,
          69,
          29,
          48,
          51,
          56,
          35,
          37,
          62,
          51,
          31,
          51,
          47,
          48,
          53,
          41,
          53,
          47,
          28,
          62,
          37,
          82,
          37,
          52,
          48,
          70,
          52,
          45,
          45,
          37,
          62,
          56,
          84,
          61,
          42,
          44,
          43,
          43,
          27,
          45,
          37,
          48,
          65,
          77,
          55,
          42,
          50,
          50,
          46,
          64,
          57,
          55,
          52,
          42,
          44,
          55,
          76,
          40,
          51,
          27,
          47,
          56,
          56,
          37,
          49,
          41,
          68,
          51,
          47,
          30,
          40,
          51,
          56,
          57,
          42,
          58,
          58,
          42,
          85,
          38,
          51,
          56,
          47,
          58,
          53,
          40,
          43,
          47.84618129907209,
          52,
          61,
          23,
          41,
          41,
          32,
          43,
          55,
          53,
          44,
          31,
          56,
          41,
          32,
          46,
          46,
          49,
          52,
          38,
          47.84618129907209,
          48,
          40,
          43,
          53,
          57,
          45,
          44,
          47,
          45,
          68,
          47,
          54,
          34,
          55,
          38,
          47,
          59,
          44,
          51,
          30,
          43,
          50,
          56,
          37,
          44,
          46,
          47.84618129907209,
          58,
          54,
          44,
          59,
          45,
          45,
          45,
          35,
          55,
          49,
          51,
          43,
          62,
          31,
          60,
          48,
          58,
          35,
          43,
          50,
          35,
          45,
          42,
          56,
          33,
          55,
          51,
          51,
          37,
          41,
          42,
          62,
          52,
          38,
          53,
          46,
          49,
          39,
          65,
          24,
          47,
          61,
          38,
          62,
          35,
          37,
          56,
          35,
          59,
          45,
          66,
          65,
          48,
          72,
          40,
          58,
          52,
          32,
          38,
          60,
          41,
          50,
          37,
          41,
          48,
          52,
          41,
          62,
          56,
          51,
          47,
          47.84618129907209,
          47.84618129907209,
          64,
          57,
          40,
          64,
          61,
          34,
          45,
          71,
          42,
          49,
          41,
          54,
          70,
          39,
          55,
          37,
          50,
          47,
          48,
          30,
          49,
          36,
          54,
          58,
          41,
          46,
          33,
          35,
          45,
          42,
          48,
          30,
          70,
          64,
          41,
          45,
          67,
          64,
          40,
          46,
          37,
          39,
          33,
          35,
          46,
          44,
          46,
          29,
          39,
          39,
          37,
          74,
          65,
          44,
          47,
          60,
          72,
          51,
          72,
          54,
          51,
          34,
          55,
          45,
          44,
          32,
          50,
          50,
          68,
          46,
          61,
          47,
          72,
          46,
          37,
          40,
          38,
          43,
          50,
          44,
          54,
          47,
          26,
          47,
          41,
          32,
          56,
          50,
          41,
          62,
          51,
          50,
          48,
          47.84618129907209,
          45,
          64,
          47,
          36,
          51,
          33,
          55,
          47,
          48,
          28,
          45,
          38,
          46,
          47,
          33,
          48,
          33,
          57,
          52,
          38,
          51,
          57,
          42,
          47,
          24,
          42,
          33,
          54,
          38,
          44,
          24,
          35,
          44,
          53,
          41,
          42,
          47.84618129907209,
          52,
          54,
          47,
          46,
          39,
          32,
          48,
          41,
          43,
          61,
          60,
          58,
          40,
          51,
          46,
          54,
          60,
          35,
          49,
          55,
          41,
          70,
          47.84618129907209,
          36,
          46,
          45,
          44,
          34,
          39,
          32,
          41,
          35,
          44,
          54,
          44,
          34,
          46,
          36,
          34,
          28,
          72,
          39,
          57,
          34,
          46,
          57,
          32,
          38,
          31,
          34,
          56,
          64,
          35,
          45,
          57,
          33,
          41,
          58,
          32,
          27,
          40,
          35,
          44,
          24,
          74,
          37,
          48,
          54,
          29,
          44,
          60,
          49,
          41,
          65,
          48,
          63,
          51,
          49,
          63,
          60,
          45,
          31,
          42,
          47,
          59,
          41,
          63,
          51,
          46,
          36,
          51,
          64,
          45,
          58,
          80,
          45,
          52,
          47,
          58,
          52,
          72,
          43,
          71,
          49,
          57,
          42,
          52,
          64,
          47,
          40,
          49,
          55,
          77,
          48,
          47,
          43,
          45,
          45,
          77,
          28,
          51,
          51,
          32,
          58,
          38,
          44,
          54,
          40,
          36,
          54,
          47,
          32,
          49,
          46,
          52,
          45,
          38,
          26,
          46,
          60,
          35,
          53,
          33,
          41,
          38,
          46,
          42,
          49,
          39,
          50,
          69,
          65,
          45,
          35,
          43,
          42,
          60,
          39,
          43,
          53,
          32,
          42,
          59,
          50,
          35,
          76,
          60,
          45,
          54,
          33,
          37,
          25,
          43,
          51,
          47,
          48,
          23,
          44,
          50,
          51,
          54,
          46,
          51,
          45,
          42,
          57,
          40,
          49,
          50,
          38,
          48,
          49,
          37,
          44,
          51,
          23,
          47,
          40,
          39,
          32,
          64,
          47,
          51,
          53,
          41,
          50,
          43,
          35,
          60,
          59,
          37,
          27,
          32,
          66,
          73,
          49,
          40,
          55,
          32,
          44,
          52,
          39,
          38,
          63,
          50,
          45,
          48,
          46,
          43,
          52,
          44,
          47.84618129907209,
          51,
          57,
          47,
          61,
          35,
          52,
          47.84618129907209,
          48,
          36,
          42,
          54,
          56,
          56,
          45,
          66,
          46,
          84,
          31,
          34,
          35,
          60,
          42,
          57,
          45,
          62,
          65,
          64,
          52,
          45,
          46,
          54,
          50,
          54,
          51,
          40,
          65,
          73,
          41,
          31,
          55,
          49,
          51,
          38,
          50,
          71,
          41,
          46,
          57,
          29,
          45,
          39,
          41,
          29,
          48,
          47,
          59,
          33,
          57,
          37,
          44,
          65,
          49,
          68,
          63,
          45,
          55,
          48,
          41,
          51,
          49,
          58,
          60,
          53,
          62,
          47,
          68,
          44,
          53,
          37,
          39,
          44,
          48,
          52,
          54,
          36,
          46,
          42,
          59,
          27,
          47,
          44,
          55,
          42,
          61,
          34,
          29,
          48,
          45,
          50,
          58,
          40,
          65,
          41,
          42,
          53,
          72,
          55,
          81,
          65,
          40,
          55,
          33,
          40,
          75,
          47.84618129907209,
          32,
          76,
          44,
          47,
          59,
          60,
          70,
          49,
          42,
          24,
          36,
          37,
          54,
          47,
          30,
          62,
          52,
          44,
          56,
          48,
          58,
          69,
          47.84618129907209,
          48,
          39,
          39,
          60,
          39,
          45,
          62,
          54,
          52,
          51,
          53,
          61,
          46,
          47,
          37,
          80,
          34,
          56,
          43,
          45,
          42,
          44,
          39,
          44,
          52,
          43,
          33,
          34,
          51,
          65,
          44,
          60,
          57,
          44,
          81,
          42,
          53,
          43,
          51,
          44,
          58,
          47,
          46,
          44,
          66,
          28,
          63,
          52,
          47,
          61,
          45,
          58,
          43,
          38,
          36,
          39,
          35,
          53,
          51,
          60,
          40,
          40,
          66,
          41,
          50,
          37,
          53,
          55,
          43,
          41,
          64,
          31,
          66,
          49,
          40,
          50,
          52,
          52,
          61,
          43,
          44,
          59,
          67,
          55,
          51,
          49,
          31,
          53,
          28,
          51,
          28,
          44,
          41,
          41,
          40,
          35,
          33,
          62,
          53,
          34,
          31,
          41,
          50,
          62,
          47,
          39,
          35,
          58,
          43,
          54,
          45,
          51,
          41,
          47,
          41,
          40,
          61,
          44,
          57,
          56,
          43,
          54,
          47,
          68,
          31,
          84,
          41,
          36,
          47,
          34,
          41,
          46,
          48,
          52,
          49,
          72,
          49,
          48,
          44,
          46,
          44,
          57,
          54,
          49,
          53,
          27,
          46,
          50,
          50,
          34,
          34,
          81,
          52,
          38,
          54,
          59,
          60,
          76,
          42,
          36,
          69,
          60,
          39,
          57,
          51,
          41,
          41,
          65,
          61,
          76,
          45,
          57,
          59,
          34,
          42,
          40,
          54,
          59,
          42,
          38,
          56,
          56,
          80,
          63,
          56,
          45,
          36,
          44,
          58,
          53,
          47,
          41,
          44,
          32,
          74,
          37,
          53,
          52,
          84,
          50,
          66,
          37,
          39,
          36,
          38,
          47,
          35,
          55,
          38,
          34,
          38,
          64,
          61,
          48,
          41,
          28,
          39,
          33,
          47.84618129907209,
          56,
          41,
          39,
          63,
          33,
          32,
          48,
          45,
          34,
          50,
          41,
          52,
          70,
          39,
          54,
          26,
          60,
          38,
          34,
          58,
          66,
          38,
          50,
          69,
          50,
          47,
          42,
          31,
          43,
          35,
          44,
          44,
          62,
          44,
          62,
          69,
          36,
          44,
          49,
          49,
          45,
          41,
          70,
          42,
          54,
          40,
          37,
          50,
          58,
          41,
          72,
          37,
          57,
          34,
          40,
          37,
          39,
          75,
          52,
          60,
          56,
          59,
          35,
          50,
          41,
          60,
          44,
          41,
          54,
          48,
          38,
          16,
          42,
          49,
          50,
          50,
          32,
          67,
          42,
          69,
          63,
          61,
          44,
          35,
          47.84618129907209,
          34,
          41,
          41,
          30,
          32,
          54,
          64,
          85,
          52,
          58,
          44,
          31,
          52,
          35,
          29,
          30,
          0,
          0,
          49,
          43,
          42,
          34,
          68,
          34,
          47,
          52,
          24,
          30,
          58,
          76,
          66,
          0,
          0,
          44,
          80,
          67,
          39,
          59,
          48,
          38,
          39,
          47,
          29,
          52,
          35,
          42,
          60,
          62,
          68,
          35,
          67,
          42,
          48,
          46,
          56,
          30,
          38,
          61,
          32,
          41,
          51,
          52,
          36,
          62,
          32,
          45,
          48,
          54,
          36,
          62,
          49,
          66,
          52,
          53,
          39,
          56,
          55,
          65,
          75,
          51,
          44,
          40,
          46,
          47,
          50,
          34,
          42,
          47,
          75,
          65,
          81,
          55,
          42,
          45,
          73,
          72,
          53,
          42,
          52,
          71,
          44,
          0,
          50,
          44,
          38,
          58,
          39,
          37,
          60,
          55,
          63,
          32,
          38,
          27,
          71,
          39,
          54,
          67,
          66,
          51,
          42,
          66,
          50,
          30,
          56,
          44,
          60,
          62,
          46,
          55,
          38,
          36,
          40,
          45,
          53,
          78,
          50,
          50,
          60,
          48,
          65,
          25,
          42,
          39,
          51,
          52,
          61,
          38,
          43,
          37,
          44,
          70,
          58,
          30,
          30,
          54,
          52,
          32,
          0,
          41,
          45,
          51,
          38,
          46,
          33,
          38,
          31,
          84,
          66,
          48,
          52,
          31,
          47,
          79,
          56,
          53,
          68,
          43,
          28,
          48,
          27,
          30,
          46,
          56,
          47,
          56,
          48,
          31,
          40,
          49,
          63,
          35,
          39,
          40,
          78,
          40,
          35,
          51,
          32,
          58,
          58,
          33,
          70,
          63,
          41,
          35,
          30,
          71,
          62,
          45,
          58,
          40,
          48,
          42,
          62,
          55,
          42,
          65,
          65,
          40,
          45,
          42,
          49,
          33,
          54,
          48,
          36,
          40,
          38,
          47.84618129907209,
          55,
          64,
          59,
          46,
          50,
          29,
          65,
          43,
          52,
          42,
          77,
          39,
          49,
          47,
          61,
          47,
          32,
          63,
          35,
          34,
          60,
          48,
          40,
          39,
          39,
          69,
          49,
          46,
          46,
          34,
          35,
          23,
          43,
          33,
          48,
          58,
          61,
          55,
          49,
          53,
          29,
          45,
          51,
          32,
          55,
          40,
          57,
          52,
          30,
          50,
          41,
          36,
          36,
          50,
          39,
          35,
          56,
          29,
          52,
          49,
          54,
          43,
          61,
          43,
          36,
          44,
          66,
          53,
          46,
          43,
          46,
          46,
          39,
          46,
          55,
          54,
          49,
          70,
          39,
          41,
          58,
          52,
          33,
          63,
          37,
          42,
          50,
          54,
          61,
          49,
          35,
          47,
          61,
          47.84618129907209,
          47.84618129907209,
          47.84618129907209
         ],
         "xaxis": "x",
         "yaxis": "y"
        }
       ],
       "layout": {
        "barmode": "relative",
        "legend": {
         "tracegroupgap": 0
        },
        "template": {
         "data": {
          "bar": [
           {
            "error_x": {
             "color": "#2a3f5f"
            },
            "error_y": {
             "color": "#2a3f5f"
            },
            "marker": {
             "line": {
              "color": "#E5ECF6",
              "width": 0.5
             },
             "pattern": {
              "fillmode": "overlay",
              "size": 10,
              "solidity": 0.2
             }
            },
            "type": "bar"
           }
          ],
          "barpolar": [
           {
            "marker": {
             "line": {
              "color": "#E5ECF6",
              "width": 0.5
             },
             "pattern": {
              "fillmode": "overlay",
              "size": 10,
              "solidity": 0.2
             }
            },
            "type": "barpolar"
           }
          ],
          "carpet": [
           {
            "aaxis": {
             "endlinecolor": "#2a3f5f",
             "gridcolor": "white",
             "linecolor": "white",
             "minorgridcolor": "white",
             "startlinecolor": "#2a3f5f"
            },
            "baxis": {
             "endlinecolor": "#2a3f5f",
             "gridcolor": "white",
             "linecolor": "white",
             "minorgridcolor": "white",
             "startlinecolor": "#2a3f5f"
            },
            "type": "carpet"
           }
          ],
          "choropleth": [
           {
            "colorbar": {
             "outlinewidth": 0,
             "ticks": ""
            },
            "type": "choropleth"
           }
          ],
          "contour": [
           {
            "colorbar": {
             "outlinewidth": 0,
             "ticks": ""
            },
            "colorscale": [
             [
              0,
              "#0d0887"
             ],
             [
              0.1111111111111111,
              "#46039f"
             ],
             [
              0.2222222222222222,
              "#7201a8"
             ],
             [
              0.3333333333333333,
              "#9c179e"
             ],
             [
              0.4444444444444444,
              "#bd3786"
             ],
             [
              0.5555555555555556,
              "#d8576b"
             ],
             [
              0.6666666666666666,
              "#ed7953"
             ],
             [
              0.7777777777777778,
              "#fb9f3a"
             ],
             [
              0.8888888888888888,
              "#fdca26"
             ],
             [
              1,
              "#f0f921"
             ]
            ],
            "type": "contour"
           }
          ],
          "contourcarpet": [
           {
            "colorbar": {
             "outlinewidth": 0,
             "ticks": ""
            },
            "type": "contourcarpet"
           }
          ],
          "heatmap": [
           {
            "colorbar": {
             "outlinewidth": 0,
             "ticks": ""
            },
            "colorscale": [
             [
              0,
              "#0d0887"
             ],
             [
              0.1111111111111111,
              "#46039f"
             ],
             [
              0.2222222222222222,
              "#7201a8"
             ],
             [
              0.3333333333333333,
              "#9c179e"
             ],
             [
              0.4444444444444444,
              "#bd3786"
             ],
             [
              0.5555555555555556,
              "#d8576b"
             ],
             [
              0.6666666666666666,
              "#ed7953"
             ],
             [
              0.7777777777777778,
              "#fb9f3a"
             ],
             [
              0.8888888888888888,
              "#fdca26"
             ],
             [
              1,
              "#f0f921"
             ]
            ],
            "type": "heatmap"
           }
          ],
          "heatmapgl": [
           {
            "colorbar": {
             "outlinewidth": 0,
             "ticks": ""
            },
            "colorscale": [
             [
              0,
              "#0d0887"
             ],
             [
              0.1111111111111111,
              "#46039f"
             ],
             [
              0.2222222222222222,
              "#7201a8"
             ],
             [
              0.3333333333333333,
              "#9c179e"
             ],
             [
              0.4444444444444444,
              "#bd3786"
             ],
             [
              0.5555555555555556,
              "#d8576b"
             ],
             [
              0.6666666666666666,
              "#ed7953"
             ],
             [
              0.7777777777777778,
              "#fb9f3a"
             ],
             [
              0.8888888888888888,
              "#fdca26"
             ],
             [
              1,
              "#f0f921"
             ]
            ],
            "type": "heatmapgl"
           }
          ],
          "histogram": [
           {
            "marker": {
             "pattern": {
              "fillmode": "overlay",
              "size": 10,
              "solidity": 0.2
             }
            },
            "type": "histogram"
           }
          ],
          "histogram2d": [
           {
            "colorbar": {
             "outlinewidth": 0,
             "ticks": ""
            },
            "colorscale": [
             [
              0,
              "#0d0887"
             ],
             [
              0.1111111111111111,
              "#46039f"
             ],
             [
              0.2222222222222222,
              "#7201a8"
             ],
             [
              0.3333333333333333,
              "#9c179e"
             ],
             [
              0.4444444444444444,
              "#bd3786"
             ],
             [
              0.5555555555555556,
              "#d8576b"
             ],
             [
              0.6666666666666666,
              "#ed7953"
             ],
             [
              0.7777777777777778,
              "#fb9f3a"
             ],
             [
              0.8888888888888888,
              "#fdca26"
             ],
             [
              1,
              "#f0f921"
             ]
            ],
            "type": "histogram2d"
           }
          ],
          "histogram2dcontour": [
           {
            "colorbar": {
             "outlinewidth": 0,
             "ticks": ""
            },
            "colorscale": [
             [
              0,
              "#0d0887"
             ],
             [
              0.1111111111111111,
              "#46039f"
             ],
             [
              0.2222222222222222,
              "#7201a8"
             ],
             [
              0.3333333333333333,
              "#9c179e"
             ],
             [
              0.4444444444444444,
              "#bd3786"
             ],
             [
              0.5555555555555556,
              "#d8576b"
             ],
             [
              0.6666666666666666,
              "#ed7953"
             ],
             [
              0.7777777777777778,
              "#fb9f3a"
             ],
             [
              0.8888888888888888,
              "#fdca26"
             ],
             [
              1,
              "#f0f921"
             ]
            ],
            "type": "histogram2dcontour"
           }
          ],
          "mesh3d": [
           {
            "colorbar": {
             "outlinewidth": 0,
             "ticks": ""
            },
            "type": "mesh3d"
           }
          ],
          "parcoords": [
           {
            "line": {
             "colorbar": {
              "outlinewidth": 0,
              "ticks": ""
             }
            },
            "type": "parcoords"
           }
          ],
          "pie": [
           {
            "automargin": true,
            "type": "pie"
           }
          ],
          "scatter": [
           {
            "fillpattern": {
             "fillmode": "overlay",
             "size": 10,
             "solidity": 0.2
            },
            "type": "scatter"
           }
          ],
          "scatter3d": [
           {
            "line": {
             "colorbar": {
              "outlinewidth": 0,
              "ticks": ""
             }
            },
            "marker": {
             "colorbar": {
              "outlinewidth": 0,
              "ticks": ""
             }
            },
            "type": "scatter3d"
           }
          ],
          "scattercarpet": [
           {
            "marker": {
             "colorbar": {
              "outlinewidth": 0,
              "ticks": ""
             }
            },
            "type": "scattercarpet"
           }
          ],
          "scattergeo": [
           {
            "marker": {
             "colorbar": {
              "outlinewidth": 0,
              "ticks": ""
             }
            },
            "type": "scattergeo"
           }
          ],
          "scattergl": [
           {
            "marker": {
             "colorbar": {
              "outlinewidth": 0,
              "ticks": ""
             }
            },
            "type": "scattergl"
           }
          ],
          "scattermapbox": [
           {
            "marker": {
             "colorbar": {
              "outlinewidth": 0,
              "ticks": ""
             }
            },
            "type": "scattermapbox"
           }
          ],
          "scatterpolar": [
           {
            "marker": {
             "colorbar": {
              "outlinewidth": 0,
              "ticks": ""
             }
            },
            "type": "scatterpolar"
           }
          ],
          "scatterpolargl": [
           {
            "marker": {
             "colorbar": {
              "outlinewidth": 0,
              "ticks": ""
             }
            },
            "type": "scatterpolargl"
           }
          ],
          "scatterternary": [
           {
            "marker": {
             "colorbar": {
              "outlinewidth": 0,
              "ticks": ""
             }
            },
            "type": "scatterternary"
           }
          ],
          "surface": [
           {
            "colorbar": {
             "outlinewidth": 0,
             "ticks": ""
            },
            "colorscale": [
             [
              0,
              "#0d0887"
             ],
             [
              0.1111111111111111,
              "#46039f"
             ],
             [
              0.2222222222222222,
              "#7201a8"
             ],
             [
              0.3333333333333333,
              "#9c179e"
             ],
             [
              0.4444444444444444,
              "#bd3786"
             ],
             [
              0.5555555555555556,
              "#d8576b"
             ],
             [
              0.6666666666666666,
              "#ed7953"
             ],
             [
              0.7777777777777778,
              "#fb9f3a"
             ],
             [
              0.8888888888888888,
              "#fdca26"
             ],
             [
              1,
              "#f0f921"
             ]
            ],
            "type": "surface"
           }
          ],
          "table": [
           {
            "cells": {
             "fill": {
              "color": "#EBF0F8"
             },
             "line": {
              "color": "white"
             }
            },
            "header": {
             "fill": {
              "color": "#C8D4E3"
             },
             "line": {
              "color": "white"
             }
            },
            "type": "table"
           }
          ]
         },
         "layout": {
          "annotationdefaults": {
           "arrowcolor": "#2a3f5f",
           "arrowhead": 0,
           "arrowwidth": 1
          },
          "autotypenumbers": "strict",
          "coloraxis": {
           "colorbar": {
            "outlinewidth": 0,
            "ticks": ""
           }
          },
          "colorscale": {
           "diverging": [
            [
             0,
             "#8e0152"
            ],
            [
             0.1,
             "#c51b7d"
            ],
            [
             0.2,
             "#de77ae"
            ],
            [
             0.3,
             "#f1b6da"
            ],
            [
             0.4,
             "#fde0ef"
            ],
            [
             0.5,
             "#f7f7f7"
            ],
            [
             0.6,
             "#e6f5d0"
            ],
            [
             0.7,
             "#b8e186"
            ],
            [
             0.8,
             "#7fbc41"
            ],
            [
             0.9,
             "#4d9221"
            ],
            [
             1,
             "#276419"
            ]
           ],
           "sequential": [
            [
             0,
             "#0d0887"
            ],
            [
             0.1111111111111111,
             "#46039f"
            ],
            [
             0.2222222222222222,
             "#7201a8"
            ],
            [
             0.3333333333333333,
             "#9c179e"
            ],
            [
             0.4444444444444444,
             "#bd3786"
            ],
            [
             0.5555555555555556,
             "#d8576b"
            ],
            [
             0.6666666666666666,
             "#ed7953"
            ],
            [
             0.7777777777777778,
             "#fb9f3a"
            ],
            [
             0.8888888888888888,
             "#fdca26"
            ],
            [
             1,
             "#f0f921"
            ]
           ],
           "sequentialminus": [
            [
             0,
             "#0d0887"
            ],
            [
             0.1111111111111111,
             "#46039f"
            ],
            [
             0.2222222222222222,
             "#7201a8"
            ],
            [
             0.3333333333333333,
             "#9c179e"
            ],
            [
             0.4444444444444444,
             "#bd3786"
            ],
            [
             0.5555555555555556,
             "#d8576b"
            ],
            [
             0.6666666666666666,
             "#ed7953"
            ],
            [
             0.7777777777777778,
             "#fb9f3a"
            ],
            [
             0.8888888888888888,
             "#fdca26"
            ],
            [
             1,
             "#f0f921"
            ]
           ]
          },
          "colorway": [
           "#636efa",
           "#EF553B",
           "#00cc96",
           "#ab63fa",
           "#FFA15A",
           "#19d3f3",
           "#FF6692",
           "#B6E880",
           "#FF97FF",
           "#FECB52"
          ],
          "font": {
           "color": "#2a3f5f"
          },
          "geo": {
           "bgcolor": "white",
           "lakecolor": "white",
           "landcolor": "#E5ECF6",
           "showlakes": true,
           "showland": true,
           "subunitcolor": "white"
          },
          "hoverlabel": {
           "align": "left"
          },
          "hovermode": "closest",
          "mapbox": {
           "style": "light"
          },
          "paper_bgcolor": "white",
          "plot_bgcolor": "#E5ECF6",
          "polar": {
           "angularaxis": {
            "gridcolor": "white",
            "linecolor": "white",
            "ticks": ""
           },
           "bgcolor": "#E5ECF6",
           "radialaxis": {
            "gridcolor": "white",
            "linecolor": "white",
            "ticks": ""
           }
          },
          "scene": {
           "xaxis": {
            "backgroundcolor": "#E5ECF6",
            "gridcolor": "white",
            "gridwidth": 2,
            "linecolor": "white",
            "showbackground": true,
            "ticks": "",
            "zerolinecolor": "white"
           },
           "yaxis": {
            "backgroundcolor": "#E5ECF6",
            "gridcolor": "white",
            "gridwidth": 2,
            "linecolor": "white",
            "showbackground": true,
            "ticks": "",
            "zerolinecolor": "white"
           },
           "zaxis": {
            "backgroundcolor": "#E5ECF6",
            "gridcolor": "white",
            "gridwidth": 2,
            "linecolor": "white",
            "showbackground": true,
            "ticks": "",
            "zerolinecolor": "white"
           }
          },
          "shapedefaults": {
           "line": {
            "color": "#2a3f5f"
           }
          },
          "ternary": {
           "aaxis": {
            "gridcolor": "white",
            "linecolor": "white",
            "ticks": ""
           },
           "baxis": {
            "gridcolor": "white",
            "linecolor": "white",
            "ticks": ""
           },
           "bgcolor": "#E5ECF6",
           "caxis": {
            "gridcolor": "white",
            "linecolor": "white",
            "ticks": ""
           }
          },
          "title": {
           "x": 0.05
          },
          "xaxis": {
           "automargin": true,
           "gridcolor": "white",
           "linecolor": "white",
           "ticks": "",
           "title": {
            "standoff": 15
           },
           "zerolinecolor": "white",
           "zerolinewidth": 2
          },
          "yaxis": {
           "automargin": true,
           "gridcolor": "white",
           "linecolor": "white",
           "ticks": "",
           "title": {
            "standoff": 15
           },
           "zerolinecolor": "white",
           "zerolinewidth": 2
          }
         }
        },
        "title": {
         "text": "Histogram of age.diag"
        },
        "xaxis": {
         "anchor": "y",
         "domain": [
          0,
          1
         ],
         "title": {
          "text": "age.diag"
         }
        },
        "yaxis": {
         "anchor": "x",
         "domain": [
          0,
          1
         ],
         "title": {
          "text": "count"
         }
        }
       }
      }
     },
     "metadata": {},
     "output_type": "display_data"
    }
   ],
   "source": [
    "# plot histogram of age.diag\n",
    "fig = px.histogram(df, x='age.diag', nbins=20, title='Histogram of age.diag')\n",
    "fig.show()"
   ]
  },
  {
   "cell_type": "markdown",
   "id": "8c7b2aaf",
   "metadata": {},
   "source": [
    "### age.menarc"
   ]
  },
  {
   "cell_type": "code",
   "execution_count": 491,
   "id": "d39ab221",
   "metadata": {},
   "outputs": [
    {
     "name": "stdout",
     "output_type": "stream",
     "text": [
      "Number of nan values in age.menarc column:  213\n",
      "Proportion of nan values in age.menarc column:  0.05669417088102209\n",
      "float64\n"
     ]
    }
   ],
   "source": [
    "col_name = 'age.menarc'\n",
    "print(f'Number of nan values in {col_name} column: ', df[col_name].isna().sum())\n",
    "print(f'Proportion of nan values in {col_name} column: ', df[col_name].isna().sum() / df.shape[0])\n",
    "print(df[col_name].dtype)"
   ]
  },
  {
   "cell_type": "code",
   "execution_count": 492,
   "id": "f80ba292",
   "metadata": {},
   "outputs": [
    {
     "data": {
      "text/plain": [
       "13.0    1069\n",
       "14.0     821\n",
       "12.0     574\n",
       "15.0     426\n",
       "16.0     224\n",
       "11.0     222\n",
       "17.0      62\n",
       "10.0      49\n",
       "0.0       43\n",
       "18.0      26\n",
       "9.0       19\n",
       "20.0       3\n",
       "1.0        2\n",
       "24.0       1\n",
       "29.0       1\n",
       "8.0        1\n",
       "46.0       1\n",
       "Name: age.menarc, dtype: int64"
      ]
     },
     "execution_count": 492,
     "metadata": {},
     "output_type": "execute_result"
    }
   ],
   "source": [
    "df[col_name].value_counts()"
   ]
  },
  {
   "cell_type": "code",
   "execution_count": 493,
   "id": "709e4ef8",
   "metadata": {},
   "outputs": [
    {
     "data": {
      "application/vnd.plotly.v1+json": {
       "config": {
        "plotlyServerURL": "https://plot.ly"
       },
       "data": [
        {
         "alignmentgroup": "True",
         "hovertemplate": "x=%{x}<br>y=%{y}<extra></extra>",
         "legendgroup": "",
         "marker": {
          "color": "#636efa",
          "pattern": {
           "shape": ""
          }
         },
         "name": "",
         "offsetgroup": "",
         "orientation": "v",
         "showlegend": false,
         "textposition": "auto",
         "type": "bar",
         "x": [
          "13.0",
          "14.0",
          "12.0",
          "15.0",
          "16.0",
          "11.0",
          "17.0",
          "10.0",
          "0.0",
          "18.0",
          "9.0",
          "20.0",
          "1.0",
          "24.0",
          "29.0",
          "8.0",
          "46.0",
          "nan"
         ],
         "xaxis": "x",
         "y": [
          1069,
          821,
          574,
          426,
          224,
          222,
          62,
          49,
          43,
          26,
          19,
          3,
          2,
          1,
          1,
          1,
          1,
          213
         ],
         "yaxis": "y"
        }
       ],
       "layout": {
        "barmode": "relative",
        "legend": {
         "tracegroupgap": 0
        },
        "margin": {
         "t": 60
        },
        "template": {
         "data": {
          "bar": [
           {
            "error_x": {
             "color": "#2a3f5f"
            },
            "error_y": {
             "color": "#2a3f5f"
            },
            "marker": {
             "line": {
              "color": "#E5ECF6",
              "width": 0.5
             },
             "pattern": {
              "fillmode": "overlay",
              "size": 10,
              "solidity": 0.2
             }
            },
            "type": "bar"
           }
          ],
          "barpolar": [
           {
            "marker": {
             "line": {
              "color": "#E5ECF6",
              "width": 0.5
             },
             "pattern": {
              "fillmode": "overlay",
              "size": 10,
              "solidity": 0.2
             }
            },
            "type": "barpolar"
           }
          ],
          "carpet": [
           {
            "aaxis": {
             "endlinecolor": "#2a3f5f",
             "gridcolor": "white",
             "linecolor": "white",
             "minorgridcolor": "white",
             "startlinecolor": "#2a3f5f"
            },
            "baxis": {
             "endlinecolor": "#2a3f5f",
             "gridcolor": "white",
             "linecolor": "white",
             "minorgridcolor": "white",
             "startlinecolor": "#2a3f5f"
            },
            "type": "carpet"
           }
          ],
          "choropleth": [
           {
            "colorbar": {
             "outlinewidth": 0,
             "ticks": ""
            },
            "type": "choropleth"
           }
          ],
          "contour": [
           {
            "colorbar": {
             "outlinewidth": 0,
             "ticks": ""
            },
            "colorscale": [
             [
              0,
              "#0d0887"
             ],
             [
              0.1111111111111111,
              "#46039f"
             ],
             [
              0.2222222222222222,
              "#7201a8"
             ],
             [
              0.3333333333333333,
              "#9c179e"
             ],
             [
              0.4444444444444444,
              "#bd3786"
             ],
             [
              0.5555555555555556,
              "#d8576b"
             ],
             [
              0.6666666666666666,
              "#ed7953"
             ],
             [
              0.7777777777777778,
              "#fb9f3a"
             ],
             [
              0.8888888888888888,
              "#fdca26"
             ],
             [
              1,
              "#f0f921"
             ]
            ],
            "type": "contour"
           }
          ],
          "contourcarpet": [
           {
            "colorbar": {
             "outlinewidth": 0,
             "ticks": ""
            },
            "type": "contourcarpet"
           }
          ],
          "heatmap": [
           {
            "colorbar": {
             "outlinewidth": 0,
             "ticks": ""
            },
            "colorscale": [
             [
              0,
              "#0d0887"
             ],
             [
              0.1111111111111111,
              "#46039f"
             ],
             [
              0.2222222222222222,
              "#7201a8"
             ],
             [
              0.3333333333333333,
              "#9c179e"
             ],
             [
              0.4444444444444444,
              "#bd3786"
             ],
             [
              0.5555555555555556,
              "#d8576b"
             ],
             [
              0.6666666666666666,
              "#ed7953"
             ],
             [
              0.7777777777777778,
              "#fb9f3a"
             ],
             [
              0.8888888888888888,
              "#fdca26"
             ],
             [
              1,
              "#f0f921"
             ]
            ],
            "type": "heatmap"
           }
          ],
          "heatmapgl": [
           {
            "colorbar": {
             "outlinewidth": 0,
             "ticks": ""
            },
            "colorscale": [
             [
              0,
              "#0d0887"
             ],
             [
              0.1111111111111111,
              "#46039f"
             ],
             [
              0.2222222222222222,
              "#7201a8"
             ],
             [
              0.3333333333333333,
              "#9c179e"
             ],
             [
              0.4444444444444444,
              "#bd3786"
             ],
             [
              0.5555555555555556,
              "#d8576b"
             ],
             [
              0.6666666666666666,
              "#ed7953"
             ],
             [
              0.7777777777777778,
              "#fb9f3a"
             ],
             [
              0.8888888888888888,
              "#fdca26"
             ],
             [
              1,
              "#f0f921"
             ]
            ],
            "type": "heatmapgl"
           }
          ],
          "histogram": [
           {
            "marker": {
             "pattern": {
              "fillmode": "overlay",
              "size": 10,
              "solidity": 0.2
             }
            },
            "type": "histogram"
           }
          ],
          "histogram2d": [
           {
            "colorbar": {
             "outlinewidth": 0,
             "ticks": ""
            },
            "colorscale": [
             [
              0,
              "#0d0887"
             ],
             [
              0.1111111111111111,
              "#46039f"
             ],
             [
              0.2222222222222222,
              "#7201a8"
             ],
             [
              0.3333333333333333,
              "#9c179e"
             ],
             [
              0.4444444444444444,
              "#bd3786"
             ],
             [
              0.5555555555555556,
              "#d8576b"
             ],
             [
              0.6666666666666666,
              "#ed7953"
             ],
             [
              0.7777777777777778,
              "#fb9f3a"
             ],
             [
              0.8888888888888888,
              "#fdca26"
             ],
             [
              1,
              "#f0f921"
             ]
            ],
            "type": "histogram2d"
           }
          ],
          "histogram2dcontour": [
           {
            "colorbar": {
             "outlinewidth": 0,
             "ticks": ""
            },
            "colorscale": [
             [
              0,
              "#0d0887"
             ],
             [
              0.1111111111111111,
              "#46039f"
             ],
             [
              0.2222222222222222,
              "#7201a8"
             ],
             [
              0.3333333333333333,
              "#9c179e"
             ],
             [
              0.4444444444444444,
              "#bd3786"
             ],
             [
              0.5555555555555556,
              "#d8576b"
             ],
             [
              0.6666666666666666,
              "#ed7953"
             ],
             [
              0.7777777777777778,
              "#fb9f3a"
             ],
             [
              0.8888888888888888,
              "#fdca26"
             ],
             [
              1,
              "#f0f921"
             ]
            ],
            "type": "histogram2dcontour"
           }
          ],
          "mesh3d": [
           {
            "colorbar": {
             "outlinewidth": 0,
             "ticks": ""
            },
            "type": "mesh3d"
           }
          ],
          "parcoords": [
           {
            "line": {
             "colorbar": {
              "outlinewidth": 0,
              "ticks": ""
             }
            },
            "type": "parcoords"
           }
          ],
          "pie": [
           {
            "automargin": true,
            "type": "pie"
           }
          ],
          "scatter": [
           {
            "fillpattern": {
             "fillmode": "overlay",
             "size": 10,
             "solidity": 0.2
            },
            "type": "scatter"
           }
          ],
          "scatter3d": [
           {
            "line": {
             "colorbar": {
              "outlinewidth": 0,
              "ticks": ""
             }
            },
            "marker": {
             "colorbar": {
              "outlinewidth": 0,
              "ticks": ""
             }
            },
            "type": "scatter3d"
           }
          ],
          "scattercarpet": [
           {
            "marker": {
             "colorbar": {
              "outlinewidth": 0,
              "ticks": ""
             }
            },
            "type": "scattercarpet"
           }
          ],
          "scattergeo": [
           {
            "marker": {
             "colorbar": {
              "outlinewidth": 0,
              "ticks": ""
             }
            },
            "type": "scattergeo"
           }
          ],
          "scattergl": [
           {
            "marker": {
             "colorbar": {
              "outlinewidth": 0,
              "ticks": ""
             }
            },
            "type": "scattergl"
           }
          ],
          "scattermapbox": [
           {
            "marker": {
             "colorbar": {
              "outlinewidth": 0,
              "ticks": ""
             }
            },
            "type": "scattermapbox"
           }
          ],
          "scatterpolar": [
           {
            "marker": {
             "colorbar": {
              "outlinewidth": 0,
              "ticks": ""
             }
            },
            "type": "scatterpolar"
           }
          ],
          "scatterpolargl": [
           {
            "marker": {
             "colorbar": {
              "outlinewidth": 0,
              "ticks": ""
             }
            },
            "type": "scatterpolargl"
           }
          ],
          "scatterternary": [
           {
            "marker": {
             "colorbar": {
              "outlinewidth": 0,
              "ticks": ""
             }
            },
            "type": "scatterternary"
           }
          ],
          "surface": [
           {
            "colorbar": {
             "outlinewidth": 0,
             "ticks": ""
            },
            "colorscale": [
             [
              0,
              "#0d0887"
             ],
             [
              0.1111111111111111,
              "#46039f"
             ],
             [
              0.2222222222222222,
              "#7201a8"
             ],
             [
              0.3333333333333333,
              "#9c179e"
             ],
             [
              0.4444444444444444,
              "#bd3786"
             ],
             [
              0.5555555555555556,
              "#d8576b"
             ],
             [
              0.6666666666666666,
              "#ed7953"
             ],
             [
              0.7777777777777778,
              "#fb9f3a"
             ],
             [
              0.8888888888888888,
              "#fdca26"
             ],
             [
              1,
              "#f0f921"
             ]
            ],
            "type": "surface"
           }
          ],
          "table": [
           {
            "cells": {
             "fill": {
              "color": "#EBF0F8"
             },
             "line": {
              "color": "white"
             }
            },
            "header": {
             "fill": {
              "color": "#C8D4E3"
             },
             "line": {
              "color": "white"
             }
            },
            "type": "table"
           }
          ]
         },
         "layout": {
          "annotationdefaults": {
           "arrowcolor": "#2a3f5f",
           "arrowhead": 0,
           "arrowwidth": 1
          },
          "autotypenumbers": "strict",
          "coloraxis": {
           "colorbar": {
            "outlinewidth": 0,
            "ticks": ""
           }
          },
          "colorscale": {
           "diverging": [
            [
             0,
             "#8e0152"
            ],
            [
             0.1,
             "#c51b7d"
            ],
            [
             0.2,
             "#de77ae"
            ],
            [
             0.3,
             "#f1b6da"
            ],
            [
             0.4,
             "#fde0ef"
            ],
            [
             0.5,
             "#f7f7f7"
            ],
            [
             0.6,
             "#e6f5d0"
            ],
            [
             0.7,
             "#b8e186"
            ],
            [
             0.8,
             "#7fbc41"
            ],
            [
             0.9,
             "#4d9221"
            ],
            [
             1,
             "#276419"
            ]
           ],
           "sequential": [
            [
             0,
             "#0d0887"
            ],
            [
             0.1111111111111111,
             "#46039f"
            ],
            [
             0.2222222222222222,
             "#7201a8"
            ],
            [
             0.3333333333333333,
             "#9c179e"
            ],
            [
             0.4444444444444444,
             "#bd3786"
            ],
            [
             0.5555555555555556,
             "#d8576b"
            ],
            [
             0.6666666666666666,
             "#ed7953"
            ],
            [
             0.7777777777777778,
             "#fb9f3a"
            ],
            [
             0.8888888888888888,
             "#fdca26"
            ],
            [
             1,
             "#f0f921"
            ]
           ],
           "sequentialminus": [
            [
             0,
             "#0d0887"
            ],
            [
             0.1111111111111111,
             "#46039f"
            ],
            [
             0.2222222222222222,
             "#7201a8"
            ],
            [
             0.3333333333333333,
             "#9c179e"
            ],
            [
             0.4444444444444444,
             "#bd3786"
            ],
            [
             0.5555555555555556,
             "#d8576b"
            ],
            [
             0.6666666666666666,
             "#ed7953"
            ],
            [
             0.7777777777777778,
             "#fb9f3a"
            ],
            [
             0.8888888888888888,
             "#fdca26"
            ],
            [
             1,
             "#f0f921"
            ]
           ]
          },
          "colorway": [
           "#636efa",
           "#EF553B",
           "#00cc96",
           "#ab63fa",
           "#FFA15A",
           "#19d3f3",
           "#FF6692",
           "#B6E880",
           "#FF97FF",
           "#FECB52"
          ],
          "font": {
           "color": "#2a3f5f"
          },
          "geo": {
           "bgcolor": "white",
           "lakecolor": "white",
           "landcolor": "#E5ECF6",
           "showlakes": true,
           "showland": true,
           "subunitcolor": "white"
          },
          "hoverlabel": {
           "align": "left"
          },
          "hovermode": "closest",
          "mapbox": {
           "style": "light"
          },
          "paper_bgcolor": "white",
          "plot_bgcolor": "#E5ECF6",
          "polar": {
           "angularaxis": {
            "gridcolor": "white",
            "linecolor": "white",
            "ticks": ""
           },
           "bgcolor": "#E5ECF6",
           "radialaxis": {
            "gridcolor": "white",
            "linecolor": "white",
            "ticks": ""
           }
          },
          "scene": {
           "xaxis": {
            "backgroundcolor": "#E5ECF6",
            "gridcolor": "white",
            "gridwidth": 2,
            "linecolor": "white",
            "showbackground": true,
            "ticks": "",
            "zerolinecolor": "white"
           },
           "yaxis": {
            "backgroundcolor": "#E5ECF6",
            "gridcolor": "white",
            "gridwidth": 2,
            "linecolor": "white",
            "showbackground": true,
            "ticks": "",
            "zerolinecolor": "white"
           },
           "zaxis": {
            "backgroundcolor": "#E5ECF6",
            "gridcolor": "white",
            "gridwidth": 2,
            "linecolor": "white",
            "showbackground": true,
            "ticks": "",
            "zerolinecolor": "white"
           }
          },
          "shapedefaults": {
           "line": {
            "color": "#2a3f5f"
           }
          },
          "ternary": {
           "aaxis": {
            "gridcolor": "white",
            "linecolor": "white",
            "ticks": ""
           },
           "baxis": {
            "gridcolor": "white",
            "linecolor": "white",
            "ticks": ""
           },
           "bgcolor": "#E5ECF6",
           "caxis": {
            "gridcolor": "white",
            "linecolor": "white",
            "ticks": ""
           }
          },
          "title": {
           "x": 0.05
          },
          "xaxis": {
           "automargin": true,
           "gridcolor": "white",
           "linecolor": "white",
           "ticks": "",
           "title": {
            "standoff": 15
           },
           "zerolinecolor": "white",
           "zerolinewidth": 2
          },
          "yaxis": {
           "automargin": true,
           "gridcolor": "white",
           "linecolor": "white",
           "ticks": "",
           "title": {
            "standoff": 15
           },
           "zerolinecolor": "white",
           "zerolinewidth": 2
          }
         }
        },
        "xaxis": {
         "anchor": "y",
         "domain": [
          0,
          1
         ],
         "title": {
          "text": "x"
         }
        },
        "yaxis": {
         "anchor": "x",
         "domain": [
          0,
          1
         ],
         "title": {
          "text": "y"
         }
        }
       }
      }
     },
     "metadata": {},
     "output_type": "display_data"
    }
   ],
   "source": [
    "# plot bar chart of Family column (x values, y counts)\n",
    "stats = df[col_name].value_counts().to_dict()\n",
    "stats = {str(k): v for k, v in stats.items()}\n",
    "stats['nan'] = df[col_name].isna().sum()\n",
    "fig = px.bar(x=list(stats.keys()), y=list(stats.values()))\n",
    "fig.show()"
   ]
  },
  {
   "cell_type": "code",
   "execution_count": 494,
   "id": "5b1d6777",
   "metadata": {},
   "outputs": [
    {
     "name": "stderr",
     "output_type": "stream",
     "text": [
      "/tmp/ipykernel_17120/943344055.py:4: SettingWithCopyWarning:\n",
      "\n",
      "\n",
      "A value is trying to be set on a copy of a slice from a DataFrame\n",
      "\n",
      "See the caveats in the documentation: https://pandas.pydata.org/pandas-docs/stable/user_guide/indexing.html#returning-a-view-versus-a-copy\n",
      "\n"
     ]
    }
   ],
   "source": [
    "df[col_name] = df[col_name].fillna(13)\n",
    "for i in range(df.shape[0]):\n",
    "    if df[col_name][i] > 24:\n",
    "        df[col_name][i] = 13"
   ]
  },
  {
   "cell_type": "code",
   "execution_count": 495,
   "id": "435f0f8e",
   "metadata": {},
   "outputs": [
    {
     "data": {
      "application/vnd.plotly.v1+json": {
       "config": {
        "plotlyServerURL": "https://plot.ly"
       },
       "data": [
        {
         "alignmentgroup": "True",
         "bingroup": "x",
         "hovertemplate": "age.menarc=%{x}<br>count=%{y}<extra></extra>",
         "legendgroup": "",
         "marker": {
          "color": "#636efa",
          "pattern": {
           "shape": ""
          }
         },
         "name": "",
         "nbinsx": 20,
         "offsetgroup": "",
         "orientation": "v",
         "showlegend": false,
         "type": "histogram",
         "x": [
          13,
          12,
          14,
          12,
          16,
          16,
          14,
          14,
          13,
          14,
          13,
          14,
          14,
          14,
          15,
          12,
          14,
          14,
          11,
          15,
          18,
          15,
          12,
          13,
          14,
          14,
          11,
          12,
          15,
          13,
          15,
          13,
          9,
          13,
          16,
          16,
          11,
          14,
          11,
          12,
          14,
          14,
          13,
          14,
          12,
          14,
          13,
          14,
          11,
          14,
          12,
          14,
          15,
          15,
          13,
          11,
          14,
          13,
          14,
          13,
          13,
          13,
          16,
          14,
          14,
          16,
          13,
          12,
          20,
          13,
          13,
          15,
          13,
          10,
          14,
          13,
          13,
          13,
          13,
          12,
          13,
          14,
          10,
          17,
          14,
          14,
          13,
          13,
          12,
          13,
          13,
          16,
          15,
          13,
          17,
          12,
          13,
          14,
          11,
          12,
          15,
          16,
          17,
          11,
          12,
          11,
          15,
          16,
          14,
          14,
          16,
          15,
          13,
          13,
          13,
          12,
          14,
          13,
          15,
          11,
          12,
          14,
          13,
          12,
          13,
          14,
          13,
          14,
          12,
          15,
          13,
          12,
          14,
          16,
          12,
          12,
          13,
          12,
          13,
          13,
          14,
          13,
          13,
          12,
          13,
          13,
          13,
          13,
          15,
          13,
          13,
          15,
          12,
          14,
          12,
          15,
          16,
          14,
          14,
          13,
          9,
          13,
          14,
          17,
          13,
          13,
          13,
          11,
          13,
          12,
          15,
          13,
          17,
          15,
          15,
          13,
          11,
          15,
          14,
          12,
          15,
          14,
          13,
          13,
          14,
          15,
          14,
          13,
          13,
          13,
          15,
          13,
          12,
          15,
          13,
          14,
          14,
          14,
          15,
          11,
          13,
          12,
          12,
          15,
          13,
          14,
          13,
          14,
          14,
          15,
          14,
          15,
          13,
          13,
          13,
          14,
          14,
          13,
          17,
          16,
          12,
          14,
          13,
          15,
          13,
          14,
          12,
          12,
          15,
          12,
          16,
          16,
          13,
          13,
          12,
          13,
          13,
          12,
          13,
          14,
          14,
          13,
          15,
          15,
          13,
          14,
          13,
          14,
          13,
          14,
          13,
          14,
          14,
          16,
          13,
          13,
          16,
          13,
          13,
          13,
          11,
          11,
          12,
          17,
          13,
          15,
          13,
          12,
          12,
          13,
          12,
          14,
          13,
          13,
          15,
          14,
          15,
          15,
          14,
          13,
          18,
          13,
          14,
          15,
          14,
          13,
          12,
          15,
          16,
          15,
          14,
          13,
          14,
          13,
          12,
          14,
          12,
          15,
          13,
          14,
          14,
          13,
          13,
          13,
          14,
          13,
          13,
          12,
          14,
          13,
          12,
          12,
          13,
          14,
          13,
          13,
          15,
          15,
          16,
          15,
          17,
          12,
          14,
          13,
          13,
          15,
          16,
          11,
          15,
          14,
          13,
          14,
          13,
          15,
          15,
          13,
          11,
          12,
          14,
          17,
          15,
          11,
          12,
          15,
          13,
          14,
          14,
          13,
          13,
          16,
          14,
          16,
          15,
          13,
          13,
          11,
          15,
          13,
          14,
          12,
          12,
          14,
          12,
          13,
          13,
          13,
          13,
          13,
          13,
          13,
          14,
          12,
          12,
          11,
          15,
          13,
          14,
          13,
          18,
          13,
          13,
          13,
          15,
          13,
          12,
          12,
          13,
          13,
          14,
          13,
          17,
          13,
          13,
          12,
          13,
          13,
          16,
          14,
          13,
          12,
          16,
          16,
          15,
          12,
          11,
          13,
          15,
          14,
          14,
          13,
          14,
          16,
          13,
          13,
          15,
          13,
          13,
          14,
          14,
          12,
          12,
          13,
          13,
          15,
          14,
          11,
          16,
          15,
          15,
          13,
          13,
          13,
          14,
          14,
          13,
          14,
          13,
          15,
          11,
          14,
          16,
          8,
          13,
          13,
          12,
          14,
          13,
          13,
          12,
          15,
          15,
          13,
          13,
          14,
          14,
          13,
          12,
          16,
          14,
          13,
          12,
          15,
          13,
          12,
          12,
          14,
          12,
          14,
          13,
          15,
          14,
          12,
          14,
          14,
          14,
          13,
          11,
          13,
          15,
          13,
          13,
          14,
          13,
          13,
          15,
          13,
          11,
          13,
          13,
          14,
          16,
          13,
          13,
          13,
          13,
          14,
          14,
          15,
          10,
          14,
          15,
          14,
          12,
          15,
          16,
          14,
          14,
          14,
          12,
          9,
          11,
          13,
          15,
          12,
          16,
          15,
          16,
          13,
          13,
          13,
          16,
          14,
          18,
          13,
          12,
          13,
          14,
          13,
          12,
          14,
          14,
          14,
          15,
          11,
          13,
          13,
          12,
          13,
          14,
          12,
          14,
          13,
          13,
          14,
          14,
          11,
          14,
          13,
          15,
          13,
          13,
          15,
          15,
          17,
          14,
          13,
          14,
          14,
          13,
          13,
          13,
          14,
          14,
          13,
          14,
          13,
          16,
          14,
          15,
          13,
          16,
          13,
          13,
          15,
          12,
          15,
          14,
          15,
          12,
          14,
          13,
          10,
          13,
          13,
          13,
          12,
          15,
          15,
          12,
          14,
          12,
          12,
          14,
          13,
          12,
          13,
          16,
          13,
          13,
          13,
          12,
          13,
          13,
          12,
          13,
          13,
          11,
          13,
          13,
          13,
          12,
          14,
          13,
          13,
          17,
          12,
          12,
          14,
          12,
          14,
          12,
          13,
          12,
          13,
          16,
          14,
          16,
          13,
          13,
          14,
          11,
          16,
          13,
          14,
          14,
          13,
          13,
          13,
          17,
          14,
          15,
          12,
          15,
          15,
          13,
          14,
          12,
          13,
          15,
          13,
          13,
          13,
          14,
          12,
          14,
          13,
          15,
          13,
          11,
          16,
          13,
          16,
          13,
          14,
          13,
          13,
          15,
          12,
          14,
          13,
          11,
          13,
          14,
          13,
          13,
          13,
          12,
          14,
          12,
          10,
          16,
          11,
          12,
          14,
          14,
          14,
          13,
          12,
          13,
          14,
          16,
          16,
          14,
          13,
          13,
          16,
          13,
          12,
          14,
          13,
          14,
          13,
          14,
          10,
          16,
          10,
          12,
          15,
          17,
          13,
          12,
          12,
          14,
          13,
          12,
          10,
          14,
          13,
          13,
          12,
          13,
          14,
          12,
          13,
          13,
          14,
          16,
          13,
          11,
          13,
          13,
          14,
          12,
          12,
          11,
          14,
          14,
          15,
          12,
          14,
          14,
          13,
          14,
          13,
          16,
          12,
          15,
          12,
          13,
          11,
          13,
          14,
          15,
          12,
          16,
          15,
          13,
          10,
          15,
          13,
          15,
          16,
          17,
          13,
          13,
          15,
          14,
          12,
          15,
          14,
          12,
          15,
          18,
          12,
          11,
          12,
          13,
          13,
          18,
          13,
          12,
          15,
          14,
          13,
          16,
          12,
          16,
          15,
          11,
          13,
          13,
          14,
          16,
          13,
          16,
          12,
          13,
          12,
          15,
          13,
          11,
          13,
          14,
          13,
          13,
          12,
          14,
          11,
          14,
          14,
          14,
          13,
          11,
          13,
          15,
          13,
          13,
          13,
          14,
          14,
          13,
          12,
          15,
          13,
          14,
          13,
          12,
          14,
          13,
          13,
          15,
          13,
          12,
          15,
          12,
          16,
          13,
          14,
          15,
          12,
          13,
          12,
          13,
          14,
          18,
          15,
          10,
          13,
          14,
          13,
          14,
          13,
          13,
          14,
          14,
          13,
          14,
          12,
          14,
          14,
          12,
          13,
          15,
          14,
          14,
          13,
          16,
          14,
          11,
          16,
          14,
          15,
          16,
          13,
          13,
          13,
          13,
          13,
          14,
          11,
          15,
          14,
          14,
          13,
          12,
          12,
          14,
          15,
          13,
          11,
          12,
          13,
          11,
          15,
          12,
          10,
          12,
          17,
          13,
          13,
          13,
          13,
          14,
          16,
          16,
          13,
          13,
          13,
          12,
          11,
          13,
          12,
          12,
          11,
          13,
          16,
          16,
          14,
          11,
          15,
          13,
          15,
          12,
          11,
          14,
          15,
          14,
          11,
          15,
          12,
          13,
          13,
          15,
          12,
          13,
          12,
          14,
          15,
          14,
          16,
          13,
          12,
          14,
          12,
          12,
          15,
          13,
          15,
          17,
          12,
          13,
          14,
          13,
          17,
          14,
          12,
          13,
          13,
          14,
          12,
          13,
          13,
          13,
          14,
          14,
          13,
          17,
          15,
          13,
          13,
          13,
          12,
          13,
          12,
          12,
          13,
          11,
          14,
          13,
          13,
          13,
          13,
          16,
          13,
          12,
          13,
          14,
          14,
          12,
          17,
          13,
          16,
          13,
          16,
          13,
          15,
          13,
          13,
          13,
          13,
          11,
          15,
          13,
          12,
          14,
          14,
          13,
          13,
          12,
          16,
          12,
          13,
          15,
          14,
          13,
          15,
          13,
          14,
          13,
          11,
          13,
          13,
          15,
          13,
          13,
          13,
          13,
          12,
          16,
          12,
          15,
          10,
          13,
          13,
          11,
          13,
          11,
          13,
          16,
          13,
          14,
          12,
          12,
          10,
          13,
          12,
          14,
          14,
          14,
          16,
          13,
          11,
          13,
          13,
          14,
          15,
          14,
          13,
          13,
          12,
          13,
          14,
          14,
          13,
          13,
          13,
          15,
          14,
          13,
          14,
          12,
          13,
          14,
          14,
          14,
          13,
          16,
          13,
          13,
          12,
          15,
          15,
          12,
          13,
          13,
          13,
          13,
          11,
          14,
          13,
          15,
          13,
          14,
          15,
          15,
          15,
          13,
          14,
          15,
          15,
          12,
          13,
          11,
          16,
          15,
          14,
          12,
          13,
          13,
          12,
          13,
          16,
          16,
          18,
          14,
          13,
          13,
          12,
          13,
          13,
          13,
          14,
          9,
          17,
          12,
          16,
          14,
          16,
          13,
          13,
          13,
          12,
          14,
          16,
          12,
          13,
          12,
          12,
          13,
          11,
          15,
          14,
          12,
          15,
          14,
          14,
          15,
          14,
          12,
          12,
          12,
          14,
          13,
          12,
          13,
          13,
          13,
          13,
          12,
          13,
          13,
          14,
          13,
          11,
          14,
          12,
          15,
          14,
          14,
          14,
          14,
          13,
          11,
          17,
          13,
          13,
          15,
          13,
          15,
          16,
          13,
          12,
          15,
          15,
          12,
          14,
          14,
          14,
          13,
          14,
          15,
          11,
          15,
          13,
          13,
          13,
          14,
          13,
          13,
          13,
          13,
          15,
          14,
          14,
          13,
          14,
          12,
          17,
          12,
          17,
          18,
          14,
          13,
          14,
          12,
          14,
          14,
          13,
          14,
          16,
          13,
          13,
          13,
          15,
          15,
          13,
          15,
          12,
          13,
          13,
          13,
          14,
          18,
          14,
          13,
          15,
          14,
          14,
          14,
          12,
          14,
          13,
          14,
          14,
          13,
          13,
          13,
          15,
          13,
          12,
          13,
          12,
          12,
          12,
          12,
          13,
          13,
          13,
          14,
          14,
          13,
          13,
          12,
          10,
          14,
          13,
          13,
          17,
          13,
          12,
          15,
          14,
          9,
          13,
          13,
          11,
          13,
          14,
          15,
          14,
          13,
          14,
          13,
          13,
          11,
          14,
          13,
          13,
          12,
          16,
          15,
          13,
          13,
          13,
          13,
          13,
          12,
          17,
          15,
          13,
          13,
          17,
          15,
          16,
          11,
          12,
          13,
          12,
          14,
          13,
          14,
          11,
          15,
          13,
          12,
          10,
          12,
          13,
          13,
          14,
          14,
          15,
          12,
          13,
          14,
          12,
          13,
          15,
          12,
          16,
          11,
          13,
          14,
          14,
          12,
          15,
          12,
          14,
          13,
          10,
          12,
          13,
          12,
          17,
          14,
          14,
          13,
          13,
          14,
          13,
          15,
          11,
          14,
          13,
          12,
          14,
          14,
          14,
          14,
          14,
          12,
          14,
          13,
          12,
          13,
          14,
          16,
          14,
          14,
          15,
          11,
          16,
          12,
          13,
          13,
          12,
          13,
          14,
          13,
          15,
          14,
          13,
          13,
          14,
          13,
          11,
          14,
          14,
          14,
          16,
          15,
          14,
          12,
          14,
          13,
          12,
          15,
          14,
          13,
          14,
          14,
          13,
          13,
          13,
          13,
          11,
          14,
          13,
          16,
          14,
          11,
          13,
          12,
          15,
          15,
          14,
          13,
          12,
          13,
          17,
          16,
          20,
          14,
          13,
          13,
          13,
          14,
          15,
          11,
          13,
          12,
          13,
          13,
          12,
          13,
          12,
          14,
          13,
          12,
          12,
          12,
          15,
          14,
          15,
          11,
          17,
          15,
          12,
          13,
          15,
          13,
          15,
          14,
          13,
          15,
          14,
          12,
          12,
          14,
          13,
          13,
          14,
          13,
          11,
          15,
          15,
          16,
          14,
          14,
          13,
          11,
          14,
          13,
          13,
          13,
          11,
          12,
          13,
          13,
          13,
          13,
          16,
          13,
          13,
          15,
          13,
          12,
          13,
          14,
          14,
          12,
          10,
          17,
          13,
          13,
          12,
          11,
          12,
          14,
          13,
          13,
          14,
          15,
          12,
          14,
          12,
          14,
          17,
          13,
          12,
          11,
          13,
          12,
          13,
          13,
          12,
          14,
          13,
          15,
          12,
          14,
          13,
          12,
          13,
          13,
          13,
          15,
          13,
          12,
          12,
          10,
          16,
          13,
          12,
          13,
          14,
          13,
          15,
          15,
          13,
          12,
          14,
          12,
          15,
          14,
          13,
          12,
          17,
          13,
          13,
          14,
          14,
          14,
          14,
          15,
          13,
          13,
          12,
          15,
          14,
          15,
          13,
          13,
          16,
          13,
          13,
          9,
          11,
          15,
          15,
          14,
          13,
          13,
          15,
          12,
          13,
          14,
          13,
          14,
          13,
          13,
          13,
          14,
          15,
          13,
          12,
          12,
          12,
          14,
          13,
          11,
          11,
          14,
          12,
          12,
          13,
          13,
          14,
          12,
          14,
          12,
          13,
          14,
          11,
          12,
          12,
          13,
          16,
          13,
          14,
          13,
          14,
          14,
          12,
          14,
          14,
          13,
          13,
          12,
          13,
          14,
          12,
          15,
          14,
          13,
          13,
          12,
          12,
          13,
          12,
          15,
          13,
          15,
          11,
          16,
          11,
          12,
          13,
          15,
          13,
          17,
          15,
          12,
          13,
          13,
          12,
          13,
          13,
          14,
          13,
          14,
          12,
          12,
          15,
          14,
          13,
          16,
          13,
          15,
          14,
          10,
          13,
          12,
          17,
          12,
          12,
          12,
          13,
          14,
          14,
          15,
          13,
          15,
          14,
          13,
          13,
          14,
          14,
          14,
          13,
          14,
          18,
          12,
          13,
          14,
          15,
          12,
          12,
          16,
          14,
          12,
          14,
          14,
          14,
          15,
          15,
          12,
          13,
          14,
          13,
          9,
          18,
          12,
          13,
          13,
          16,
          13,
          15,
          15,
          14,
          17,
          12,
          13,
          13,
          16,
          12,
          14,
          13,
          14,
          16,
          14,
          12,
          11,
          13,
          13,
          14,
          13,
          11,
          11,
          13,
          13,
          13,
          15,
          13,
          13,
          12,
          13,
          9,
          15,
          13,
          13,
          13,
          16,
          14,
          11,
          15,
          11,
          13,
          13,
          14,
          13,
          16,
          16,
          12,
          13,
          14,
          16,
          13,
          13,
          13,
          12,
          14,
          13,
          14,
          16,
          14,
          13,
          14,
          12,
          12,
          12,
          12,
          14,
          11,
          12,
          13,
          14,
          14,
          10,
          12,
          11,
          15,
          13,
          14,
          14,
          16,
          13,
          12,
          12,
          12,
          13,
          14,
          15,
          12,
          13,
          12,
          13,
          15,
          13,
          13,
          14,
          16,
          12,
          15,
          14,
          12,
          14,
          12,
          12,
          14,
          13,
          14,
          14,
          14,
          13,
          13,
          15,
          13,
          12,
          14,
          12,
          16,
          13,
          14,
          13,
          16,
          12,
          17,
          12,
          12,
          15,
          11,
          12,
          13,
          14,
          13,
          14,
          13,
          14,
          13,
          11,
          12,
          9,
          13,
          15,
          13,
          13,
          13,
          14,
          13,
          13,
          13,
          14,
          13,
          14,
          16,
          12,
          13,
          12,
          13,
          17,
          16,
          12,
          13,
          11,
          14,
          17,
          13,
          15,
          14,
          12,
          12,
          13,
          14,
          14,
          13,
          14,
          14,
          14,
          16,
          14,
          13,
          15,
          12,
          13,
          13,
          13,
          12,
          12,
          14,
          13,
          14,
          14,
          15,
          14,
          11,
          13,
          12,
          13,
          13,
          15,
          15,
          14,
          13,
          11,
          13,
          11,
          14,
          15,
          11,
          13,
          10,
          12,
          11,
          11,
          16,
          12,
          13,
          15,
          14,
          13,
          13,
          13,
          13,
          13,
          13,
          11,
          12,
          14,
          13,
          15,
          13,
          14,
          11,
          14,
          16,
          12,
          15,
          13,
          15,
          13,
          12,
          13,
          12,
          14,
          12,
          15,
          14,
          13,
          12,
          12,
          15,
          15,
          16,
          14,
          13,
          13,
          13,
          12,
          14,
          13,
          13,
          13,
          12,
          13,
          13,
          14,
          12,
          13,
          15,
          13,
          14,
          14,
          14,
          14,
          15,
          12,
          14,
          15,
          11,
          12,
          13,
          12,
          16,
          16,
          13,
          14,
          15,
          14,
          14,
          12,
          14,
          14,
          14,
          15,
          13,
          14,
          11,
          13,
          13,
          12,
          14,
          11,
          13,
          14,
          12,
          13,
          14,
          12,
          13,
          13,
          14,
          14,
          12,
          14,
          13,
          14,
          13,
          13,
          15,
          16,
          11,
          16,
          12,
          13,
          14,
          11,
          24,
          12,
          12,
          14,
          13,
          12,
          14,
          15,
          14,
          14,
          13,
          15,
          13,
          14,
          10,
          12,
          15,
          12,
          14,
          12,
          12,
          15,
          11,
          15,
          12,
          13,
          13,
          11,
          14,
          12,
          15,
          13,
          14,
          13,
          14,
          14,
          15,
          11,
          13,
          11,
          13,
          14,
          13,
          12,
          12,
          14,
          18,
          13,
          14,
          13,
          13,
          17,
          14,
          15,
          14,
          12,
          11,
          11,
          17,
          15,
          13,
          15,
          16,
          13,
          12,
          14,
          16,
          14,
          15,
          13,
          13,
          15,
          11,
          13,
          13,
          16,
          13,
          14,
          13,
          11,
          10,
          13,
          13,
          18,
          13,
          14,
          15,
          12,
          12,
          14,
          16,
          18,
          14,
          15,
          14,
          14,
          16,
          15,
          13,
          12,
          18,
          14,
          16,
          15,
          13,
          15,
          12,
          13,
          11,
          14,
          14,
          15,
          13,
          13,
          15,
          13,
          15,
          14,
          12,
          13,
          13,
          17,
          15,
          16,
          15,
          14,
          12,
          14,
          14,
          15,
          13,
          12,
          14,
          14,
          14,
          14,
          12,
          17,
          13,
          13,
          13,
          11,
          14,
          12,
          11,
          13,
          13,
          15,
          14,
          13,
          13,
          13,
          13,
          14,
          16,
          14,
          11,
          14,
          13,
          12,
          13,
          12,
          11,
          14,
          15,
          16,
          16,
          14,
          11,
          13,
          14,
          17,
          15,
          13,
          15,
          14,
          12,
          15,
          13,
          13,
          15,
          13,
          16,
          14,
          13,
          13,
          13,
          14,
          13,
          11,
          13,
          13,
          16,
          13,
          13,
          13,
          15,
          13,
          14,
          14,
          13,
          13,
          14,
          13,
          14,
          13,
          13,
          16,
          11,
          13,
          18,
          13,
          13,
          15,
          16,
          12,
          13,
          11,
          13,
          13,
          13,
          14,
          12,
          14,
          14,
          12,
          18,
          11,
          14,
          13,
          13,
          12,
          14,
          13,
          12,
          15,
          11,
          15,
          14,
          14,
          15,
          15,
          14,
          15,
          15,
          15,
          11,
          12,
          12,
          14,
          11,
          12,
          13,
          12,
          14,
          15,
          14,
          14,
          14,
          11,
          11,
          14,
          16,
          15,
          15,
          17,
          17,
          14,
          12,
          14,
          13,
          13,
          14,
          13,
          14,
          12,
          14,
          12,
          14,
          14,
          15,
          14,
          12,
          12,
          11,
          12,
          13,
          13,
          13,
          11,
          15,
          12,
          14,
          11,
          14,
          13,
          16,
          13,
          14,
          11,
          14,
          12,
          12,
          14,
          16,
          12,
          15,
          14,
          12,
          17,
          13,
          13,
          13,
          11,
          13,
          13,
          14,
          16,
          16,
          16,
          13,
          13,
          15,
          13,
          13,
          11,
          15,
          12,
          14,
          14,
          13,
          13,
          15,
          11,
          11,
          13,
          13,
          20,
          15,
          18,
          16,
          11,
          14,
          13,
          14,
          15,
          15,
          13,
          13,
          13,
          14,
          14,
          13,
          16,
          14,
          12,
          14,
          11,
          11,
          15,
          14,
          16,
          12,
          13,
          13,
          14,
          11,
          14,
          14,
          13,
          14,
          11,
          14,
          16,
          14,
          11,
          13,
          14,
          12,
          13,
          17,
          13,
          13,
          14,
          14,
          12,
          12,
          12,
          11,
          13,
          11,
          11,
          16,
          14,
          13,
          13,
          13,
          12,
          16,
          13,
          9,
          16,
          12,
          14,
          12,
          14,
          13,
          14,
          15,
          15,
          15,
          13,
          13,
          14,
          13,
          13,
          13,
          11,
          14,
          15,
          14,
          13,
          15,
          15,
          12,
          14,
          14,
          13,
          12,
          12,
          15,
          13,
          13,
          10,
          13,
          14,
          13,
          13,
          13,
          12,
          16,
          16,
          13,
          14,
          14,
          15,
          18,
          13,
          14,
          16,
          14,
          13,
          13,
          15,
          12,
          10,
          12,
          12,
          15,
          12,
          15,
          11,
          11,
          13,
          12,
          10,
          15,
          14,
          13,
          13,
          11,
          14,
          15,
          13,
          9,
          13,
          13,
          13,
          16,
          14,
          12,
          15,
          14,
          14,
          10,
          12,
          13,
          14,
          14,
          14,
          18,
          14,
          13,
          13,
          12,
          12,
          13,
          12,
          12,
          12,
          14,
          13,
          13,
          15,
          13,
          13,
          13,
          14,
          12,
          13,
          15,
          14,
          15,
          13,
          13,
          15,
          12,
          13,
          11,
          13,
          13,
          12,
          13,
          13,
          13,
          13,
          15,
          13,
          14,
          12,
          14,
          13,
          13,
          14,
          13,
          13,
          15,
          13,
          16,
          15,
          13,
          14,
          15,
          13,
          13,
          13,
          12,
          14,
          13,
          17,
          12,
          12,
          12,
          13,
          11,
          12,
          15,
          13,
          16,
          13,
          15,
          14,
          14,
          13,
          14,
          12,
          15,
          13,
          13,
          13,
          14,
          12,
          13,
          13,
          13,
          14,
          12,
          14,
          12,
          16,
          14,
          13,
          13,
          13,
          13,
          13,
          14,
          14,
          12,
          16,
          13,
          12,
          15,
          12,
          12,
          10,
          13,
          14,
          14,
          16,
          14,
          13,
          15,
          13,
          13,
          14,
          16,
          12,
          15,
          12,
          13,
          13,
          12,
          9,
          12,
          12,
          14,
          13,
          16,
          13,
          15,
          13,
          13,
          16,
          12,
          11,
          11,
          13,
          16,
          12,
          13,
          14,
          14,
          13,
          15,
          16,
          16,
          14,
          12,
          12,
          9,
          12,
          13,
          13,
          10,
          11,
          12,
          14,
          12,
          12,
          13,
          13,
          13,
          15,
          14,
          14,
          12,
          15,
          13,
          14,
          14,
          13,
          13,
          15,
          13,
          13,
          13,
          13,
          13,
          13,
          14,
          13,
          13,
          13,
          12,
          14,
          13,
          13,
          12,
          16,
          13,
          13,
          15,
          13,
          14,
          13,
          13,
          12,
          14,
          14,
          13,
          13,
          13,
          13,
          13,
          16,
          13,
          13,
          14,
          13,
          13,
          13,
          13,
          14,
          14,
          12,
          15,
          13,
          13,
          13,
          13,
          12,
          11,
          12,
          13,
          14,
          13,
          14,
          14,
          16,
          14,
          15,
          12,
          13,
          11,
          14,
          14,
          12,
          13,
          13,
          13,
          13,
          13,
          14,
          13,
          13,
          14,
          13,
          13,
          17,
          13,
          14,
          13,
          16,
          17,
          13,
          13,
          13,
          12,
          16,
          15,
          12,
          13,
          12,
          13,
          14,
          13,
          11,
          14,
          13,
          13,
          14,
          12,
          16,
          13,
          13,
          13,
          14,
          13,
          11,
          13,
          14,
          11,
          12,
          12,
          14,
          13,
          13,
          14,
          16,
          12,
          13,
          13,
          13,
          16,
          14,
          14,
          16,
          11,
          13,
          12,
          11,
          13,
          13,
          13,
          13,
          14,
          13,
          13,
          13,
          10,
          14,
          13,
          14,
          13,
          14,
          10,
          15,
          13,
          14,
          12,
          13,
          13,
          12,
          13,
          13,
          13,
          14,
          11,
          13,
          13,
          13,
          13,
          14,
          13,
          12,
          16,
          11,
          13,
          15,
          13,
          12,
          13,
          14,
          14,
          14,
          12,
          13,
          15,
          13,
          13,
          11,
          16,
          13,
          12,
          14,
          12,
          12,
          13,
          15,
          13,
          13,
          14,
          13,
          13,
          13,
          12,
          15,
          14,
          16,
          13,
          15,
          12,
          13,
          13,
          11,
          13,
          14,
          13,
          16,
          11,
          13,
          14,
          13,
          14,
          13,
          13,
          13,
          13,
          13,
          14,
          14,
          10,
          13,
          13,
          16,
          13,
          14,
          14,
          13,
          14,
          11,
          13,
          14,
          13,
          15,
          14,
          13,
          11,
          13,
          13,
          13,
          12,
          11,
          12,
          15,
          16,
          11,
          12,
          13,
          14,
          16,
          13,
          15,
          12,
          13,
          13,
          12,
          14,
          14,
          14,
          14,
          13,
          12,
          15,
          15,
          16,
          13,
          15,
          13,
          14,
          13,
          12,
          15,
          12,
          13,
          13,
          14,
          13,
          15,
          12,
          10,
          13,
          14,
          15,
          12,
          13,
          12,
          13,
          13,
          14,
          14,
          13,
          14,
          15,
          13,
          13,
          11,
          15,
          13,
          13,
          13,
          15,
          10,
          16,
          14,
          13,
          13,
          13,
          12,
          12,
          11,
          14,
          13,
          13,
          12,
          14,
          13,
          11,
          15,
          14,
          13,
          10,
          13,
          13,
          15,
          12,
          15,
          15,
          13,
          13,
          13,
          14,
          17,
          13,
          14,
          14,
          15,
          14,
          15,
          15,
          14,
          14,
          13,
          13,
          10,
          13,
          14,
          12,
          13,
          13,
          15,
          12,
          13,
          12,
          14,
          13,
          15,
          13,
          17,
          15,
          13,
          14,
          14,
          13,
          9,
          13,
          16,
          15,
          13,
          13,
          11,
          13,
          13,
          12,
          13,
          14,
          13,
          15,
          10,
          12,
          12,
          10,
          14,
          13,
          14,
          14,
          13,
          13,
          14,
          12,
          16,
          13,
          14,
          14,
          10,
          14,
          13,
          13,
          16,
          16,
          12,
          17,
          13,
          14,
          12,
          11,
          12,
          13,
          12,
          16,
          16,
          13,
          15,
          13,
          12,
          13,
          14,
          15,
          14,
          13,
          13,
          13,
          13,
          14,
          11,
          13,
          13,
          13,
          16,
          13,
          14,
          11,
          11,
          9,
          13,
          11,
          13,
          12,
          14,
          15,
          13,
          10,
          14,
          14,
          12,
          15,
          13,
          12,
          15,
          14,
          14,
          15,
          12,
          17,
          13,
          15,
          13,
          14,
          15,
          13,
          16,
          14,
          14,
          11,
          12,
          12,
          11,
          14,
          13,
          12,
          11,
          13,
          11,
          13,
          10,
          14,
          10,
          14,
          12,
          12,
          12,
          12,
          14,
          13,
          16,
          15,
          16,
          13,
          13,
          15,
          13,
          13,
          14,
          14,
          14,
          13,
          13,
          13,
          13,
          13,
          15,
          13,
          13,
          14,
          13,
          15,
          13,
          12,
          12,
          17,
          13,
          13,
          15,
          13,
          14,
          13,
          13,
          11,
          14,
          13,
          16,
          14,
          13,
          13,
          13,
          14,
          13,
          13,
          13,
          14,
          11,
          16,
          17,
          15,
          13,
          13,
          16,
          15,
          13,
          15,
          11,
          14,
          15,
          12,
          14,
          13,
          14,
          12,
          13,
          15,
          13,
          13,
          12,
          13,
          13,
          14,
          11,
          13,
          16,
          13,
          14,
          13,
          16,
          12,
          14,
          14,
          13,
          13,
          14,
          13,
          15,
          16,
          14,
          10,
          14,
          15,
          12,
          14,
          13,
          13,
          13,
          14,
          16,
          13,
          11,
          14,
          13,
          14,
          12,
          14,
          13,
          14,
          13,
          14,
          13,
          11,
          13,
          11,
          12,
          13,
          11,
          13,
          12,
          18,
          13,
          13,
          14,
          13,
          13,
          13,
          10,
          12,
          15,
          14,
          15,
          17,
          13,
          13,
          12,
          11,
          13,
          11,
          13,
          13,
          14,
          14,
          16,
          16,
          13,
          12,
          14,
          13,
          14,
          14,
          12,
          13,
          0,
          13,
          15,
          13,
          13,
          18,
          18,
          0,
          14,
          11,
          13,
          12,
          13,
          16,
          14,
          14,
          13,
          13,
          16,
          12,
          13,
          11,
          12,
          13,
          13,
          14,
          0,
          13,
          14,
          0,
          12,
          13,
          16,
          10,
          14,
          0,
          0,
          13,
          12,
          13,
          14,
          11,
          11,
          12,
          12,
          13,
          13,
          14,
          12,
          14,
          13,
          13,
          13,
          13,
          13,
          14,
          13,
          13,
          0,
          11,
          12,
          0,
          12,
          13,
          0,
          13,
          14,
          14,
          11,
          15,
          12,
          13,
          13,
          10,
          15,
          14,
          12,
          13,
          13,
          16,
          13,
          0,
          13,
          0,
          12,
          0,
          13,
          12,
          15,
          14,
          12,
          14,
          13,
          0,
          13,
          12,
          1,
          1,
          14,
          16,
          15,
          12,
          15,
          14,
          13,
          15,
          13,
          14,
          13,
          13,
          13,
          12,
          14,
          13,
          13,
          14,
          13,
          14,
          12,
          14,
          0,
          12,
          13,
          12,
          15,
          14,
          13,
          14,
          11,
          14,
          14,
          13,
          15,
          15,
          13,
          14,
          16,
          15,
          0,
          0,
          13,
          15,
          13,
          14,
          13,
          14,
          11,
          12,
          0,
          14,
          12,
          13,
          0,
          13,
          12,
          12,
          15,
          14,
          13,
          12,
          0,
          14,
          13,
          15,
          12,
          14,
          12,
          12,
          11,
          15,
          15,
          12,
          15,
          15,
          13,
          13,
          0,
          13,
          0,
          13,
          13,
          13,
          13,
          12,
          15,
          0,
          16,
          15,
          15,
          0,
          12,
          13,
          15,
          14,
          13,
          0,
          12,
          12,
          16,
          14,
          11,
          0,
          13,
          18,
          0,
          15,
          16,
          16,
          0,
          0,
          11,
          0,
          11,
          14,
          13,
          0,
          0,
          14,
          15,
          16,
          15,
          17,
          15,
          12,
          13,
          14,
          0,
          0,
          13,
          13,
          13,
          13,
          13,
          14,
          13,
          14,
          13,
          14,
          12,
          12,
          13,
          14,
          15,
          14,
          14,
          14,
          13,
          16,
          14,
          13,
          12,
          12,
          13,
          15,
          14,
          16,
          13,
          11,
          14,
          13,
          9,
          13,
          14,
          13,
          11,
          16,
          14,
          12,
          13,
          14,
          17,
          14,
          16,
          14,
          0,
          11,
          14,
          11,
          14,
          15,
          12,
          15,
          11,
          16,
          12,
          13,
          16,
          11,
          14,
          14,
          13,
          13,
          11,
          13,
          11,
          15,
          13,
          0,
          13,
          14,
          16,
          13,
          18,
          13,
          10,
          12,
          13,
          13,
          13,
          12,
          15,
          14,
          15,
          0,
          13,
          13,
          14,
          14,
          17,
          12,
          14,
          15,
          15,
          14,
          15,
          15,
          15,
          12,
          11,
          15,
          12,
          0,
          15,
          12,
          15,
          12,
          16,
          0,
          13,
          12,
          14,
          14,
          14,
          14,
          13,
          13,
          11,
          13,
          11,
          12,
          13,
          14,
          11,
          11,
          16,
          12,
          14,
          15,
          14,
          14,
          15,
          9,
          13,
          13,
          12,
          13,
          13,
          14,
          13,
          12,
          15,
          12,
          17,
          14,
          10,
          16,
          12,
          13,
          15,
          10,
          16,
          14,
          13,
          14,
          15,
          14,
          13,
          13,
          0,
          9,
          16,
          13,
          14,
          15,
          0,
          0,
          13,
          13,
          14,
          13,
          14,
          14,
          12,
          14,
          14,
          16,
          14,
          14,
          14,
          15,
          13,
          14,
          0,
          13,
          16,
          12,
          13,
          16,
          16,
          13,
          14,
          12,
          0,
          12,
          11,
          13,
          9,
          15,
          12,
          15,
          13,
          13,
          13
         ],
         "xaxis": "x",
         "yaxis": "y"
        }
       ],
       "layout": {
        "barmode": "relative",
        "legend": {
         "tracegroupgap": 0
        },
        "template": {
         "data": {
          "bar": [
           {
            "error_x": {
             "color": "#2a3f5f"
            },
            "error_y": {
             "color": "#2a3f5f"
            },
            "marker": {
             "line": {
              "color": "#E5ECF6",
              "width": 0.5
             },
             "pattern": {
              "fillmode": "overlay",
              "size": 10,
              "solidity": 0.2
             }
            },
            "type": "bar"
           }
          ],
          "barpolar": [
           {
            "marker": {
             "line": {
              "color": "#E5ECF6",
              "width": 0.5
             },
             "pattern": {
              "fillmode": "overlay",
              "size": 10,
              "solidity": 0.2
             }
            },
            "type": "barpolar"
           }
          ],
          "carpet": [
           {
            "aaxis": {
             "endlinecolor": "#2a3f5f",
             "gridcolor": "white",
             "linecolor": "white",
             "minorgridcolor": "white",
             "startlinecolor": "#2a3f5f"
            },
            "baxis": {
             "endlinecolor": "#2a3f5f",
             "gridcolor": "white",
             "linecolor": "white",
             "minorgridcolor": "white",
             "startlinecolor": "#2a3f5f"
            },
            "type": "carpet"
           }
          ],
          "choropleth": [
           {
            "colorbar": {
             "outlinewidth": 0,
             "ticks": ""
            },
            "type": "choropleth"
           }
          ],
          "contour": [
           {
            "colorbar": {
             "outlinewidth": 0,
             "ticks": ""
            },
            "colorscale": [
             [
              0,
              "#0d0887"
             ],
             [
              0.1111111111111111,
              "#46039f"
             ],
             [
              0.2222222222222222,
              "#7201a8"
             ],
             [
              0.3333333333333333,
              "#9c179e"
             ],
             [
              0.4444444444444444,
              "#bd3786"
             ],
             [
              0.5555555555555556,
              "#d8576b"
             ],
             [
              0.6666666666666666,
              "#ed7953"
             ],
             [
              0.7777777777777778,
              "#fb9f3a"
             ],
             [
              0.8888888888888888,
              "#fdca26"
             ],
             [
              1,
              "#f0f921"
             ]
            ],
            "type": "contour"
           }
          ],
          "contourcarpet": [
           {
            "colorbar": {
             "outlinewidth": 0,
             "ticks": ""
            },
            "type": "contourcarpet"
           }
          ],
          "heatmap": [
           {
            "colorbar": {
             "outlinewidth": 0,
             "ticks": ""
            },
            "colorscale": [
             [
              0,
              "#0d0887"
             ],
             [
              0.1111111111111111,
              "#46039f"
             ],
             [
              0.2222222222222222,
              "#7201a8"
             ],
             [
              0.3333333333333333,
              "#9c179e"
             ],
             [
              0.4444444444444444,
              "#bd3786"
             ],
             [
              0.5555555555555556,
              "#d8576b"
             ],
             [
              0.6666666666666666,
              "#ed7953"
             ],
             [
              0.7777777777777778,
              "#fb9f3a"
             ],
             [
              0.8888888888888888,
              "#fdca26"
             ],
             [
              1,
              "#f0f921"
             ]
            ],
            "type": "heatmap"
           }
          ],
          "heatmapgl": [
           {
            "colorbar": {
             "outlinewidth": 0,
             "ticks": ""
            },
            "colorscale": [
             [
              0,
              "#0d0887"
             ],
             [
              0.1111111111111111,
              "#46039f"
             ],
             [
              0.2222222222222222,
              "#7201a8"
             ],
             [
              0.3333333333333333,
              "#9c179e"
             ],
             [
              0.4444444444444444,
              "#bd3786"
             ],
             [
              0.5555555555555556,
              "#d8576b"
             ],
             [
              0.6666666666666666,
              "#ed7953"
             ],
             [
              0.7777777777777778,
              "#fb9f3a"
             ],
             [
              0.8888888888888888,
              "#fdca26"
             ],
             [
              1,
              "#f0f921"
             ]
            ],
            "type": "heatmapgl"
           }
          ],
          "histogram": [
           {
            "marker": {
             "pattern": {
              "fillmode": "overlay",
              "size": 10,
              "solidity": 0.2
             }
            },
            "type": "histogram"
           }
          ],
          "histogram2d": [
           {
            "colorbar": {
             "outlinewidth": 0,
             "ticks": ""
            },
            "colorscale": [
             [
              0,
              "#0d0887"
             ],
             [
              0.1111111111111111,
              "#46039f"
             ],
             [
              0.2222222222222222,
              "#7201a8"
             ],
             [
              0.3333333333333333,
              "#9c179e"
             ],
             [
              0.4444444444444444,
              "#bd3786"
             ],
             [
              0.5555555555555556,
              "#d8576b"
             ],
             [
              0.6666666666666666,
              "#ed7953"
             ],
             [
              0.7777777777777778,
              "#fb9f3a"
             ],
             [
              0.8888888888888888,
              "#fdca26"
             ],
             [
              1,
              "#f0f921"
             ]
            ],
            "type": "histogram2d"
           }
          ],
          "histogram2dcontour": [
           {
            "colorbar": {
             "outlinewidth": 0,
             "ticks": ""
            },
            "colorscale": [
             [
              0,
              "#0d0887"
             ],
             [
              0.1111111111111111,
              "#46039f"
             ],
             [
              0.2222222222222222,
              "#7201a8"
             ],
             [
              0.3333333333333333,
              "#9c179e"
             ],
             [
              0.4444444444444444,
              "#bd3786"
             ],
             [
              0.5555555555555556,
              "#d8576b"
             ],
             [
              0.6666666666666666,
              "#ed7953"
             ],
             [
              0.7777777777777778,
              "#fb9f3a"
             ],
             [
              0.8888888888888888,
              "#fdca26"
             ],
             [
              1,
              "#f0f921"
             ]
            ],
            "type": "histogram2dcontour"
           }
          ],
          "mesh3d": [
           {
            "colorbar": {
             "outlinewidth": 0,
             "ticks": ""
            },
            "type": "mesh3d"
           }
          ],
          "parcoords": [
           {
            "line": {
             "colorbar": {
              "outlinewidth": 0,
              "ticks": ""
             }
            },
            "type": "parcoords"
           }
          ],
          "pie": [
           {
            "automargin": true,
            "type": "pie"
           }
          ],
          "scatter": [
           {
            "fillpattern": {
             "fillmode": "overlay",
             "size": 10,
             "solidity": 0.2
            },
            "type": "scatter"
           }
          ],
          "scatter3d": [
           {
            "line": {
             "colorbar": {
              "outlinewidth": 0,
              "ticks": ""
             }
            },
            "marker": {
             "colorbar": {
              "outlinewidth": 0,
              "ticks": ""
             }
            },
            "type": "scatter3d"
           }
          ],
          "scattercarpet": [
           {
            "marker": {
             "colorbar": {
              "outlinewidth": 0,
              "ticks": ""
             }
            },
            "type": "scattercarpet"
           }
          ],
          "scattergeo": [
           {
            "marker": {
             "colorbar": {
              "outlinewidth": 0,
              "ticks": ""
             }
            },
            "type": "scattergeo"
           }
          ],
          "scattergl": [
           {
            "marker": {
             "colorbar": {
              "outlinewidth": 0,
              "ticks": ""
             }
            },
            "type": "scattergl"
           }
          ],
          "scattermapbox": [
           {
            "marker": {
             "colorbar": {
              "outlinewidth": 0,
              "ticks": ""
             }
            },
            "type": "scattermapbox"
           }
          ],
          "scatterpolar": [
           {
            "marker": {
             "colorbar": {
              "outlinewidth": 0,
              "ticks": ""
             }
            },
            "type": "scatterpolar"
           }
          ],
          "scatterpolargl": [
           {
            "marker": {
             "colorbar": {
              "outlinewidth": 0,
              "ticks": ""
             }
            },
            "type": "scatterpolargl"
           }
          ],
          "scatterternary": [
           {
            "marker": {
             "colorbar": {
              "outlinewidth": 0,
              "ticks": ""
             }
            },
            "type": "scatterternary"
           }
          ],
          "surface": [
           {
            "colorbar": {
             "outlinewidth": 0,
             "ticks": ""
            },
            "colorscale": [
             [
              0,
              "#0d0887"
             ],
             [
              0.1111111111111111,
              "#46039f"
             ],
             [
              0.2222222222222222,
              "#7201a8"
             ],
             [
              0.3333333333333333,
              "#9c179e"
             ],
             [
              0.4444444444444444,
              "#bd3786"
             ],
             [
              0.5555555555555556,
              "#d8576b"
             ],
             [
              0.6666666666666666,
              "#ed7953"
             ],
             [
              0.7777777777777778,
              "#fb9f3a"
             ],
             [
              0.8888888888888888,
              "#fdca26"
             ],
             [
              1,
              "#f0f921"
             ]
            ],
            "type": "surface"
           }
          ],
          "table": [
           {
            "cells": {
             "fill": {
              "color": "#EBF0F8"
             },
             "line": {
              "color": "white"
             }
            },
            "header": {
             "fill": {
              "color": "#C8D4E3"
             },
             "line": {
              "color": "white"
             }
            },
            "type": "table"
           }
          ]
         },
         "layout": {
          "annotationdefaults": {
           "arrowcolor": "#2a3f5f",
           "arrowhead": 0,
           "arrowwidth": 1
          },
          "autotypenumbers": "strict",
          "coloraxis": {
           "colorbar": {
            "outlinewidth": 0,
            "ticks": ""
           }
          },
          "colorscale": {
           "diverging": [
            [
             0,
             "#8e0152"
            ],
            [
             0.1,
             "#c51b7d"
            ],
            [
             0.2,
             "#de77ae"
            ],
            [
             0.3,
             "#f1b6da"
            ],
            [
             0.4,
             "#fde0ef"
            ],
            [
             0.5,
             "#f7f7f7"
            ],
            [
             0.6,
             "#e6f5d0"
            ],
            [
             0.7,
             "#b8e186"
            ],
            [
             0.8,
             "#7fbc41"
            ],
            [
             0.9,
             "#4d9221"
            ],
            [
             1,
             "#276419"
            ]
           ],
           "sequential": [
            [
             0,
             "#0d0887"
            ],
            [
             0.1111111111111111,
             "#46039f"
            ],
            [
             0.2222222222222222,
             "#7201a8"
            ],
            [
             0.3333333333333333,
             "#9c179e"
            ],
            [
             0.4444444444444444,
             "#bd3786"
            ],
            [
             0.5555555555555556,
             "#d8576b"
            ],
            [
             0.6666666666666666,
             "#ed7953"
            ],
            [
             0.7777777777777778,
             "#fb9f3a"
            ],
            [
             0.8888888888888888,
             "#fdca26"
            ],
            [
             1,
             "#f0f921"
            ]
           ],
           "sequentialminus": [
            [
             0,
             "#0d0887"
            ],
            [
             0.1111111111111111,
             "#46039f"
            ],
            [
             0.2222222222222222,
             "#7201a8"
            ],
            [
             0.3333333333333333,
             "#9c179e"
            ],
            [
             0.4444444444444444,
             "#bd3786"
            ],
            [
             0.5555555555555556,
             "#d8576b"
            ],
            [
             0.6666666666666666,
             "#ed7953"
            ],
            [
             0.7777777777777778,
             "#fb9f3a"
            ],
            [
             0.8888888888888888,
             "#fdca26"
            ],
            [
             1,
             "#f0f921"
            ]
           ]
          },
          "colorway": [
           "#636efa",
           "#EF553B",
           "#00cc96",
           "#ab63fa",
           "#FFA15A",
           "#19d3f3",
           "#FF6692",
           "#B6E880",
           "#FF97FF",
           "#FECB52"
          ],
          "font": {
           "color": "#2a3f5f"
          },
          "geo": {
           "bgcolor": "white",
           "lakecolor": "white",
           "landcolor": "#E5ECF6",
           "showlakes": true,
           "showland": true,
           "subunitcolor": "white"
          },
          "hoverlabel": {
           "align": "left"
          },
          "hovermode": "closest",
          "mapbox": {
           "style": "light"
          },
          "paper_bgcolor": "white",
          "plot_bgcolor": "#E5ECF6",
          "polar": {
           "angularaxis": {
            "gridcolor": "white",
            "linecolor": "white",
            "ticks": ""
           },
           "bgcolor": "#E5ECF6",
           "radialaxis": {
            "gridcolor": "white",
            "linecolor": "white",
            "ticks": ""
           }
          },
          "scene": {
           "xaxis": {
            "backgroundcolor": "#E5ECF6",
            "gridcolor": "white",
            "gridwidth": 2,
            "linecolor": "white",
            "showbackground": true,
            "ticks": "",
            "zerolinecolor": "white"
           },
           "yaxis": {
            "backgroundcolor": "#E5ECF6",
            "gridcolor": "white",
            "gridwidth": 2,
            "linecolor": "white",
            "showbackground": true,
            "ticks": "",
            "zerolinecolor": "white"
           },
           "zaxis": {
            "backgroundcolor": "#E5ECF6",
            "gridcolor": "white",
            "gridwidth": 2,
            "linecolor": "white",
            "showbackground": true,
            "ticks": "",
            "zerolinecolor": "white"
           }
          },
          "shapedefaults": {
           "line": {
            "color": "#2a3f5f"
           }
          },
          "ternary": {
           "aaxis": {
            "gridcolor": "white",
            "linecolor": "white",
            "ticks": ""
           },
           "baxis": {
            "gridcolor": "white",
            "linecolor": "white",
            "ticks": ""
           },
           "bgcolor": "#E5ECF6",
           "caxis": {
            "gridcolor": "white",
            "linecolor": "white",
            "ticks": ""
           }
          },
          "title": {
           "x": 0.05
          },
          "xaxis": {
           "automargin": true,
           "gridcolor": "white",
           "linecolor": "white",
           "ticks": "",
           "title": {
            "standoff": 15
           },
           "zerolinecolor": "white",
           "zerolinewidth": 2
          },
          "yaxis": {
           "automargin": true,
           "gridcolor": "white",
           "linecolor": "white",
           "ticks": "",
           "title": {
            "standoff": 15
           },
           "zerolinecolor": "white",
           "zerolinewidth": 2
          }
         }
        },
        "title": {
         "text": "Histogram of age.menarc"
        },
        "xaxis": {
         "anchor": "y",
         "domain": [
          0,
          1
         ],
         "title": {
          "text": "age.menarc"
         }
        },
        "yaxis": {
         "anchor": "x",
         "domain": [
          0,
          1
         ],
         "title": {
          "text": "count"
         }
        }
       }
      }
     },
     "metadata": {},
     "output_type": "display_data"
    }
   ],
   "source": [
    "# plot histogram\n",
    "fig = px.histogram(df, x=col_name, nbins=20, title=f'Histogram of {col_name}')\n",
    "fig.show()"
   ]
  },
  {
   "cell_type": "markdown",
   "id": "e407e33f",
   "metadata": {},
   "source": [
    "### age.menop"
   ]
  },
  {
   "cell_type": "code",
   "execution_count": 496,
   "id": "1c36cf55",
   "metadata": {},
   "outputs": [
    {
     "name": "stdout",
     "output_type": "stream",
     "text": [
      "Number of nan values in age.menop column:  2357\n",
      "Proportion of nan values in age.menop column:  0.6273622571200426\n",
      "float64\n"
     ]
    }
   ],
   "source": [
    "col_name = 'age.menop'\n",
    "print(f'Number of nan values in {col_name} column: ', df[col_name].isna().sum())\n",
    "print(f'Proportion of nan values in {col_name} column: ', df[col_name].isna().sum() / df.shape[0])\n",
    "print(df[col_name].dtype)"
   ]
  },
  {
   "cell_type": "code",
   "execution_count": 497,
   "id": "c4f4e37f",
   "metadata": {},
   "outputs": [
    {
     "data": {
      "text/plain": [
       "50.0    243\n",
       "45.0    127\n",
       "48.0    120\n",
       "52.0     95\n",
       "47.0     88\n",
       "40.0     75\n",
       "49.0     72\n",
       "51.0     69\n",
       "53.0     67\n",
       "55.0     53\n",
       "42.0     48\n",
       "43.0     45\n",
       "54.0     45\n",
       "46.0     42\n",
       "44.0     38\n",
       "41.0     24\n",
       "56.0     20\n",
       "39.0     18\n",
       "38.0     16\n",
       "37.0     15\n",
       "35.0     13\n",
       "57.0     11\n",
       "34.0      8\n",
       "36.0      8\n",
       "32.0      6\n",
       "30.0      5\n",
       "60.0      4\n",
       "62.0      3\n",
       "58.0      3\n",
       "1.0       2\n",
       "29.0      2\n",
       "33.0      2\n",
       "59.0      2\n",
       "13.0      2\n",
       "64.0      1\n",
       "61.0      1\n",
       "31.0      1\n",
       "65.0      1\n",
       "14.0      1\n",
       "28.0      1\n",
       "3.0       1\n",
       "4.0       1\n",
       "2.0       1\n",
       "Name: age.menop, dtype: int64"
      ]
     },
     "execution_count": 497,
     "metadata": {},
     "output_type": "execute_result"
    }
   ],
   "source": [
    "df[col_name].value_counts()"
   ]
  },
  {
   "cell_type": "code",
   "execution_count": 498,
   "id": "5ec832c4",
   "metadata": {},
   "outputs": [
    {
     "data": {
      "application/vnd.plotly.v1+json": {
       "config": {
        "plotlyServerURL": "https://plot.ly"
       },
       "data": [
        {
         "alignmentgroup": "True",
         "hovertemplate": "x=%{x}<br>y=%{y}<extra></extra>",
         "legendgroup": "",
         "marker": {
          "color": "#636efa",
          "pattern": {
           "shape": ""
          }
         },
         "name": "",
         "offsetgroup": "",
         "orientation": "v",
         "showlegend": false,
         "textposition": "auto",
         "type": "bar",
         "x": [
          "50.0",
          "45.0",
          "48.0",
          "52.0",
          "47.0",
          "40.0",
          "49.0",
          "51.0",
          "53.0",
          "55.0",
          "42.0",
          "43.0",
          "54.0",
          "46.0",
          "44.0",
          "41.0",
          "56.0",
          "39.0",
          "38.0",
          "37.0",
          "35.0",
          "57.0",
          "34.0",
          "36.0",
          "32.0",
          "30.0",
          "60.0",
          "62.0",
          "58.0",
          "1.0",
          "29.0",
          "33.0",
          "59.0",
          "13.0",
          "64.0",
          "61.0",
          "31.0",
          "65.0",
          "14.0",
          "28.0",
          "3.0",
          "4.0",
          "2.0",
          "nan"
         ],
         "xaxis": "x",
         "y": [
          243,
          127,
          120,
          95,
          88,
          75,
          72,
          69,
          67,
          53,
          48,
          45,
          45,
          42,
          38,
          24,
          20,
          18,
          16,
          15,
          13,
          11,
          8,
          8,
          6,
          5,
          4,
          3,
          3,
          2,
          2,
          2,
          2,
          2,
          1,
          1,
          1,
          1,
          1,
          1,
          1,
          1,
          1,
          2357
         ],
         "yaxis": "y"
        }
       ],
       "layout": {
        "barmode": "relative",
        "legend": {
         "tracegroupgap": 0
        },
        "margin": {
         "t": 60
        },
        "template": {
         "data": {
          "bar": [
           {
            "error_x": {
             "color": "#2a3f5f"
            },
            "error_y": {
             "color": "#2a3f5f"
            },
            "marker": {
             "line": {
              "color": "#E5ECF6",
              "width": 0.5
             },
             "pattern": {
              "fillmode": "overlay",
              "size": 10,
              "solidity": 0.2
             }
            },
            "type": "bar"
           }
          ],
          "barpolar": [
           {
            "marker": {
             "line": {
              "color": "#E5ECF6",
              "width": 0.5
             },
             "pattern": {
              "fillmode": "overlay",
              "size": 10,
              "solidity": 0.2
             }
            },
            "type": "barpolar"
           }
          ],
          "carpet": [
           {
            "aaxis": {
             "endlinecolor": "#2a3f5f",
             "gridcolor": "white",
             "linecolor": "white",
             "minorgridcolor": "white",
             "startlinecolor": "#2a3f5f"
            },
            "baxis": {
             "endlinecolor": "#2a3f5f",
             "gridcolor": "white",
             "linecolor": "white",
             "minorgridcolor": "white",
             "startlinecolor": "#2a3f5f"
            },
            "type": "carpet"
           }
          ],
          "choropleth": [
           {
            "colorbar": {
             "outlinewidth": 0,
             "ticks": ""
            },
            "type": "choropleth"
           }
          ],
          "contour": [
           {
            "colorbar": {
             "outlinewidth": 0,
             "ticks": ""
            },
            "colorscale": [
             [
              0,
              "#0d0887"
             ],
             [
              0.1111111111111111,
              "#46039f"
             ],
             [
              0.2222222222222222,
              "#7201a8"
             ],
             [
              0.3333333333333333,
              "#9c179e"
             ],
             [
              0.4444444444444444,
              "#bd3786"
             ],
             [
              0.5555555555555556,
              "#d8576b"
             ],
             [
              0.6666666666666666,
              "#ed7953"
             ],
             [
              0.7777777777777778,
              "#fb9f3a"
             ],
             [
              0.8888888888888888,
              "#fdca26"
             ],
             [
              1,
              "#f0f921"
             ]
            ],
            "type": "contour"
           }
          ],
          "contourcarpet": [
           {
            "colorbar": {
             "outlinewidth": 0,
             "ticks": ""
            },
            "type": "contourcarpet"
           }
          ],
          "heatmap": [
           {
            "colorbar": {
             "outlinewidth": 0,
             "ticks": ""
            },
            "colorscale": [
             [
              0,
              "#0d0887"
             ],
             [
              0.1111111111111111,
              "#46039f"
             ],
             [
              0.2222222222222222,
              "#7201a8"
             ],
             [
              0.3333333333333333,
              "#9c179e"
             ],
             [
              0.4444444444444444,
              "#bd3786"
             ],
             [
              0.5555555555555556,
              "#d8576b"
             ],
             [
              0.6666666666666666,
              "#ed7953"
             ],
             [
              0.7777777777777778,
              "#fb9f3a"
             ],
             [
              0.8888888888888888,
              "#fdca26"
             ],
             [
              1,
              "#f0f921"
             ]
            ],
            "type": "heatmap"
           }
          ],
          "heatmapgl": [
           {
            "colorbar": {
             "outlinewidth": 0,
             "ticks": ""
            },
            "colorscale": [
             [
              0,
              "#0d0887"
             ],
             [
              0.1111111111111111,
              "#46039f"
             ],
             [
              0.2222222222222222,
              "#7201a8"
             ],
             [
              0.3333333333333333,
              "#9c179e"
             ],
             [
              0.4444444444444444,
              "#bd3786"
             ],
             [
              0.5555555555555556,
              "#d8576b"
             ],
             [
              0.6666666666666666,
              "#ed7953"
             ],
             [
              0.7777777777777778,
              "#fb9f3a"
             ],
             [
              0.8888888888888888,
              "#fdca26"
             ],
             [
              1,
              "#f0f921"
             ]
            ],
            "type": "heatmapgl"
           }
          ],
          "histogram": [
           {
            "marker": {
             "pattern": {
              "fillmode": "overlay",
              "size": 10,
              "solidity": 0.2
             }
            },
            "type": "histogram"
           }
          ],
          "histogram2d": [
           {
            "colorbar": {
             "outlinewidth": 0,
             "ticks": ""
            },
            "colorscale": [
             [
              0,
              "#0d0887"
             ],
             [
              0.1111111111111111,
              "#46039f"
             ],
             [
              0.2222222222222222,
              "#7201a8"
             ],
             [
              0.3333333333333333,
              "#9c179e"
             ],
             [
              0.4444444444444444,
              "#bd3786"
             ],
             [
              0.5555555555555556,
              "#d8576b"
             ],
             [
              0.6666666666666666,
              "#ed7953"
             ],
             [
              0.7777777777777778,
              "#fb9f3a"
             ],
             [
              0.8888888888888888,
              "#fdca26"
             ],
             [
              1,
              "#f0f921"
             ]
            ],
            "type": "histogram2d"
           }
          ],
          "histogram2dcontour": [
           {
            "colorbar": {
             "outlinewidth": 0,
             "ticks": ""
            },
            "colorscale": [
             [
              0,
              "#0d0887"
             ],
             [
              0.1111111111111111,
              "#46039f"
             ],
             [
              0.2222222222222222,
              "#7201a8"
             ],
             [
              0.3333333333333333,
              "#9c179e"
             ],
             [
              0.4444444444444444,
              "#bd3786"
             ],
             [
              0.5555555555555556,
              "#d8576b"
             ],
             [
              0.6666666666666666,
              "#ed7953"
             ],
             [
              0.7777777777777778,
              "#fb9f3a"
             ],
             [
              0.8888888888888888,
              "#fdca26"
             ],
             [
              1,
              "#f0f921"
             ]
            ],
            "type": "histogram2dcontour"
           }
          ],
          "mesh3d": [
           {
            "colorbar": {
             "outlinewidth": 0,
             "ticks": ""
            },
            "type": "mesh3d"
           }
          ],
          "parcoords": [
           {
            "line": {
             "colorbar": {
              "outlinewidth": 0,
              "ticks": ""
             }
            },
            "type": "parcoords"
           }
          ],
          "pie": [
           {
            "automargin": true,
            "type": "pie"
           }
          ],
          "scatter": [
           {
            "fillpattern": {
             "fillmode": "overlay",
             "size": 10,
             "solidity": 0.2
            },
            "type": "scatter"
           }
          ],
          "scatter3d": [
           {
            "line": {
             "colorbar": {
              "outlinewidth": 0,
              "ticks": ""
             }
            },
            "marker": {
             "colorbar": {
              "outlinewidth": 0,
              "ticks": ""
             }
            },
            "type": "scatter3d"
           }
          ],
          "scattercarpet": [
           {
            "marker": {
             "colorbar": {
              "outlinewidth": 0,
              "ticks": ""
             }
            },
            "type": "scattercarpet"
           }
          ],
          "scattergeo": [
           {
            "marker": {
             "colorbar": {
              "outlinewidth": 0,
              "ticks": ""
             }
            },
            "type": "scattergeo"
           }
          ],
          "scattergl": [
           {
            "marker": {
             "colorbar": {
              "outlinewidth": 0,
              "ticks": ""
             }
            },
            "type": "scattergl"
           }
          ],
          "scattermapbox": [
           {
            "marker": {
             "colorbar": {
              "outlinewidth": 0,
              "ticks": ""
             }
            },
            "type": "scattermapbox"
           }
          ],
          "scatterpolar": [
           {
            "marker": {
             "colorbar": {
              "outlinewidth": 0,
              "ticks": ""
             }
            },
            "type": "scatterpolar"
           }
          ],
          "scatterpolargl": [
           {
            "marker": {
             "colorbar": {
              "outlinewidth": 0,
              "ticks": ""
             }
            },
            "type": "scatterpolargl"
           }
          ],
          "scatterternary": [
           {
            "marker": {
             "colorbar": {
              "outlinewidth": 0,
              "ticks": ""
             }
            },
            "type": "scatterternary"
           }
          ],
          "surface": [
           {
            "colorbar": {
             "outlinewidth": 0,
             "ticks": ""
            },
            "colorscale": [
             [
              0,
              "#0d0887"
             ],
             [
              0.1111111111111111,
              "#46039f"
             ],
             [
              0.2222222222222222,
              "#7201a8"
             ],
             [
              0.3333333333333333,
              "#9c179e"
             ],
             [
              0.4444444444444444,
              "#bd3786"
             ],
             [
              0.5555555555555556,
              "#d8576b"
             ],
             [
              0.6666666666666666,
              "#ed7953"
             ],
             [
              0.7777777777777778,
              "#fb9f3a"
             ],
             [
              0.8888888888888888,
              "#fdca26"
             ],
             [
              1,
              "#f0f921"
             ]
            ],
            "type": "surface"
           }
          ],
          "table": [
           {
            "cells": {
             "fill": {
              "color": "#EBF0F8"
             },
             "line": {
              "color": "white"
             }
            },
            "header": {
             "fill": {
              "color": "#C8D4E3"
             },
             "line": {
              "color": "white"
             }
            },
            "type": "table"
           }
          ]
         },
         "layout": {
          "annotationdefaults": {
           "arrowcolor": "#2a3f5f",
           "arrowhead": 0,
           "arrowwidth": 1
          },
          "autotypenumbers": "strict",
          "coloraxis": {
           "colorbar": {
            "outlinewidth": 0,
            "ticks": ""
           }
          },
          "colorscale": {
           "diverging": [
            [
             0,
             "#8e0152"
            ],
            [
             0.1,
             "#c51b7d"
            ],
            [
             0.2,
             "#de77ae"
            ],
            [
             0.3,
             "#f1b6da"
            ],
            [
             0.4,
             "#fde0ef"
            ],
            [
             0.5,
             "#f7f7f7"
            ],
            [
             0.6,
             "#e6f5d0"
            ],
            [
             0.7,
             "#b8e186"
            ],
            [
             0.8,
             "#7fbc41"
            ],
            [
             0.9,
             "#4d9221"
            ],
            [
             1,
             "#276419"
            ]
           ],
           "sequential": [
            [
             0,
             "#0d0887"
            ],
            [
             0.1111111111111111,
             "#46039f"
            ],
            [
             0.2222222222222222,
             "#7201a8"
            ],
            [
             0.3333333333333333,
             "#9c179e"
            ],
            [
             0.4444444444444444,
             "#bd3786"
            ],
            [
             0.5555555555555556,
             "#d8576b"
            ],
            [
             0.6666666666666666,
             "#ed7953"
            ],
            [
             0.7777777777777778,
             "#fb9f3a"
            ],
            [
             0.8888888888888888,
             "#fdca26"
            ],
            [
             1,
             "#f0f921"
            ]
           ],
           "sequentialminus": [
            [
             0,
             "#0d0887"
            ],
            [
             0.1111111111111111,
             "#46039f"
            ],
            [
             0.2222222222222222,
             "#7201a8"
            ],
            [
             0.3333333333333333,
             "#9c179e"
            ],
            [
             0.4444444444444444,
             "#bd3786"
            ],
            [
             0.5555555555555556,
             "#d8576b"
            ],
            [
             0.6666666666666666,
             "#ed7953"
            ],
            [
             0.7777777777777778,
             "#fb9f3a"
            ],
            [
             0.8888888888888888,
             "#fdca26"
            ],
            [
             1,
             "#f0f921"
            ]
           ]
          },
          "colorway": [
           "#636efa",
           "#EF553B",
           "#00cc96",
           "#ab63fa",
           "#FFA15A",
           "#19d3f3",
           "#FF6692",
           "#B6E880",
           "#FF97FF",
           "#FECB52"
          ],
          "font": {
           "color": "#2a3f5f"
          },
          "geo": {
           "bgcolor": "white",
           "lakecolor": "white",
           "landcolor": "#E5ECF6",
           "showlakes": true,
           "showland": true,
           "subunitcolor": "white"
          },
          "hoverlabel": {
           "align": "left"
          },
          "hovermode": "closest",
          "mapbox": {
           "style": "light"
          },
          "paper_bgcolor": "white",
          "plot_bgcolor": "#E5ECF6",
          "polar": {
           "angularaxis": {
            "gridcolor": "white",
            "linecolor": "white",
            "ticks": ""
           },
           "bgcolor": "#E5ECF6",
           "radialaxis": {
            "gridcolor": "white",
            "linecolor": "white",
            "ticks": ""
           }
          },
          "scene": {
           "xaxis": {
            "backgroundcolor": "#E5ECF6",
            "gridcolor": "white",
            "gridwidth": 2,
            "linecolor": "white",
            "showbackground": true,
            "ticks": "",
            "zerolinecolor": "white"
           },
           "yaxis": {
            "backgroundcolor": "#E5ECF6",
            "gridcolor": "white",
            "gridwidth": 2,
            "linecolor": "white",
            "showbackground": true,
            "ticks": "",
            "zerolinecolor": "white"
           },
           "zaxis": {
            "backgroundcolor": "#E5ECF6",
            "gridcolor": "white",
            "gridwidth": 2,
            "linecolor": "white",
            "showbackground": true,
            "ticks": "",
            "zerolinecolor": "white"
           }
          },
          "shapedefaults": {
           "line": {
            "color": "#2a3f5f"
           }
          },
          "ternary": {
           "aaxis": {
            "gridcolor": "white",
            "linecolor": "white",
            "ticks": ""
           },
           "baxis": {
            "gridcolor": "white",
            "linecolor": "white",
            "ticks": ""
           },
           "bgcolor": "#E5ECF6",
           "caxis": {
            "gridcolor": "white",
            "linecolor": "white",
            "ticks": ""
           }
          },
          "title": {
           "x": 0.05
          },
          "xaxis": {
           "automargin": true,
           "gridcolor": "white",
           "linecolor": "white",
           "ticks": "",
           "title": {
            "standoff": 15
           },
           "zerolinecolor": "white",
           "zerolinewidth": 2
          },
          "yaxis": {
           "automargin": true,
           "gridcolor": "white",
           "linecolor": "white",
           "ticks": "",
           "title": {
            "standoff": 15
           },
           "zerolinecolor": "white",
           "zerolinewidth": 2
          }
         }
        },
        "xaxis": {
         "anchor": "y",
         "domain": [
          0,
          1
         ],
         "title": {
          "text": "x"
         }
        },
        "yaxis": {
         "anchor": "x",
         "domain": [
          0,
          1
         ],
         "title": {
          "text": "y"
         }
        }
       }
      }
     },
     "metadata": {},
     "output_type": "display_data"
    }
   ],
   "source": [
    "# plot bar chart of Family column (x values, y counts)\n",
    "stats = df[col_name].value_counts().to_dict()\n",
    "stats = {str(k): v for k, v in stats.items()}\n",
    "stats['nan'] = df[col_name].isna().sum()\n",
    "fig = px.bar(x=list(stats.keys()), y=list(stats.values()))\n",
    "fig.show()"
   ]
  },
  {
   "cell_type": "code",
   "execution_count": 499,
   "id": "3a4d67b7",
   "metadata": {},
   "outputs": [],
   "source": [
    "# fill\n"
   ]
  },
  {
   "cell_type": "code",
   "execution_count": null,
   "id": "e022b476",
   "metadata": {},
   "outputs": [],
   "source": []
  },
  {
   "cell_type": "markdown",
   "id": "8fb541ed",
   "metadata": {},
   "source": [
    "### agef"
   ]
  },
  {
   "cell_type": "code",
   "execution_count": 500,
   "id": "59f890b4",
   "metadata": {},
   "outputs": [
    {
     "name": "stdout",
     "output_type": "stream",
     "text": [
      "Number of nan values in agef column:  0\n",
      "Proportion of nan values in agef column:  0.0\n",
      "object\n"
     ]
    }
   ],
   "source": [
    "col_name = 'agef'\n",
    "print(f'Number of nan values in {col_name} column: ', df[col_name].isna().sum())\n",
    "print(f'Proportion of nan values in {col_name} column: ', df[col_name].isna().sum() / df.shape[0])\n",
    "print(df[col_name].dtype)"
   ]
  },
  {
   "cell_type": "code",
   "execution_count": 501,
   "id": "d8cb7059",
   "metadata": {},
   "outputs": [
    {
     "data": {
      "text/plain": [
       "      2426\n",
       "0      852\n",
       "50      53\n",
       "40      47\n",
       "45      33\n",
       "      ... \n",
       "66       1\n",
       "51       1\n",
       "58       1\n",
       "31       1\n",
       "83       1\n",
       "Name: agef, Length: 62, dtype: int64"
      ]
     },
     "execution_count": 501,
     "metadata": {},
     "output_type": "execute_result"
    }
   ],
   "source": [
    "df[col_name].value_counts()"
   ]
  },
  {
   "cell_type": "code",
   "execution_count": 502,
   "id": "11c4a73d",
   "metadata": {},
   "outputs": [
    {
     "data": {
      "application/vnd.plotly.v1+json": {
       "config": {
        "plotlyServerURL": "https://plot.ly"
       },
       "data": [
        {
         "alignmentgroup": "True",
         "hovertemplate": "x=%{x}<br>y=%{y}<extra></extra>",
         "legendgroup": "",
         "marker": {
          "color": "#636efa",
          "pattern": {
           "shape": ""
          }
         },
         "name": "",
         "offsetgroup": "",
         "orientation": "v",
         "showlegend": false,
         "textposition": "auto",
         "type": "bar",
         "x": [
          "",
          "0",
          "50",
          "40",
          "45",
          "00",
          "60",
          "42",
          "55",
          "30",
          "35",
          "48",
          "70",
          "54",
          "52",
          "32",
          "36",
          "57",
          "34",
          "47",
          "43",
          "37",
          "38",
          "53",
          "56",
          "65",
          "46",
          "29",
          "41",
          "44",
          "75",
          "000",
          "0000",
          "64",
          "49",
          "25",
          "39",
          "62",
          ".",
          "63",
          "80",
          "24",
          "73",
          "67",
          "33",
          "28",
          "68",
          "26",
          "4",
          "79",
          "61",
          "22",
          "35-",
          "59",
          "72",
          "21",
          "20",
          "66",
          "51",
          "58",
          "31",
          "83",
          "nan"
         ],
         "xaxis": "x",
         "y": [
          2426,
          852,
          53,
          47,
          33,
          25,
          24,
          23,
          18,
          17,
          16,
          13,
          12,
          10,
          10,
          10,
          10,
          9,
          9,
          8,
          8,
          8,
          7,
          7,
          7,
          7,
          7,
          5,
          5,
          4,
          4,
          4,
          4,
          4,
          4,
          4,
          3,
          3,
          3,
          3,
          3,
          2,
          2,
          2,
          2,
          2,
          2,
          2,
          1,
          1,
          1,
          1,
          1,
          1,
          1,
          1,
          1,
          1,
          1,
          1,
          1,
          1,
          0
         ],
         "yaxis": "y"
        }
       ],
       "layout": {
        "barmode": "relative",
        "legend": {
         "tracegroupgap": 0
        },
        "margin": {
         "t": 60
        },
        "template": {
         "data": {
          "bar": [
           {
            "error_x": {
             "color": "#2a3f5f"
            },
            "error_y": {
             "color": "#2a3f5f"
            },
            "marker": {
             "line": {
              "color": "#E5ECF6",
              "width": 0.5
             },
             "pattern": {
              "fillmode": "overlay",
              "size": 10,
              "solidity": 0.2
             }
            },
            "type": "bar"
           }
          ],
          "barpolar": [
           {
            "marker": {
             "line": {
              "color": "#E5ECF6",
              "width": 0.5
             },
             "pattern": {
              "fillmode": "overlay",
              "size": 10,
              "solidity": 0.2
             }
            },
            "type": "barpolar"
           }
          ],
          "carpet": [
           {
            "aaxis": {
             "endlinecolor": "#2a3f5f",
             "gridcolor": "white",
             "linecolor": "white",
             "minorgridcolor": "white",
             "startlinecolor": "#2a3f5f"
            },
            "baxis": {
             "endlinecolor": "#2a3f5f",
             "gridcolor": "white",
             "linecolor": "white",
             "minorgridcolor": "white",
             "startlinecolor": "#2a3f5f"
            },
            "type": "carpet"
           }
          ],
          "choropleth": [
           {
            "colorbar": {
             "outlinewidth": 0,
             "ticks": ""
            },
            "type": "choropleth"
           }
          ],
          "contour": [
           {
            "colorbar": {
             "outlinewidth": 0,
             "ticks": ""
            },
            "colorscale": [
             [
              0,
              "#0d0887"
             ],
             [
              0.1111111111111111,
              "#46039f"
             ],
             [
              0.2222222222222222,
              "#7201a8"
             ],
             [
              0.3333333333333333,
              "#9c179e"
             ],
             [
              0.4444444444444444,
              "#bd3786"
             ],
             [
              0.5555555555555556,
              "#d8576b"
             ],
             [
              0.6666666666666666,
              "#ed7953"
             ],
             [
              0.7777777777777778,
              "#fb9f3a"
             ],
             [
              0.8888888888888888,
              "#fdca26"
             ],
             [
              1,
              "#f0f921"
             ]
            ],
            "type": "contour"
           }
          ],
          "contourcarpet": [
           {
            "colorbar": {
             "outlinewidth": 0,
             "ticks": ""
            },
            "type": "contourcarpet"
           }
          ],
          "heatmap": [
           {
            "colorbar": {
             "outlinewidth": 0,
             "ticks": ""
            },
            "colorscale": [
             [
              0,
              "#0d0887"
             ],
             [
              0.1111111111111111,
              "#46039f"
             ],
             [
              0.2222222222222222,
              "#7201a8"
             ],
             [
              0.3333333333333333,
              "#9c179e"
             ],
             [
              0.4444444444444444,
              "#bd3786"
             ],
             [
              0.5555555555555556,
              "#d8576b"
             ],
             [
              0.6666666666666666,
              "#ed7953"
             ],
             [
              0.7777777777777778,
              "#fb9f3a"
             ],
             [
              0.8888888888888888,
              "#fdca26"
             ],
             [
              1,
              "#f0f921"
             ]
            ],
            "type": "heatmap"
           }
          ],
          "heatmapgl": [
           {
            "colorbar": {
             "outlinewidth": 0,
             "ticks": ""
            },
            "colorscale": [
             [
              0,
              "#0d0887"
             ],
             [
              0.1111111111111111,
              "#46039f"
             ],
             [
              0.2222222222222222,
              "#7201a8"
             ],
             [
              0.3333333333333333,
              "#9c179e"
             ],
             [
              0.4444444444444444,
              "#bd3786"
             ],
             [
              0.5555555555555556,
              "#d8576b"
             ],
             [
              0.6666666666666666,
              "#ed7953"
             ],
             [
              0.7777777777777778,
              "#fb9f3a"
             ],
             [
              0.8888888888888888,
              "#fdca26"
             ],
             [
              1,
              "#f0f921"
             ]
            ],
            "type": "heatmapgl"
           }
          ],
          "histogram": [
           {
            "marker": {
             "pattern": {
              "fillmode": "overlay",
              "size": 10,
              "solidity": 0.2
             }
            },
            "type": "histogram"
           }
          ],
          "histogram2d": [
           {
            "colorbar": {
             "outlinewidth": 0,
             "ticks": ""
            },
            "colorscale": [
             [
              0,
              "#0d0887"
             ],
             [
              0.1111111111111111,
              "#46039f"
             ],
             [
              0.2222222222222222,
              "#7201a8"
             ],
             [
              0.3333333333333333,
              "#9c179e"
             ],
             [
              0.4444444444444444,
              "#bd3786"
             ],
             [
              0.5555555555555556,
              "#d8576b"
             ],
             [
              0.6666666666666666,
              "#ed7953"
             ],
             [
              0.7777777777777778,
              "#fb9f3a"
             ],
             [
              0.8888888888888888,
              "#fdca26"
             ],
             [
              1,
              "#f0f921"
             ]
            ],
            "type": "histogram2d"
           }
          ],
          "histogram2dcontour": [
           {
            "colorbar": {
             "outlinewidth": 0,
             "ticks": ""
            },
            "colorscale": [
             [
              0,
              "#0d0887"
             ],
             [
              0.1111111111111111,
              "#46039f"
             ],
             [
              0.2222222222222222,
              "#7201a8"
             ],
             [
              0.3333333333333333,
              "#9c179e"
             ],
             [
              0.4444444444444444,
              "#bd3786"
             ],
             [
              0.5555555555555556,
              "#d8576b"
             ],
             [
              0.6666666666666666,
              "#ed7953"
             ],
             [
              0.7777777777777778,
              "#fb9f3a"
             ],
             [
              0.8888888888888888,
              "#fdca26"
             ],
             [
              1,
              "#f0f921"
             ]
            ],
            "type": "histogram2dcontour"
           }
          ],
          "mesh3d": [
           {
            "colorbar": {
             "outlinewidth": 0,
             "ticks": ""
            },
            "type": "mesh3d"
           }
          ],
          "parcoords": [
           {
            "line": {
             "colorbar": {
              "outlinewidth": 0,
              "ticks": ""
             }
            },
            "type": "parcoords"
           }
          ],
          "pie": [
           {
            "automargin": true,
            "type": "pie"
           }
          ],
          "scatter": [
           {
            "fillpattern": {
             "fillmode": "overlay",
             "size": 10,
             "solidity": 0.2
            },
            "type": "scatter"
           }
          ],
          "scatter3d": [
           {
            "line": {
             "colorbar": {
              "outlinewidth": 0,
              "ticks": ""
             }
            },
            "marker": {
             "colorbar": {
              "outlinewidth": 0,
              "ticks": ""
             }
            },
            "type": "scatter3d"
           }
          ],
          "scattercarpet": [
           {
            "marker": {
             "colorbar": {
              "outlinewidth": 0,
              "ticks": ""
             }
            },
            "type": "scattercarpet"
           }
          ],
          "scattergeo": [
           {
            "marker": {
             "colorbar": {
              "outlinewidth": 0,
              "ticks": ""
             }
            },
            "type": "scattergeo"
           }
          ],
          "scattergl": [
           {
            "marker": {
             "colorbar": {
              "outlinewidth": 0,
              "ticks": ""
             }
            },
            "type": "scattergl"
           }
          ],
          "scattermapbox": [
           {
            "marker": {
             "colorbar": {
              "outlinewidth": 0,
              "ticks": ""
             }
            },
            "type": "scattermapbox"
           }
          ],
          "scatterpolar": [
           {
            "marker": {
             "colorbar": {
              "outlinewidth": 0,
              "ticks": ""
             }
            },
            "type": "scatterpolar"
           }
          ],
          "scatterpolargl": [
           {
            "marker": {
             "colorbar": {
              "outlinewidth": 0,
              "ticks": ""
             }
            },
            "type": "scatterpolargl"
           }
          ],
          "scatterternary": [
           {
            "marker": {
             "colorbar": {
              "outlinewidth": 0,
              "ticks": ""
             }
            },
            "type": "scatterternary"
           }
          ],
          "surface": [
           {
            "colorbar": {
             "outlinewidth": 0,
             "ticks": ""
            },
            "colorscale": [
             [
              0,
              "#0d0887"
             ],
             [
              0.1111111111111111,
              "#46039f"
             ],
             [
              0.2222222222222222,
              "#7201a8"
             ],
             [
              0.3333333333333333,
              "#9c179e"
             ],
             [
              0.4444444444444444,
              "#bd3786"
             ],
             [
              0.5555555555555556,
              "#d8576b"
             ],
             [
              0.6666666666666666,
              "#ed7953"
             ],
             [
              0.7777777777777778,
              "#fb9f3a"
             ],
             [
              0.8888888888888888,
              "#fdca26"
             ],
             [
              1,
              "#f0f921"
             ]
            ],
            "type": "surface"
           }
          ],
          "table": [
           {
            "cells": {
             "fill": {
              "color": "#EBF0F8"
             },
             "line": {
              "color": "white"
             }
            },
            "header": {
             "fill": {
              "color": "#C8D4E3"
             },
             "line": {
              "color": "white"
             }
            },
            "type": "table"
           }
          ]
         },
         "layout": {
          "annotationdefaults": {
           "arrowcolor": "#2a3f5f",
           "arrowhead": 0,
           "arrowwidth": 1
          },
          "autotypenumbers": "strict",
          "coloraxis": {
           "colorbar": {
            "outlinewidth": 0,
            "ticks": ""
           }
          },
          "colorscale": {
           "diverging": [
            [
             0,
             "#8e0152"
            ],
            [
             0.1,
             "#c51b7d"
            ],
            [
             0.2,
             "#de77ae"
            ],
            [
             0.3,
             "#f1b6da"
            ],
            [
             0.4,
             "#fde0ef"
            ],
            [
             0.5,
             "#f7f7f7"
            ],
            [
             0.6,
             "#e6f5d0"
            ],
            [
             0.7,
             "#b8e186"
            ],
            [
             0.8,
             "#7fbc41"
            ],
            [
             0.9,
             "#4d9221"
            ],
            [
             1,
             "#276419"
            ]
           ],
           "sequential": [
            [
             0,
             "#0d0887"
            ],
            [
             0.1111111111111111,
             "#46039f"
            ],
            [
             0.2222222222222222,
             "#7201a8"
            ],
            [
             0.3333333333333333,
             "#9c179e"
            ],
            [
             0.4444444444444444,
             "#bd3786"
            ],
            [
             0.5555555555555556,
             "#d8576b"
            ],
            [
             0.6666666666666666,
             "#ed7953"
            ],
            [
             0.7777777777777778,
             "#fb9f3a"
            ],
            [
             0.8888888888888888,
             "#fdca26"
            ],
            [
             1,
             "#f0f921"
            ]
           ],
           "sequentialminus": [
            [
             0,
             "#0d0887"
            ],
            [
             0.1111111111111111,
             "#46039f"
            ],
            [
             0.2222222222222222,
             "#7201a8"
            ],
            [
             0.3333333333333333,
             "#9c179e"
            ],
            [
             0.4444444444444444,
             "#bd3786"
            ],
            [
             0.5555555555555556,
             "#d8576b"
            ],
            [
             0.6666666666666666,
             "#ed7953"
            ],
            [
             0.7777777777777778,
             "#fb9f3a"
            ],
            [
             0.8888888888888888,
             "#fdca26"
            ],
            [
             1,
             "#f0f921"
            ]
           ]
          },
          "colorway": [
           "#636efa",
           "#EF553B",
           "#00cc96",
           "#ab63fa",
           "#FFA15A",
           "#19d3f3",
           "#FF6692",
           "#B6E880",
           "#FF97FF",
           "#FECB52"
          ],
          "font": {
           "color": "#2a3f5f"
          },
          "geo": {
           "bgcolor": "white",
           "lakecolor": "white",
           "landcolor": "#E5ECF6",
           "showlakes": true,
           "showland": true,
           "subunitcolor": "white"
          },
          "hoverlabel": {
           "align": "left"
          },
          "hovermode": "closest",
          "mapbox": {
           "style": "light"
          },
          "paper_bgcolor": "white",
          "plot_bgcolor": "#E5ECF6",
          "polar": {
           "angularaxis": {
            "gridcolor": "white",
            "linecolor": "white",
            "ticks": ""
           },
           "bgcolor": "#E5ECF6",
           "radialaxis": {
            "gridcolor": "white",
            "linecolor": "white",
            "ticks": ""
           }
          },
          "scene": {
           "xaxis": {
            "backgroundcolor": "#E5ECF6",
            "gridcolor": "white",
            "gridwidth": 2,
            "linecolor": "white",
            "showbackground": true,
            "ticks": "",
            "zerolinecolor": "white"
           },
           "yaxis": {
            "backgroundcolor": "#E5ECF6",
            "gridcolor": "white",
            "gridwidth": 2,
            "linecolor": "white",
            "showbackground": true,
            "ticks": "",
            "zerolinecolor": "white"
           },
           "zaxis": {
            "backgroundcolor": "#E5ECF6",
            "gridcolor": "white",
            "gridwidth": 2,
            "linecolor": "white",
            "showbackground": true,
            "ticks": "",
            "zerolinecolor": "white"
           }
          },
          "shapedefaults": {
           "line": {
            "color": "#2a3f5f"
           }
          },
          "ternary": {
           "aaxis": {
            "gridcolor": "white",
            "linecolor": "white",
            "ticks": ""
           },
           "baxis": {
            "gridcolor": "white",
            "linecolor": "white",
            "ticks": ""
           },
           "bgcolor": "#E5ECF6",
           "caxis": {
            "gridcolor": "white",
            "linecolor": "white",
            "ticks": ""
           }
          },
          "title": {
           "x": 0.05
          },
          "xaxis": {
           "automargin": true,
           "gridcolor": "white",
           "linecolor": "white",
           "ticks": "",
           "title": {
            "standoff": 15
           },
           "zerolinecolor": "white",
           "zerolinewidth": 2
          },
          "yaxis": {
           "automargin": true,
           "gridcolor": "white",
           "linecolor": "white",
           "ticks": "",
           "title": {
            "standoff": 15
           },
           "zerolinecolor": "white",
           "zerolinewidth": 2
          }
         }
        },
        "xaxis": {
         "anchor": "y",
         "domain": [
          0,
          1
         ],
         "title": {
          "text": "x"
         }
        },
        "yaxis": {
         "anchor": "x",
         "domain": [
          0,
          1
         ],
         "title": {
          "text": "y"
         }
        }
       }
      }
     },
     "metadata": {},
     "output_type": "display_data"
    }
   ],
   "source": [
    "# plot bar chart of Family column (x values, y counts)\n",
    "stats = df[col_name].value_counts().to_dict()\n",
    "stats = {str(k): v for k, v in stats.items()}\n",
    "stats['nan'] = df[col_name].isna().sum()\n",
    "fig = px.bar(x=list(stats.keys()), y=list(stats.values()))\n",
    "fig.show()"
   ]
  },
  {
   "cell_type": "code",
   "execution_count": 503,
   "id": "844ed70f",
   "metadata": {},
   "outputs": [],
   "source": [
    "# fill\n"
   ]
  },
  {
   "cell_type": "code",
   "execution_count": null,
   "id": "fca88523",
   "metadata": {},
   "outputs": [],
   "source": []
  },
  {
   "cell_type": "markdown",
   "id": "192852bb",
   "metadata": {},
   "source": [
    "### agehysterectomy"
   ]
  },
  {
   "cell_type": "code",
   "execution_count": 504,
   "id": "639cc2f4",
   "metadata": {},
   "outputs": [
    {
     "name": "stdout",
     "output_type": "stream",
     "text": [
      "Number of nan values in agehysterectomy column:  2582\n",
      "Proportion of nan values in agehysterectomy column:  0.6872504657971786\n",
      "float64\n"
     ]
    }
   ],
   "source": [
    "col_name = 'agehysterectomy'\n",
    "print(f'Number of nan values in {col_name} column: ', df[col_name].isna().sum())\n",
    "print(f'Proportion of nan values in {col_name} column: ', df[col_name].isna().sum() / df.shape[0])\n",
    "print(df[col_name].dtype)"
   ]
  },
  {
   "cell_type": "code",
   "execution_count": 505,
   "id": "9a2f39a9",
   "metadata": {},
   "outputs": [
    {
     "data": {
      "text/plain": [
       "0.0     1028\n",
       "45.0      16\n",
       "48.0      15\n",
       "40.0      15\n",
       "42.0      11\n",
       "49.0       9\n",
       "44.0       8\n",
       "50.0       7\n",
       "47.0       7\n",
       "46.0       6\n",
       "51.0       5\n",
       "43.0       5\n",
       "41.0       4\n",
       "52.0       3\n",
       "54.0       3\n",
       "30.0       3\n",
       "38.0       3\n",
       "35.0       3\n",
       "55.0       2\n",
       "39.0       2\n",
       "32.0       2\n",
       "58.0       2\n",
       "37.0       2\n",
       "56.0       2\n",
       "57.0       2\n",
       "53.0       1\n",
       "62.0       1\n",
       "59.0       1\n",
       "36.0       1\n",
       "82.0       1\n",
       "31.0       1\n",
       "61.0       1\n",
       "33.0       1\n",
       "34.0       1\n",
       "1.0        1\n",
       "Name: agehysterectomy, dtype: int64"
      ]
     },
     "execution_count": 505,
     "metadata": {},
     "output_type": "execute_result"
    }
   ],
   "source": [
    "df[col_name].value_counts()"
   ]
  },
  {
   "cell_type": "code",
   "execution_count": 506,
   "id": "a61cc792",
   "metadata": {},
   "outputs": [
    {
     "data": {
      "application/vnd.plotly.v1+json": {
       "config": {
        "plotlyServerURL": "https://plot.ly"
       },
       "data": [
        {
         "alignmentgroup": "True",
         "hovertemplate": "x=%{x}<br>y=%{y}<extra></extra>",
         "legendgroup": "",
         "marker": {
          "color": "#636efa",
          "pattern": {
           "shape": ""
          }
         },
         "name": "",
         "offsetgroup": "",
         "orientation": "v",
         "showlegend": false,
         "textposition": "auto",
         "type": "bar",
         "x": [
          "0.0",
          "45.0",
          "48.0",
          "40.0",
          "42.0",
          "49.0",
          "44.0",
          "50.0",
          "47.0",
          "46.0",
          "51.0",
          "43.0",
          "41.0",
          "52.0",
          "54.0",
          "30.0",
          "38.0",
          "35.0",
          "55.0",
          "39.0",
          "32.0",
          "58.0",
          "37.0",
          "56.0",
          "57.0",
          "53.0",
          "62.0",
          "59.0",
          "36.0",
          "82.0",
          "31.0",
          "61.0",
          "33.0",
          "34.0",
          "1.0",
          "nan"
         ],
         "xaxis": "x",
         "y": [
          1028,
          16,
          15,
          15,
          11,
          9,
          8,
          7,
          7,
          6,
          5,
          5,
          4,
          3,
          3,
          3,
          3,
          3,
          2,
          2,
          2,
          2,
          2,
          2,
          2,
          1,
          1,
          1,
          1,
          1,
          1,
          1,
          1,
          1,
          1,
          2582
         ],
         "yaxis": "y"
        }
       ],
       "layout": {
        "barmode": "relative",
        "legend": {
         "tracegroupgap": 0
        },
        "margin": {
         "t": 60
        },
        "template": {
         "data": {
          "bar": [
           {
            "error_x": {
             "color": "#2a3f5f"
            },
            "error_y": {
             "color": "#2a3f5f"
            },
            "marker": {
             "line": {
              "color": "#E5ECF6",
              "width": 0.5
             },
             "pattern": {
              "fillmode": "overlay",
              "size": 10,
              "solidity": 0.2
             }
            },
            "type": "bar"
           }
          ],
          "barpolar": [
           {
            "marker": {
             "line": {
              "color": "#E5ECF6",
              "width": 0.5
             },
             "pattern": {
              "fillmode": "overlay",
              "size": 10,
              "solidity": 0.2
             }
            },
            "type": "barpolar"
           }
          ],
          "carpet": [
           {
            "aaxis": {
             "endlinecolor": "#2a3f5f",
             "gridcolor": "white",
             "linecolor": "white",
             "minorgridcolor": "white",
             "startlinecolor": "#2a3f5f"
            },
            "baxis": {
             "endlinecolor": "#2a3f5f",
             "gridcolor": "white",
             "linecolor": "white",
             "minorgridcolor": "white",
             "startlinecolor": "#2a3f5f"
            },
            "type": "carpet"
           }
          ],
          "choropleth": [
           {
            "colorbar": {
             "outlinewidth": 0,
             "ticks": ""
            },
            "type": "choropleth"
           }
          ],
          "contour": [
           {
            "colorbar": {
             "outlinewidth": 0,
             "ticks": ""
            },
            "colorscale": [
             [
              0,
              "#0d0887"
             ],
             [
              0.1111111111111111,
              "#46039f"
             ],
             [
              0.2222222222222222,
              "#7201a8"
             ],
             [
              0.3333333333333333,
              "#9c179e"
             ],
             [
              0.4444444444444444,
              "#bd3786"
             ],
             [
              0.5555555555555556,
              "#d8576b"
             ],
             [
              0.6666666666666666,
              "#ed7953"
             ],
             [
              0.7777777777777778,
              "#fb9f3a"
             ],
             [
              0.8888888888888888,
              "#fdca26"
             ],
             [
              1,
              "#f0f921"
             ]
            ],
            "type": "contour"
           }
          ],
          "contourcarpet": [
           {
            "colorbar": {
             "outlinewidth": 0,
             "ticks": ""
            },
            "type": "contourcarpet"
           }
          ],
          "heatmap": [
           {
            "colorbar": {
             "outlinewidth": 0,
             "ticks": ""
            },
            "colorscale": [
             [
              0,
              "#0d0887"
             ],
             [
              0.1111111111111111,
              "#46039f"
             ],
             [
              0.2222222222222222,
              "#7201a8"
             ],
             [
              0.3333333333333333,
              "#9c179e"
             ],
             [
              0.4444444444444444,
              "#bd3786"
             ],
             [
              0.5555555555555556,
              "#d8576b"
             ],
             [
              0.6666666666666666,
              "#ed7953"
             ],
             [
              0.7777777777777778,
              "#fb9f3a"
             ],
             [
              0.8888888888888888,
              "#fdca26"
             ],
             [
              1,
              "#f0f921"
             ]
            ],
            "type": "heatmap"
           }
          ],
          "heatmapgl": [
           {
            "colorbar": {
             "outlinewidth": 0,
             "ticks": ""
            },
            "colorscale": [
             [
              0,
              "#0d0887"
             ],
             [
              0.1111111111111111,
              "#46039f"
             ],
             [
              0.2222222222222222,
              "#7201a8"
             ],
             [
              0.3333333333333333,
              "#9c179e"
             ],
             [
              0.4444444444444444,
              "#bd3786"
             ],
             [
              0.5555555555555556,
              "#d8576b"
             ],
             [
              0.6666666666666666,
              "#ed7953"
             ],
             [
              0.7777777777777778,
              "#fb9f3a"
             ],
             [
              0.8888888888888888,
              "#fdca26"
             ],
             [
              1,
              "#f0f921"
             ]
            ],
            "type": "heatmapgl"
           }
          ],
          "histogram": [
           {
            "marker": {
             "pattern": {
              "fillmode": "overlay",
              "size": 10,
              "solidity": 0.2
             }
            },
            "type": "histogram"
           }
          ],
          "histogram2d": [
           {
            "colorbar": {
             "outlinewidth": 0,
             "ticks": ""
            },
            "colorscale": [
             [
              0,
              "#0d0887"
             ],
             [
              0.1111111111111111,
              "#46039f"
             ],
             [
              0.2222222222222222,
              "#7201a8"
             ],
             [
              0.3333333333333333,
              "#9c179e"
             ],
             [
              0.4444444444444444,
              "#bd3786"
             ],
             [
              0.5555555555555556,
              "#d8576b"
             ],
             [
              0.6666666666666666,
              "#ed7953"
             ],
             [
              0.7777777777777778,
              "#fb9f3a"
             ],
             [
              0.8888888888888888,
              "#fdca26"
             ],
             [
              1,
              "#f0f921"
             ]
            ],
            "type": "histogram2d"
           }
          ],
          "histogram2dcontour": [
           {
            "colorbar": {
             "outlinewidth": 0,
             "ticks": ""
            },
            "colorscale": [
             [
              0,
              "#0d0887"
             ],
             [
              0.1111111111111111,
              "#46039f"
             ],
             [
              0.2222222222222222,
              "#7201a8"
             ],
             [
              0.3333333333333333,
              "#9c179e"
             ],
             [
              0.4444444444444444,
              "#bd3786"
             ],
             [
              0.5555555555555556,
              "#d8576b"
             ],
             [
              0.6666666666666666,
              "#ed7953"
             ],
             [
              0.7777777777777778,
              "#fb9f3a"
             ],
             [
              0.8888888888888888,
              "#fdca26"
             ],
             [
              1,
              "#f0f921"
             ]
            ],
            "type": "histogram2dcontour"
           }
          ],
          "mesh3d": [
           {
            "colorbar": {
             "outlinewidth": 0,
             "ticks": ""
            },
            "type": "mesh3d"
           }
          ],
          "parcoords": [
           {
            "line": {
             "colorbar": {
              "outlinewidth": 0,
              "ticks": ""
             }
            },
            "type": "parcoords"
           }
          ],
          "pie": [
           {
            "automargin": true,
            "type": "pie"
           }
          ],
          "scatter": [
           {
            "fillpattern": {
             "fillmode": "overlay",
             "size": 10,
             "solidity": 0.2
            },
            "type": "scatter"
           }
          ],
          "scatter3d": [
           {
            "line": {
             "colorbar": {
              "outlinewidth": 0,
              "ticks": ""
             }
            },
            "marker": {
             "colorbar": {
              "outlinewidth": 0,
              "ticks": ""
             }
            },
            "type": "scatter3d"
           }
          ],
          "scattercarpet": [
           {
            "marker": {
             "colorbar": {
              "outlinewidth": 0,
              "ticks": ""
             }
            },
            "type": "scattercarpet"
           }
          ],
          "scattergeo": [
           {
            "marker": {
             "colorbar": {
              "outlinewidth": 0,
              "ticks": ""
             }
            },
            "type": "scattergeo"
           }
          ],
          "scattergl": [
           {
            "marker": {
             "colorbar": {
              "outlinewidth": 0,
              "ticks": ""
             }
            },
            "type": "scattergl"
           }
          ],
          "scattermapbox": [
           {
            "marker": {
             "colorbar": {
              "outlinewidth": 0,
              "ticks": ""
             }
            },
            "type": "scattermapbox"
           }
          ],
          "scatterpolar": [
           {
            "marker": {
             "colorbar": {
              "outlinewidth": 0,
              "ticks": ""
             }
            },
            "type": "scatterpolar"
           }
          ],
          "scatterpolargl": [
           {
            "marker": {
             "colorbar": {
              "outlinewidth": 0,
              "ticks": ""
             }
            },
            "type": "scatterpolargl"
           }
          ],
          "scatterternary": [
           {
            "marker": {
             "colorbar": {
              "outlinewidth": 0,
              "ticks": ""
             }
            },
            "type": "scatterternary"
           }
          ],
          "surface": [
           {
            "colorbar": {
             "outlinewidth": 0,
             "ticks": ""
            },
            "colorscale": [
             [
              0,
              "#0d0887"
             ],
             [
              0.1111111111111111,
              "#46039f"
             ],
             [
              0.2222222222222222,
              "#7201a8"
             ],
             [
              0.3333333333333333,
              "#9c179e"
             ],
             [
              0.4444444444444444,
              "#bd3786"
             ],
             [
              0.5555555555555556,
              "#d8576b"
             ],
             [
              0.6666666666666666,
              "#ed7953"
             ],
             [
              0.7777777777777778,
              "#fb9f3a"
             ],
             [
              0.8888888888888888,
              "#fdca26"
             ],
             [
              1,
              "#f0f921"
             ]
            ],
            "type": "surface"
           }
          ],
          "table": [
           {
            "cells": {
             "fill": {
              "color": "#EBF0F8"
             },
             "line": {
              "color": "white"
             }
            },
            "header": {
             "fill": {
              "color": "#C8D4E3"
             },
             "line": {
              "color": "white"
             }
            },
            "type": "table"
           }
          ]
         },
         "layout": {
          "annotationdefaults": {
           "arrowcolor": "#2a3f5f",
           "arrowhead": 0,
           "arrowwidth": 1
          },
          "autotypenumbers": "strict",
          "coloraxis": {
           "colorbar": {
            "outlinewidth": 0,
            "ticks": ""
           }
          },
          "colorscale": {
           "diverging": [
            [
             0,
             "#8e0152"
            ],
            [
             0.1,
             "#c51b7d"
            ],
            [
             0.2,
             "#de77ae"
            ],
            [
             0.3,
             "#f1b6da"
            ],
            [
             0.4,
             "#fde0ef"
            ],
            [
             0.5,
             "#f7f7f7"
            ],
            [
             0.6,
             "#e6f5d0"
            ],
            [
             0.7,
             "#b8e186"
            ],
            [
             0.8,
             "#7fbc41"
            ],
            [
             0.9,
             "#4d9221"
            ],
            [
             1,
             "#276419"
            ]
           ],
           "sequential": [
            [
             0,
             "#0d0887"
            ],
            [
             0.1111111111111111,
             "#46039f"
            ],
            [
             0.2222222222222222,
             "#7201a8"
            ],
            [
             0.3333333333333333,
             "#9c179e"
            ],
            [
             0.4444444444444444,
             "#bd3786"
            ],
            [
             0.5555555555555556,
             "#d8576b"
            ],
            [
             0.6666666666666666,
             "#ed7953"
            ],
            [
             0.7777777777777778,
             "#fb9f3a"
            ],
            [
             0.8888888888888888,
             "#fdca26"
            ],
            [
             1,
             "#f0f921"
            ]
           ],
           "sequentialminus": [
            [
             0,
             "#0d0887"
            ],
            [
             0.1111111111111111,
             "#46039f"
            ],
            [
             0.2222222222222222,
             "#7201a8"
            ],
            [
             0.3333333333333333,
             "#9c179e"
            ],
            [
             0.4444444444444444,
             "#bd3786"
            ],
            [
             0.5555555555555556,
             "#d8576b"
            ],
            [
             0.6666666666666666,
             "#ed7953"
            ],
            [
             0.7777777777777778,
             "#fb9f3a"
            ],
            [
             0.8888888888888888,
             "#fdca26"
            ],
            [
             1,
             "#f0f921"
            ]
           ]
          },
          "colorway": [
           "#636efa",
           "#EF553B",
           "#00cc96",
           "#ab63fa",
           "#FFA15A",
           "#19d3f3",
           "#FF6692",
           "#B6E880",
           "#FF97FF",
           "#FECB52"
          ],
          "font": {
           "color": "#2a3f5f"
          },
          "geo": {
           "bgcolor": "white",
           "lakecolor": "white",
           "landcolor": "#E5ECF6",
           "showlakes": true,
           "showland": true,
           "subunitcolor": "white"
          },
          "hoverlabel": {
           "align": "left"
          },
          "hovermode": "closest",
          "mapbox": {
           "style": "light"
          },
          "paper_bgcolor": "white",
          "plot_bgcolor": "#E5ECF6",
          "polar": {
           "angularaxis": {
            "gridcolor": "white",
            "linecolor": "white",
            "ticks": ""
           },
           "bgcolor": "#E5ECF6",
           "radialaxis": {
            "gridcolor": "white",
            "linecolor": "white",
            "ticks": ""
           }
          },
          "scene": {
           "xaxis": {
            "backgroundcolor": "#E5ECF6",
            "gridcolor": "white",
            "gridwidth": 2,
            "linecolor": "white",
            "showbackground": true,
            "ticks": "",
            "zerolinecolor": "white"
           },
           "yaxis": {
            "backgroundcolor": "#E5ECF6",
            "gridcolor": "white",
            "gridwidth": 2,
            "linecolor": "white",
            "showbackground": true,
            "ticks": "",
            "zerolinecolor": "white"
           },
           "zaxis": {
            "backgroundcolor": "#E5ECF6",
            "gridcolor": "white",
            "gridwidth": 2,
            "linecolor": "white",
            "showbackground": true,
            "ticks": "",
            "zerolinecolor": "white"
           }
          },
          "shapedefaults": {
           "line": {
            "color": "#2a3f5f"
           }
          },
          "ternary": {
           "aaxis": {
            "gridcolor": "white",
            "linecolor": "white",
            "ticks": ""
           },
           "baxis": {
            "gridcolor": "white",
            "linecolor": "white",
            "ticks": ""
           },
           "bgcolor": "#E5ECF6",
           "caxis": {
            "gridcolor": "white",
            "linecolor": "white",
            "ticks": ""
           }
          },
          "title": {
           "x": 0.05
          },
          "xaxis": {
           "automargin": true,
           "gridcolor": "white",
           "linecolor": "white",
           "ticks": "",
           "title": {
            "standoff": 15
           },
           "zerolinecolor": "white",
           "zerolinewidth": 2
          },
          "yaxis": {
           "automargin": true,
           "gridcolor": "white",
           "linecolor": "white",
           "ticks": "",
           "title": {
            "standoff": 15
           },
           "zerolinecolor": "white",
           "zerolinewidth": 2
          }
         }
        },
        "xaxis": {
         "anchor": "y",
         "domain": [
          0,
          1
         ],
         "title": {
          "text": "x"
         }
        },
        "yaxis": {
         "anchor": "x",
         "domain": [
          0,
          1
         ],
         "title": {
          "text": "y"
         }
        }
       }
      }
     },
     "metadata": {},
     "output_type": "display_data"
    }
   ],
   "source": [
    "# plot bar chart of Family column (x values, y counts)\n",
    "stats = df[col_name].value_counts().to_dict()\n",
    "stats = {str(k): v for k, v in stats.items()}\n",
    "stats['nan'] = df[col_name].isna().sum()\n",
    "fig = px.bar(x=list(stats.keys()), y=list(stats.values()))\n",
    "fig.show()"
   ]
  },
  {
   "cell_type": "code",
   "execution_count": 507,
   "id": "1e140c3c",
   "metadata": {},
   "outputs": [],
   "source": [
    "# fill\n"
   ]
  },
  {
   "cell_type": "code",
   "execution_count": null,
   "id": "c1d57ab5",
   "metadata": {},
   "outputs": [],
   "source": []
  },
  {
   "cell_type": "markdown",
   "id": "1d0090e3",
   "metadata": {},
   "source": [
    "### birthday"
   ]
  },
  {
   "cell_type": "code",
   "execution_count": 508,
   "id": "a293c95d",
   "metadata": {},
   "outputs": [
    {
     "name": "stdout",
     "output_type": "stream",
     "text": [
      "Number of nan values in birthday column:  56\n",
      "Proportion of nan values in birthday column:  0.014905509715198297\n",
      "float64\n"
     ]
    }
   ],
   "source": [
    "col_name = 'birthday'\n",
    "print(f'Number of nan values in {col_name} column: ', df[col_name].isna().sum())\n",
    "print(f'Proportion of nan values in {col_name} column: ', df[col_name].isna().sum() / df.shape[0])\n",
    "print(df[col_name].dtype)"
   ]
  },
  {
   "cell_type": "code",
   "execution_count": 509,
   "id": "0d22ad79",
   "metadata": {},
   "outputs": [
    {
     "data": {
      "text/plain": [
       "0.0        207\n",
       "1345.0     123\n",
       "1337.0     121\n",
       "1341.0     120\n",
       "1339.0     117\n",
       "          ... \n",
       "35.0         1\n",
       "1302.0       1\n",
       "1371.0       1\n",
       "13337.0      1\n",
       "39.0         1\n",
       "Name: birthday, Length: 77, dtype: int64"
      ]
     },
     "execution_count": 509,
     "metadata": {},
     "output_type": "execute_result"
    }
   ],
   "source": [
    "df[col_name].value_counts()"
   ]
  },
  {
   "cell_type": "code",
   "execution_count": 510,
   "id": "b8c912e2",
   "metadata": {},
   "outputs": [
    {
     "data": {
      "application/vnd.plotly.v1+json": {
       "config": {
        "plotlyServerURL": "https://plot.ly"
       },
       "data": [
        {
         "alignmentgroup": "True",
         "hovertemplate": "x=%{x}<br>y=%{y}<extra></extra>",
         "legendgroup": "",
         "marker": {
          "color": "#636efa",
          "pattern": {
           "shape": ""
          }
         },
         "name": "",
         "offsetgroup": "",
         "orientation": "v",
         "showlegend": false,
         "textposition": "auto",
         "type": "bar",
         "x": [
          "0.0",
          "1345.0",
          "1337.0",
          "1341.0",
          "1339.0",
          "1336.0",
          "1340.0",
          "1343.0",
          "1346.0",
          "1344.0",
          "1349.0",
          "1347.0",
          "1342.0",
          "1348.0",
          "1338.0",
          "1350.0",
          "1332.0",
          "1335.0",
          "1352.0",
          "1333.0",
          "1353.0",
          "1351.0",
          "1355.0",
          "1334.0",
          "1331.0",
          "1330.0",
          "1354.0",
          "1329.0",
          "1356.0",
          "1328.0",
          "1326.0",
          "1327.0",
          "1357.0",
          "1358.0",
          "1359.0",
          "1360.0",
          "1323.0",
          "1325.0",
          "1322.0",
          "1321.0",
          "1361.0",
          "1324.0",
          "1319.0",
          "1320.0",
          "1313.0",
          "1363.0",
          "1316.0",
          "1315.0",
          "1314.0",
          "1362.0",
          "1310.0",
          "1318.0",
          "1317.0",
          "1366.0",
          "1364.0",
          "1311.0",
          "1365.0",
          "1312.0",
          "1308.0",
          "1309.0",
          "1367.0",
          "1306.0",
          "1369.0",
          "1305.0",
          "1304.0",
          "1368.0",
          "1300.0",
          "1307.0",
          "1370.0",
          "1303.0",
          "19.0",
          "1968.0",
          "35.0",
          "1302.0",
          "1371.0",
          "13337.0",
          "39.0",
          "nan"
         ],
         "xaxis": "x",
         "y": [
          207,
          123,
          121,
          120,
          117,
          114,
          113,
          112,
          110,
          110,
          107,
          106,
          100,
          100,
          96,
          95,
          93,
          88,
          86,
          83,
          81,
          81,
          75,
          74,
          70,
          67,
          65,
          63,
          60,
          59,
          53,
          50,
          47,
          47,
          42,
          42,
          37,
          37,
          36,
          35,
          30,
          30,
          27,
          27,
          22,
          19,
          18,
          17,
          15,
          15,
          13,
          13,
          13,
          12,
          11,
          11,
          10,
          9,
          9,
          8,
          7,
          7,
          6,
          5,
          4,
          3,
          3,
          3,
          3,
          2,
          1,
          1,
          1,
          1,
          1,
          1,
          1,
          56
         ],
         "yaxis": "y"
        }
       ],
       "layout": {
        "barmode": "relative",
        "legend": {
         "tracegroupgap": 0
        },
        "margin": {
         "t": 60
        },
        "template": {
         "data": {
          "bar": [
           {
            "error_x": {
             "color": "#2a3f5f"
            },
            "error_y": {
             "color": "#2a3f5f"
            },
            "marker": {
             "line": {
              "color": "#E5ECF6",
              "width": 0.5
             },
             "pattern": {
              "fillmode": "overlay",
              "size": 10,
              "solidity": 0.2
             }
            },
            "type": "bar"
           }
          ],
          "barpolar": [
           {
            "marker": {
             "line": {
              "color": "#E5ECF6",
              "width": 0.5
             },
             "pattern": {
              "fillmode": "overlay",
              "size": 10,
              "solidity": 0.2
             }
            },
            "type": "barpolar"
           }
          ],
          "carpet": [
           {
            "aaxis": {
             "endlinecolor": "#2a3f5f",
             "gridcolor": "white",
             "linecolor": "white",
             "minorgridcolor": "white",
             "startlinecolor": "#2a3f5f"
            },
            "baxis": {
             "endlinecolor": "#2a3f5f",
             "gridcolor": "white",
             "linecolor": "white",
             "minorgridcolor": "white",
             "startlinecolor": "#2a3f5f"
            },
            "type": "carpet"
           }
          ],
          "choropleth": [
           {
            "colorbar": {
             "outlinewidth": 0,
             "ticks": ""
            },
            "type": "choropleth"
           }
          ],
          "contour": [
           {
            "colorbar": {
             "outlinewidth": 0,
             "ticks": ""
            },
            "colorscale": [
             [
              0,
              "#0d0887"
             ],
             [
              0.1111111111111111,
              "#46039f"
             ],
             [
              0.2222222222222222,
              "#7201a8"
             ],
             [
              0.3333333333333333,
              "#9c179e"
             ],
             [
              0.4444444444444444,
              "#bd3786"
             ],
             [
              0.5555555555555556,
              "#d8576b"
             ],
             [
              0.6666666666666666,
              "#ed7953"
             ],
             [
              0.7777777777777778,
              "#fb9f3a"
             ],
             [
              0.8888888888888888,
              "#fdca26"
             ],
             [
              1,
              "#f0f921"
             ]
            ],
            "type": "contour"
           }
          ],
          "contourcarpet": [
           {
            "colorbar": {
             "outlinewidth": 0,
             "ticks": ""
            },
            "type": "contourcarpet"
           }
          ],
          "heatmap": [
           {
            "colorbar": {
             "outlinewidth": 0,
             "ticks": ""
            },
            "colorscale": [
             [
              0,
              "#0d0887"
             ],
             [
              0.1111111111111111,
              "#46039f"
             ],
             [
              0.2222222222222222,
              "#7201a8"
             ],
             [
              0.3333333333333333,
              "#9c179e"
             ],
             [
              0.4444444444444444,
              "#bd3786"
             ],
             [
              0.5555555555555556,
              "#d8576b"
             ],
             [
              0.6666666666666666,
              "#ed7953"
             ],
             [
              0.7777777777777778,
              "#fb9f3a"
             ],
             [
              0.8888888888888888,
              "#fdca26"
             ],
             [
              1,
              "#f0f921"
             ]
            ],
            "type": "heatmap"
           }
          ],
          "heatmapgl": [
           {
            "colorbar": {
             "outlinewidth": 0,
             "ticks": ""
            },
            "colorscale": [
             [
              0,
              "#0d0887"
             ],
             [
              0.1111111111111111,
              "#46039f"
             ],
             [
              0.2222222222222222,
              "#7201a8"
             ],
             [
              0.3333333333333333,
              "#9c179e"
             ],
             [
              0.4444444444444444,
              "#bd3786"
             ],
             [
              0.5555555555555556,
              "#d8576b"
             ],
             [
              0.6666666666666666,
              "#ed7953"
             ],
             [
              0.7777777777777778,
              "#fb9f3a"
             ],
             [
              0.8888888888888888,
              "#fdca26"
             ],
             [
              1,
              "#f0f921"
             ]
            ],
            "type": "heatmapgl"
           }
          ],
          "histogram": [
           {
            "marker": {
             "pattern": {
              "fillmode": "overlay",
              "size": 10,
              "solidity": 0.2
             }
            },
            "type": "histogram"
           }
          ],
          "histogram2d": [
           {
            "colorbar": {
             "outlinewidth": 0,
             "ticks": ""
            },
            "colorscale": [
             [
              0,
              "#0d0887"
             ],
             [
              0.1111111111111111,
              "#46039f"
             ],
             [
              0.2222222222222222,
              "#7201a8"
             ],
             [
              0.3333333333333333,
              "#9c179e"
             ],
             [
              0.4444444444444444,
              "#bd3786"
             ],
             [
              0.5555555555555556,
              "#d8576b"
             ],
             [
              0.6666666666666666,
              "#ed7953"
             ],
             [
              0.7777777777777778,
              "#fb9f3a"
             ],
             [
              0.8888888888888888,
              "#fdca26"
             ],
             [
              1,
              "#f0f921"
             ]
            ],
            "type": "histogram2d"
           }
          ],
          "histogram2dcontour": [
           {
            "colorbar": {
             "outlinewidth": 0,
             "ticks": ""
            },
            "colorscale": [
             [
              0,
              "#0d0887"
             ],
             [
              0.1111111111111111,
              "#46039f"
             ],
             [
              0.2222222222222222,
              "#7201a8"
             ],
             [
              0.3333333333333333,
              "#9c179e"
             ],
             [
              0.4444444444444444,
              "#bd3786"
             ],
             [
              0.5555555555555556,
              "#d8576b"
             ],
             [
              0.6666666666666666,
              "#ed7953"
             ],
             [
              0.7777777777777778,
              "#fb9f3a"
             ],
             [
              0.8888888888888888,
              "#fdca26"
             ],
             [
              1,
              "#f0f921"
             ]
            ],
            "type": "histogram2dcontour"
           }
          ],
          "mesh3d": [
           {
            "colorbar": {
             "outlinewidth": 0,
             "ticks": ""
            },
            "type": "mesh3d"
           }
          ],
          "parcoords": [
           {
            "line": {
             "colorbar": {
              "outlinewidth": 0,
              "ticks": ""
             }
            },
            "type": "parcoords"
           }
          ],
          "pie": [
           {
            "automargin": true,
            "type": "pie"
           }
          ],
          "scatter": [
           {
            "fillpattern": {
             "fillmode": "overlay",
             "size": 10,
             "solidity": 0.2
            },
            "type": "scatter"
           }
          ],
          "scatter3d": [
           {
            "line": {
             "colorbar": {
              "outlinewidth": 0,
              "ticks": ""
             }
            },
            "marker": {
             "colorbar": {
              "outlinewidth": 0,
              "ticks": ""
             }
            },
            "type": "scatter3d"
           }
          ],
          "scattercarpet": [
           {
            "marker": {
             "colorbar": {
              "outlinewidth": 0,
              "ticks": ""
             }
            },
            "type": "scattercarpet"
           }
          ],
          "scattergeo": [
           {
            "marker": {
             "colorbar": {
              "outlinewidth": 0,
              "ticks": ""
             }
            },
            "type": "scattergeo"
           }
          ],
          "scattergl": [
           {
            "marker": {
             "colorbar": {
              "outlinewidth": 0,
              "ticks": ""
             }
            },
            "type": "scattergl"
           }
          ],
          "scattermapbox": [
           {
            "marker": {
             "colorbar": {
              "outlinewidth": 0,
              "ticks": ""
             }
            },
            "type": "scattermapbox"
           }
          ],
          "scatterpolar": [
           {
            "marker": {
             "colorbar": {
              "outlinewidth": 0,
              "ticks": ""
             }
            },
            "type": "scatterpolar"
           }
          ],
          "scatterpolargl": [
           {
            "marker": {
             "colorbar": {
              "outlinewidth": 0,
              "ticks": ""
             }
            },
            "type": "scatterpolargl"
           }
          ],
          "scatterternary": [
           {
            "marker": {
             "colorbar": {
              "outlinewidth": 0,
              "ticks": ""
             }
            },
            "type": "scatterternary"
           }
          ],
          "surface": [
           {
            "colorbar": {
             "outlinewidth": 0,
             "ticks": ""
            },
            "colorscale": [
             [
              0,
              "#0d0887"
             ],
             [
              0.1111111111111111,
              "#46039f"
             ],
             [
              0.2222222222222222,
              "#7201a8"
             ],
             [
              0.3333333333333333,
              "#9c179e"
             ],
             [
              0.4444444444444444,
              "#bd3786"
             ],
             [
              0.5555555555555556,
              "#d8576b"
             ],
             [
              0.6666666666666666,
              "#ed7953"
             ],
             [
              0.7777777777777778,
              "#fb9f3a"
             ],
             [
              0.8888888888888888,
              "#fdca26"
             ],
             [
              1,
              "#f0f921"
             ]
            ],
            "type": "surface"
           }
          ],
          "table": [
           {
            "cells": {
             "fill": {
              "color": "#EBF0F8"
             },
             "line": {
              "color": "white"
             }
            },
            "header": {
             "fill": {
              "color": "#C8D4E3"
             },
             "line": {
              "color": "white"
             }
            },
            "type": "table"
           }
          ]
         },
         "layout": {
          "annotationdefaults": {
           "arrowcolor": "#2a3f5f",
           "arrowhead": 0,
           "arrowwidth": 1
          },
          "autotypenumbers": "strict",
          "coloraxis": {
           "colorbar": {
            "outlinewidth": 0,
            "ticks": ""
           }
          },
          "colorscale": {
           "diverging": [
            [
             0,
             "#8e0152"
            ],
            [
             0.1,
             "#c51b7d"
            ],
            [
             0.2,
             "#de77ae"
            ],
            [
             0.3,
             "#f1b6da"
            ],
            [
             0.4,
             "#fde0ef"
            ],
            [
             0.5,
             "#f7f7f7"
            ],
            [
             0.6,
             "#e6f5d0"
            ],
            [
             0.7,
             "#b8e186"
            ],
            [
             0.8,
             "#7fbc41"
            ],
            [
             0.9,
             "#4d9221"
            ],
            [
             1,
             "#276419"
            ]
           ],
           "sequential": [
            [
             0,
             "#0d0887"
            ],
            [
             0.1111111111111111,
             "#46039f"
            ],
            [
             0.2222222222222222,
             "#7201a8"
            ],
            [
             0.3333333333333333,
             "#9c179e"
            ],
            [
             0.4444444444444444,
             "#bd3786"
            ],
            [
             0.5555555555555556,
             "#d8576b"
            ],
            [
             0.6666666666666666,
             "#ed7953"
            ],
            [
             0.7777777777777778,
             "#fb9f3a"
            ],
            [
             0.8888888888888888,
             "#fdca26"
            ],
            [
             1,
             "#f0f921"
            ]
           ],
           "sequentialminus": [
            [
             0,
             "#0d0887"
            ],
            [
             0.1111111111111111,
             "#46039f"
            ],
            [
             0.2222222222222222,
             "#7201a8"
            ],
            [
             0.3333333333333333,
             "#9c179e"
            ],
            [
             0.4444444444444444,
             "#bd3786"
            ],
            [
             0.5555555555555556,
             "#d8576b"
            ],
            [
             0.6666666666666666,
             "#ed7953"
            ],
            [
             0.7777777777777778,
             "#fb9f3a"
            ],
            [
             0.8888888888888888,
             "#fdca26"
            ],
            [
             1,
             "#f0f921"
            ]
           ]
          },
          "colorway": [
           "#636efa",
           "#EF553B",
           "#00cc96",
           "#ab63fa",
           "#FFA15A",
           "#19d3f3",
           "#FF6692",
           "#B6E880",
           "#FF97FF",
           "#FECB52"
          ],
          "font": {
           "color": "#2a3f5f"
          },
          "geo": {
           "bgcolor": "white",
           "lakecolor": "white",
           "landcolor": "#E5ECF6",
           "showlakes": true,
           "showland": true,
           "subunitcolor": "white"
          },
          "hoverlabel": {
           "align": "left"
          },
          "hovermode": "closest",
          "mapbox": {
           "style": "light"
          },
          "paper_bgcolor": "white",
          "plot_bgcolor": "#E5ECF6",
          "polar": {
           "angularaxis": {
            "gridcolor": "white",
            "linecolor": "white",
            "ticks": ""
           },
           "bgcolor": "#E5ECF6",
           "radialaxis": {
            "gridcolor": "white",
            "linecolor": "white",
            "ticks": ""
           }
          },
          "scene": {
           "xaxis": {
            "backgroundcolor": "#E5ECF6",
            "gridcolor": "white",
            "gridwidth": 2,
            "linecolor": "white",
            "showbackground": true,
            "ticks": "",
            "zerolinecolor": "white"
           },
           "yaxis": {
            "backgroundcolor": "#E5ECF6",
            "gridcolor": "white",
            "gridwidth": 2,
            "linecolor": "white",
            "showbackground": true,
            "ticks": "",
            "zerolinecolor": "white"
           },
           "zaxis": {
            "backgroundcolor": "#E5ECF6",
            "gridcolor": "white",
            "gridwidth": 2,
            "linecolor": "white",
            "showbackground": true,
            "ticks": "",
            "zerolinecolor": "white"
           }
          },
          "shapedefaults": {
           "line": {
            "color": "#2a3f5f"
           }
          },
          "ternary": {
           "aaxis": {
            "gridcolor": "white",
            "linecolor": "white",
            "ticks": ""
           },
           "baxis": {
            "gridcolor": "white",
            "linecolor": "white",
            "ticks": ""
           },
           "bgcolor": "#E5ECF6",
           "caxis": {
            "gridcolor": "white",
            "linecolor": "white",
            "ticks": ""
           }
          },
          "title": {
           "x": 0.05
          },
          "xaxis": {
           "automargin": true,
           "gridcolor": "white",
           "linecolor": "white",
           "ticks": "",
           "title": {
            "standoff": 15
           },
           "zerolinecolor": "white",
           "zerolinewidth": 2
          },
          "yaxis": {
           "automargin": true,
           "gridcolor": "white",
           "linecolor": "white",
           "ticks": "",
           "title": {
            "standoff": 15
           },
           "zerolinecolor": "white",
           "zerolinewidth": 2
          }
         }
        },
        "xaxis": {
         "anchor": "y",
         "domain": [
          0,
          1
         ],
         "title": {
          "text": "x"
         }
        },
        "yaxis": {
         "anchor": "x",
         "domain": [
          0,
          1
         ],
         "title": {
          "text": "y"
         }
        }
       }
      }
     },
     "metadata": {},
     "output_type": "display_data"
    }
   ],
   "source": [
    "# plot bar chart of Family column (x values, y counts)\n",
    "stats = df[col_name].value_counts().to_dict()\n",
    "stats = {str(k): v for k, v in stats.items()}\n",
    "stats['nan'] = df[col_name].isna().sum()\n",
    "fig = px.bar(x=list(stats.keys()), y=list(stats.values()))\n",
    "fig.show()"
   ]
  },
  {
   "cell_type": "code",
   "execution_count": 511,
   "id": "e47031f3",
   "metadata": {},
   "outputs": [],
   "source": [
    "# fill\n"
   ]
  },
  {
   "cell_type": "code",
   "execution_count": null,
   "id": "25e58215",
   "metadata": {},
   "outputs": [],
   "source": []
  },
  {
   "cell_type": "markdown",
   "id": "ee3acf25",
   "metadata": {},
   "source": [
    "### cc"
   ]
  },
  {
   "cell_type": "code",
   "execution_count": 512,
   "id": "253b4209",
   "metadata": {},
   "outputs": [
    {
     "name": "stdout",
     "output_type": "stream",
     "text": [
      "Number of nan values in cc column:  709\n",
      "Proportion of nan values in cc column:  0.18871439978706414\n",
      "category\n"
     ]
    }
   ],
   "source": [
    "col_name = 'cc'\n",
    "print(f'Number of nan values in {col_name} column: ', df[col_name].isna().sum())\n",
    "print(f'Proportion of nan values in {col_name} column: ', df[col_name].isna().sum() / df.shape[0])\n",
    "print(df[col_name].dtype)"
   ]
  },
  {
   "cell_type": "code",
   "execution_count": 513,
   "id": "02365bc7",
   "metadata": {},
   "outputs": [
    {
     "data": {
      "text/plain": [
       "mass or thickening     1763\n",
       "followup                395\n",
       "screening               210\n",
       "pain                    196\n",
       "chemotherapy            100\n",
       "skin symptom             76\n",
       "others                   53\n",
       "discharge                52\n",
       "13.0                     48\n",
       "31.0                     41\n",
       "mass & skin symptom      33\n",
       "mass & discharge         19\n",
       "asymetry                  7\n",
       "11.0                      6\n",
       "41.0                      6\n",
       "16.0                      5\n",
       "17.0                      5\n",
       "nipple retraction         5\n",
       "21.0                      4\n",
       "23.0                      4\n",
       "34.0                      2\n",
       "43.0                      2\n",
       "33.0                      2\n",
       "123.0                     2\n",
       "36.0                      2\n",
       "46.0                      2\n",
       "37.0                      1\n",
       "32.0                      1\n",
       "431.0                     1\n",
       "150.0                     1\n",
       "136.0                     1\n",
       "134.0                     1\n",
       "15.0                      1\n",
       "42.0                      1\n",
       "Name: cc, dtype: int64"
      ]
     },
     "execution_count": 513,
     "metadata": {},
     "output_type": "execute_result"
    }
   ],
   "source": [
    "df[col_name].value_counts()"
   ]
  },
  {
   "cell_type": "code",
   "execution_count": 514,
   "id": "03ff0d52",
   "metadata": {},
   "outputs": [
    {
     "data": {
      "application/vnd.plotly.v1+json": {
       "config": {
        "plotlyServerURL": "https://plot.ly"
       },
       "data": [
        {
         "alignmentgroup": "True",
         "hovertemplate": "x=%{x}<br>y=%{y}<extra></extra>",
         "legendgroup": "",
         "marker": {
          "color": "#636efa",
          "pattern": {
           "shape": ""
          }
         },
         "name": "",
         "offsetgroup": "",
         "orientation": "v",
         "showlegend": false,
         "textposition": "auto",
         "type": "bar",
         "x": [
          "mass or thickening",
          "followup",
          "screening",
          "pain",
          "chemotherapy",
          "skin symptom",
          "others",
          "discharge",
          "13.0",
          "31.0",
          "mass & skin symptom",
          "mass & discharge",
          "asymetry",
          "11.0",
          "41.0",
          "16.0",
          "17.0",
          "nipple retraction",
          "21.0",
          "23.0",
          "34.0",
          "43.0",
          "33.0",
          "123.0",
          "36.0",
          "46.0",
          "37.0",
          "32.0",
          "431.0",
          "150.0",
          "136.0",
          "134.0",
          "15.0",
          "42.0",
          "nan"
         ],
         "xaxis": "x",
         "y": [
          1763,
          395,
          210,
          196,
          100,
          76,
          53,
          52,
          48,
          41,
          33,
          19,
          7,
          6,
          6,
          5,
          5,
          5,
          4,
          4,
          2,
          2,
          2,
          2,
          2,
          2,
          1,
          1,
          1,
          1,
          1,
          1,
          1,
          1,
          709
         ],
         "yaxis": "y"
        }
       ],
       "layout": {
        "barmode": "relative",
        "legend": {
         "tracegroupgap": 0
        },
        "margin": {
         "t": 60
        },
        "template": {
         "data": {
          "bar": [
           {
            "error_x": {
             "color": "#2a3f5f"
            },
            "error_y": {
             "color": "#2a3f5f"
            },
            "marker": {
             "line": {
              "color": "#E5ECF6",
              "width": 0.5
             },
             "pattern": {
              "fillmode": "overlay",
              "size": 10,
              "solidity": 0.2
             }
            },
            "type": "bar"
           }
          ],
          "barpolar": [
           {
            "marker": {
             "line": {
              "color": "#E5ECF6",
              "width": 0.5
             },
             "pattern": {
              "fillmode": "overlay",
              "size": 10,
              "solidity": 0.2
             }
            },
            "type": "barpolar"
           }
          ],
          "carpet": [
           {
            "aaxis": {
             "endlinecolor": "#2a3f5f",
             "gridcolor": "white",
             "linecolor": "white",
             "minorgridcolor": "white",
             "startlinecolor": "#2a3f5f"
            },
            "baxis": {
             "endlinecolor": "#2a3f5f",
             "gridcolor": "white",
             "linecolor": "white",
             "minorgridcolor": "white",
             "startlinecolor": "#2a3f5f"
            },
            "type": "carpet"
           }
          ],
          "choropleth": [
           {
            "colorbar": {
             "outlinewidth": 0,
             "ticks": ""
            },
            "type": "choropleth"
           }
          ],
          "contour": [
           {
            "colorbar": {
             "outlinewidth": 0,
             "ticks": ""
            },
            "colorscale": [
             [
              0,
              "#0d0887"
             ],
             [
              0.1111111111111111,
              "#46039f"
             ],
             [
              0.2222222222222222,
              "#7201a8"
             ],
             [
              0.3333333333333333,
              "#9c179e"
             ],
             [
              0.4444444444444444,
              "#bd3786"
             ],
             [
              0.5555555555555556,
              "#d8576b"
             ],
             [
              0.6666666666666666,
              "#ed7953"
             ],
             [
              0.7777777777777778,
              "#fb9f3a"
             ],
             [
              0.8888888888888888,
              "#fdca26"
             ],
             [
              1,
              "#f0f921"
             ]
            ],
            "type": "contour"
           }
          ],
          "contourcarpet": [
           {
            "colorbar": {
             "outlinewidth": 0,
             "ticks": ""
            },
            "type": "contourcarpet"
           }
          ],
          "heatmap": [
           {
            "colorbar": {
             "outlinewidth": 0,
             "ticks": ""
            },
            "colorscale": [
             [
              0,
              "#0d0887"
             ],
             [
              0.1111111111111111,
              "#46039f"
             ],
             [
              0.2222222222222222,
              "#7201a8"
             ],
             [
              0.3333333333333333,
              "#9c179e"
             ],
             [
              0.4444444444444444,
              "#bd3786"
             ],
             [
              0.5555555555555556,
              "#d8576b"
             ],
             [
              0.6666666666666666,
              "#ed7953"
             ],
             [
              0.7777777777777778,
              "#fb9f3a"
             ],
             [
              0.8888888888888888,
              "#fdca26"
             ],
             [
              1,
              "#f0f921"
             ]
            ],
            "type": "heatmap"
           }
          ],
          "heatmapgl": [
           {
            "colorbar": {
             "outlinewidth": 0,
             "ticks": ""
            },
            "colorscale": [
             [
              0,
              "#0d0887"
             ],
             [
              0.1111111111111111,
              "#46039f"
             ],
             [
              0.2222222222222222,
              "#7201a8"
             ],
             [
              0.3333333333333333,
              "#9c179e"
             ],
             [
              0.4444444444444444,
              "#bd3786"
             ],
             [
              0.5555555555555556,
              "#d8576b"
             ],
             [
              0.6666666666666666,
              "#ed7953"
             ],
             [
              0.7777777777777778,
              "#fb9f3a"
             ],
             [
              0.8888888888888888,
              "#fdca26"
             ],
             [
              1,
              "#f0f921"
             ]
            ],
            "type": "heatmapgl"
           }
          ],
          "histogram": [
           {
            "marker": {
             "pattern": {
              "fillmode": "overlay",
              "size": 10,
              "solidity": 0.2
             }
            },
            "type": "histogram"
           }
          ],
          "histogram2d": [
           {
            "colorbar": {
             "outlinewidth": 0,
             "ticks": ""
            },
            "colorscale": [
             [
              0,
              "#0d0887"
             ],
             [
              0.1111111111111111,
              "#46039f"
             ],
             [
              0.2222222222222222,
              "#7201a8"
             ],
             [
              0.3333333333333333,
              "#9c179e"
             ],
             [
              0.4444444444444444,
              "#bd3786"
             ],
             [
              0.5555555555555556,
              "#d8576b"
             ],
             [
              0.6666666666666666,
              "#ed7953"
             ],
             [
              0.7777777777777778,
              "#fb9f3a"
             ],
             [
              0.8888888888888888,
              "#fdca26"
             ],
             [
              1,
              "#f0f921"
             ]
            ],
            "type": "histogram2d"
           }
          ],
          "histogram2dcontour": [
           {
            "colorbar": {
             "outlinewidth": 0,
             "ticks": ""
            },
            "colorscale": [
             [
              0,
              "#0d0887"
             ],
             [
              0.1111111111111111,
              "#46039f"
             ],
             [
              0.2222222222222222,
              "#7201a8"
             ],
             [
              0.3333333333333333,
              "#9c179e"
             ],
             [
              0.4444444444444444,
              "#bd3786"
             ],
             [
              0.5555555555555556,
              "#d8576b"
             ],
             [
              0.6666666666666666,
              "#ed7953"
             ],
             [
              0.7777777777777778,
              "#fb9f3a"
             ],
             [
              0.8888888888888888,
              "#fdca26"
             ],
             [
              1,
              "#f0f921"
             ]
            ],
            "type": "histogram2dcontour"
           }
          ],
          "mesh3d": [
           {
            "colorbar": {
             "outlinewidth": 0,
             "ticks": ""
            },
            "type": "mesh3d"
           }
          ],
          "parcoords": [
           {
            "line": {
             "colorbar": {
              "outlinewidth": 0,
              "ticks": ""
             }
            },
            "type": "parcoords"
           }
          ],
          "pie": [
           {
            "automargin": true,
            "type": "pie"
           }
          ],
          "scatter": [
           {
            "fillpattern": {
             "fillmode": "overlay",
             "size": 10,
             "solidity": 0.2
            },
            "type": "scatter"
           }
          ],
          "scatter3d": [
           {
            "line": {
             "colorbar": {
              "outlinewidth": 0,
              "ticks": ""
             }
            },
            "marker": {
             "colorbar": {
              "outlinewidth": 0,
              "ticks": ""
             }
            },
            "type": "scatter3d"
           }
          ],
          "scattercarpet": [
           {
            "marker": {
             "colorbar": {
              "outlinewidth": 0,
              "ticks": ""
             }
            },
            "type": "scattercarpet"
           }
          ],
          "scattergeo": [
           {
            "marker": {
             "colorbar": {
              "outlinewidth": 0,
              "ticks": ""
             }
            },
            "type": "scattergeo"
           }
          ],
          "scattergl": [
           {
            "marker": {
             "colorbar": {
              "outlinewidth": 0,
              "ticks": ""
             }
            },
            "type": "scattergl"
           }
          ],
          "scattermapbox": [
           {
            "marker": {
             "colorbar": {
              "outlinewidth": 0,
              "ticks": ""
             }
            },
            "type": "scattermapbox"
           }
          ],
          "scatterpolar": [
           {
            "marker": {
             "colorbar": {
              "outlinewidth": 0,
              "ticks": ""
             }
            },
            "type": "scatterpolar"
           }
          ],
          "scatterpolargl": [
           {
            "marker": {
             "colorbar": {
              "outlinewidth": 0,
              "ticks": ""
             }
            },
            "type": "scatterpolargl"
           }
          ],
          "scatterternary": [
           {
            "marker": {
             "colorbar": {
              "outlinewidth": 0,
              "ticks": ""
             }
            },
            "type": "scatterternary"
           }
          ],
          "surface": [
           {
            "colorbar": {
             "outlinewidth": 0,
             "ticks": ""
            },
            "colorscale": [
             [
              0,
              "#0d0887"
             ],
             [
              0.1111111111111111,
              "#46039f"
             ],
             [
              0.2222222222222222,
              "#7201a8"
             ],
             [
              0.3333333333333333,
              "#9c179e"
             ],
             [
              0.4444444444444444,
              "#bd3786"
             ],
             [
              0.5555555555555556,
              "#d8576b"
             ],
             [
              0.6666666666666666,
              "#ed7953"
             ],
             [
              0.7777777777777778,
              "#fb9f3a"
             ],
             [
              0.8888888888888888,
              "#fdca26"
             ],
             [
              1,
              "#f0f921"
             ]
            ],
            "type": "surface"
           }
          ],
          "table": [
           {
            "cells": {
             "fill": {
              "color": "#EBF0F8"
             },
             "line": {
              "color": "white"
             }
            },
            "header": {
             "fill": {
              "color": "#C8D4E3"
             },
             "line": {
              "color": "white"
             }
            },
            "type": "table"
           }
          ]
         },
         "layout": {
          "annotationdefaults": {
           "arrowcolor": "#2a3f5f",
           "arrowhead": 0,
           "arrowwidth": 1
          },
          "autotypenumbers": "strict",
          "coloraxis": {
           "colorbar": {
            "outlinewidth": 0,
            "ticks": ""
           }
          },
          "colorscale": {
           "diverging": [
            [
             0,
             "#8e0152"
            ],
            [
             0.1,
             "#c51b7d"
            ],
            [
             0.2,
             "#de77ae"
            ],
            [
             0.3,
             "#f1b6da"
            ],
            [
             0.4,
             "#fde0ef"
            ],
            [
             0.5,
             "#f7f7f7"
            ],
            [
             0.6,
             "#e6f5d0"
            ],
            [
             0.7,
             "#b8e186"
            ],
            [
             0.8,
             "#7fbc41"
            ],
            [
             0.9,
             "#4d9221"
            ],
            [
             1,
             "#276419"
            ]
           ],
           "sequential": [
            [
             0,
             "#0d0887"
            ],
            [
             0.1111111111111111,
             "#46039f"
            ],
            [
             0.2222222222222222,
             "#7201a8"
            ],
            [
             0.3333333333333333,
             "#9c179e"
            ],
            [
             0.4444444444444444,
             "#bd3786"
            ],
            [
             0.5555555555555556,
             "#d8576b"
            ],
            [
             0.6666666666666666,
             "#ed7953"
            ],
            [
             0.7777777777777778,
             "#fb9f3a"
            ],
            [
             0.8888888888888888,
             "#fdca26"
            ],
            [
             1,
             "#f0f921"
            ]
           ],
           "sequentialminus": [
            [
             0,
             "#0d0887"
            ],
            [
             0.1111111111111111,
             "#46039f"
            ],
            [
             0.2222222222222222,
             "#7201a8"
            ],
            [
             0.3333333333333333,
             "#9c179e"
            ],
            [
             0.4444444444444444,
             "#bd3786"
            ],
            [
             0.5555555555555556,
             "#d8576b"
            ],
            [
             0.6666666666666666,
             "#ed7953"
            ],
            [
             0.7777777777777778,
             "#fb9f3a"
            ],
            [
             0.8888888888888888,
             "#fdca26"
            ],
            [
             1,
             "#f0f921"
            ]
           ]
          },
          "colorway": [
           "#636efa",
           "#EF553B",
           "#00cc96",
           "#ab63fa",
           "#FFA15A",
           "#19d3f3",
           "#FF6692",
           "#B6E880",
           "#FF97FF",
           "#FECB52"
          ],
          "font": {
           "color": "#2a3f5f"
          },
          "geo": {
           "bgcolor": "white",
           "lakecolor": "white",
           "landcolor": "#E5ECF6",
           "showlakes": true,
           "showland": true,
           "subunitcolor": "white"
          },
          "hoverlabel": {
           "align": "left"
          },
          "hovermode": "closest",
          "mapbox": {
           "style": "light"
          },
          "paper_bgcolor": "white",
          "plot_bgcolor": "#E5ECF6",
          "polar": {
           "angularaxis": {
            "gridcolor": "white",
            "linecolor": "white",
            "ticks": ""
           },
           "bgcolor": "#E5ECF6",
           "radialaxis": {
            "gridcolor": "white",
            "linecolor": "white",
            "ticks": ""
           }
          },
          "scene": {
           "xaxis": {
            "backgroundcolor": "#E5ECF6",
            "gridcolor": "white",
            "gridwidth": 2,
            "linecolor": "white",
            "showbackground": true,
            "ticks": "",
            "zerolinecolor": "white"
           },
           "yaxis": {
            "backgroundcolor": "#E5ECF6",
            "gridcolor": "white",
            "gridwidth": 2,
            "linecolor": "white",
            "showbackground": true,
            "ticks": "",
            "zerolinecolor": "white"
           },
           "zaxis": {
            "backgroundcolor": "#E5ECF6",
            "gridcolor": "white",
            "gridwidth": 2,
            "linecolor": "white",
            "showbackground": true,
            "ticks": "",
            "zerolinecolor": "white"
           }
          },
          "shapedefaults": {
           "line": {
            "color": "#2a3f5f"
           }
          },
          "ternary": {
           "aaxis": {
            "gridcolor": "white",
            "linecolor": "white",
            "ticks": ""
           },
           "baxis": {
            "gridcolor": "white",
            "linecolor": "white",
            "ticks": ""
           },
           "bgcolor": "#E5ECF6",
           "caxis": {
            "gridcolor": "white",
            "linecolor": "white",
            "ticks": ""
           }
          },
          "title": {
           "x": 0.05
          },
          "xaxis": {
           "automargin": true,
           "gridcolor": "white",
           "linecolor": "white",
           "ticks": "",
           "title": {
            "standoff": 15
           },
           "zerolinecolor": "white",
           "zerolinewidth": 2
          },
          "yaxis": {
           "automargin": true,
           "gridcolor": "white",
           "linecolor": "white",
           "ticks": "",
           "title": {
            "standoff": 15
           },
           "zerolinecolor": "white",
           "zerolinewidth": 2
          }
         }
        },
        "xaxis": {
         "anchor": "y",
         "domain": [
          0,
          1
         ],
         "title": {
          "text": "x"
         }
        },
        "yaxis": {
         "anchor": "x",
         "domain": [
          0,
          1
         ],
         "title": {
          "text": "y"
         }
        }
       }
      }
     },
     "metadata": {},
     "output_type": "display_data"
    }
   ],
   "source": [
    "# plot bar chart of Family column (x values, y counts)\n",
    "stats = df[col_name].value_counts().to_dict()\n",
    "stats = {str(k): v for k, v in stats.items()}\n",
    "stats['nan'] = df[col_name].isna().sum()\n",
    "fig = px.bar(x=list(stats.keys()), y=list(stats.values()))\n",
    "fig.show()"
   ]
  },
  {
   "cell_type": "code",
   "execution_count": 515,
   "id": "a2955667",
   "metadata": {},
   "outputs": [],
   "source": [
    "# fill\n"
   ]
  },
  {
   "cell_type": "code",
   "execution_count": null,
   "id": "5c34e600",
   "metadata": {},
   "outputs": [],
   "source": []
  },
  {
   "cell_type": "markdown",
   "id": "51e89369",
   "metadata": {},
   "source": [
    "### date.other"
   ]
  },
  {
   "cell_type": "code",
   "execution_count": 516,
   "id": "86f6776c",
   "metadata": {},
   "outputs": [
    {
     "name": "stdout",
     "output_type": "stream",
     "text": [
      "Number of nan values in date.other column:  3752\n",
      "Proportion of nan values in date.other column:  0.9986691509182859\n",
      "object\n"
     ]
    }
   ],
   "source": [
    "col_name = 'date.other'\n",
    "print(f'Number of nan values in {col_name} column: ', df[col_name].isna().sum())\n",
    "print(f'Proportion of nan values in {col_name} column: ', df[col_name].isna().sum() / df.shape[0])\n",
    "print(df[col_name].dtype)"
   ]
  },
  {
   "cell_type": "code",
   "execution_count": 517,
   "id": "5b3fe685",
   "metadata": {},
   "outputs": [
    {
     "data": {
      "text/plain": [
       "1991-12-13    1\n",
       "1989-06-06    1\n",
       "1973-01-01    1\n",
       "1969-01-01    1\n",
       "1994-01-01    1\n",
       "Name: date.other, dtype: int64"
      ]
     },
     "execution_count": 517,
     "metadata": {},
     "output_type": "execute_result"
    }
   ],
   "source": [
    "df[col_name].value_counts()"
   ]
  },
  {
   "cell_type": "code",
   "execution_count": 518,
   "id": "722ac6fd",
   "metadata": {},
   "outputs": [
    {
     "data": {
      "application/vnd.plotly.v1+json": {
       "config": {
        "plotlyServerURL": "https://plot.ly"
       },
       "data": [
        {
         "alignmentgroup": "True",
         "hovertemplate": "x=%{x}<br>y=%{y}<extra></extra>",
         "legendgroup": "",
         "marker": {
          "color": "#636efa",
          "pattern": {
           "shape": ""
          }
         },
         "name": "",
         "offsetgroup": "",
         "orientation": "v",
         "showlegend": false,
         "textposition": "auto",
         "type": "bar",
         "x": [
          "1991-12-13",
          "1989-06-06",
          "1973-01-01",
          "1969-01-01",
          "1994-01-01",
          "nan"
         ],
         "xaxis": "x",
         "y": [
          1,
          1,
          1,
          1,
          1,
          3752
         ],
         "yaxis": "y"
        }
       ],
       "layout": {
        "barmode": "relative",
        "legend": {
         "tracegroupgap": 0
        },
        "margin": {
         "t": 60
        },
        "template": {
         "data": {
          "bar": [
           {
            "error_x": {
             "color": "#2a3f5f"
            },
            "error_y": {
             "color": "#2a3f5f"
            },
            "marker": {
             "line": {
              "color": "#E5ECF6",
              "width": 0.5
             },
             "pattern": {
              "fillmode": "overlay",
              "size": 10,
              "solidity": 0.2
             }
            },
            "type": "bar"
           }
          ],
          "barpolar": [
           {
            "marker": {
             "line": {
              "color": "#E5ECF6",
              "width": 0.5
             },
             "pattern": {
              "fillmode": "overlay",
              "size": 10,
              "solidity": 0.2
             }
            },
            "type": "barpolar"
           }
          ],
          "carpet": [
           {
            "aaxis": {
             "endlinecolor": "#2a3f5f",
             "gridcolor": "white",
             "linecolor": "white",
             "minorgridcolor": "white",
             "startlinecolor": "#2a3f5f"
            },
            "baxis": {
             "endlinecolor": "#2a3f5f",
             "gridcolor": "white",
             "linecolor": "white",
             "minorgridcolor": "white",
             "startlinecolor": "#2a3f5f"
            },
            "type": "carpet"
           }
          ],
          "choropleth": [
           {
            "colorbar": {
             "outlinewidth": 0,
             "ticks": ""
            },
            "type": "choropleth"
           }
          ],
          "contour": [
           {
            "colorbar": {
             "outlinewidth": 0,
             "ticks": ""
            },
            "colorscale": [
             [
              0,
              "#0d0887"
             ],
             [
              0.1111111111111111,
              "#46039f"
             ],
             [
              0.2222222222222222,
              "#7201a8"
             ],
             [
              0.3333333333333333,
              "#9c179e"
             ],
             [
              0.4444444444444444,
              "#bd3786"
             ],
             [
              0.5555555555555556,
              "#d8576b"
             ],
             [
              0.6666666666666666,
              "#ed7953"
             ],
             [
              0.7777777777777778,
              "#fb9f3a"
             ],
             [
              0.8888888888888888,
              "#fdca26"
             ],
             [
              1,
              "#f0f921"
             ]
            ],
            "type": "contour"
           }
          ],
          "contourcarpet": [
           {
            "colorbar": {
             "outlinewidth": 0,
             "ticks": ""
            },
            "type": "contourcarpet"
           }
          ],
          "heatmap": [
           {
            "colorbar": {
             "outlinewidth": 0,
             "ticks": ""
            },
            "colorscale": [
             [
              0,
              "#0d0887"
             ],
             [
              0.1111111111111111,
              "#46039f"
             ],
             [
              0.2222222222222222,
              "#7201a8"
             ],
             [
              0.3333333333333333,
              "#9c179e"
             ],
             [
              0.4444444444444444,
              "#bd3786"
             ],
             [
              0.5555555555555556,
              "#d8576b"
             ],
             [
              0.6666666666666666,
              "#ed7953"
             ],
             [
              0.7777777777777778,
              "#fb9f3a"
             ],
             [
              0.8888888888888888,
              "#fdca26"
             ],
             [
              1,
              "#f0f921"
             ]
            ],
            "type": "heatmap"
           }
          ],
          "heatmapgl": [
           {
            "colorbar": {
             "outlinewidth": 0,
             "ticks": ""
            },
            "colorscale": [
             [
              0,
              "#0d0887"
             ],
             [
              0.1111111111111111,
              "#46039f"
             ],
             [
              0.2222222222222222,
              "#7201a8"
             ],
             [
              0.3333333333333333,
              "#9c179e"
             ],
             [
              0.4444444444444444,
              "#bd3786"
             ],
             [
              0.5555555555555556,
              "#d8576b"
             ],
             [
              0.6666666666666666,
              "#ed7953"
             ],
             [
              0.7777777777777778,
              "#fb9f3a"
             ],
             [
              0.8888888888888888,
              "#fdca26"
             ],
             [
              1,
              "#f0f921"
             ]
            ],
            "type": "heatmapgl"
           }
          ],
          "histogram": [
           {
            "marker": {
             "pattern": {
              "fillmode": "overlay",
              "size": 10,
              "solidity": 0.2
             }
            },
            "type": "histogram"
           }
          ],
          "histogram2d": [
           {
            "colorbar": {
             "outlinewidth": 0,
             "ticks": ""
            },
            "colorscale": [
             [
              0,
              "#0d0887"
             ],
             [
              0.1111111111111111,
              "#46039f"
             ],
             [
              0.2222222222222222,
              "#7201a8"
             ],
             [
              0.3333333333333333,
              "#9c179e"
             ],
             [
              0.4444444444444444,
              "#bd3786"
             ],
             [
              0.5555555555555556,
              "#d8576b"
             ],
             [
              0.6666666666666666,
              "#ed7953"
             ],
             [
              0.7777777777777778,
              "#fb9f3a"
             ],
             [
              0.8888888888888888,
              "#fdca26"
             ],
             [
              1,
              "#f0f921"
             ]
            ],
            "type": "histogram2d"
           }
          ],
          "histogram2dcontour": [
           {
            "colorbar": {
             "outlinewidth": 0,
             "ticks": ""
            },
            "colorscale": [
             [
              0,
              "#0d0887"
             ],
             [
              0.1111111111111111,
              "#46039f"
             ],
             [
              0.2222222222222222,
              "#7201a8"
             ],
             [
              0.3333333333333333,
              "#9c179e"
             ],
             [
              0.4444444444444444,
              "#bd3786"
             ],
             [
              0.5555555555555556,
              "#d8576b"
             ],
             [
              0.6666666666666666,
              "#ed7953"
             ],
             [
              0.7777777777777778,
              "#fb9f3a"
             ],
             [
              0.8888888888888888,
              "#fdca26"
             ],
             [
              1,
              "#f0f921"
             ]
            ],
            "type": "histogram2dcontour"
           }
          ],
          "mesh3d": [
           {
            "colorbar": {
             "outlinewidth": 0,
             "ticks": ""
            },
            "type": "mesh3d"
           }
          ],
          "parcoords": [
           {
            "line": {
             "colorbar": {
              "outlinewidth": 0,
              "ticks": ""
             }
            },
            "type": "parcoords"
           }
          ],
          "pie": [
           {
            "automargin": true,
            "type": "pie"
           }
          ],
          "scatter": [
           {
            "fillpattern": {
             "fillmode": "overlay",
             "size": 10,
             "solidity": 0.2
            },
            "type": "scatter"
           }
          ],
          "scatter3d": [
           {
            "line": {
             "colorbar": {
              "outlinewidth": 0,
              "ticks": ""
             }
            },
            "marker": {
             "colorbar": {
              "outlinewidth": 0,
              "ticks": ""
             }
            },
            "type": "scatter3d"
           }
          ],
          "scattercarpet": [
           {
            "marker": {
             "colorbar": {
              "outlinewidth": 0,
              "ticks": ""
             }
            },
            "type": "scattercarpet"
           }
          ],
          "scattergeo": [
           {
            "marker": {
             "colorbar": {
              "outlinewidth": 0,
              "ticks": ""
             }
            },
            "type": "scattergeo"
           }
          ],
          "scattergl": [
           {
            "marker": {
             "colorbar": {
              "outlinewidth": 0,
              "ticks": ""
             }
            },
            "type": "scattergl"
           }
          ],
          "scattermapbox": [
           {
            "marker": {
             "colorbar": {
              "outlinewidth": 0,
              "ticks": ""
             }
            },
            "type": "scattermapbox"
           }
          ],
          "scatterpolar": [
           {
            "marker": {
             "colorbar": {
              "outlinewidth": 0,
              "ticks": ""
             }
            },
            "type": "scatterpolar"
           }
          ],
          "scatterpolargl": [
           {
            "marker": {
             "colorbar": {
              "outlinewidth": 0,
              "ticks": ""
             }
            },
            "type": "scatterpolargl"
           }
          ],
          "scatterternary": [
           {
            "marker": {
             "colorbar": {
              "outlinewidth": 0,
              "ticks": ""
             }
            },
            "type": "scatterternary"
           }
          ],
          "surface": [
           {
            "colorbar": {
             "outlinewidth": 0,
             "ticks": ""
            },
            "colorscale": [
             [
              0,
              "#0d0887"
             ],
             [
              0.1111111111111111,
              "#46039f"
             ],
             [
              0.2222222222222222,
              "#7201a8"
             ],
             [
              0.3333333333333333,
              "#9c179e"
             ],
             [
              0.4444444444444444,
              "#bd3786"
             ],
             [
              0.5555555555555556,
              "#d8576b"
             ],
             [
              0.6666666666666666,
              "#ed7953"
             ],
             [
              0.7777777777777778,
              "#fb9f3a"
             ],
             [
              0.8888888888888888,
              "#fdca26"
             ],
             [
              1,
              "#f0f921"
             ]
            ],
            "type": "surface"
           }
          ],
          "table": [
           {
            "cells": {
             "fill": {
              "color": "#EBF0F8"
             },
             "line": {
              "color": "white"
             }
            },
            "header": {
             "fill": {
              "color": "#C8D4E3"
             },
             "line": {
              "color": "white"
             }
            },
            "type": "table"
           }
          ]
         },
         "layout": {
          "annotationdefaults": {
           "arrowcolor": "#2a3f5f",
           "arrowhead": 0,
           "arrowwidth": 1
          },
          "autotypenumbers": "strict",
          "coloraxis": {
           "colorbar": {
            "outlinewidth": 0,
            "ticks": ""
           }
          },
          "colorscale": {
           "diverging": [
            [
             0,
             "#8e0152"
            ],
            [
             0.1,
             "#c51b7d"
            ],
            [
             0.2,
             "#de77ae"
            ],
            [
             0.3,
             "#f1b6da"
            ],
            [
             0.4,
             "#fde0ef"
            ],
            [
             0.5,
             "#f7f7f7"
            ],
            [
             0.6,
             "#e6f5d0"
            ],
            [
             0.7,
             "#b8e186"
            ],
            [
             0.8,
             "#7fbc41"
            ],
            [
             0.9,
             "#4d9221"
            ],
            [
             1,
             "#276419"
            ]
           ],
           "sequential": [
            [
             0,
             "#0d0887"
            ],
            [
             0.1111111111111111,
             "#46039f"
            ],
            [
             0.2222222222222222,
             "#7201a8"
            ],
            [
             0.3333333333333333,
             "#9c179e"
            ],
            [
             0.4444444444444444,
             "#bd3786"
            ],
            [
             0.5555555555555556,
             "#d8576b"
            ],
            [
             0.6666666666666666,
             "#ed7953"
            ],
            [
             0.7777777777777778,
             "#fb9f3a"
            ],
            [
             0.8888888888888888,
             "#fdca26"
            ],
            [
             1,
             "#f0f921"
            ]
           ],
           "sequentialminus": [
            [
             0,
             "#0d0887"
            ],
            [
             0.1111111111111111,
             "#46039f"
            ],
            [
             0.2222222222222222,
             "#7201a8"
            ],
            [
             0.3333333333333333,
             "#9c179e"
            ],
            [
             0.4444444444444444,
             "#bd3786"
            ],
            [
             0.5555555555555556,
             "#d8576b"
            ],
            [
             0.6666666666666666,
             "#ed7953"
            ],
            [
             0.7777777777777778,
             "#fb9f3a"
            ],
            [
             0.8888888888888888,
             "#fdca26"
            ],
            [
             1,
             "#f0f921"
            ]
           ]
          },
          "colorway": [
           "#636efa",
           "#EF553B",
           "#00cc96",
           "#ab63fa",
           "#FFA15A",
           "#19d3f3",
           "#FF6692",
           "#B6E880",
           "#FF97FF",
           "#FECB52"
          ],
          "font": {
           "color": "#2a3f5f"
          },
          "geo": {
           "bgcolor": "white",
           "lakecolor": "white",
           "landcolor": "#E5ECF6",
           "showlakes": true,
           "showland": true,
           "subunitcolor": "white"
          },
          "hoverlabel": {
           "align": "left"
          },
          "hovermode": "closest",
          "mapbox": {
           "style": "light"
          },
          "paper_bgcolor": "white",
          "plot_bgcolor": "#E5ECF6",
          "polar": {
           "angularaxis": {
            "gridcolor": "white",
            "linecolor": "white",
            "ticks": ""
           },
           "bgcolor": "#E5ECF6",
           "radialaxis": {
            "gridcolor": "white",
            "linecolor": "white",
            "ticks": ""
           }
          },
          "scene": {
           "xaxis": {
            "backgroundcolor": "#E5ECF6",
            "gridcolor": "white",
            "gridwidth": 2,
            "linecolor": "white",
            "showbackground": true,
            "ticks": "",
            "zerolinecolor": "white"
           },
           "yaxis": {
            "backgroundcolor": "#E5ECF6",
            "gridcolor": "white",
            "gridwidth": 2,
            "linecolor": "white",
            "showbackground": true,
            "ticks": "",
            "zerolinecolor": "white"
           },
           "zaxis": {
            "backgroundcolor": "#E5ECF6",
            "gridcolor": "white",
            "gridwidth": 2,
            "linecolor": "white",
            "showbackground": true,
            "ticks": "",
            "zerolinecolor": "white"
           }
          },
          "shapedefaults": {
           "line": {
            "color": "#2a3f5f"
           }
          },
          "ternary": {
           "aaxis": {
            "gridcolor": "white",
            "linecolor": "white",
            "ticks": ""
           },
           "baxis": {
            "gridcolor": "white",
            "linecolor": "white",
            "ticks": ""
           },
           "bgcolor": "#E5ECF6",
           "caxis": {
            "gridcolor": "white",
            "linecolor": "white",
            "ticks": ""
           }
          },
          "title": {
           "x": 0.05
          },
          "xaxis": {
           "automargin": true,
           "gridcolor": "white",
           "linecolor": "white",
           "ticks": "",
           "title": {
            "standoff": 15
           },
           "zerolinecolor": "white",
           "zerolinewidth": 2
          },
          "yaxis": {
           "automargin": true,
           "gridcolor": "white",
           "linecolor": "white",
           "ticks": "",
           "title": {
            "standoff": 15
           },
           "zerolinecolor": "white",
           "zerolinewidth": 2
          }
         }
        },
        "xaxis": {
         "anchor": "y",
         "domain": [
          0,
          1
         ],
         "title": {
          "text": "x"
         }
        },
        "yaxis": {
         "anchor": "x",
         "domain": [
          0,
          1
         ],
         "title": {
          "text": "y"
         }
        }
       }
      }
     },
     "metadata": {},
     "output_type": "display_data"
    }
   ],
   "source": [
    "# plot bar chart of Family column (x values, y counts)\n",
    "stats = df[col_name].value_counts().to_dict()\n",
    "stats = {str(k): v for k, v in stats.items()}\n",
    "stats['nan'] = df[col_name].isna().sum()\n",
    "fig = px.bar(x=list(stats.keys()), y=list(stats.values()))\n",
    "fig.show()"
   ]
  },
  {
   "cell_type": "code",
   "execution_count": 519,
   "id": "1e9cc717",
   "metadata": {},
   "outputs": [],
   "source": [
    "# fill\n"
   ]
  },
  {
   "cell_type": "code",
   "execution_count": null,
   "id": "45f2b23c",
   "metadata": {},
   "outputs": [],
   "source": []
  },
  {
   "cell_type": "markdown",
   "id": "a7cf2517",
   "metadata": {},
   "source": [
    "### datehys"
   ]
  },
  {
   "cell_type": "code",
   "execution_count": 520,
   "id": "34c95c45",
   "metadata": {},
   "outputs": [
    {
     "name": "stdout",
     "output_type": "stream",
     "text": [
      "Number of nan values in datehys column:  3476\n",
      "Proportion of nan values in datehys column:  0.9252062816076657\n",
      "float64\n"
     ]
    }
   ],
   "source": [
    "col_name = 'datehys'\n",
    "print(f'Number of nan values in {col_name} column: ', df[col_name].isna().sum())\n",
    "print(f'Proportion of nan values in {col_name} column: ', df[col_name].isna().sum() / df.shape[0])\n",
    "print(df[col_name].dtype)"
   ]
  },
  {
   "cell_type": "code",
   "execution_count": 521,
   "id": "145bc369",
   "metadata": {},
   "outputs": [
    {
     "data": {
      "text/plain": [
       "0.0         175\n",
       "270360.0      4\n",
       "277560.0      4\n",
       "281160.0      4\n",
       "45.0          3\n",
       "           ... \n",
       "244920.0      1\n",
       "313860.0      1\n",
       "288300.0      1\n",
       "292320.0      1\n",
       "29.0          1\n",
       "Name: datehys, Length: 80, dtype: int64"
      ]
     },
     "execution_count": 521,
     "metadata": {},
     "output_type": "execute_result"
    }
   ],
   "source": [
    "df[col_name].value_counts()"
   ]
  },
  {
   "cell_type": "code",
   "execution_count": 522,
   "id": "9e3ee4f1",
   "metadata": {},
   "outputs": [
    {
     "data": {
      "application/vnd.plotly.v1+json": {
       "config": {
        "plotlyServerURL": "https://plot.ly"
       },
       "data": [
        {
         "alignmentgroup": "True",
         "hovertemplate": "x=%{x}<br>y=%{y}<extra></extra>",
         "legendgroup": "",
         "marker": {
          "color": "#636efa",
          "pattern": {
           "shape": ""
          }
         },
         "name": "",
         "offsetgroup": "",
         "orientation": "v",
         "showlegend": false,
         "textposition": "auto",
         "type": "bar",
         "x": [
          "0.0",
          "270360.0",
          "277560.0",
          "281160.0",
          "45.0",
          "309960.0",
          "40.0",
          "316920.0",
          "248760.0",
          "237960.0",
          "302760.0",
          "295560.0",
          "245160.0",
          "295500.0",
          "317040.0",
          "284760.0",
          "310320.0",
          "266760.0",
          "313560.0",
          "288360.0",
          "284700.0",
          "295260.0",
          "227100.0",
          "288060.0",
          "302940.0",
          "281520.0",
          "310140.0",
          "292260.0",
          "288120.0",
          "291960.0",
          "320820.0",
          "306360.0",
          "223560.0",
          "288420.0",
          "317160.0",
          "259560.0",
          "320760.0",
          "55.0",
          "50.0",
          "48.0",
          "39.0",
          "42.0",
          "51.0",
          "295440.0",
          "310260.0",
          "262920.0",
          "241500.0",
          "230760.0",
          "284460.0",
          "277920.0",
          "274080.0",
          "252120.0",
          "252660.0",
          "306180.0",
          "219960.0",
          "281100.0",
          "299100.0",
          "298920.0",
          "263100.0",
          "313320.0",
          "313440.0",
          "299520.0",
          "273900.0",
          "180360.0",
          "281340.0",
          "259440.0",
          "317460.0",
          "313680.0",
          "259500.0",
          "252360.0",
          "259260.0",
          "313920.0",
          "302520.0",
          "238140.0",
          "259740.0",
          "244920.0",
          "313860.0",
          "288300.0",
          "292320.0",
          "29.0",
          "nan"
         ],
         "xaxis": "x",
         "y": [
          175,
          4,
          4,
          4,
          3,
          3,
          3,
          2,
          2,
          2,
          2,
          2,
          2,
          2,
          2,
          2,
          2,
          2,
          2,
          1,
          1,
          1,
          1,
          1,
          1,
          1,
          1,
          1,
          1,
          1,
          1,
          1,
          1,
          1,
          1,
          1,
          1,
          1,
          1,
          1,
          1,
          1,
          1,
          1,
          1,
          1,
          1,
          1,
          1,
          1,
          1,
          1,
          1,
          1,
          1,
          1,
          1,
          1,
          1,
          1,
          1,
          1,
          1,
          1,
          1,
          1,
          1,
          1,
          1,
          1,
          1,
          1,
          1,
          1,
          1,
          1,
          1,
          1,
          1,
          1,
          3476
         ],
         "yaxis": "y"
        }
       ],
       "layout": {
        "barmode": "relative",
        "legend": {
         "tracegroupgap": 0
        },
        "margin": {
         "t": 60
        },
        "template": {
         "data": {
          "bar": [
           {
            "error_x": {
             "color": "#2a3f5f"
            },
            "error_y": {
             "color": "#2a3f5f"
            },
            "marker": {
             "line": {
              "color": "#E5ECF6",
              "width": 0.5
             },
             "pattern": {
              "fillmode": "overlay",
              "size": 10,
              "solidity": 0.2
             }
            },
            "type": "bar"
           }
          ],
          "barpolar": [
           {
            "marker": {
             "line": {
              "color": "#E5ECF6",
              "width": 0.5
             },
             "pattern": {
              "fillmode": "overlay",
              "size": 10,
              "solidity": 0.2
             }
            },
            "type": "barpolar"
           }
          ],
          "carpet": [
           {
            "aaxis": {
             "endlinecolor": "#2a3f5f",
             "gridcolor": "white",
             "linecolor": "white",
             "minorgridcolor": "white",
             "startlinecolor": "#2a3f5f"
            },
            "baxis": {
             "endlinecolor": "#2a3f5f",
             "gridcolor": "white",
             "linecolor": "white",
             "minorgridcolor": "white",
             "startlinecolor": "#2a3f5f"
            },
            "type": "carpet"
           }
          ],
          "choropleth": [
           {
            "colorbar": {
             "outlinewidth": 0,
             "ticks": ""
            },
            "type": "choropleth"
           }
          ],
          "contour": [
           {
            "colorbar": {
             "outlinewidth": 0,
             "ticks": ""
            },
            "colorscale": [
             [
              0,
              "#0d0887"
             ],
             [
              0.1111111111111111,
              "#46039f"
             ],
             [
              0.2222222222222222,
              "#7201a8"
             ],
             [
              0.3333333333333333,
              "#9c179e"
             ],
             [
              0.4444444444444444,
              "#bd3786"
             ],
             [
              0.5555555555555556,
              "#d8576b"
             ],
             [
              0.6666666666666666,
              "#ed7953"
             ],
             [
              0.7777777777777778,
              "#fb9f3a"
             ],
             [
              0.8888888888888888,
              "#fdca26"
             ],
             [
              1,
              "#f0f921"
             ]
            ],
            "type": "contour"
           }
          ],
          "contourcarpet": [
           {
            "colorbar": {
             "outlinewidth": 0,
             "ticks": ""
            },
            "type": "contourcarpet"
           }
          ],
          "heatmap": [
           {
            "colorbar": {
             "outlinewidth": 0,
             "ticks": ""
            },
            "colorscale": [
             [
              0,
              "#0d0887"
             ],
             [
              0.1111111111111111,
              "#46039f"
             ],
             [
              0.2222222222222222,
              "#7201a8"
             ],
             [
              0.3333333333333333,
              "#9c179e"
             ],
             [
              0.4444444444444444,
              "#bd3786"
             ],
             [
              0.5555555555555556,
              "#d8576b"
             ],
             [
              0.6666666666666666,
              "#ed7953"
             ],
             [
              0.7777777777777778,
              "#fb9f3a"
             ],
             [
              0.8888888888888888,
              "#fdca26"
             ],
             [
              1,
              "#f0f921"
             ]
            ],
            "type": "heatmap"
           }
          ],
          "heatmapgl": [
           {
            "colorbar": {
             "outlinewidth": 0,
             "ticks": ""
            },
            "colorscale": [
             [
              0,
              "#0d0887"
             ],
             [
              0.1111111111111111,
              "#46039f"
             ],
             [
              0.2222222222222222,
              "#7201a8"
             ],
             [
              0.3333333333333333,
              "#9c179e"
             ],
             [
              0.4444444444444444,
              "#bd3786"
             ],
             [
              0.5555555555555556,
              "#d8576b"
             ],
             [
              0.6666666666666666,
              "#ed7953"
             ],
             [
              0.7777777777777778,
              "#fb9f3a"
             ],
             [
              0.8888888888888888,
              "#fdca26"
             ],
             [
              1,
              "#f0f921"
             ]
            ],
            "type": "heatmapgl"
           }
          ],
          "histogram": [
           {
            "marker": {
             "pattern": {
              "fillmode": "overlay",
              "size": 10,
              "solidity": 0.2
             }
            },
            "type": "histogram"
           }
          ],
          "histogram2d": [
           {
            "colorbar": {
             "outlinewidth": 0,
             "ticks": ""
            },
            "colorscale": [
             [
              0,
              "#0d0887"
             ],
             [
              0.1111111111111111,
              "#46039f"
             ],
             [
              0.2222222222222222,
              "#7201a8"
             ],
             [
              0.3333333333333333,
              "#9c179e"
             ],
             [
              0.4444444444444444,
              "#bd3786"
             ],
             [
              0.5555555555555556,
              "#d8576b"
             ],
             [
              0.6666666666666666,
              "#ed7953"
             ],
             [
              0.7777777777777778,
              "#fb9f3a"
             ],
             [
              0.8888888888888888,
              "#fdca26"
             ],
             [
              1,
              "#f0f921"
             ]
            ],
            "type": "histogram2d"
           }
          ],
          "histogram2dcontour": [
           {
            "colorbar": {
             "outlinewidth": 0,
             "ticks": ""
            },
            "colorscale": [
             [
              0,
              "#0d0887"
             ],
             [
              0.1111111111111111,
              "#46039f"
             ],
             [
              0.2222222222222222,
              "#7201a8"
             ],
             [
              0.3333333333333333,
              "#9c179e"
             ],
             [
              0.4444444444444444,
              "#bd3786"
             ],
             [
              0.5555555555555556,
              "#d8576b"
             ],
             [
              0.6666666666666666,
              "#ed7953"
             ],
             [
              0.7777777777777778,
              "#fb9f3a"
             ],
             [
              0.8888888888888888,
              "#fdca26"
             ],
             [
              1,
              "#f0f921"
             ]
            ],
            "type": "histogram2dcontour"
           }
          ],
          "mesh3d": [
           {
            "colorbar": {
             "outlinewidth": 0,
             "ticks": ""
            },
            "type": "mesh3d"
           }
          ],
          "parcoords": [
           {
            "line": {
             "colorbar": {
              "outlinewidth": 0,
              "ticks": ""
             }
            },
            "type": "parcoords"
           }
          ],
          "pie": [
           {
            "automargin": true,
            "type": "pie"
           }
          ],
          "scatter": [
           {
            "fillpattern": {
             "fillmode": "overlay",
             "size": 10,
             "solidity": 0.2
            },
            "type": "scatter"
           }
          ],
          "scatter3d": [
           {
            "line": {
             "colorbar": {
              "outlinewidth": 0,
              "ticks": ""
             }
            },
            "marker": {
             "colorbar": {
              "outlinewidth": 0,
              "ticks": ""
             }
            },
            "type": "scatter3d"
           }
          ],
          "scattercarpet": [
           {
            "marker": {
             "colorbar": {
              "outlinewidth": 0,
              "ticks": ""
             }
            },
            "type": "scattercarpet"
           }
          ],
          "scattergeo": [
           {
            "marker": {
             "colorbar": {
              "outlinewidth": 0,
              "ticks": ""
             }
            },
            "type": "scattergeo"
           }
          ],
          "scattergl": [
           {
            "marker": {
             "colorbar": {
              "outlinewidth": 0,
              "ticks": ""
             }
            },
            "type": "scattergl"
           }
          ],
          "scattermapbox": [
           {
            "marker": {
             "colorbar": {
              "outlinewidth": 0,
              "ticks": ""
             }
            },
            "type": "scattermapbox"
           }
          ],
          "scatterpolar": [
           {
            "marker": {
             "colorbar": {
              "outlinewidth": 0,
              "ticks": ""
             }
            },
            "type": "scatterpolar"
           }
          ],
          "scatterpolargl": [
           {
            "marker": {
             "colorbar": {
              "outlinewidth": 0,
              "ticks": ""
             }
            },
            "type": "scatterpolargl"
           }
          ],
          "scatterternary": [
           {
            "marker": {
             "colorbar": {
              "outlinewidth": 0,
              "ticks": ""
             }
            },
            "type": "scatterternary"
           }
          ],
          "surface": [
           {
            "colorbar": {
             "outlinewidth": 0,
             "ticks": ""
            },
            "colorscale": [
             [
              0,
              "#0d0887"
             ],
             [
              0.1111111111111111,
              "#46039f"
             ],
             [
              0.2222222222222222,
              "#7201a8"
             ],
             [
              0.3333333333333333,
              "#9c179e"
             ],
             [
              0.4444444444444444,
              "#bd3786"
             ],
             [
              0.5555555555555556,
              "#d8576b"
             ],
             [
              0.6666666666666666,
              "#ed7953"
             ],
             [
              0.7777777777777778,
              "#fb9f3a"
             ],
             [
              0.8888888888888888,
              "#fdca26"
             ],
             [
              1,
              "#f0f921"
             ]
            ],
            "type": "surface"
           }
          ],
          "table": [
           {
            "cells": {
             "fill": {
              "color": "#EBF0F8"
             },
             "line": {
              "color": "white"
             }
            },
            "header": {
             "fill": {
              "color": "#C8D4E3"
             },
             "line": {
              "color": "white"
             }
            },
            "type": "table"
           }
          ]
         },
         "layout": {
          "annotationdefaults": {
           "arrowcolor": "#2a3f5f",
           "arrowhead": 0,
           "arrowwidth": 1
          },
          "autotypenumbers": "strict",
          "coloraxis": {
           "colorbar": {
            "outlinewidth": 0,
            "ticks": ""
           }
          },
          "colorscale": {
           "diverging": [
            [
             0,
             "#8e0152"
            ],
            [
             0.1,
             "#c51b7d"
            ],
            [
             0.2,
             "#de77ae"
            ],
            [
             0.3,
             "#f1b6da"
            ],
            [
             0.4,
             "#fde0ef"
            ],
            [
             0.5,
             "#f7f7f7"
            ],
            [
             0.6,
             "#e6f5d0"
            ],
            [
             0.7,
             "#b8e186"
            ],
            [
             0.8,
             "#7fbc41"
            ],
            [
             0.9,
             "#4d9221"
            ],
            [
             1,
             "#276419"
            ]
           ],
           "sequential": [
            [
             0,
             "#0d0887"
            ],
            [
             0.1111111111111111,
             "#46039f"
            ],
            [
             0.2222222222222222,
             "#7201a8"
            ],
            [
             0.3333333333333333,
             "#9c179e"
            ],
            [
             0.4444444444444444,
             "#bd3786"
            ],
            [
             0.5555555555555556,
             "#d8576b"
            ],
            [
             0.6666666666666666,
             "#ed7953"
            ],
            [
             0.7777777777777778,
             "#fb9f3a"
            ],
            [
             0.8888888888888888,
             "#fdca26"
            ],
            [
             1,
             "#f0f921"
            ]
           ],
           "sequentialminus": [
            [
             0,
             "#0d0887"
            ],
            [
             0.1111111111111111,
             "#46039f"
            ],
            [
             0.2222222222222222,
             "#7201a8"
            ],
            [
             0.3333333333333333,
             "#9c179e"
            ],
            [
             0.4444444444444444,
             "#bd3786"
            ],
            [
             0.5555555555555556,
             "#d8576b"
            ],
            [
             0.6666666666666666,
             "#ed7953"
            ],
            [
             0.7777777777777778,
             "#fb9f3a"
            ],
            [
             0.8888888888888888,
             "#fdca26"
            ],
            [
             1,
             "#f0f921"
            ]
           ]
          },
          "colorway": [
           "#636efa",
           "#EF553B",
           "#00cc96",
           "#ab63fa",
           "#FFA15A",
           "#19d3f3",
           "#FF6692",
           "#B6E880",
           "#FF97FF",
           "#FECB52"
          ],
          "font": {
           "color": "#2a3f5f"
          },
          "geo": {
           "bgcolor": "white",
           "lakecolor": "white",
           "landcolor": "#E5ECF6",
           "showlakes": true,
           "showland": true,
           "subunitcolor": "white"
          },
          "hoverlabel": {
           "align": "left"
          },
          "hovermode": "closest",
          "mapbox": {
           "style": "light"
          },
          "paper_bgcolor": "white",
          "plot_bgcolor": "#E5ECF6",
          "polar": {
           "angularaxis": {
            "gridcolor": "white",
            "linecolor": "white",
            "ticks": ""
           },
           "bgcolor": "#E5ECF6",
           "radialaxis": {
            "gridcolor": "white",
            "linecolor": "white",
            "ticks": ""
           }
          },
          "scene": {
           "xaxis": {
            "backgroundcolor": "#E5ECF6",
            "gridcolor": "white",
            "gridwidth": 2,
            "linecolor": "white",
            "showbackground": true,
            "ticks": "",
            "zerolinecolor": "white"
           },
           "yaxis": {
            "backgroundcolor": "#E5ECF6",
            "gridcolor": "white",
            "gridwidth": 2,
            "linecolor": "white",
            "showbackground": true,
            "ticks": "",
            "zerolinecolor": "white"
           },
           "zaxis": {
            "backgroundcolor": "#E5ECF6",
            "gridcolor": "white",
            "gridwidth": 2,
            "linecolor": "white",
            "showbackground": true,
            "ticks": "",
            "zerolinecolor": "white"
           }
          },
          "shapedefaults": {
           "line": {
            "color": "#2a3f5f"
           }
          },
          "ternary": {
           "aaxis": {
            "gridcolor": "white",
            "linecolor": "white",
            "ticks": ""
           },
           "baxis": {
            "gridcolor": "white",
            "linecolor": "white",
            "ticks": ""
           },
           "bgcolor": "#E5ECF6",
           "caxis": {
            "gridcolor": "white",
            "linecolor": "white",
            "ticks": ""
           }
          },
          "title": {
           "x": 0.05
          },
          "xaxis": {
           "automargin": true,
           "gridcolor": "white",
           "linecolor": "white",
           "ticks": "",
           "title": {
            "standoff": 15
           },
           "zerolinecolor": "white",
           "zerolinewidth": 2
          },
          "yaxis": {
           "automargin": true,
           "gridcolor": "white",
           "linecolor": "white",
           "ticks": "",
           "title": {
            "standoff": 15
           },
           "zerolinecolor": "white",
           "zerolinewidth": 2
          }
         }
        },
        "xaxis": {
         "anchor": "y",
         "domain": [
          0,
          1
         ],
         "title": {
          "text": "x"
         }
        },
        "yaxis": {
         "anchor": "x",
         "domain": [
          0,
          1
         ],
         "title": {
          "text": "y"
         }
        }
       }
      }
     },
     "metadata": {},
     "output_type": "display_data"
    }
   ],
   "source": [
    "# plot bar chart of Family column (x values, y counts)\n",
    "stats = df[col_name].value_counts().to_dict()\n",
    "stats = {str(k): v for k, v in stats.items()}\n",
    "stats['nan'] = df[col_name].isna().sum()\n",
    "fig = px.bar(x=list(stats.keys()), y=list(stats.values()))\n",
    "fig.show()"
   ]
  },
  {
   "cell_type": "code",
   "execution_count": 523,
   "id": "08862b00",
   "metadata": {},
   "outputs": [],
   "source": [
    "# fill\n"
   ]
  },
  {
   "cell_type": "code",
   "execution_count": null,
   "id": "ca3fffb5",
   "metadata": {},
   "outputs": [],
   "source": []
  },
  {
   "cell_type": "markdown",
   "id": "fb110b10",
   "metadata": {},
   "source": [
    "### education"
   ]
  },
  {
   "cell_type": "code",
   "execution_count": 524,
   "id": "d44327eb",
   "metadata": {},
   "outputs": [
    {
     "name": "stdout",
     "output_type": "stream",
     "text": [
      "Number of nan values in education column:  207\n",
      "Proportion of nan values in education column:  0.05509715198296513\n",
      "category\n"
     ]
    }
   ],
   "source": [
    "col_name = 'education'\n",
    "print(f'Number of nan values in {col_name} column: ', df[col_name].isna().sum())\n",
    "print(f'Proportion of nan values in {col_name} column: ', df[col_name].isna().sum() / df.shape[0])\n",
    "print(df[col_name].dtype)"
   ]
  },
  {
   "cell_type": "code",
   "execution_count": 525,
   "id": "dbdce82f",
   "metadata": {},
   "outputs": [
    {
     "data": {
      "text/plain": [
       "primary        1151\n",
       "high school    1072\n",
       "university      699\n",
       "illitrate       404\n",
       "0.0             217\n",
       "22.0              2\n",
       "33.0              2\n",
       "44.0              1\n",
       "50.0              1\n",
       "52.0              1\n",
       "Name: education, dtype: int64"
      ]
     },
     "execution_count": 525,
     "metadata": {},
     "output_type": "execute_result"
    }
   ],
   "source": [
    "df[col_name].value_counts()"
   ]
  },
  {
   "cell_type": "code",
   "execution_count": 526,
   "id": "190670ff",
   "metadata": {},
   "outputs": [
    {
     "data": {
      "application/vnd.plotly.v1+json": {
       "config": {
        "plotlyServerURL": "https://plot.ly"
       },
       "data": [
        {
         "alignmentgroup": "True",
         "hovertemplate": "x=%{x}<br>y=%{y}<extra></extra>",
         "legendgroup": "",
         "marker": {
          "color": "#636efa",
          "pattern": {
           "shape": ""
          }
         },
         "name": "",
         "offsetgroup": "",
         "orientation": "v",
         "showlegend": false,
         "textposition": "auto",
         "type": "bar",
         "x": [
          "primary",
          "high school",
          "university",
          "illitrate",
          "0.0",
          "22.0",
          "33.0",
          "44.0",
          "50.0",
          "52.0",
          "nan"
         ],
         "xaxis": "x",
         "y": [
          1151,
          1072,
          699,
          404,
          217,
          2,
          2,
          1,
          1,
          1,
          207
         ],
         "yaxis": "y"
        }
       ],
       "layout": {
        "barmode": "relative",
        "legend": {
         "tracegroupgap": 0
        },
        "margin": {
         "t": 60
        },
        "template": {
         "data": {
          "bar": [
           {
            "error_x": {
             "color": "#2a3f5f"
            },
            "error_y": {
             "color": "#2a3f5f"
            },
            "marker": {
             "line": {
              "color": "#E5ECF6",
              "width": 0.5
             },
             "pattern": {
              "fillmode": "overlay",
              "size": 10,
              "solidity": 0.2
             }
            },
            "type": "bar"
           }
          ],
          "barpolar": [
           {
            "marker": {
             "line": {
              "color": "#E5ECF6",
              "width": 0.5
             },
             "pattern": {
              "fillmode": "overlay",
              "size": 10,
              "solidity": 0.2
             }
            },
            "type": "barpolar"
           }
          ],
          "carpet": [
           {
            "aaxis": {
             "endlinecolor": "#2a3f5f",
             "gridcolor": "white",
             "linecolor": "white",
             "minorgridcolor": "white",
             "startlinecolor": "#2a3f5f"
            },
            "baxis": {
             "endlinecolor": "#2a3f5f",
             "gridcolor": "white",
             "linecolor": "white",
             "minorgridcolor": "white",
             "startlinecolor": "#2a3f5f"
            },
            "type": "carpet"
           }
          ],
          "choropleth": [
           {
            "colorbar": {
             "outlinewidth": 0,
             "ticks": ""
            },
            "type": "choropleth"
           }
          ],
          "contour": [
           {
            "colorbar": {
             "outlinewidth": 0,
             "ticks": ""
            },
            "colorscale": [
             [
              0,
              "#0d0887"
             ],
             [
              0.1111111111111111,
              "#46039f"
             ],
             [
              0.2222222222222222,
              "#7201a8"
             ],
             [
              0.3333333333333333,
              "#9c179e"
             ],
             [
              0.4444444444444444,
              "#bd3786"
             ],
             [
              0.5555555555555556,
              "#d8576b"
             ],
             [
              0.6666666666666666,
              "#ed7953"
             ],
             [
              0.7777777777777778,
              "#fb9f3a"
             ],
             [
              0.8888888888888888,
              "#fdca26"
             ],
             [
              1,
              "#f0f921"
             ]
            ],
            "type": "contour"
           }
          ],
          "contourcarpet": [
           {
            "colorbar": {
             "outlinewidth": 0,
             "ticks": ""
            },
            "type": "contourcarpet"
           }
          ],
          "heatmap": [
           {
            "colorbar": {
             "outlinewidth": 0,
             "ticks": ""
            },
            "colorscale": [
             [
              0,
              "#0d0887"
             ],
             [
              0.1111111111111111,
              "#46039f"
             ],
             [
              0.2222222222222222,
              "#7201a8"
             ],
             [
              0.3333333333333333,
              "#9c179e"
             ],
             [
              0.4444444444444444,
              "#bd3786"
             ],
             [
              0.5555555555555556,
              "#d8576b"
             ],
             [
              0.6666666666666666,
              "#ed7953"
             ],
             [
              0.7777777777777778,
              "#fb9f3a"
             ],
             [
              0.8888888888888888,
              "#fdca26"
             ],
             [
              1,
              "#f0f921"
             ]
            ],
            "type": "heatmap"
           }
          ],
          "heatmapgl": [
           {
            "colorbar": {
             "outlinewidth": 0,
             "ticks": ""
            },
            "colorscale": [
             [
              0,
              "#0d0887"
             ],
             [
              0.1111111111111111,
              "#46039f"
             ],
             [
              0.2222222222222222,
              "#7201a8"
             ],
             [
              0.3333333333333333,
              "#9c179e"
             ],
             [
              0.4444444444444444,
              "#bd3786"
             ],
             [
              0.5555555555555556,
              "#d8576b"
             ],
             [
              0.6666666666666666,
              "#ed7953"
             ],
             [
              0.7777777777777778,
              "#fb9f3a"
             ],
             [
              0.8888888888888888,
              "#fdca26"
             ],
             [
              1,
              "#f0f921"
             ]
            ],
            "type": "heatmapgl"
           }
          ],
          "histogram": [
           {
            "marker": {
             "pattern": {
              "fillmode": "overlay",
              "size": 10,
              "solidity": 0.2
             }
            },
            "type": "histogram"
           }
          ],
          "histogram2d": [
           {
            "colorbar": {
             "outlinewidth": 0,
             "ticks": ""
            },
            "colorscale": [
             [
              0,
              "#0d0887"
             ],
             [
              0.1111111111111111,
              "#46039f"
             ],
             [
              0.2222222222222222,
              "#7201a8"
             ],
             [
              0.3333333333333333,
              "#9c179e"
             ],
             [
              0.4444444444444444,
              "#bd3786"
             ],
             [
              0.5555555555555556,
              "#d8576b"
             ],
             [
              0.6666666666666666,
              "#ed7953"
             ],
             [
              0.7777777777777778,
              "#fb9f3a"
             ],
             [
              0.8888888888888888,
              "#fdca26"
             ],
             [
              1,
              "#f0f921"
             ]
            ],
            "type": "histogram2d"
           }
          ],
          "histogram2dcontour": [
           {
            "colorbar": {
             "outlinewidth": 0,
             "ticks": ""
            },
            "colorscale": [
             [
              0,
              "#0d0887"
             ],
             [
              0.1111111111111111,
              "#46039f"
             ],
             [
              0.2222222222222222,
              "#7201a8"
             ],
             [
              0.3333333333333333,
              "#9c179e"
             ],
             [
              0.4444444444444444,
              "#bd3786"
             ],
             [
              0.5555555555555556,
              "#d8576b"
             ],
             [
              0.6666666666666666,
              "#ed7953"
             ],
             [
              0.7777777777777778,
              "#fb9f3a"
             ],
             [
              0.8888888888888888,
              "#fdca26"
             ],
             [
              1,
              "#f0f921"
             ]
            ],
            "type": "histogram2dcontour"
           }
          ],
          "mesh3d": [
           {
            "colorbar": {
             "outlinewidth": 0,
             "ticks": ""
            },
            "type": "mesh3d"
           }
          ],
          "parcoords": [
           {
            "line": {
             "colorbar": {
              "outlinewidth": 0,
              "ticks": ""
             }
            },
            "type": "parcoords"
           }
          ],
          "pie": [
           {
            "automargin": true,
            "type": "pie"
           }
          ],
          "scatter": [
           {
            "fillpattern": {
             "fillmode": "overlay",
             "size": 10,
             "solidity": 0.2
            },
            "type": "scatter"
           }
          ],
          "scatter3d": [
           {
            "line": {
             "colorbar": {
              "outlinewidth": 0,
              "ticks": ""
             }
            },
            "marker": {
             "colorbar": {
              "outlinewidth": 0,
              "ticks": ""
             }
            },
            "type": "scatter3d"
           }
          ],
          "scattercarpet": [
           {
            "marker": {
             "colorbar": {
              "outlinewidth": 0,
              "ticks": ""
             }
            },
            "type": "scattercarpet"
           }
          ],
          "scattergeo": [
           {
            "marker": {
             "colorbar": {
              "outlinewidth": 0,
              "ticks": ""
             }
            },
            "type": "scattergeo"
           }
          ],
          "scattergl": [
           {
            "marker": {
             "colorbar": {
              "outlinewidth": 0,
              "ticks": ""
             }
            },
            "type": "scattergl"
           }
          ],
          "scattermapbox": [
           {
            "marker": {
             "colorbar": {
              "outlinewidth": 0,
              "ticks": ""
             }
            },
            "type": "scattermapbox"
           }
          ],
          "scatterpolar": [
           {
            "marker": {
             "colorbar": {
              "outlinewidth": 0,
              "ticks": ""
             }
            },
            "type": "scatterpolar"
           }
          ],
          "scatterpolargl": [
           {
            "marker": {
             "colorbar": {
              "outlinewidth": 0,
              "ticks": ""
             }
            },
            "type": "scatterpolargl"
           }
          ],
          "scatterternary": [
           {
            "marker": {
             "colorbar": {
              "outlinewidth": 0,
              "ticks": ""
             }
            },
            "type": "scatterternary"
           }
          ],
          "surface": [
           {
            "colorbar": {
             "outlinewidth": 0,
             "ticks": ""
            },
            "colorscale": [
             [
              0,
              "#0d0887"
             ],
             [
              0.1111111111111111,
              "#46039f"
             ],
             [
              0.2222222222222222,
              "#7201a8"
             ],
             [
              0.3333333333333333,
              "#9c179e"
             ],
             [
              0.4444444444444444,
              "#bd3786"
             ],
             [
              0.5555555555555556,
              "#d8576b"
             ],
             [
              0.6666666666666666,
              "#ed7953"
             ],
             [
              0.7777777777777778,
              "#fb9f3a"
             ],
             [
              0.8888888888888888,
              "#fdca26"
             ],
             [
              1,
              "#f0f921"
             ]
            ],
            "type": "surface"
           }
          ],
          "table": [
           {
            "cells": {
             "fill": {
              "color": "#EBF0F8"
             },
             "line": {
              "color": "white"
             }
            },
            "header": {
             "fill": {
              "color": "#C8D4E3"
             },
             "line": {
              "color": "white"
             }
            },
            "type": "table"
           }
          ]
         },
         "layout": {
          "annotationdefaults": {
           "arrowcolor": "#2a3f5f",
           "arrowhead": 0,
           "arrowwidth": 1
          },
          "autotypenumbers": "strict",
          "coloraxis": {
           "colorbar": {
            "outlinewidth": 0,
            "ticks": ""
           }
          },
          "colorscale": {
           "diverging": [
            [
             0,
             "#8e0152"
            ],
            [
             0.1,
             "#c51b7d"
            ],
            [
             0.2,
             "#de77ae"
            ],
            [
             0.3,
             "#f1b6da"
            ],
            [
             0.4,
             "#fde0ef"
            ],
            [
             0.5,
             "#f7f7f7"
            ],
            [
             0.6,
             "#e6f5d0"
            ],
            [
             0.7,
             "#b8e186"
            ],
            [
             0.8,
             "#7fbc41"
            ],
            [
             0.9,
             "#4d9221"
            ],
            [
             1,
             "#276419"
            ]
           ],
           "sequential": [
            [
             0,
             "#0d0887"
            ],
            [
             0.1111111111111111,
             "#46039f"
            ],
            [
             0.2222222222222222,
             "#7201a8"
            ],
            [
             0.3333333333333333,
             "#9c179e"
            ],
            [
             0.4444444444444444,
             "#bd3786"
            ],
            [
             0.5555555555555556,
             "#d8576b"
            ],
            [
             0.6666666666666666,
             "#ed7953"
            ],
            [
             0.7777777777777778,
             "#fb9f3a"
            ],
            [
             0.8888888888888888,
             "#fdca26"
            ],
            [
             1,
             "#f0f921"
            ]
           ],
           "sequentialminus": [
            [
             0,
             "#0d0887"
            ],
            [
             0.1111111111111111,
             "#46039f"
            ],
            [
             0.2222222222222222,
             "#7201a8"
            ],
            [
             0.3333333333333333,
             "#9c179e"
            ],
            [
             0.4444444444444444,
             "#bd3786"
            ],
            [
             0.5555555555555556,
             "#d8576b"
            ],
            [
             0.6666666666666666,
             "#ed7953"
            ],
            [
             0.7777777777777778,
             "#fb9f3a"
            ],
            [
             0.8888888888888888,
             "#fdca26"
            ],
            [
             1,
             "#f0f921"
            ]
           ]
          },
          "colorway": [
           "#636efa",
           "#EF553B",
           "#00cc96",
           "#ab63fa",
           "#FFA15A",
           "#19d3f3",
           "#FF6692",
           "#B6E880",
           "#FF97FF",
           "#FECB52"
          ],
          "font": {
           "color": "#2a3f5f"
          },
          "geo": {
           "bgcolor": "white",
           "lakecolor": "white",
           "landcolor": "#E5ECF6",
           "showlakes": true,
           "showland": true,
           "subunitcolor": "white"
          },
          "hoverlabel": {
           "align": "left"
          },
          "hovermode": "closest",
          "mapbox": {
           "style": "light"
          },
          "paper_bgcolor": "white",
          "plot_bgcolor": "#E5ECF6",
          "polar": {
           "angularaxis": {
            "gridcolor": "white",
            "linecolor": "white",
            "ticks": ""
           },
           "bgcolor": "#E5ECF6",
           "radialaxis": {
            "gridcolor": "white",
            "linecolor": "white",
            "ticks": ""
           }
          },
          "scene": {
           "xaxis": {
            "backgroundcolor": "#E5ECF6",
            "gridcolor": "white",
            "gridwidth": 2,
            "linecolor": "white",
            "showbackground": true,
            "ticks": "",
            "zerolinecolor": "white"
           },
           "yaxis": {
            "backgroundcolor": "#E5ECF6",
            "gridcolor": "white",
            "gridwidth": 2,
            "linecolor": "white",
            "showbackground": true,
            "ticks": "",
            "zerolinecolor": "white"
           },
           "zaxis": {
            "backgroundcolor": "#E5ECF6",
            "gridcolor": "white",
            "gridwidth": 2,
            "linecolor": "white",
            "showbackground": true,
            "ticks": "",
            "zerolinecolor": "white"
           }
          },
          "shapedefaults": {
           "line": {
            "color": "#2a3f5f"
           }
          },
          "ternary": {
           "aaxis": {
            "gridcolor": "white",
            "linecolor": "white",
            "ticks": ""
           },
           "baxis": {
            "gridcolor": "white",
            "linecolor": "white",
            "ticks": ""
           },
           "bgcolor": "#E5ECF6",
           "caxis": {
            "gridcolor": "white",
            "linecolor": "white",
            "ticks": ""
           }
          },
          "title": {
           "x": 0.05
          },
          "xaxis": {
           "automargin": true,
           "gridcolor": "white",
           "linecolor": "white",
           "ticks": "",
           "title": {
            "standoff": 15
           },
           "zerolinecolor": "white",
           "zerolinewidth": 2
          },
          "yaxis": {
           "automargin": true,
           "gridcolor": "white",
           "linecolor": "white",
           "ticks": "",
           "title": {
            "standoff": 15
           },
           "zerolinecolor": "white",
           "zerolinewidth": 2
          }
         }
        },
        "xaxis": {
         "anchor": "y",
         "domain": [
          0,
          1
         ],
         "title": {
          "text": "x"
         }
        },
        "yaxis": {
         "anchor": "x",
         "domain": [
          0,
          1
         ],
         "title": {
          "text": "y"
         }
        }
       }
      }
     },
     "metadata": {},
     "output_type": "display_data"
    }
   ],
   "source": [
    "# plot bar chart of Family column (x values, y counts)\n",
    "stats = df[col_name].value_counts().to_dict()\n",
    "stats = {str(k): v for k, v in stats.items()}\n",
    "stats['nan'] = df[col_name].isna().sum()\n",
    "fig = px.bar(x=list(stats.keys()), y=list(stats.values()))\n",
    "fig.show()"
   ]
  },
  {
   "cell_type": "code",
   "execution_count": 527,
   "id": "55c6f87f",
   "metadata": {},
   "outputs": [],
   "source": [
    "# fill\n"
   ]
  },
  {
   "cell_type": "code",
   "execution_count": null,
   "id": "c2ddc1cd",
   "metadata": {},
   "outputs": [],
   "source": []
  },
  {
   "cell_type": "markdown",
   "id": "80a76223",
   "metadata": {},
   "source": [
    "### fpregnancy"
   ]
  },
  {
   "cell_type": "code",
   "execution_count": 528,
   "id": "df63819f",
   "metadata": {},
   "outputs": [
    {
     "name": "stdout",
     "output_type": "stream",
     "text": [
      "Number of nan values in fpregnancy column:  449\n",
      "Proportion of nan values in fpregnancy column:  0.1195102475379292\n",
      "float64\n"
     ]
    }
   ],
   "source": [
    "col_name = 'fpregnancy'\n",
    "print(f'Number of nan values in {col_name} column: ', df[col_name].isna().sum())\n",
    "print(f'Proportion of nan values in {col_name} column: ', df[col_name].isna().sum() / df.shape[0])\n",
    "print(df[col_name].dtype)"
   ]
  },
  {
   "cell_type": "code",
   "execution_count": 529,
   "id": "edaacf21",
   "metadata": {},
   "outputs": [
    {
     "data": {
      "text/plain": [
       "20.0     348\n",
       "18.0     270\n",
       "19.0     258\n",
       "21.0     228\n",
       "16.0     209\n",
       "17.0     206\n",
       "0.0      201\n",
       "22.0     183\n",
       "23.0     180\n",
       "15.0     167\n",
       "24.0     152\n",
       "25.0     126\n",
       "26.0     122\n",
       "27.0     107\n",
       "28.0      91\n",
       "30.0      78\n",
       "14.0      74\n",
       "29.0      71\n",
       "31.0      56\n",
       "32.0      38\n",
       "33.0      29\n",
       "35.0      20\n",
       "34.0      20\n",
       "36.0      18\n",
       "13.0      12\n",
       "37.0      10\n",
       "40.0      10\n",
       "42.0       7\n",
       "38.0       5\n",
       "39.0       5\n",
       "41.0       3\n",
       "45.0       2\n",
       "43.0       1\n",
       "156.0      1\n",
       "Name: fpregnancy, dtype: int64"
      ]
     },
     "execution_count": 529,
     "metadata": {},
     "output_type": "execute_result"
    }
   ],
   "source": [
    "df[col_name].value_counts()"
   ]
  },
  {
   "cell_type": "code",
   "execution_count": 530,
   "id": "d1b36719",
   "metadata": {},
   "outputs": [
    {
     "data": {
      "application/vnd.plotly.v1+json": {
       "config": {
        "plotlyServerURL": "https://plot.ly"
       },
       "data": [
        {
         "alignmentgroup": "True",
         "hovertemplate": "x=%{x}<br>y=%{y}<extra></extra>",
         "legendgroup": "",
         "marker": {
          "color": "#636efa",
          "pattern": {
           "shape": ""
          }
         },
         "name": "",
         "offsetgroup": "",
         "orientation": "v",
         "showlegend": false,
         "textposition": "auto",
         "type": "bar",
         "x": [
          "20.0",
          "18.0",
          "19.0",
          "21.0",
          "16.0",
          "17.0",
          "0.0",
          "22.0",
          "23.0",
          "15.0",
          "24.0",
          "25.0",
          "26.0",
          "27.0",
          "28.0",
          "30.0",
          "14.0",
          "29.0",
          "31.0",
          "32.0",
          "33.0",
          "35.0",
          "34.0",
          "36.0",
          "13.0",
          "37.0",
          "40.0",
          "42.0",
          "38.0",
          "39.0",
          "41.0",
          "45.0",
          "43.0",
          "156.0",
          "nan"
         ],
         "xaxis": "x",
         "y": [
          348,
          270,
          258,
          228,
          209,
          206,
          201,
          183,
          180,
          167,
          152,
          126,
          122,
          107,
          91,
          78,
          74,
          71,
          56,
          38,
          29,
          20,
          20,
          18,
          12,
          10,
          10,
          7,
          5,
          5,
          3,
          2,
          1,
          1,
          449
         ],
         "yaxis": "y"
        }
       ],
       "layout": {
        "barmode": "relative",
        "legend": {
         "tracegroupgap": 0
        },
        "margin": {
         "t": 60
        },
        "template": {
         "data": {
          "bar": [
           {
            "error_x": {
             "color": "#2a3f5f"
            },
            "error_y": {
             "color": "#2a3f5f"
            },
            "marker": {
             "line": {
              "color": "#E5ECF6",
              "width": 0.5
             },
             "pattern": {
              "fillmode": "overlay",
              "size": 10,
              "solidity": 0.2
             }
            },
            "type": "bar"
           }
          ],
          "barpolar": [
           {
            "marker": {
             "line": {
              "color": "#E5ECF6",
              "width": 0.5
             },
             "pattern": {
              "fillmode": "overlay",
              "size": 10,
              "solidity": 0.2
             }
            },
            "type": "barpolar"
           }
          ],
          "carpet": [
           {
            "aaxis": {
             "endlinecolor": "#2a3f5f",
             "gridcolor": "white",
             "linecolor": "white",
             "minorgridcolor": "white",
             "startlinecolor": "#2a3f5f"
            },
            "baxis": {
             "endlinecolor": "#2a3f5f",
             "gridcolor": "white",
             "linecolor": "white",
             "minorgridcolor": "white",
             "startlinecolor": "#2a3f5f"
            },
            "type": "carpet"
           }
          ],
          "choropleth": [
           {
            "colorbar": {
             "outlinewidth": 0,
             "ticks": ""
            },
            "type": "choropleth"
           }
          ],
          "contour": [
           {
            "colorbar": {
             "outlinewidth": 0,
             "ticks": ""
            },
            "colorscale": [
             [
              0,
              "#0d0887"
             ],
             [
              0.1111111111111111,
              "#46039f"
             ],
             [
              0.2222222222222222,
              "#7201a8"
             ],
             [
              0.3333333333333333,
              "#9c179e"
             ],
             [
              0.4444444444444444,
              "#bd3786"
             ],
             [
              0.5555555555555556,
              "#d8576b"
             ],
             [
              0.6666666666666666,
              "#ed7953"
             ],
             [
              0.7777777777777778,
              "#fb9f3a"
             ],
             [
              0.8888888888888888,
              "#fdca26"
             ],
             [
              1,
              "#f0f921"
             ]
            ],
            "type": "contour"
           }
          ],
          "contourcarpet": [
           {
            "colorbar": {
             "outlinewidth": 0,
             "ticks": ""
            },
            "type": "contourcarpet"
           }
          ],
          "heatmap": [
           {
            "colorbar": {
             "outlinewidth": 0,
             "ticks": ""
            },
            "colorscale": [
             [
              0,
              "#0d0887"
             ],
             [
              0.1111111111111111,
              "#46039f"
             ],
             [
              0.2222222222222222,
              "#7201a8"
             ],
             [
              0.3333333333333333,
              "#9c179e"
             ],
             [
              0.4444444444444444,
              "#bd3786"
             ],
             [
              0.5555555555555556,
              "#d8576b"
             ],
             [
              0.6666666666666666,
              "#ed7953"
             ],
             [
              0.7777777777777778,
              "#fb9f3a"
             ],
             [
              0.8888888888888888,
              "#fdca26"
             ],
             [
              1,
              "#f0f921"
             ]
            ],
            "type": "heatmap"
           }
          ],
          "heatmapgl": [
           {
            "colorbar": {
             "outlinewidth": 0,
             "ticks": ""
            },
            "colorscale": [
             [
              0,
              "#0d0887"
             ],
             [
              0.1111111111111111,
              "#46039f"
             ],
             [
              0.2222222222222222,
              "#7201a8"
             ],
             [
              0.3333333333333333,
              "#9c179e"
             ],
             [
              0.4444444444444444,
              "#bd3786"
             ],
             [
              0.5555555555555556,
              "#d8576b"
             ],
             [
              0.6666666666666666,
              "#ed7953"
             ],
             [
              0.7777777777777778,
              "#fb9f3a"
             ],
             [
              0.8888888888888888,
              "#fdca26"
             ],
             [
              1,
              "#f0f921"
             ]
            ],
            "type": "heatmapgl"
           }
          ],
          "histogram": [
           {
            "marker": {
             "pattern": {
              "fillmode": "overlay",
              "size": 10,
              "solidity": 0.2
             }
            },
            "type": "histogram"
           }
          ],
          "histogram2d": [
           {
            "colorbar": {
             "outlinewidth": 0,
             "ticks": ""
            },
            "colorscale": [
             [
              0,
              "#0d0887"
             ],
             [
              0.1111111111111111,
              "#46039f"
             ],
             [
              0.2222222222222222,
              "#7201a8"
             ],
             [
              0.3333333333333333,
              "#9c179e"
             ],
             [
              0.4444444444444444,
              "#bd3786"
             ],
             [
              0.5555555555555556,
              "#d8576b"
             ],
             [
              0.6666666666666666,
              "#ed7953"
             ],
             [
              0.7777777777777778,
              "#fb9f3a"
             ],
             [
              0.8888888888888888,
              "#fdca26"
             ],
             [
              1,
              "#f0f921"
             ]
            ],
            "type": "histogram2d"
           }
          ],
          "histogram2dcontour": [
           {
            "colorbar": {
             "outlinewidth": 0,
             "ticks": ""
            },
            "colorscale": [
             [
              0,
              "#0d0887"
             ],
             [
              0.1111111111111111,
              "#46039f"
             ],
             [
              0.2222222222222222,
              "#7201a8"
             ],
             [
              0.3333333333333333,
              "#9c179e"
             ],
             [
              0.4444444444444444,
              "#bd3786"
             ],
             [
              0.5555555555555556,
              "#d8576b"
             ],
             [
              0.6666666666666666,
              "#ed7953"
             ],
             [
              0.7777777777777778,
              "#fb9f3a"
             ],
             [
              0.8888888888888888,
              "#fdca26"
             ],
             [
              1,
              "#f0f921"
             ]
            ],
            "type": "histogram2dcontour"
           }
          ],
          "mesh3d": [
           {
            "colorbar": {
             "outlinewidth": 0,
             "ticks": ""
            },
            "type": "mesh3d"
           }
          ],
          "parcoords": [
           {
            "line": {
             "colorbar": {
              "outlinewidth": 0,
              "ticks": ""
             }
            },
            "type": "parcoords"
           }
          ],
          "pie": [
           {
            "automargin": true,
            "type": "pie"
           }
          ],
          "scatter": [
           {
            "fillpattern": {
             "fillmode": "overlay",
             "size": 10,
             "solidity": 0.2
            },
            "type": "scatter"
           }
          ],
          "scatter3d": [
           {
            "line": {
             "colorbar": {
              "outlinewidth": 0,
              "ticks": ""
             }
            },
            "marker": {
             "colorbar": {
              "outlinewidth": 0,
              "ticks": ""
             }
            },
            "type": "scatter3d"
           }
          ],
          "scattercarpet": [
           {
            "marker": {
             "colorbar": {
              "outlinewidth": 0,
              "ticks": ""
             }
            },
            "type": "scattercarpet"
           }
          ],
          "scattergeo": [
           {
            "marker": {
             "colorbar": {
              "outlinewidth": 0,
              "ticks": ""
             }
            },
            "type": "scattergeo"
           }
          ],
          "scattergl": [
           {
            "marker": {
             "colorbar": {
              "outlinewidth": 0,
              "ticks": ""
             }
            },
            "type": "scattergl"
           }
          ],
          "scattermapbox": [
           {
            "marker": {
             "colorbar": {
              "outlinewidth": 0,
              "ticks": ""
             }
            },
            "type": "scattermapbox"
           }
          ],
          "scatterpolar": [
           {
            "marker": {
             "colorbar": {
              "outlinewidth": 0,
              "ticks": ""
             }
            },
            "type": "scatterpolar"
           }
          ],
          "scatterpolargl": [
           {
            "marker": {
             "colorbar": {
              "outlinewidth": 0,
              "ticks": ""
             }
            },
            "type": "scatterpolargl"
           }
          ],
          "scatterternary": [
           {
            "marker": {
             "colorbar": {
              "outlinewidth": 0,
              "ticks": ""
             }
            },
            "type": "scatterternary"
           }
          ],
          "surface": [
           {
            "colorbar": {
             "outlinewidth": 0,
             "ticks": ""
            },
            "colorscale": [
             [
              0,
              "#0d0887"
             ],
             [
              0.1111111111111111,
              "#46039f"
             ],
             [
              0.2222222222222222,
              "#7201a8"
             ],
             [
              0.3333333333333333,
              "#9c179e"
             ],
             [
              0.4444444444444444,
              "#bd3786"
             ],
             [
              0.5555555555555556,
              "#d8576b"
             ],
             [
              0.6666666666666666,
              "#ed7953"
             ],
             [
              0.7777777777777778,
              "#fb9f3a"
             ],
             [
              0.8888888888888888,
              "#fdca26"
             ],
             [
              1,
              "#f0f921"
             ]
            ],
            "type": "surface"
           }
          ],
          "table": [
           {
            "cells": {
             "fill": {
              "color": "#EBF0F8"
             },
             "line": {
              "color": "white"
             }
            },
            "header": {
             "fill": {
              "color": "#C8D4E3"
             },
             "line": {
              "color": "white"
             }
            },
            "type": "table"
           }
          ]
         },
         "layout": {
          "annotationdefaults": {
           "arrowcolor": "#2a3f5f",
           "arrowhead": 0,
           "arrowwidth": 1
          },
          "autotypenumbers": "strict",
          "coloraxis": {
           "colorbar": {
            "outlinewidth": 0,
            "ticks": ""
           }
          },
          "colorscale": {
           "diverging": [
            [
             0,
             "#8e0152"
            ],
            [
             0.1,
             "#c51b7d"
            ],
            [
             0.2,
             "#de77ae"
            ],
            [
             0.3,
             "#f1b6da"
            ],
            [
             0.4,
             "#fde0ef"
            ],
            [
             0.5,
             "#f7f7f7"
            ],
            [
             0.6,
             "#e6f5d0"
            ],
            [
             0.7,
             "#b8e186"
            ],
            [
             0.8,
             "#7fbc41"
            ],
            [
             0.9,
             "#4d9221"
            ],
            [
             1,
             "#276419"
            ]
           ],
           "sequential": [
            [
             0,
             "#0d0887"
            ],
            [
             0.1111111111111111,
             "#46039f"
            ],
            [
             0.2222222222222222,
             "#7201a8"
            ],
            [
             0.3333333333333333,
             "#9c179e"
            ],
            [
             0.4444444444444444,
             "#bd3786"
            ],
            [
             0.5555555555555556,
             "#d8576b"
            ],
            [
             0.6666666666666666,
             "#ed7953"
            ],
            [
             0.7777777777777778,
             "#fb9f3a"
            ],
            [
             0.8888888888888888,
             "#fdca26"
            ],
            [
             1,
             "#f0f921"
            ]
           ],
           "sequentialminus": [
            [
             0,
             "#0d0887"
            ],
            [
             0.1111111111111111,
             "#46039f"
            ],
            [
             0.2222222222222222,
             "#7201a8"
            ],
            [
             0.3333333333333333,
             "#9c179e"
            ],
            [
             0.4444444444444444,
             "#bd3786"
            ],
            [
             0.5555555555555556,
             "#d8576b"
            ],
            [
             0.6666666666666666,
             "#ed7953"
            ],
            [
             0.7777777777777778,
             "#fb9f3a"
            ],
            [
             0.8888888888888888,
             "#fdca26"
            ],
            [
             1,
             "#f0f921"
            ]
           ]
          },
          "colorway": [
           "#636efa",
           "#EF553B",
           "#00cc96",
           "#ab63fa",
           "#FFA15A",
           "#19d3f3",
           "#FF6692",
           "#B6E880",
           "#FF97FF",
           "#FECB52"
          ],
          "font": {
           "color": "#2a3f5f"
          },
          "geo": {
           "bgcolor": "white",
           "lakecolor": "white",
           "landcolor": "#E5ECF6",
           "showlakes": true,
           "showland": true,
           "subunitcolor": "white"
          },
          "hoverlabel": {
           "align": "left"
          },
          "hovermode": "closest",
          "mapbox": {
           "style": "light"
          },
          "paper_bgcolor": "white",
          "plot_bgcolor": "#E5ECF6",
          "polar": {
           "angularaxis": {
            "gridcolor": "white",
            "linecolor": "white",
            "ticks": ""
           },
           "bgcolor": "#E5ECF6",
           "radialaxis": {
            "gridcolor": "white",
            "linecolor": "white",
            "ticks": ""
           }
          },
          "scene": {
           "xaxis": {
            "backgroundcolor": "#E5ECF6",
            "gridcolor": "white",
            "gridwidth": 2,
            "linecolor": "white",
            "showbackground": true,
            "ticks": "",
            "zerolinecolor": "white"
           },
           "yaxis": {
            "backgroundcolor": "#E5ECF6",
            "gridcolor": "white",
            "gridwidth": 2,
            "linecolor": "white",
            "showbackground": true,
            "ticks": "",
            "zerolinecolor": "white"
           },
           "zaxis": {
            "backgroundcolor": "#E5ECF6",
            "gridcolor": "white",
            "gridwidth": 2,
            "linecolor": "white",
            "showbackground": true,
            "ticks": "",
            "zerolinecolor": "white"
           }
          },
          "shapedefaults": {
           "line": {
            "color": "#2a3f5f"
           }
          },
          "ternary": {
           "aaxis": {
            "gridcolor": "white",
            "linecolor": "white",
            "ticks": ""
           },
           "baxis": {
            "gridcolor": "white",
            "linecolor": "white",
            "ticks": ""
           },
           "bgcolor": "#E5ECF6",
           "caxis": {
            "gridcolor": "white",
            "linecolor": "white",
            "ticks": ""
           }
          },
          "title": {
           "x": 0.05
          },
          "xaxis": {
           "automargin": true,
           "gridcolor": "white",
           "linecolor": "white",
           "ticks": "",
           "title": {
            "standoff": 15
           },
           "zerolinecolor": "white",
           "zerolinewidth": 2
          },
          "yaxis": {
           "automargin": true,
           "gridcolor": "white",
           "linecolor": "white",
           "ticks": "",
           "title": {
            "standoff": 15
           },
           "zerolinecolor": "white",
           "zerolinewidth": 2
          }
         }
        },
        "xaxis": {
         "anchor": "y",
         "domain": [
          0,
          1
         ],
         "title": {
          "text": "x"
         }
        },
        "yaxis": {
         "anchor": "x",
         "domain": [
          0,
          1
         ],
         "title": {
          "text": "y"
         }
        }
       }
      }
     },
     "metadata": {},
     "output_type": "display_data"
    }
   ],
   "source": [
    "# plot bar chart of Family column (x values, y counts)\n",
    "stats = df[col_name].value_counts().to_dict()\n",
    "stats = {str(k): v for k, v in stats.items()}\n",
    "stats['nan'] = df[col_name].isna().sum()\n",
    "fig = px.bar(x=list(stats.keys()), y=list(stats.values()))\n",
    "fig.show()"
   ]
  },
  {
   "cell_type": "code",
   "execution_count": 531,
   "id": "08a9278a",
   "metadata": {},
   "outputs": [],
   "source": [
    "# fill\n"
   ]
  },
  {
   "cell_type": "code",
   "execution_count": null,
   "id": "2568cff1",
   "metadata": {},
   "outputs": [],
   "source": []
  },
  {
   "cell_type": "markdown",
   "id": "c5b47da0",
   "metadata": {},
   "source": [
    "### gravity"
   ]
  },
  {
   "cell_type": "code",
   "execution_count": 532,
   "id": "9b2ed792",
   "metadata": {},
   "outputs": [
    {
     "name": "stdout",
     "output_type": "stream",
     "text": [
      "Number of nan values in gravity column:  287\n",
      "Proportion of nan values in gravity column:  0.07639073729039127\n",
      "category\n"
     ]
    }
   ],
   "source": [
    "col_name = 'gravity'\n",
    "print(f'Number of nan values in {col_name} column: ', df[col_name].isna().sum())\n",
    "print(f'Proportion of nan values in {col_name} column: ', df[col_name].isna().sum() / df.shape[0])\n",
    "print(df[col_name].dtype)"
   ]
  },
  {
   "cell_type": "code",
   "execution_count": 533,
   "id": "24b0bb5c",
   "metadata": {},
   "outputs": [
    {
     "data": {
      "text/plain": [
       "gravid       3064\n",
       "no child      219\n",
       "infertile     176\n",
       "11.0            8\n",
       "3.0             1\n",
       "4.0             1\n",
       "5.0             1\n",
       "Name: gravity, dtype: int64"
      ]
     },
     "execution_count": 533,
     "metadata": {},
     "output_type": "execute_result"
    }
   ],
   "source": [
    "df[col_name].value_counts()"
   ]
  },
  {
   "cell_type": "code",
   "execution_count": 534,
   "id": "000c1f12",
   "metadata": {},
   "outputs": [
    {
     "data": {
      "application/vnd.plotly.v1+json": {
       "config": {
        "plotlyServerURL": "https://plot.ly"
       },
       "data": [
        {
         "alignmentgroup": "True",
         "hovertemplate": "x=%{x}<br>y=%{y}<extra></extra>",
         "legendgroup": "",
         "marker": {
          "color": "#636efa",
          "pattern": {
           "shape": ""
          }
         },
         "name": "",
         "offsetgroup": "",
         "orientation": "v",
         "showlegend": false,
         "textposition": "auto",
         "type": "bar",
         "x": [
          "gravid",
          "no child",
          "infertile",
          "11.0",
          "3.0",
          "4.0",
          "5.0",
          "nan"
         ],
         "xaxis": "x",
         "y": [
          3064,
          219,
          176,
          8,
          1,
          1,
          1,
          287
         ],
         "yaxis": "y"
        }
       ],
       "layout": {
        "barmode": "relative",
        "legend": {
         "tracegroupgap": 0
        },
        "margin": {
         "t": 60
        },
        "template": {
         "data": {
          "bar": [
           {
            "error_x": {
             "color": "#2a3f5f"
            },
            "error_y": {
             "color": "#2a3f5f"
            },
            "marker": {
             "line": {
              "color": "#E5ECF6",
              "width": 0.5
             },
             "pattern": {
              "fillmode": "overlay",
              "size": 10,
              "solidity": 0.2
             }
            },
            "type": "bar"
           }
          ],
          "barpolar": [
           {
            "marker": {
             "line": {
              "color": "#E5ECF6",
              "width": 0.5
             },
             "pattern": {
              "fillmode": "overlay",
              "size": 10,
              "solidity": 0.2
             }
            },
            "type": "barpolar"
           }
          ],
          "carpet": [
           {
            "aaxis": {
             "endlinecolor": "#2a3f5f",
             "gridcolor": "white",
             "linecolor": "white",
             "minorgridcolor": "white",
             "startlinecolor": "#2a3f5f"
            },
            "baxis": {
             "endlinecolor": "#2a3f5f",
             "gridcolor": "white",
             "linecolor": "white",
             "minorgridcolor": "white",
             "startlinecolor": "#2a3f5f"
            },
            "type": "carpet"
           }
          ],
          "choropleth": [
           {
            "colorbar": {
             "outlinewidth": 0,
             "ticks": ""
            },
            "type": "choropleth"
           }
          ],
          "contour": [
           {
            "colorbar": {
             "outlinewidth": 0,
             "ticks": ""
            },
            "colorscale": [
             [
              0,
              "#0d0887"
             ],
             [
              0.1111111111111111,
              "#46039f"
             ],
             [
              0.2222222222222222,
              "#7201a8"
             ],
             [
              0.3333333333333333,
              "#9c179e"
             ],
             [
              0.4444444444444444,
              "#bd3786"
             ],
             [
              0.5555555555555556,
              "#d8576b"
             ],
             [
              0.6666666666666666,
              "#ed7953"
             ],
             [
              0.7777777777777778,
              "#fb9f3a"
             ],
             [
              0.8888888888888888,
              "#fdca26"
             ],
             [
              1,
              "#f0f921"
             ]
            ],
            "type": "contour"
           }
          ],
          "contourcarpet": [
           {
            "colorbar": {
             "outlinewidth": 0,
             "ticks": ""
            },
            "type": "contourcarpet"
           }
          ],
          "heatmap": [
           {
            "colorbar": {
             "outlinewidth": 0,
             "ticks": ""
            },
            "colorscale": [
             [
              0,
              "#0d0887"
             ],
             [
              0.1111111111111111,
              "#46039f"
             ],
             [
              0.2222222222222222,
              "#7201a8"
             ],
             [
              0.3333333333333333,
              "#9c179e"
             ],
             [
              0.4444444444444444,
              "#bd3786"
             ],
             [
              0.5555555555555556,
              "#d8576b"
             ],
             [
              0.6666666666666666,
              "#ed7953"
             ],
             [
              0.7777777777777778,
              "#fb9f3a"
             ],
             [
              0.8888888888888888,
              "#fdca26"
             ],
             [
              1,
              "#f0f921"
             ]
            ],
            "type": "heatmap"
           }
          ],
          "heatmapgl": [
           {
            "colorbar": {
             "outlinewidth": 0,
             "ticks": ""
            },
            "colorscale": [
             [
              0,
              "#0d0887"
             ],
             [
              0.1111111111111111,
              "#46039f"
             ],
             [
              0.2222222222222222,
              "#7201a8"
             ],
             [
              0.3333333333333333,
              "#9c179e"
             ],
             [
              0.4444444444444444,
              "#bd3786"
             ],
             [
              0.5555555555555556,
              "#d8576b"
             ],
             [
              0.6666666666666666,
              "#ed7953"
             ],
             [
              0.7777777777777778,
              "#fb9f3a"
             ],
             [
              0.8888888888888888,
              "#fdca26"
             ],
             [
              1,
              "#f0f921"
             ]
            ],
            "type": "heatmapgl"
           }
          ],
          "histogram": [
           {
            "marker": {
             "pattern": {
              "fillmode": "overlay",
              "size": 10,
              "solidity": 0.2
             }
            },
            "type": "histogram"
           }
          ],
          "histogram2d": [
           {
            "colorbar": {
             "outlinewidth": 0,
             "ticks": ""
            },
            "colorscale": [
             [
              0,
              "#0d0887"
             ],
             [
              0.1111111111111111,
              "#46039f"
             ],
             [
              0.2222222222222222,
              "#7201a8"
             ],
             [
              0.3333333333333333,
              "#9c179e"
             ],
             [
              0.4444444444444444,
              "#bd3786"
             ],
             [
              0.5555555555555556,
              "#d8576b"
             ],
             [
              0.6666666666666666,
              "#ed7953"
             ],
             [
              0.7777777777777778,
              "#fb9f3a"
             ],
             [
              0.8888888888888888,
              "#fdca26"
             ],
             [
              1,
              "#f0f921"
             ]
            ],
            "type": "histogram2d"
           }
          ],
          "histogram2dcontour": [
           {
            "colorbar": {
             "outlinewidth": 0,
             "ticks": ""
            },
            "colorscale": [
             [
              0,
              "#0d0887"
             ],
             [
              0.1111111111111111,
              "#46039f"
             ],
             [
              0.2222222222222222,
              "#7201a8"
             ],
             [
              0.3333333333333333,
              "#9c179e"
             ],
             [
              0.4444444444444444,
              "#bd3786"
             ],
             [
              0.5555555555555556,
              "#d8576b"
             ],
             [
              0.6666666666666666,
              "#ed7953"
             ],
             [
              0.7777777777777778,
              "#fb9f3a"
             ],
             [
              0.8888888888888888,
              "#fdca26"
             ],
             [
              1,
              "#f0f921"
             ]
            ],
            "type": "histogram2dcontour"
           }
          ],
          "mesh3d": [
           {
            "colorbar": {
             "outlinewidth": 0,
             "ticks": ""
            },
            "type": "mesh3d"
           }
          ],
          "parcoords": [
           {
            "line": {
             "colorbar": {
              "outlinewidth": 0,
              "ticks": ""
             }
            },
            "type": "parcoords"
           }
          ],
          "pie": [
           {
            "automargin": true,
            "type": "pie"
           }
          ],
          "scatter": [
           {
            "fillpattern": {
             "fillmode": "overlay",
             "size": 10,
             "solidity": 0.2
            },
            "type": "scatter"
           }
          ],
          "scatter3d": [
           {
            "line": {
             "colorbar": {
              "outlinewidth": 0,
              "ticks": ""
             }
            },
            "marker": {
             "colorbar": {
              "outlinewidth": 0,
              "ticks": ""
             }
            },
            "type": "scatter3d"
           }
          ],
          "scattercarpet": [
           {
            "marker": {
             "colorbar": {
              "outlinewidth": 0,
              "ticks": ""
             }
            },
            "type": "scattercarpet"
           }
          ],
          "scattergeo": [
           {
            "marker": {
             "colorbar": {
              "outlinewidth": 0,
              "ticks": ""
             }
            },
            "type": "scattergeo"
           }
          ],
          "scattergl": [
           {
            "marker": {
             "colorbar": {
              "outlinewidth": 0,
              "ticks": ""
             }
            },
            "type": "scattergl"
           }
          ],
          "scattermapbox": [
           {
            "marker": {
             "colorbar": {
              "outlinewidth": 0,
              "ticks": ""
             }
            },
            "type": "scattermapbox"
           }
          ],
          "scatterpolar": [
           {
            "marker": {
             "colorbar": {
              "outlinewidth": 0,
              "ticks": ""
             }
            },
            "type": "scatterpolar"
           }
          ],
          "scatterpolargl": [
           {
            "marker": {
             "colorbar": {
              "outlinewidth": 0,
              "ticks": ""
             }
            },
            "type": "scatterpolargl"
           }
          ],
          "scatterternary": [
           {
            "marker": {
             "colorbar": {
              "outlinewidth": 0,
              "ticks": ""
             }
            },
            "type": "scatterternary"
           }
          ],
          "surface": [
           {
            "colorbar": {
             "outlinewidth": 0,
             "ticks": ""
            },
            "colorscale": [
             [
              0,
              "#0d0887"
             ],
             [
              0.1111111111111111,
              "#46039f"
             ],
             [
              0.2222222222222222,
              "#7201a8"
             ],
             [
              0.3333333333333333,
              "#9c179e"
             ],
             [
              0.4444444444444444,
              "#bd3786"
             ],
             [
              0.5555555555555556,
              "#d8576b"
             ],
             [
              0.6666666666666666,
              "#ed7953"
             ],
             [
              0.7777777777777778,
              "#fb9f3a"
             ],
             [
              0.8888888888888888,
              "#fdca26"
             ],
             [
              1,
              "#f0f921"
             ]
            ],
            "type": "surface"
           }
          ],
          "table": [
           {
            "cells": {
             "fill": {
              "color": "#EBF0F8"
             },
             "line": {
              "color": "white"
             }
            },
            "header": {
             "fill": {
              "color": "#C8D4E3"
             },
             "line": {
              "color": "white"
             }
            },
            "type": "table"
           }
          ]
         },
         "layout": {
          "annotationdefaults": {
           "arrowcolor": "#2a3f5f",
           "arrowhead": 0,
           "arrowwidth": 1
          },
          "autotypenumbers": "strict",
          "coloraxis": {
           "colorbar": {
            "outlinewidth": 0,
            "ticks": ""
           }
          },
          "colorscale": {
           "diverging": [
            [
             0,
             "#8e0152"
            ],
            [
             0.1,
             "#c51b7d"
            ],
            [
             0.2,
             "#de77ae"
            ],
            [
             0.3,
             "#f1b6da"
            ],
            [
             0.4,
             "#fde0ef"
            ],
            [
             0.5,
             "#f7f7f7"
            ],
            [
             0.6,
             "#e6f5d0"
            ],
            [
             0.7,
             "#b8e186"
            ],
            [
             0.8,
             "#7fbc41"
            ],
            [
             0.9,
             "#4d9221"
            ],
            [
             1,
             "#276419"
            ]
           ],
           "sequential": [
            [
             0,
             "#0d0887"
            ],
            [
             0.1111111111111111,
             "#46039f"
            ],
            [
             0.2222222222222222,
             "#7201a8"
            ],
            [
             0.3333333333333333,
             "#9c179e"
            ],
            [
             0.4444444444444444,
             "#bd3786"
            ],
            [
             0.5555555555555556,
             "#d8576b"
            ],
            [
             0.6666666666666666,
             "#ed7953"
            ],
            [
             0.7777777777777778,
             "#fb9f3a"
            ],
            [
             0.8888888888888888,
             "#fdca26"
            ],
            [
             1,
             "#f0f921"
            ]
           ],
           "sequentialminus": [
            [
             0,
             "#0d0887"
            ],
            [
             0.1111111111111111,
             "#46039f"
            ],
            [
             0.2222222222222222,
             "#7201a8"
            ],
            [
             0.3333333333333333,
             "#9c179e"
            ],
            [
             0.4444444444444444,
             "#bd3786"
            ],
            [
             0.5555555555555556,
             "#d8576b"
            ],
            [
             0.6666666666666666,
             "#ed7953"
            ],
            [
             0.7777777777777778,
             "#fb9f3a"
            ],
            [
             0.8888888888888888,
             "#fdca26"
            ],
            [
             1,
             "#f0f921"
            ]
           ]
          },
          "colorway": [
           "#636efa",
           "#EF553B",
           "#00cc96",
           "#ab63fa",
           "#FFA15A",
           "#19d3f3",
           "#FF6692",
           "#B6E880",
           "#FF97FF",
           "#FECB52"
          ],
          "font": {
           "color": "#2a3f5f"
          },
          "geo": {
           "bgcolor": "white",
           "lakecolor": "white",
           "landcolor": "#E5ECF6",
           "showlakes": true,
           "showland": true,
           "subunitcolor": "white"
          },
          "hoverlabel": {
           "align": "left"
          },
          "hovermode": "closest",
          "mapbox": {
           "style": "light"
          },
          "paper_bgcolor": "white",
          "plot_bgcolor": "#E5ECF6",
          "polar": {
           "angularaxis": {
            "gridcolor": "white",
            "linecolor": "white",
            "ticks": ""
           },
           "bgcolor": "#E5ECF6",
           "radialaxis": {
            "gridcolor": "white",
            "linecolor": "white",
            "ticks": ""
           }
          },
          "scene": {
           "xaxis": {
            "backgroundcolor": "#E5ECF6",
            "gridcolor": "white",
            "gridwidth": 2,
            "linecolor": "white",
            "showbackground": true,
            "ticks": "",
            "zerolinecolor": "white"
           },
           "yaxis": {
            "backgroundcolor": "#E5ECF6",
            "gridcolor": "white",
            "gridwidth": 2,
            "linecolor": "white",
            "showbackground": true,
            "ticks": "",
            "zerolinecolor": "white"
           },
           "zaxis": {
            "backgroundcolor": "#E5ECF6",
            "gridcolor": "white",
            "gridwidth": 2,
            "linecolor": "white",
            "showbackground": true,
            "ticks": "",
            "zerolinecolor": "white"
           }
          },
          "shapedefaults": {
           "line": {
            "color": "#2a3f5f"
           }
          },
          "ternary": {
           "aaxis": {
            "gridcolor": "white",
            "linecolor": "white",
            "ticks": ""
           },
           "baxis": {
            "gridcolor": "white",
            "linecolor": "white",
            "ticks": ""
           },
           "bgcolor": "#E5ECF6",
           "caxis": {
            "gridcolor": "white",
            "linecolor": "white",
            "ticks": ""
           }
          },
          "title": {
           "x": 0.05
          },
          "xaxis": {
           "automargin": true,
           "gridcolor": "white",
           "linecolor": "white",
           "ticks": "",
           "title": {
            "standoff": 15
           },
           "zerolinecolor": "white",
           "zerolinewidth": 2
          },
          "yaxis": {
           "automargin": true,
           "gridcolor": "white",
           "linecolor": "white",
           "ticks": "",
           "title": {
            "standoff": 15
           },
           "zerolinecolor": "white",
           "zerolinewidth": 2
          }
         }
        },
        "xaxis": {
         "anchor": "y",
         "domain": [
          0,
          1
         ],
         "title": {
          "text": "x"
         }
        },
        "yaxis": {
         "anchor": "x",
         "domain": [
          0,
          1
         ],
         "title": {
          "text": "y"
         }
        }
       }
      }
     },
     "metadata": {},
     "output_type": "display_data"
    }
   ],
   "source": [
    "# plot bar chart of Family column (x values, y counts)\n",
    "stats = df[col_name].value_counts().to_dict()\n",
    "stats = {str(k): v for k, v in stats.items()}\n",
    "stats['nan'] = df[col_name].isna().sum()\n",
    "fig = px.bar(x=list(stats.keys()), y=list(stats.values()))\n",
    "fig.show()"
   ]
  },
  {
   "cell_type": "code",
   "execution_count": 535,
   "id": "4a21ae69",
   "metadata": {},
   "outputs": [],
   "source": [
    "# fill\n"
   ]
  },
  {
   "cell_type": "code",
   "execution_count": null,
   "id": "a64c59a2",
   "metadata": {},
   "outputs": [],
   "source": []
  },
  {
   "cell_type": "markdown",
   "id": "f339e232",
   "metadata": {},
   "source": [
    "### height"
   ]
  },
  {
   "cell_type": "code",
   "execution_count": 536,
   "id": "a4f4778a",
   "metadata": {},
   "outputs": [
    {
     "name": "stdout",
     "output_type": "stream",
     "text": [
      "Number of nan values in height column:  353\n",
      "Proportion of nan values in height column:  0.09395794516901783\n",
      "float64\n"
     ]
    }
   ],
   "source": [
    "col_name = 'height'\n",
    "print(f'Number of nan values in {col_name} column: ', df[col_name].isna().sum())\n",
    "print(f'Proportion of nan values in {col_name} column: ', df[col_name].isna().sum() / df.shape[0])\n",
    "print(df[col_name].dtype)"
   ]
  },
  {
   "cell_type": "code",
   "execution_count": 537,
   "id": "5dfad5a8",
   "metadata": {},
   "outputs": [
    {
     "data": {
      "text/plain": [
       "160.0     351\n",
       "158.0     253\n",
       "155.0     214\n",
       "150.0     198\n",
       "157.0     189\n",
       "156.0     188\n",
       "165.0     156\n",
       "162.0     155\n",
       "164.0     155\n",
       "154.0     150\n",
       "153.0     149\n",
       "159.0     146\n",
       "163.0     141\n",
       "152.0     138\n",
       "161.0      88\n",
       "168.0      87\n",
       "167.0      84\n",
       "151.0      80\n",
       "148.0      58\n",
       "170.0      56\n",
       "166.0      51\n",
       "149.0      46\n",
       "147.0      36\n",
       "145.0      32\n",
       "146.0      27\n",
       "169.0      25\n",
       "172.0      16\n",
       "173.0      15\n",
       "144.0      13\n",
       "142.0      12\n",
       "143.0      11\n",
       "175.0      10\n",
       "171.0       9\n",
       "174.0       9\n",
       "0.0         9\n",
       "178.0       7\n",
       "141.0       6\n",
       "140.0       6\n",
       "137.0       4\n",
       "176.0       4\n",
       "120.0       3\n",
       "1600.0      2\n",
       "138.0       2\n",
       "130.0       2\n",
       "101.0       1\n",
       "65.0        1\n",
       "1601.0      1\n",
       "3.0         1\n",
       "124.0       1\n",
       "136.0       1\n",
       "179.0       1\n",
       "185.0       1\n",
       "139.0       1\n",
       "132.0       1\n",
       "1.0         1\n",
       "Name: height, dtype: int64"
      ]
     },
     "execution_count": 537,
     "metadata": {},
     "output_type": "execute_result"
    }
   ],
   "source": [
    "df[col_name].value_counts()"
   ]
  },
  {
   "cell_type": "code",
   "execution_count": 538,
   "id": "cf4e2a29",
   "metadata": {},
   "outputs": [
    {
     "data": {
      "application/vnd.plotly.v1+json": {
       "config": {
        "plotlyServerURL": "https://plot.ly"
       },
       "data": [
        {
         "alignmentgroup": "True",
         "hovertemplate": "x=%{x}<br>y=%{y}<extra></extra>",
         "legendgroup": "",
         "marker": {
          "color": "#636efa",
          "pattern": {
           "shape": ""
          }
         },
         "name": "",
         "offsetgroup": "",
         "orientation": "v",
         "showlegend": false,
         "textposition": "auto",
         "type": "bar",
         "x": [
          "160.0",
          "158.0",
          "155.0",
          "150.0",
          "157.0",
          "156.0",
          "165.0",
          "162.0",
          "164.0",
          "154.0",
          "153.0",
          "159.0",
          "163.0",
          "152.0",
          "161.0",
          "168.0",
          "167.0",
          "151.0",
          "148.0",
          "170.0",
          "166.0",
          "149.0",
          "147.0",
          "145.0",
          "146.0",
          "169.0",
          "172.0",
          "173.0",
          "144.0",
          "142.0",
          "143.0",
          "175.0",
          "171.0",
          "174.0",
          "0.0",
          "178.0",
          "141.0",
          "140.0",
          "137.0",
          "176.0",
          "120.0",
          "1600.0",
          "138.0",
          "130.0",
          "101.0",
          "65.0",
          "1601.0",
          "3.0",
          "124.0",
          "136.0",
          "179.0",
          "185.0",
          "139.0",
          "132.0",
          "1.0",
          "nan"
         ],
         "xaxis": "x",
         "y": [
          351,
          253,
          214,
          198,
          189,
          188,
          156,
          155,
          155,
          150,
          149,
          146,
          141,
          138,
          88,
          87,
          84,
          80,
          58,
          56,
          51,
          46,
          36,
          32,
          27,
          25,
          16,
          15,
          13,
          12,
          11,
          10,
          9,
          9,
          9,
          7,
          6,
          6,
          4,
          4,
          3,
          2,
          2,
          2,
          1,
          1,
          1,
          1,
          1,
          1,
          1,
          1,
          1,
          1,
          1,
          353
         ],
         "yaxis": "y"
        }
       ],
       "layout": {
        "barmode": "relative",
        "legend": {
         "tracegroupgap": 0
        },
        "margin": {
         "t": 60
        },
        "template": {
         "data": {
          "bar": [
           {
            "error_x": {
             "color": "#2a3f5f"
            },
            "error_y": {
             "color": "#2a3f5f"
            },
            "marker": {
             "line": {
              "color": "#E5ECF6",
              "width": 0.5
             },
             "pattern": {
              "fillmode": "overlay",
              "size": 10,
              "solidity": 0.2
             }
            },
            "type": "bar"
           }
          ],
          "barpolar": [
           {
            "marker": {
             "line": {
              "color": "#E5ECF6",
              "width": 0.5
             },
             "pattern": {
              "fillmode": "overlay",
              "size": 10,
              "solidity": 0.2
             }
            },
            "type": "barpolar"
           }
          ],
          "carpet": [
           {
            "aaxis": {
             "endlinecolor": "#2a3f5f",
             "gridcolor": "white",
             "linecolor": "white",
             "minorgridcolor": "white",
             "startlinecolor": "#2a3f5f"
            },
            "baxis": {
             "endlinecolor": "#2a3f5f",
             "gridcolor": "white",
             "linecolor": "white",
             "minorgridcolor": "white",
             "startlinecolor": "#2a3f5f"
            },
            "type": "carpet"
           }
          ],
          "choropleth": [
           {
            "colorbar": {
             "outlinewidth": 0,
             "ticks": ""
            },
            "type": "choropleth"
           }
          ],
          "contour": [
           {
            "colorbar": {
             "outlinewidth": 0,
             "ticks": ""
            },
            "colorscale": [
             [
              0,
              "#0d0887"
             ],
             [
              0.1111111111111111,
              "#46039f"
             ],
             [
              0.2222222222222222,
              "#7201a8"
             ],
             [
              0.3333333333333333,
              "#9c179e"
             ],
             [
              0.4444444444444444,
              "#bd3786"
             ],
             [
              0.5555555555555556,
              "#d8576b"
             ],
             [
              0.6666666666666666,
              "#ed7953"
             ],
             [
              0.7777777777777778,
              "#fb9f3a"
             ],
             [
              0.8888888888888888,
              "#fdca26"
             ],
             [
              1,
              "#f0f921"
             ]
            ],
            "type": "contour"
           }
          ],
          "contourcarpet": [
           {
            "colorbar": {
             "outlinewidth": 0,
             "ticks": ""
            },
            "type": "contourcarpet"
           }
          ],
          "heatmap": [
           {
            "colorbar": {
             "outlinewidth": 0,
             "ticks": ""
            },
            "colorscale": [
             [
              0,
              "#0d0887"
             ],
             [
              0.1111111111111111,
              "#46039f"
             ],
             [
              0.2222222222222222,
              "#7201a8"
             ],
             [
              0.3333333333333333,
              "#9c179e"
             ],
             [
              0.4444444444444444,
              "#bd3786"
             ],
             [
              0.5555555555555556,
              "#d8576b"
             ],
             [
              0.6666666666666666,
              "#ed7953"
             ],
             [
              0.7777777777777778,
              "#fb9f3a"
             ],
             [
              0.8888888888888888,
              "#fdca26"
             ],
             [
              1,
              "#f0f921"
             ]
            ],
            "type": "heatmap"
           }
          ],
          "heatmapgl": [
           {
            "colorbar": {
             "outlinewidth": 0,
             "ticks": ""
            },
            "colorscale": [
             [
              0,
              "#0d0887"
             ],
             [
              0.1111111111111111,
              "#46039f"
             ],
             [
              0.2222222222222222,
              "#7201a8"
             ],
             [
              0.3333333333333333,
              "#9c179e"
             ],
             [
              0.4444444444444444,
              "#bd3786"
             ],
             [
              0.5555555555555556,
              "#d8576b"
             ],
             [
              0.6666666666666666,
              "#ed7953"
             ],
             [
              0.7777777777777778,
              "#fb9f3a"
             ],
             [
              0.8888888888888888,
              "#fdca26"
             ],
             [
              1,
              "#f0f921"
             ]
            ],
            "type": "heatmapgl"
           }
          ],
          "histogram": [
           {
            "marker": {
             "pattern": {
              "fillmode": "overlay",
              "size": 10,
              "solidity": 0.2
             }
            },
            "type": "histogram"
           }
          ],
          "histogram2d": [
           {
            "colorbar": {
             "outlinewidth": 0,
             "ticks": ""
            },
            "colorscale": [
             [
              0,
              "#0d0887"
             ],
             [
              0.1111111111111111,
              "#46039f"
             ],
             [
              0.2222222222222222,
              "#7201a8"
             ],
             [
              0.3333333333333333,
              "#9c179e"
             ],
             [
              0.4444444444444444,
              "#bd3786"
             ],
             [
              0.5555555555555556,
              "#d8576b"
             ],
             [
              0.6666666666666666,
              "#ed7953"
             ],
             [
              0.7777777777777778,
              "#fb9f3a"
             ],
             [
              0.8888888888888888,
              "#fdca26"
             ],
             [
              1,
              "#f0f921"
             ]
            ],
            "type": "histogram2d"
           }
          ],
          "histogram2dcontour": [
           {
            "colorbar": {
             "outlinewidth": 0,
             "ticks": ""
            },
            "colorscale": [
             [
              0,
              "#0d0887"
             ],
             [
              0.1111111111111111,
              "#46039f"
             ],
             [
              0.2222222222222222,
              "#7201a8"
             ],
             [
              0.3333333333333333,
              "#9c179e"
             ],
             [
              0.4444444444444444,
              "#bd3786"
             ],
             [
              0.5555555555555556,
              "#d8576b"
             ],
             [
              0.6666666666666666,
              "#ed7953"
             ],
             [
              0.7777777777777778,
              "#fb9f3a"
             ],
             [
              0.8888888888888888,
              "#fdca26"
             ],
             [
              1,
              "#f0f921"
             ]
            ],
            "type": "histogram2dcontour"
           }
          ],
          "mesh3d": [
           {
            "colorbar": {
             "outlinewidth": 0,
             "ticks": ""
            },
            "type": "mesh3d"
           }
          ],
          "parcoords": [
           {
            "line": {
             "colorbar": {
              "outlinewidth": 0,
              "ticks": ""
             }
            },
            "type": "parcoords"
           }
          ],
          "pie": [
           {
            "automargin": true,
            "type": "pie"
           }
          ],
          "scatter": [
           {
            "fillpattern": {
             "fillmode": "overlay",
             "size": 10,
             "solidity": 0.2
            },
            "type": "scatter"
           }
          ],
          "scatter3d": [
           {
            "line": {
             "colorbar": {
              "outlinewidth": 0,
              "ticks": ""
             }
            },
            "marker": {
             "colorbar": {
              "outlinewidth": 0,
              "ticks": ""
             }
            },
            "type": "scatter3d"
           }
          ],
          "scattercarpet": [
           {
            "marker": {
             "colorbar": {
              "outlinewidth": 0,
              "ticks": ""
             }
            },
            "type": "scattercarpet"
           }
          ],
          "scattergeo": [
           {
            "marker": {
             "colorbar": {
              "outlinewidth": 0,
              "ticks": ""
             }
            },
            "type": "scattergeo"
           }
          ],
          "scattergl": [
           {
            "marker": {
             "colorbar": {
              "outlinewidth": 0,
              "ticks": ""
             }
            },
            "type": "scattergl"
           }
          ],
          "scattermapbox": [
           {
            "marker": {
             "colorbar": {
              "outlinewidth": 0,
              "ticks": ""
             }
            },
            "type": "scattermapbox"
           }
          ],
          "scatterpolar": [
           {
            "marker": {
             "colorbar": {
              "outlinewidth": 0,
              "ticks": ""
             }
            },
            "type": "scatterpolar"
           }
          ],
          "scatterpolargl": [
           {
            "marker": {
             "colorbar": {
              "outlinewidth": 0,
              "ticks": ""
             }
            },
            "type": "scatterpolargl"
           }
          ],
          "scatterternary": [
           {
            "marker": {
             "colorbar": {
              "outlinewidth": 0,
              "ticks": ""
             }
            },
            "type": "scatterternary"
           }
          ],
          "surface": [
           {
            "colorbar": {
             "outlinewidth": 0,
             "ticks": ""
            },
            "colorscale": [
             [
              0,
              "#0d0887"
             ],
             [
              0.1111111111111111,
              "#46039f"
             ],
             [
              0.2222222222222222,
              "#7201a8"
             ],
             [
              0.3333333333333333,
              "#9c179e"
             ],
             [
              0.4444444444444444,
              "#bd3786"
             ],
             [
              0.5555555555555556,
              "#d8576b"
             ],
             [
              0.6666666666666666,
              "#ed7953"
             ],
             [
              0.7777777777777778,
              "#fb9f3a"
             ],
             [
              0.8888888888888888,
              "#fdca26"
             ],
             [
              1,
              "#f0f921"
             ]
            ],
            "type": "surface"
           }
          ],
          "table": [
           {
            "cells": {
             "fill": {
              "color": "#EBF0F8"
             },
             "line": {
              "color": "white"
             }
            },
            "header": {
             "fill": {
              "color": "#C8D4E3"
             },
             "line": {
              "color": "white"
             }
            },
            "type": "table"
           }
          ]
         },
         "layout": {
          "annotationdefaults": {
           "arrowcolor": "#2a3f5f",
           "arrowhead": 0,
           "arrowwidth": 1
          },
          "autotypenumbers": "strict",
          "coloraxis": {
           "colorbar": {
            "outlinewidth": 0,
            "ticks": ""
           }
          },
          "colorscale": {
           "diverging": [
            [
             0,
             "#8e0152"
            ],
            [
             0.1,
             "#c51b7d"
            ],
            [
             0.2,
             "#de77ae"
            ],
            [
             0.3,
             "#f1b6da"
            ],
            [
             0.4,
             "#fde0ef"
            ],
            [
             0.5,
             "#f7f7f7"
            ],
            [
             0.6,
             "#e6f5d0"
            ],
            [
             0.7,
             "#b8e186"
            ],
            [
             0.8,
             "#7fbc41"
            ],
            [
             0.9,
             "#4d9221"
            ],
            [
             1,
             "#276419"
            ]
           ],
           "sequential": [
            [
             0,
             "#0d0887"
            ],
            [
             0.1111111111111111,
             "#46039f"
            ],
            [
             0.2222222222222222,
             "#7201a8"
            ],
            [
             0.3333333333333333,
             "#9c179e"
            ],
            [
             0.4444444444444444,
             "#bd3786"
            ],
            [
             0.5555555555555556,
             "#d8576b"
            ],
            [
             0.6666666666666666,
             "#ed7953"
            ],
            [
             0.7777777777777778,
             "#fb9f3a"
            ],
            [
             0.8888888888888888,
             "#fdca26"
            ],
            [
             1,
             "#f0f921"
            ]
           ],
           "sequentialminus": [
            [
             0,
             "#0d0887"
            ],
            [
             0.1111111111111111,
             "#46039f"
            ],
            [
             0.2222222222222222,
             "#7201a8"
            ],
            [
             0.3333333333333333,
             "#9c179e"
            ],
            [
             0.4444444444444444,
             "#bd3786"
            ],
            [
             0.5555555555555556,
             "#d8576b"
            ],
            [
             0.6666666666666666,
             "#ed7953"
            ],
            [
             0.7777777777777778,
             "#fb9f3a"
            ],
            [
             0.8888888888888888,
             "#fdca26"
            ],
            [
             1,
             "#f0f921"
            ]
           ]
          },
          "colorway": [
           "#636efa",
           "#EF553B",
           "#00cc96",
           "#ab63fa",
           "#FFA15A",
           "#19d3f3",
           "#FF6692",
           "#B6E880",
           "#FF97FF",
           "#FECB52"
          ],
          "font": {
           "color": "#2a3f5f"
          },
          "geo": {
           "bgcolor": "white",
           "lakecolor": "white",
           "landcolor": "#E5ECF6",
           "showlakes": true,
           "showland": true,
           "subunitcolor": "white"
          },
          "hoverlabel": {
           "align": "left"
          },
          "hovermode": "closest",
          "mapbox": {
           "style": "light"
          },
          "paper_bgcolor": "white",
          "plot_bgcolor": "#E5ECF6",
          "polar": {
           "angularaxis": {
            "gridcolor": "white",
            "linecolor": "white",
            "ticks": ""
           },
           "bgcolor": "#E5ECF6",
           "radialaxis": {
            "gridcolor": "white",
            "linecolor": "white",
            "ticks": ""
           }
          },
          "scene": {
           "xaxis": {
            "backgroundcolor": "#E5ECF6",
            "gridcolor": "white",
            "gridwidth": 2,
            "linecolor": "white",
            "showbackground": true,
            "ticks": "",
            "zerolinecolor": "white"
           },
           "yaxis": {
            "backgroundcolor": "#E5ECF6",
            "gridcolor": "white",
            "gridwidth": 2,
            "linecolor": "white",
            "showbackground": true,
            "ticks": "",
            "zerolinecolor": "white"
           },
           "zaxis": {
            "backgroundcolor": "#E5ECF6",
            "gridcolor": "white",
            "gridwidth": 2,
            "linecolor": "white",
            "showbackground": true,
            "ticks": "",
            "zerolinecolor": "white"
           }
          },
          "shapedefaults": {
           "line": {
            "color": "#2a3f5f"
           }
          },
          "ternary": {
           "aaxis": {
            "gridcolor": "white",
            "linecolor": "white",
            "ticks": ""
           },
           "baxis": {
            "gridcolor": "white",
            "linecolor": "white",
            "ticks": ""
           },
           "bgcolor": "#E5ECF6",
           "caxis": {
            "gridcolor": "white",
            "linecolor": "white",
            "ticks": ""
           }
          },
          "title": {
           "x": 0.05
          },
          "xaxis": {
           "automargin": true,
           "gridcolor": "white",
           "linecolor": "white",
           "ticks": "",
           "title": {
            "standoff": 15
           },
           "zerolinecolor": "white",
           "zerolinewidth": 2
          },
          "yaxis": {
           "automargin": true,
           "gridcolor": "white",
           "linecolor": "white",
           "ticks": "",
           "title": {
            "standoff": 15
           },
           "zerolinecolor": "white",
           "zerolinewidth": 2
          }
         }
        },
        "xaxis": {
         "anchor": "y",
         "domain": [
          0,
          1
         ],
         "title": {
          "text": "x"
         }
        },
        "yaxis": {
         "anchor": "x",
         "domain": [
          0,
          1
         ],
         "title": {
          "text": "y"
         }
        }
       }
      }
     },
     "metadata": {},
     "output_type": "display_data"
    }
   ],
   "source": [
    "# plot bar chart of Family column (x values, y counts)\n",
    "stats = df[col_name].value_counts().to_dict()\n",
    "stats = {str(k): v for k, v in stats.items()}\n",
    "stats['nan'] = df[col_name].isna().sum()\n",
    "fig = px.bar(x=list(stats.keys()), y=list(stats.values()))\n",
    "fig.show()"
   ]
  },
  {
   "cell_type": "code",
   "execution_count": 539,
   "id": "39deb3c9",
   "metadata": {},
   "outputs": [],
   "source": [
    "# fill\n"
   ]
  },
  {
   "cell_type": "code",
   "execution_count": null,
   "id": "09375df9",
   "metadata": {},
   "outputs": [],
   "source": []
  },
  {
   "cell_type": "markdown",
   "id": "b22d7f37",
   "metadata": {},
   "source": [
    "### hrt"
   ]
  },
  {
   "cell_type": "code",
   "execution_count": 540,
   "id": "90787f8d",
   "metadata": {},
   "outputs": [
    {
     "name": "stdout",
     "output_type": "stream",
     "text": [
      "Number of nan values in hrt column:  354\n",
      "Proportion of nan values in hrt column:  0.09422411498536067\n",
      "float64\n"
     ]
    }
   ],
   "source": [
    "col_name = 'hrt'\n",
    "print(f'Number of nan values in {col_name} column: ', df[col_name].isna().sum())\n",
    "print(f'Proportion of nan values in {col_name} column: ', df[col_name].isna().sum() / df.shape[0])\n",
    "print(df[col_name].dtype)"
   ]
  },
  {
   "cell_type": "code",
   "execution_count": 541,
   "id": "6d212218",
   "metadata": {},
   "outputs": [
    {
     "data": {
      "text/plain": [
       "0.0      3234\n",
       "3.0        22\n",
       "12.0       18\n",
       "24.0       17\n",
       "1.0        15\n",
       "6.0        12\n",
       "48.0        9\n",
       "2.0         9\n",
       "36.0        9\n",
       "60.0        8\n",
       "4.0         8\n",
       "30.0        6\n",
       "5.0         5\n",
       "96.0        5\n",
       "9.0         4\n",
       "72.0        3\n",
       "120.0       3\n",
       "8.0         2\n",
       "54.0        2\n",
       "42.0        2\n",
       "66.0        2\n",
       "18.0        1\n",
       "78.0        1\n",
       "90.0        1\n",
       "10.0        1\n",
       "145.0       1\n",
       "300.0       1\n",
       "102.0       1\n",
       "7.0         1\n",
       "Name: hrt, dtype: int64"
      ]
     },
     "execution_count": 541,
     "metadata": {},
     "output_type": "execute_result"
    }
   ],
   "source": [
    "df[col_name].value_counts()"
   ]
  },
  {
   "cell_type": "code",
   "execution_count": 542,
   "id": "34669b39",
   "metadata": {},
   "outputs": [
    {
     "data": {
      "application/vnd.plotly.v1+json": {
       "config": {
        "plotlyServerURL": "https://plot.ly"
       },
       "data": [
        {
         "alignmentgroup": "True",
         "hovertemplate": "x=%{x}<br>y=%{y}<extra></extra>",
         "legendgroup": "",
         "marker": {
          "color": "#636efa",
          "pattern": {
           "shape": ""
          }
         },
         "name": "",
         "offsetgroup": "",
         "orientation": "v",
         "showlegend": false,
         "textposition": "auto",
         "type": "bar",
         "x": [
          "0.0",
          "3.0",
          "12.0",
          "24.0",
          "1.0",
          "6.0",
          "48.0",
          "2.0",
          "36.0",
          "60.0",
          "4.0",
          "30.0",
          "5.0",
          "96.0",
          "9.0",
          "72.0",
          "120.0",
          "8.0",
          "54.0",
          "42.0",
          "66.0",
          "18.0",
          "78.0",
          "90.0",
          "10.0",
          "145.0",
          "300.0",
          "102.0",
          "7.0",
          "nan"
         ],
         "xaxis": "x",
         "y": [
          3234,
          22,
          18,
          17,
          15,
          12,
          9,
          9,
          9,
          8,
          8,
          6,
          5,
          5,
          4,
          3,
          3,
          2,
          2,
          2,
          2,
          1,
          1,
          1,
          1,
          1,
          1,
          1,
          1,
          354
         ],
         "yaxis": "y"
        }
       ],
       "layout": {
        "barmode": "relative",
        "legend": {
         "tracegroupgap": 0
        },
        "margin": {
         "t": 60
        },
        "template": {
         "data": {
          "bar": [
           {
            "error_x": {
             "color": "#2a3f5f"
            },
            "error_y": {
             "color": "#2a3f5f"
            },
            "marker": {
             "line": {
              "color": "#E5ECF6",
              "width": 0.5
             },
             "pattern": {
              "fillmode": "overlay",
              "size": 10,
              "solidity": 0.2
             }
            },
            "type": "bar"
           }
          ],
          "barpolar": [
           {
            "marker": {
             "line": {
              "color": "#E5ECF6",
              "width": 0.5
             },
             "pattern": {
              "fillmode": "overlay",
              "size": 10,
              "solidity": 0.2
             }
            },
            "type": "barpolar"
           }
          ],
          "carpet": [
           {
            "aaxis": {
             "endlinecolor": "#2a3f5f",
             "gridcolor": "white",
             "linecolor": "white",
             "minorgridcolor": "white",
             "startlinecolor": "#2a3f5f"
            },
            "baxis": {
             "endlinecolor": "#2a3f5f",
             "gridcolor": "white",
             "linecolor": "white",
             "minorgridcolor": "white",
             "startlinecolor": "#2a3f5f"
            },
            "type": "carpet"
           }
          ],
          "choropleth": [
           {
            "colorbar": {
             "outlinewidth": 0,
             "ticks": ""
            },
            "type": "choropleth"
           }
          ],
          "contour": [
           {
            "colorbar": {
             "outlinewidth": 0,
             "ticks": ""
            },
            "colorscale": [
             [
              0,
              "#0d0887"
             ],
             [
              0.1111111111111111,
              "#46039f"
             ],
             [
              0.2222222222222222,
              "#7201a8"
             ],
             [
              0.3333333333333333,
              "#9c179e"
             ],
             [
              0.4444444444444444,
              "#bd3786"
             ],
             [
              0.5555555555555556,
              "#d8576b"
             ],
             [
              0.6666666666666666,
              "#ed7953"
             ],
             [
              0.7777777777777778,
              "#fb9f3a"
             ],
             [
              0.8888888888888888,
              "#fdca26"
             ],
             [
              1,
              "#f0f921"
             ]
            ],
            "type": "contour"
           }
          ],
          "contourcarpet": [
           {
            "colorbar": {
             "outlinewidth": 0,
             "ticks": ""
            },
            "type": "contourcarpet"
           }
          ],
          "heatmap": [
           {
            "colorbar": {
             "outlinewidth": 0,
             "ticks": ""
            },
            "colorscale": [
             [
              0,
              "#0d0887"
             ],
             [
              0.1111111111111111,
              "#46039f"
             ],
             [
              0.2222222222222222,
              "#7201a8"
             ],
             [
              0.3333333333333333,
              "#9c179e"
             ],
             [
              0.4444444444444444,
              "#bd3786"
             ],
             [
              0.5555555555555556,
              "#d8576b"
             ],
             [
              0.6666666666666666,
              "#ed7953"
             ],
             [
              0.7777777777777778,
              "#fb9f3a"
             ],
             [
              0.8888888888888888,
              "#fdca26"
             ],
             [
              1,
              "#f0f921"
             ]
            ],
            "type": "heatmap"
           }
          ],
          "heatmapgl": [
           {
            "colorbar": {
             "outlinewidth": 0,
             "ticks": ""
            },
            "colorscale": [
             [
              0,
              "#0d0887"
             ],
             [
              0.1111111111111111,
              "#46039f"
             ],
             [
              0.2222222222222222,
              "#7201a8"
             ],
             [
              0.3333333333333333,
              "#9c179e"
             ],
             [
              0.4444444444444444,
              "#bd3786"
             ],
             [
              0.5555555555555556,
              "#d8576b"
             ],
             [
              0.6666666666666666,
              "#ed7953"
             ],
             [
              0.7777777777777778,
              "#fb9f3a"
             ],
             [
              0.8888888888888888,
              "#fdca26"
             ],
             [
              1,
              "#f0f921"
             ]
            ],
            "type": "heatmapgl"
           }
          ],
          "histogram": [
           {
            "marker": {
             "pattern": {
              "fillmode": "overlay",
              "size": 10,
              "solidity": 0.2
             }
            },
            "type": "histogram"
           }
          ],
          "histogram2d": [
           {
            "colorbar": {
             "outlinewidth": 0,
             "ticks": ""
            },
            "colorscale": [
             [
              0,
              "#0d0887"
             ],
             [
              0.1111111111111111,
              "#46039f"
             ],
             [
              0.2222222222222222,
              "#7201a8"
             ],
             [
              0.3333333333333333,
              "#9c179e"
             ],
             [
              0.4444444444444444,
              "#bd3786"
             ],
             [
              0.5555555555555556,
              "#d8576b"
             ],
             [
              0.6666666666666666,
              "#ed7953"
             ],
             [
              0.7777777777777778,
              "#fb9f3a"
             ],
             [
              0.8888888888888888,
              "#fdca26"
             ],
             [
              1,
              "#f0f921"
             ]
            ],
            "type": "histogram2d"
           }
          ],
          "histogram2dcontour": [
           {
            "colorbar": {
             "outlinewidth": 0,
             "ticks": ""
            },
            "colorscale": [
             [
              0,
              "#0d0887"
             ],
             [
              0.1111111111111111,
              "#46039f"
             ],
             [
              0.2222222222222222,
              "#7201a8"
             ],
             [
              0.3333333333333333,
              "#9c179e"
             ],
             [
              0.4444444444444444,
              "#bd3786"
             ],
             [
              0.5555555555555556,
              "#d8576b"
             ],
             [
              0.6666666666666666,
              "#ed7953"
             ],
             [
              0.7777777777777778,
              "#fb9f3a"
             ],
             [
              0.8888888888888888,
              "#fdca26"
             ],
             [
              1,
              "#f0f921"
             ]
            ],
            "type": "histogram2dcontour"
           }
          ],
          "mesh3d": [
           {
            "colorbar": {
             "outlinewidth": 0,
             "ticks": ""
            },
            "type": "mesh3d"
           }
          ],
          "parcoords": [
           {
            "line": {
             "colorbar": {
              "outlinewidth": 0,
              "ticks": ""
             }
            },
            "type": "parcoords"
           }
          ],
          "pie": [
           {
            "automargin": true,
            "type": "pie"
           }
          ],
          "scatter": [
           {
            "fillpattern": {
             "fillmode": "overlay",
             "size": 10,
             "solidity": 0.2
            },
            "type": "scatter"
           }
          ],
          "scatter3d": [
           {
            "line": {
             "colorbar": {
              "outlinewidth": 0,
              "ticks": ""
             }
            },
            "marker": {
             "colorbar": {
              "outlinewidth": 0,
              "ticks": ""
             }
            },
            "type": "scatter3d"
           }
          ],
          "scattercarpet": [
           {
            "marker": {
             "colorbar": {
              "outlinewidth": 0,
              "ticks": ""
             }
            },
            "type": "scattercarpet"
           }
          ],
          "scattergeo": [
           {
            "marker": {
             "colorbar": {
              "outlinewidth": 0,
              "ticks": ""
             }
            },
            "type": "scattergeo"
           }
          ],
          "scattergl": [
           {
            "marker": {
             "colorbar": {
              "outlinewidth": 0,
              "ticks": ""
             }
            },
            "type": "scattergl"
           }
          ],
          "scattermapbox": [
           {
            "marker": {
             "colorbar": {
              "outlinewidth": 0,
              "ticks": ""
             }
            },
            "type": "scattermapbox"
           }
          ],
          "scatterpolar": [
           {
            "marker": {
             "colorbar": {
              "outlinewidth": 0,
              "ticks": ""
             }
            },
            "type": "scatterpolar"
           }
          ],
          "scatterpolargl": [
           {
            "marker": {
             "colorbar": {
              "outlinewidth": 0,
              "ticks": ""
             }
            },
            "type": "scatterpolargl"
           }
          ],
          "scatterternary": [
           {
            "marker": {
             "colorbar": {
              "outlinewidth": 0,
              "ticks": ""
             }
            },
            "type": "scatterternary"
           }
          ],
          "surface": [
           {
            "colorbar": {
             "outlinewidth": 0,
             "ticks": ""
            },
            "colorscale": [
             [
              0,
              "#0d0887"
             ],
             [
              0.1111111111111111,
              "#46039f"
             ],
             [
              0.2222222222222222,
              "#7201a8"
             ],
             [
              0.3333333333333333,
              "#9c179e"
             ],
             [
              0.4444444444444444,
              "#bd3786"
             ],
             [
              0.5555555555555556,
              "#d8576b"
             ],
             [
              0.6666666666666666,
              "#ed7953"
             ],
             [
              0.7777777777777778,
              "#fb9f3a"
             ],
             [
              0.8888888888888888,
              "#fdca26"
             ],
             [
              1,
              "#f0f921"
             ]
            ],
            "type": "surface"
           }
          ],
          "table": [
           {
            "cells": {
             "fill": {
              "color": "#EBF0F8"
             },
             "line": {
              "color": "white"
             }
            },
            "header": {
             "fill": {
              "color": "#C8D4E3"
             },
             "line": {
              "color": "white"
             }
            },
            "type": "table"
           }
          ]
         },
         "layout": {
          "annotationdefaults": {
           "arrowcolor": "#2a3f5f",
           "arrowhead": 0,
           "arrowwidth": 1
          },
          "autotypenumbers": "strict",
          "coloraxis": {
           "colorbar": {
            "outlinewidth": 0,
            "ticks": ""
           }
          },
          "colorscale": {
           "diverging": [
            [
             0,
             "#8e0152"
            ],
            [
             0.1,
             "#c51b7d"
            ],
            [
             0.2,
             "#de77ae"
            ],
            [
             0.3,
             "#f1b6da"
            ],
            [
             0.4,
             "#fde0ef"
            ],
            [
             0.5,
             "#f7f7f7"
            ],
            [
             0.6,
             "#e6f5d0"
            ],
            [
             0.7,
             "#b8e186"
            ],
            [
             0.8,
             "#7fbc41"
            ],
            [
             0.9,
             "#4d9221"
            ],
            [
             1,
             "#276419"
            ]
           ],
           "sequential": [
            [
             0,
             "#0d0887"
            ],
            [
             0.1111111111111111,
             "#46039f"
            ],
            [
             0.2222222222222222,
             "#7201a8"
            ],
            [
             0.3333333333333333,
             "#9c179e"
            ],
            [
             0.4444444444444444,
             "#bd3786"
            ],
            [
             0.5555555555555556,
             "#d8576b"
            ],
            [
             0.6666666666666666,
             "#ed7953"
            ],
            [
             0.7777777777777778,
             "#fb9f3a"
            ],
            [
             0.8888888888888888,
             "#fdca26"
            ],
            [
             1,
             "#f0f921"
            ]
           ],
           "sequentialminus": [
            [
             0,
             "#0d0887"
            ],
            [
             0.1111111111111111,
             "#46039f"
            ],
            [
             0.2222222222222222,
             "#7201a8"
            ],
            [
             0.3333333333333333,
             "#9c179e"
            ],
            [
             0.4444444444444444,
             "#bd3786"
            ],
            [
             0.5555555555555556,
             "#d8576b"
            ],
            [
             0.6666666666666666,
             "#ed7953"
            ],
            [
             0.7777777777777778,
             "#fb9f3a"
            ],
            [
             0.8888888888888888,
             "#fdca26"
            ],
            [
             1,
             "#f0f921"
            ]
           ]
          },
          "colorway": [
           "#636efa",
           "#EF553B",
           "#00cc96",
           "#ab63fa",
           "#FFA15A",
           "#19d3f3",
           "#FF6692",
           "#B6E880",
           "#FF97FF",
           "#FECB52"
          ],
          "font": {
           "color": "#2a3f5f"
          },
          "geo": {
           "bgcolor": "white",
           "lakecolor": "white",
           "landcolor": "#E5ECF6",
           "showlakes": true,
           "showland": true,
           "subunitcolor": "white"
          },
          "hoverlabel": {
           "align": "left"
          },
          "hovermode": "closest",
          "mapbox": {
           "style": "light"
          },
          "paper_bgcolor": "white",
          "plot_bgcolor": "#E5ECF6",
          "polar": {
           "angularaxis": {
            "gridcolor": "white",
            "linecolor": "white",
            "ticks": ""
           },
           "bgcolor": "#E5ECF6",
           "radialaxis": {
            "gridcolor": "white",
            "linecolor": "white",
            "ticks": ""
           }
          },
          "scene": {
           "xaxis": {
            "backgroundcolor": "#E5ECF6",
            "gridcolor": "white",
            "gridwidth": 2,
            "linecolor": "white",
            "showbackground": true,
            "ticks": "",
            "zerolinecolor": "white"
           },
           "yaxis": {
            "backgroundcolor": "#E5ECF6",
            "gridcolor": "white",
            "gridwidth": 2,
            "linecolor": "white",
            "showbackground": true,
            "ticks": "",
            "zerolinecolor": "white"
           },
           "zaxis": {
            "backgroundcolor": "#E5ECF6",
            "gridcolor": "white",
            "gridwidth": 2,
            "linecolor": "white",
            "showbackground": true,
            "ticks": "",
            "zerolinecolor": "white"
           }
          },
          "shapedefaults": {
           "line": {
            "color": "#2a3f5f"
           }
          },
          "ternary": {
           "aaxis": {
            "gridcolor": "white",
            "linecolor": "white",
            "ticks": ""
           },
           "baxis": {
            "gridcolor": "white",
            "linecolor": "white",
            "ticks": ""
           },
           "bgcolor": "#E5ECF6",
           "caxis": {
            "gridcolor": "white",
            "linecolor": "white",
            "ticks": ""
           }
          },
          "title": {
           "x": 0.05
          },
          "xaxis": {
           "automargin": true,
           "gridcolor": "white",
           "linecolor": "white",
           "ticks": "",
           "title": {
            "standoff": 15
           },
           "zerolinecolor": "white",
           "zerolinewidth": 2
          },
          "yaxis": {
           "automargin": true,
           "gridcolor": "white",
           "linecolor": "white",
           "ticks": "",
           "title": {
            "standoff": 15
           },
           "zerolinecolor": "white",
           "zerolinewidth": 2
          }
         }
        },
        "xaxis": {
         "anchor": "y",
         "domain": [
          0,
          1
         ],
         "title": {
          "text": "x"
         }
        },
        "yaxis": {
         "anchor": "x",
         "domain": [
          0,
          1
         ],
         "title": {
          "text": "y"
         }
        }
       }
      }
     },
     "metadata": {},
     "output_type": "display_data"
    }
   ],
   "source": [
    "# plot bar chart of Family column (x values, y counts)\n",
    "stats = df[col_name].value_counts().to_dict()\n",
    "stats = {str(k): v for k, v in stats.items()}\n",
    "stats['nan'] = df[col_name].isna().sum()\n",
    "fig = px.bar(x=list(stats.keys()), y=list(stats.values()))\n",
    "fig.show()"
   ]
  },
  {
   "cell_type": "code",
   "execution_count": 543,
   "id": "a266bc50",
   "metadata": {},
   "outputs": [],
   "source": [
    "# fill\n"
   ]
  },
  {
   "cell_type": "code",
   "execution_count": null,
   "id": "f47ab9fb",
   "metadata": {},
   "outputs": [],
   "source": []
  },
  {
   "cell_type": "markdown",
   "id": "a7565539",
   "metadata": {},
   "source": [
    "### hystrectomy"
   ]
  },
  {
   "cell_type": "code",
   "execution_count": 544,
   "id": "82a744d1",
   "metadata": {},
   "outputs": [
    {
     "name": "stdout",
     "output_type": "stream",
     "text": [
      "Number of nan values in hystrectomy column:  947\n",
      "Proportion of nan values in hystrectomy column:  0.2520628160766569\n",
      "category\n"
     ]
    }
   ],
   "source": [
    "col_name = 'hystrectomy'\n",
    "print(f'Number of nan values in {col_name} column: ', df[col_name].isna().sum())\n",
    "print(f'Proportion of nan values in {col_name} column: ', df[col_name].isna().sum() / df.shape[0])\n",
    "print(df[col_name].dtype)"
   ]
  },
  {
   "cell_type": "code",
   "execution_count": 545,
   "id": "4f4611fb",
   "metadata": {},
   "outputs": [
    {
     "data": {
      "text/plain": [
       "no                          2563\n",
       "12.0                         100\n",
       "hystrectomy                   97\n",
       "13.0                          38\n",
       "uni lateral oophorectomy       8\n",
       "29.0                           1\n",
       "43.0                           1\n",
       "45.0                           1\n",
       "49.0                           1\n",
       "Name: hystrectomy, dtype: int64"
      ]
     },
     "execution_count": 545,
     "metadata": {},
     "output_type": "execute_result"
    }
   ],
   "source": [
    "df[col_name].value_counts()"
   ]
  },
  {
   "cell_type": "code",
   "execution_count": 546,
   "id": "c8490d2e",
   "metadata": {},
   "outputs": [
    {
     "data": {
      "application/vnd.plotly.v1+json": {
       "config": {
        "plotlyServerURL": "https://plot.ly"
       },
       "data": [
        {
         "alignmentgroup": "True",
         "hovertemplate": "x=%{x}<br>y=%{y}<extra></extra>",
         "legendgroup": "",
         "marker": {
          "color": "#636efa",
          "pattern": {
           "shape": ""
          }
         },
         "name": "",
         "offsetgroup": "",
         "orientation": "v",
         "showlegend": false,
         "textposition": "auto",
         "type": "bar",
         "x": [
          "no",
          "12.0",
          "hystrectomy",
          "13.0",
          "uni lateral oophorectomy",
          "29.0",
          "43.0",
          "45.0",
          "49.0",
          "nan"
         ],
         "xaxis": "x",
         "y": [
          2563,
          100,
          97,
          38,
          8,
          1,
          1,
          1,
          1,
          947
         ],
         "yaxis": "y"
        }
       ],
       "layout": {
        "barmode": "relative",
        "legend": {
         "tracegroupgap": 0
        },
        "margin": {
         "t": 60
        },
        "template": {
         "data": {
          "bar": [
           {
            "error_x": {
             "color": "#2a3f5f"
            },
            "error_y": {
             "color": "#2a3f5f"
            },
            "marker": {
             "line": {
              "color": "#E5ECF6",
              "width": 0.5
             },
             "pattern": {
              "fillmode": "overlay",
              "size": 10,
              "solidity": 0.2
             }
            },
            "type": "bar"
           }
          ],
          "barpolar": [
           {
            "marker": {
             "line": {
              "color": "#E5ECF6",
              "width": 0.5
             },
             "pattern": {
              "fillmode": "overlay",
              "size": 10,
              "solidity": 0.2
             }
            },
            "type": "barpolar"
           }
          ],
          "carpet": [
           {
            "aaxis": {
             "endlinecolor": "#2a3f5f",
             "gridcolor": "white",
             "linecolor": "white",
             "minorgridcolor": "white",
             "startlinecolor": "#2a3f5f"
            },
            "baxis": {
             "endlinecolor": "#2a3f5f",
             "gridcolor": "white",
             "linecolor": "white",
             "minorgridcolor": "white",
             "startlinecolor": "#2a3f5f"
            },
            "type": "carpet"
           }
          ],
          "choropleth": [
           {
            "colorbar": {
             "outlinewidth": 0,
             "ticks": ""
            },
            "type": "choropleth"
           }
          ],
          "contour": [
           {
            "colorbar": {
             "outlinewidth": 0,
             "ticks": ""
            },
            "colorscale": [
             [
              0,
              "#0d0887"
             ],
             [
              0.1111111111111111,
              "#46039f"
             ],
             [
              0.2222222222222222,
              "#7201a8"
             ],
             [
              0.3333333333333333,
              "#9c179e"
             ],
             [
              0.4444444444444444,
              "#bd3786"
             ],
             [
              0.5555555555555556,
              "#d8576b"
             ],
             [
              0.6666666666666666,
              "#ed7953"
             ],
             [
              0.7777777777777778,
              "#fb9f3a"
             ],
             [
              0.8888888888888888,
              "#fdca26"
             ],
             [
              1,
              "#f0f921"
             ]
            ],
            "type": "contour"
           }
          ],
          "contourcarpet": [
           {
            "colorbar": {
             "outlinewidth": 0,
             "ticks": ""
            },
            "type": "contourcarpet"
           }
          ],
          "heatmap": [
           {
            "colorbar": {
             "outlinewidth": 0,
             "ticks": ""
            },
            "colorscale": [
             [
              0,
              "#0d0887"
             ],
             [
              0.1111111111111111,
              "#46039f"
             ],
             [
              0.2222222222222222,
              "#7201a8"
             ],
             [
              0.3333333333333333,
              "#9c179e"
             ],
             [
              0.4444444444444444,
              "#bd3786"
             ],
             [
              0.5555555555555556,
              "#d8576b"
             ],
             [
              0.6666666666666666,
              "#ed7953"
             ],
             [
              0.7777777777777778,
              "#fb9f3a"
             ],
             [
              0.8888888888888888,
              "#fdca26"
             ],
             [
              1,
              "#f0f921"
             ]
            ],
            "type": "heatmap"
           }
          ],
          "heatmapgl": [
           {
            "colorbar": {
             "outlinewidth": 0,
             "ticks": ""
            },
            "colorscale": [
             [
              0,
              "#0d0887"
             ],
             [
              0.1111111111111111,
              "#46039f"
             ],
             [
              0.2222222222222222,
              "#7201a8"
             ],
             [
              0.3333333333333333,
              "#9c179e"
             ],
             [
              0.4444444444444444,
              "#bd3786"
             ],
             [
              0.5555555555555556,
              "#d8576b"
             ],
             [
              0.6666666666666666,
              "#ed7953"
             ],
             [
              0.7777777777777778,
              "#fb9f3a"
             ],
             [
              0.8888888888888888,
              "#fdca26"
             ],
             [
              1,
              "#f0f921"
             ]
            ],
            "type": "heatmapgl"
           }
          ],
          "histogram": [
           {
            "marker": {
             "pattern": {
              "fillmode": "overlay",
              "size": 10,
              "solidity": 0.2
             }
            },
            "type": "histogram"
           }
          ],
          "histogram2d": [
           {
            "colorbar": {
             "outlinewidth": 0,
             "ticks": ""
            },
            "colorscale": [
             [
              0,
              "#0d0887"
             ],
             [
              0.1111111111111111,
              "#46039f"
             ],
             [
              0.2222222222222222,
              "#7201a8"
             ],
             [
              0.3333333333333333,
              "#9c179e"
             ],
             [
              0.4444444444444444,
              "#bd3786"
             ],
             [
              0.5555555555555556,
              "#d8576b"
             ],
             [
              0.6666666666666666,
              "#ed7953"
             ],
             [
              0.7777777777777778,
              "#fb9f3a"
             ],
             [
              0.8888888888888888,
              "#fdca26"
             ],
             [
              1,
              "#f0f921"
             ]
            ],
            "type": "histogram2d"
           }
          ],
          "histogram2dcontour": [
           {
            "colorbar": {
             "outlinewidth": 0,
             "ticks": ""
            },
            "colorscale": [
             [
              0,
              "#0d0887"
             ],
             [
              0.1111111111111111,
              "#46039f"
             ],
             [
              0.2222222222222222,
              "#7201a8"
             ],
             [
              0.3333333333333333,
              "#9c179e"
             ],
             [
              0.4444444444444444,
              "#bd3786"
             ],
             [
              0.5555555555555556,
              "#d8576b"
             ],
             [
              0.6666666666666666,
              "#ed7953"
             ],
             [
              0.7777777777777778,
              "#fb9f3a"
             ],
             [
              0.8888888888888888,
              "#fdca26"
             ],
             [
              1,
              "#f0f921"
             ]
            ],
            "type": "histogram2dcontour"
           }
          ],
          "mesh3d": [
           {
            "colorbar": {
             "outlinewidth": 0,
             "ticks": ""
            },
            "type": "mesh3d"
           }
          ],
          "parcoords": [
           {
            "line": {
             "colorbar": {
              "outlinewidth": 0,
              "ticks": ""
             }
            },
            "type": "parcoords"
           }
          ],
          "pie": [
           {
            "automargin": true,
            "type": "pie"
           }
          ],
          "scatter": [
           {
            "fillpattern": {
             "fillmode": "overlay",
             "size": 10,
             "solidity": 0.2
            },
            "type": "scatter"
           }
          ],
          "scatter3d": [
           {
            "line": {
             "colorbar": {
              "outlinewidth": 0,
              "ticks": ""
             }
            },
            "marker": {
             "colorbar": {
              "outlinewidth": 0,
              "ticks": ""
             }
            },
            "type": "scatter3d"
           }
          ],
          "scattercarpet": [
           {
            "marker": {
             "colorbar": {
              "outlinewidth": 0,
              "ticks": ""
             }
            },
            "type": "scattercarpet"
           }
          ],
          "scattergeo": [
           {
            "marker": {
             "colorbar": {
              "outlinewidth": 0,
              "ticks": ""
             }
            },
            "type": "scattergeo"
           }
          ],
          "scattergl": [
           {
            "marker": {
             "colorbar": {
              "outlinewidth": 0,
              "ticks": ""
             }
            },
            "type": "scattergl"
           }
          ],
          "scattermapbox": [
           {
            "marker": {
             "colorbar": {
              "outlinewidth": 0,
              "ticks": ""
             }
            },
            "type": "scattermapbox"
           }
          ],
          "scatterpolar": [
           {
            "marker": {
             "colorbar": {
              "outlinewidth": 0,
              "ticks": ""
             }
            },
            "type": "scatterpolar"
           }
          ],
          "scatterpolargl": [
           {
            "marker": {
             "colorbar": {
              "outlinewidth": 0,
              "ticks": ""
             }
            },
            "type": "scatterpolargl"
           }
          ],
          "scatterternary": [
           {
            "marker": {
             "colorbar": {
              "outlinewidth": 0,
              "ticks": ""
             }
            },
            "type": "scatterternary"
           }
          ],
          "surface": [
           {
            "colorbar": {
             "outlinewidth": 0,
             "ticks": ""
            },
            "colorscale": [
             [
              0,
              "#0d0887"
             ],
             [
              0.1111111111111111,
              "#46039f"
             ],
             [
              0.2222222222222222,
              "#7201a8"
             ],
             [
              0.3333333333333333,
              "#9c179e"
             ],
             [
              0.4444444444444444,
              "#bd3786"
             ],
             [
              0.5555555555555556,
              "#d8576b"
             ],
             [
              0.6666666666666666,
              "#ed7953"
             ],
             [
              0.7777777777777778,
              "#fb9f3a"
             ],
             [
              0.8888888888888888,
              "#fdca26"
             ],
             [
              1,
              "#f0f921"
             ]
            ],
            "type": "surface"
           }
          ],
          "table": [
           {
            "cells": {
             "fill": {
              "color": "#EBF0F8"
             },
             "line": {
              "color": "white"
             }
            },
            "header": {
             "fill": {
              "color": "#C8D4E3"
             },
             "line": {
              "color": "white"
             }
            },
            "type": "table"
           }
          ]
         },
         "layout": {
          "annotationdefaults": {
           "arrowcolor": "#2a3f5f",
           "arrowhead": 0,
           "arrowwidth": 1
          },
          "autotypenumbers": "strict",
          "coloraxis": {
           "colorbar": {
            "outlinewidth": 0,
            "ticks": ""
           }
          },
          "colorscale": {
           "diverging": [
            [
             0,
             "#8e0152"
            ],
            [
             0.1,
             "#c51b7d"
            ],
            [
             0.2,
             "#de77ae"
            ],
            [
             0.3,
             "#f1b6da"
            ],
            [
             0.4,
             "#fde0ef"
            ],
            [
             0.5,
             "#f7f7f7"
            ],
            [
             0.6,
             "#e6f5d0"
            ],
            [
             0.7,
             "#b8e186"
            ],
            [
             0.8,
             "#7fbc41"
            ],
            [
             0.9,
             "#4d9221"
            ],
            [
             1,
             "#276419"
            ]
           ],
           "sequential": [
            [
             0,
             "#0d0887"
            ],
            [
             0.1111111111111111,
             "#46039f"
            ],
            [
             0.2222222222222222,
             "#7201a8"
            ],
            [
             0.3333333333333333,
             "#9c179e"
            ],
            [
             0.4444444444444444,
             "#bd3786"
            ],
            [
             0.5555555555555556,
             "#d8576b"
            ],
            [
             0.6666666666666666,
             "#ed7953"
            ],
            [
             0.7777777777777778,
             "#fb9f3a"
            ],
            [
             0.8888888888888888,
             "#fdca26"
            ],
            [
             1,
             "#f0f921"
            ]
           ],
           "sequentialminus": [
            [
             0,
             "#0d0887"
            ],
            [
             0.1111111111111111,
             "#46039f"
            ],
            [
             0.2222222222222222,
             "#7201a8"
            ],
            [
             0.3333333333333333,
             "#9c179e"
            ],
            [
             0.4444444444444444,
             "#bd3786"
            ],
            [
             0.5555555555555556,
             "#d8576b"
            ],
            [
             0.6666666666666666,
             "#ed7953"
            ],
            [
             0.7777777777777778,
             "#fb9f3a"
            ],
            [
             0.8888888888888888,
             "#fdca26"
            ],
            [
             1,
             "#f0f921"
            ]
           ]
          },
          "colorway": [
           "#636efa",
           "#EF553B",
           "#00cc96",
           "#ab63fa",
           "#FFA15A",
           "#19d3f3",
           "#FF6692",
           "#B6E880",
           "#FF97FF",
           "#FECB52"
          ],
          "font": {
           "color": "#2a3f5f"
          },
          "geo": {
           "bgcolor": "white",
           "lakecolor": "white",
           "landcolor": "#E5ECF6",
           "showlakes": true,
           "showland": true,
           "subunitcolor": "white"
          },
          "hoverlabel": {
           "align": "left"
          },
          "hovermode": "closest",
          "mapbox": {
           "style": "light"
          },
          "paper_bgcolor": "white",
          "plot_bgcolor": "#E5ECF6",
          "polar": {
           "angularaxis": {
            "gridcolor": "white",
            "linecolor": "white",
            "ticks": ""
           },
           "bgcolor": "#E5ECF6",
           "radialaxis": {
            "gridcolor": "white",
            "linecolor": "white",
            "ticks": ""
           }
          },
          "scene": {
           "xaxis": {
            "backgroundcolor": "#E5ECF6",
            "gridcolor": "white",
            "gridwidth": 2,
            "linecolor": "white",
            "showbackground": true,
            "ticks": "",
            "zerolinecolor": "white"
           },
           "yaxis": {
            "backgroundcolor": "#E5ECF6",
            "gridcolor": "white",
            "gridwidth": 2,
            "linecolor": "white",
            "showbackground": true,
            "ticks": "",
            "zerolinecolor": "white"
           },
           "zaxis": {
            "backgroundcolor": "#E5ECF6",
            "gridcolor": "white",
            "gridwidth": 2,
            "linecolor": "white",
            "showbackground": true,
            "ticks": "",
            "zerolinecolor": "white"
           }
          },
          "shapedefaults": {
           "line": {
            "color": "#2a3f5f"
           }
          },
          "ternary": {
           "aaxis": {
            "gridcolor": "white",
            "linecolor": "white",
            "ticks": ""
           },
           "baxis": {
            "gridcolor": "white",
            "linecolor": "white",
            "ticks": ""
           },
           "bgcolor": "#E5ECF6",
           "caxis": {
            "gridcolor": "white",
            "linecolor": "white",
            "ticks": ""
           }
          },
          "title": {
           "x": 0.05
          },
          "xaxis": {
           "automargin": true,
           "gridcolor": "white",
           "linecolor": "white",
           "ticks": "",
           "title": {
            "standoff": 15
           },
           "zerolinecolor": "white",
           "zerolinewidth": 2
          },
          "yaxis": {
           "automargin": true,
           "gridcolor": "white",
           "linecolor": "white",
           "ticks": "",
           "title": {
            "standoff": 15
           },
           "zerolinecolor": "white",
           "zerolinewidth": 2
          }
         }
        },
        "xaxis": {
         "anchor": "y",
         "domain": [
          0,
          1
         ],
         "title": {
          "text": "x"
         }
        },
        "yaxis": {
         "anchor": "x",
         "domain": [
          0,
          1
         ],
         "title": {
          "text": "y"
         }
        }
       }
      }
     },
     "metadata": {},
     "output_type": "display_data"
    }
   ],
   "source": [
    "# plot bar chart of Family column (x values, y counts)\n",
    "stats = df[col_name].value_counts().to_dict()\n",
    "stats = {str(k): v for k, v in stats.items()}\n",
    "stats['nan'] = df[col_name].isna().sum()\n",
    "fig = px.bar(x=list(stats.keys()), y=list(stats.values()))\n",
    "fig.show()"
   ]
  },
  {
   "cell_type": "code",
   "execution_count": 547,
   "id": "ca54616e",
   "metadata": {},
   "outputs": [],
   "source": [
    "# fill\n"
   ]
  },
  {
   "cell_type": "code",
   "execution_count": null,
   "id": "4e5d6b1e",
   "metadata": {},
   "outputs": [],
   "source": []
  },
  {
   "cell_type": "markdown",
   "id": "fb2f4a8b",
   "metadata": {},
   "source": [
    "### infertility"
   ]
  },
  {
   "cell_type": "code",
   "execution_count": 548,
   "id": "dd228923",
   "metadata": {},
   "outputs": [
    {
     "name": "stdout",
     "output_type": "stream",
     "text": [
      "Number of nan values in infertility column:  575\n",
      "Proportion of nan values in infertility column:  0.15304764439712537\n",
      "category\n"
     ]
    }
   ],
   "source": [
    "col_name = 'infertility'\n",
    "print(f'Number of nan values in {col_name} column: ', df[col_name].isna().sum())\n",
    "print(f'Proportion of nan values in {col_name} column: ', df[col_name].isna().sum() / df.shape[0])\n",
    "print(df[col_name].dtype)"
   ]
  },
  {
   "cell_type": "code",
   "execution_count": 549,
   "id": "99793d3c",
   "metadata": {},
   "outputs": [
    {
     "data": {
      "text/plain": [
       "no     3063\n",
       "yes     118\n",
       "6.0       1\n",
       "Name: infertility, dtype: int64"
      ]
     },
     "execution_count": 549,
     "metadata": {},
     "output_type": "execute_result"
    }
   ],
   "source": [
    "df[col_name].value_counts()"
   ]
  },
  {
   "cell_type": "code",
   "execution_count": 550,
   "id": "e93fd40b",
   "metadata": {},
   "outputs": [
    {
     "data": {
      "application/vnd.plotly.v1+json": {
       "config": {
        "plotlyServerURL": "https://plot.ly"
       },
       "data": [
        {
         "alignmentgroup": "True",
         "hovertemplate": "x=%{x}<br>y=%{y}<extra></extra>",
         "legendgroup": "",
         "marker": {
          "color": "#636efa",
          "pattern": {
           "shape": ""
          }
         },
         "name": "",
         "offsetgroup": "",
         "orientation": "v",
         "showlegend": false,
         "textposition": "auto",
         "type": "bar",
         "x": [
          "no",
          "yes",
          "6.0",
          "nan"
         ],
         "xaxis": "x",
         "y": [
          3063,
          118,
          1,
          575
         ],
         "yaxis": "y"
        }
       ],
       "layout": {
        "barmode": "relative",
        "legend": {
         "tracegroupgap": 0
        },
        "margin": {
         "t": 60
        },
        "template": {
         "data": {
          "bar": [
           {
            "error_x": {
             "color": "#2a3f5f"
            },
            "error_y": {
             "color": "#2a3f5f"
            },
            "marker": {
             "line": {
              "color": "#E5ECF6",
              "width": 0.5
             },
             "pattern": {
              "fillmode": "overlay",
              "size": 10,
              "solidity": 0.2
             }
            },
            "type": "bar"
           }
          ],
          "barpolar": [
           {
            "marker": {
             "line": {
              "color": "#E5ECF6",
              "width": 0.5
             },
             "pattern": {
              "fillmode": "overlay",
              "size": 10,
              "solidity": 0.2
             }
            },
            "type": "barpolar"
           }
          ],
          "carpet": [
           {
            "aaxis": {
             "endlinecolor": "#2a3f5f",
             "gridcolor": "white",
             "linecolor": "white",
             "minorgridcolor": "white",
             "startlinecolor": "#2a3f5f"
            },
            "baxis": {
             "endlinecolor": "#2a3f5f",
             "gridcolor": "white",
             "linecolor": "white",
             "minorgridcolor": "white",
             "startlinecolor": "#2a3f5f"
            },
            "type": "carpet"
           }
          ],
          "choropleth": [
           {
            "colorbar": {
             "outlinewidth": 0,
             "ticks": ""
            },
            "type": "choropleth"
           }
          ],
          "contour": [
           {
            "colorbar": {
             "outlinewidth": 0,
             "ticks": ""
            },
            "colorscale": [
             [
              0,
              "#0d0887"
             ],
             [
              0.1111111111111111,
              "#46039f"
             ],
             [
              0.2222222222222222,
              "#7201a8"
             ],
             [
              0.3333333333333333,
              "#9c179e"
             ],
             [
              0.4444444444444444,
              "#bd3786"
             ],
             [
              0.5555555555555556,
              "#d8576b"
             ],
             [
              0.6666666666666666,
              "#ed7953"
             ],
             [
              0.7777777777777778,
              "#fb9f3a"
             ],
             [
              0.8888888888888888,
              "#fdca26"
             ],
             [
              1,
              "#f0f921"
             ]
            ],
            "type": "contour"
           }
          ],
          "contourcarpet": [
           {
            "colorbar": {
             "outlinewidth": 0,
             "ticks": ""
            },
            "type": "contourcarpet"
           }
          ],
          "heatmap": [
           {
            "colorbar": {
             "outlinewidth": 0,
             "ticks": ""
            },
            "colorscale": [
             [
              0,
              "#0d0887"
             ],
             [
              0.1111111111111111,
              "#46039f"
             ],
             [
              0.2222222222222222,
              "#7201a8"
             ],
             [
              0.3333333333333333,
              "#9c179e"
             ],
             [
              0.4444444444444444,
              "#bd3786"
             ],
             [
              0.5555555555555556,
              "#d8576b"
             ],
             [
              0.6666666666666666,
              "#ed7953"
             ],
             [
              0.7777777777777778,
              "#fb9f3a"
             ],
             [
              0.8888888888888888,
              "#fdca26"
             ],
             [
              1,
              "#f0f921"
             ]
            ],
            "type": "heatmap"
           }
          ],
          "heatmapgl": [
           {
            "colorbar": {
             "outlinewidth": 0,
             "ticks": ""
            },
            "colorscale": [
             [
              0,
              "#0d0887"
             ],
             [
              0.1111111111111111,
              "#46039f"
             ],
             [
              0.2222222222222222,
              "#7201a8"
             ],
             [
              0.3333333333333333,
              "#9c179e"
             ],
             [
              0.4444444444444444,
              "#bd3786"
             ],
             [
              0.5555555555555556,
              "#d8576b"
             ],
             [
              0.6666666666666666,
              "#ed7953"
             ],
             [
              0.7777777777777778,
              "#fb9f3a"
             ],
             [
              0.8888888888888888,
              "#fdca26"
             ],
             [
              1,
              "#f0f921"
             ]
            ],
            "type": "heatmapgl"
           }
          ],
          "histogram": [
           {
            "marker": {
             "pattern": {
              "fillmode": "overlay",
              "size": 10,
              "solidity": 0.2
             }
            },
            "type": "histogram"
           }
          ],
          "histogram2d": [
           {
            "colorbar": {
             "outlinewidth": 0,
             "ticks": ""
            },
            "colorscale": [
             [
              0,
              "#0d0887"
             ],
             [
              0.1111111111111111,
              "#46039f"
             ],
             [
              0.2222222222222222,
              "#7201a8"
             ],
             [
              0.3333333333333333,
              "#9c179e"
             ],
             [
              0.4444444444444444,
              "#bd3786"
             ],
             [
              0.5555555555555556,
              "#d8576b"
             ],
             [
              0.6666666666666666,
              "#ed7953"
             ],
             [
              0.7777777777777778,
              "#fb9f3a"
             ],
             [
              0.8888888888888888,
              "#fdca26"
             ],
             [
              1,
              "#f0f921"
             ]
            ],
            "type": "histogram2d"
           }
          ],
          "histogram2dcontour": [
           {
            "colorbar": {
             "outlinewidth": 0,
             "ticks": ""
            },
            "colorscale": [
             [
              0,
              "#0d0887"
             ],
             [
              0.1111111111111111,
              "#46039f"
             ],
             [
              0.2222222222222222,
              "#7201a8"
             ],
             [
              0.3333333333333333,
              "#9c179e"
             ],
             [
              0.4444444444444444,
              "#bd3786"
             ],
             [
              0.5555555555555556,
              "#d8576b"
             ],
             [
              0.6666666666666666,
              "#ed7953"
             ],
             [
              0.7777777777777778,
              "#fb9f3a"
             ],
             [
              0.8888888888888888,
              "#fdca26"
             ],
             [
              1,
              "#f0f921"
             ]
            ],
            "type": "histogram2dcontour"
           }
          ],
          "mesh3d": [
           {
            "colorbar": {
             "outlinewidth": 0,
             "ticks": ""
            },
            "type": "mesh3d"
           }
          ],
          "parcoords": [
           {
            "line": {
             "colorbar": {
              "outlinewidth": 0,
              "ticks": ""
             }
            },
            "type": "parcoords"
           }
          ],
          "pie": [
           {
            "automargin": true,
            "type": "pie"
           }
          ],
          "scatter": [
           {
            "fillpattern": {
             "fillmode": "overlay",
             "size": 10,
             "solidity": 0.2
            },
            "type": "scatter"
           }
          ],
          "scatter3d": [
           {
            "line": {
             "colorbar": {
              "outlinewidth": 0,
              "ticks": ""
             }
            },
            "marker": {
             "colorbar": {
              "outlinewidth": 0,
              "ticks": ""
             }
            },
            "type": "scatter3d"
           }
          ],
          "scattercarpet": [
           {
            "marker": {
             "colorbar": {
              "outlinewidth": 0,
              "ticks": ""
             }
            },
            "type": "scattercarpet"
           }
          ],
          "scattergeo": [
           {
            "marker": {
             "colorbar": {
              "outlinewidth": 0,
              "ticks": ""
             }
            },
            "type": "scattergeo"
           }
          ],
          "scattergl": [
           {
            "marker": {
             "colorbar": {
              "outlinewidth": 0,
              "ticks": ""
             }
            },
            "type": "scattergl"
           }
          ],
          "scattermapbox": [
           {
            "marker": {
             "colorbar": {
              "outlinewidth": 0,
              "ticks": ""
             }
            },
            "type": "scattermapbox"
           }
          ],
          "scatterpolar": [
           {
            "marker": {
             "colorbar": {
              "outlinewidth": 0,
              "ticks": ""
             }
            },
            "type": "scatterpolar"
           }
          ],
          "scatterpolargl": [
           {
            "marker": {
             "colorbar": {
              "outlinewidth": 0,
              "ticks": ""
             }
            },
            "type": "scatterpolargl"
           }
          ],
          "scatterternary": [
           {
            "marker": {
             "colorbar": {
              "outlinewidth": 0,
              "ticks": ""
             }
            },
            "type": "scatterternary"
           }
          ],
          "surface": [
           {
            "colorbar": {
             "outlinewidth": 0,
             "ticks": ""
            },
            "colorscale": [
             [
              0,
              "#0d0887"
             ],
             [
              0.1111111111111111,
              "#46039f"
             ],
             [
              0.2222222222222222,
              "#7201a8"
             ],
             [
              0.3333333333333333,
              "#9c179e"
             ],
             [
              0.4444444444444444,
              "#bd3786"
             ],
             [
              0.5555555555555556,
              "#d8576b"
             ],
             [
              0.6666666666666666,
              "#ed7953"
             ],
             [
              0.7777777777777778,
              "#fb9f3a"
             ],
             [
              0.8888888888888888,
              "#fdca26"
             ],
             [
              1,
              "#f0f921"
             ]
            ],
            "type": "surface"
           }
          ],
          "table": [
           {
            "cells": {
             "fill": {
              "color": "#EBF0F8"
             },
             "line": {
              "color": "white"
             }
            },
            "header": {
             "fill": {
              "color": "#C8D4E3"
             },
             "line": {
              "color": "white"
             }
            },
            "type": "table"
           }
          ]
         },
         "layout": {
          "annotationdefaults": {
           "arrowcolor": "#2a3f5f",
           "arrowhead": 0,
           "arrowwidth": 1
          },
          "autotypenumbers": "strict",
          "coloraxis": {
           "colorbar": {
            "outlinewidth": 0,
            "ticks": ""
           }
          },
          "colorscale": {
           "diverging": [
            [
             0,
             "#8e0152"
            ],
            [
             0.1,
             "#c51b7d"
            ],
            [
             0.2,
             "#de77ae"
            ],
            [
             0.3,
             "#f1b6da"
            ],
            [
             0.4,
             "#fde0ef"
            ],
            [
             0.5,
             "#f7f7f7"
            ],
            [
             0.6,
             "#e6f5d0"
            ],
            [
             0.7,
             "#b8e186"
            ],
            [
             0.8,
             "#7fbc41"
            ],
            [
             0.9,
             "#4d9221"
            ],
            [
             1,
             "#276419"
            ]
           ],
           "sequential": [
            [
             0,
             "#0d0887"
            ],
            [
             0.1111111111111111,
             "#46039f"
            ],
            [
             0.2222222222222222,
             "#7201a8"
            ],
            [
             0.3333333333333333,
             "#9c179e"
            ],
            [
             0.4444444444444444,
             "#bd3786"
            ],
            [
             0.5555555555555556,
             "#d8576b"
            ],
            [
             0.6666666666666666,
             "#ed7953"
            ],
            [
             0.7777777777777778,
             "#fb9f3a"
            ],
            [
             0.8888888888888888,
             "#fdca26"
            ],
            [
             1,
             "#f0f921"
            ]
           ],
           "sequentialminus": [
            [
             0,
             "#0d0887"
            ],
            [
             0.1111111111111111,
             "#46039f"
            ],
            [
             0.2222222222222222,
             "#7201a8"
            ],
            [
             0.3333333333333333,
             "#9c179e"
            ],
            [
             0.4444444444444444,
             "#bd3786"
            ],
            [
             0.5555555555555556,
             "#d8576b"
            ],
            [
             0.6666666666666666,
             "#ed7953"
            ],
            [
             0.7777777777777778,
             "#fb9f3a"
            ],
            [
             0.8888888888888888,
             "#fdca26"
            ],
            [
             1,
             "#f0f921"
            ]
           ]
          },
          "colorway": [
           "#636efa",
           "#EF553B",
           "#00cc96",
           "#ab63fa",
           "#FFA15A",
           "#19d3f3",
           "#FF6692",
           "#B6E880",
           "#FF97FF",
           "#FECB52"
          ],
          "font": {
           "color": "#2a3f5f"
          },
          "geo": {
           "bgcolor": "white",
           "lakecolor": "white",
           "landcolor": "#E5ECF6",
           "showlakes": true,
           "showland": true,
           "subunitcolor": "white"
          },
          "hoverlabel": {
           "align": "left"
          },
          "hovermode": "closest",
          "mapbox": {
           "style": "light"
          },
          "paper_bgcolor": "white",
          "plot_bgcolor": "#E5ECF6",
          "polar": {
           "angularaxis": {
            "gridcolor": "white",
            "linecolor": "white",
            "ticks": ""
           },
           "bgcolor": "#E5ECF6",
           "radialaxis": {
            "gridcolor": "white",
            "linecolor": "white",
            "ticks": ""
           }
          },
          "scene": {
           "xaxis": {
            "backgroundcolor": "#E5ECF6",
            "gridcolor": "white",
            "gridwidth": 2,
            "linecolor": "white",
            "showbackground": true,
            "ticks": "",
            "zerolinecolor": "white"
           },
           "yaxis": {
            "backgroundcolor": "#E5ECF6",
            "gridcolor": "white",
            "gridwidth": 2,
            "linecolor": "white",
            "showbackground": true,
            "ticks": "",
            "zerolinecolor": "white"
           },
           "zaxis": {
            "backgroundcolor": "#E5ECF6",
            "gridcolor": "white",
            "gridwidth": 2,
            "linecolor": "white",
            "showbackground": true,
            "ticks": "",
            "zerolinecolor": "white"
           }
          },
          "shapedefaults": {
           "line": {
            "color": "#2a3f5f"
           }
          },
          "ternary": {
           "aaxis": {
            "gridcolor": "white",
            "linecolor": "white",
            "ticks": ""
           },
           "baxis": {
            "gridcolor": "white",
            "linecolor": "white",
            "ticks": ""
           },
           "bgcolor": "#E5ECF6",
           "caxis": {
            "gridcolor": "white",
            "linecolor": "white",
            "ticks": ""
           }
          },
          "title": {
           "x": 0.05
          },
          "xaxis": {
           "automargin": true,
           "gridcolor": "white",
           "linecolor": "white",
           "ticks": "",
           "title": {
            "standoff": 15
           },
           "zerolinecolor": "white",
           "zerolinewidth": 2
          },
          "yaxis": {
           "automargin": true,
           "gridcolor": "white",
           "linecolor": "white",
           "ticks": "",
           "title": {
            "standoff": 15
           },
           "zerolinecolor": "white",
           "zerolinewidth": 2
          }
         }
        },
        "xaxis": {
         "anchor": "y",
         "domain": [
          0,
          1
         ],
         "title": {
          "text": "x"
         }
        },
        "yaxis": {
         "anchor": "x",
         "domain": [
          0,
          1
         ],
         "title": {
          "text": "y"
         }
        }
       }
      }
     },
     "metadata": {},
     "output_type": "display_data"
    }
   ],
   "source": [
    "# plot bar chart of Family column (x values, y counts)\n",
    "stats = df[col_name].value_counts().to_dict()\n",
    "stats = {str(k): v for k, v in stats.items()}\n",
    "stats['nan'] = df[col_name].isna().sum()\n",
    "fig = px.bar(x=list(stats.keys()), y=list(stats.values()))\n",
    "fig.show()"
   ]
  },
  {
   "cell_type": "code",
   "execution_count": 551,
   "id": "7423b261",
   "metadata": {},
   "outputs": [],
   "source": [
    "# fill\n"
   ]
  },
  {
   "cell_type": "code",
   "execution_count": null,
   "id": "be8f2564",
   "metadata": {},
   "outputs": [],
   "source": []
  },
  {
   "cell_type": "markdown",
   "id": "d0056a51",
   "metadata": {},
   "source": [
    "### kindinfertile"
   ]
  },
  {
   "cell_type": "code",
   "execution_count": 552,
   "id": "2f94364a",
   "metadata": {},
   "outputs": [
    {
     "name": "stdout",
     "output_type": "stream",
     "text": [
      "Number of nan values in kindinfertile column:  2604\n",
      "Proportion of nan values in kindinfertile column:  0.6931062017567208\n",
      "category\n"
     ]
    }
   ],
   "source": [
    "col_name = 'kindinfertile'\n",
    "print(f'Number of nan values in {col_name} column: ', df[col_name].isna().sum())\n",
    "print(f'Proportion of nan values in {col_name} column: ', df[col_name].isna().sum() / df.shape[0])\n",
    "print(df[col_name].dtype)"
   ]
  },
  {
   "cell_type": "code",
   "execution_count": 553,
   "id": "f48ad736",
   "metadata": {},
   "outputs": [
    {
     "data": {
      "text/plain": [
       "0.0                                 1063\n",
       "IVF,ZIFT,GIFT,IUI,microinjection      31\n",
       "clomifen                              13\n",
       "5.0                                   12\n",
       "23.0                                   9\n",
       "HMG ,HCG injection                     6\n",
       "12.0                                   5\n",
       "15.0                                   3\n",
       "21.0                                   2\n",
       "31.0                                   2\n",
       "123.0                                  2\n",
       "unknown                                2\n",
       "9.0                                    1\n",
       "14.0                                   1\n",
       "34.0                                   1\n",
       "Name: kindinfertile, dtype: int64"
      ]
     },
     "execution_count": 553,
     "metadata": {},
     "output_type": "execute_result"
    }
   ],
   "source": [
    "df[col_name].value_counts()"
   ]
  },
  {
   "cell_type": "code",
   "execution_count": 554,
   "id": "d078a817",
   "metadata": {},
   "outputs": [
    {
     "data": {
      "application/vnd.plotly.v1+json": {
       "config": {
        "plotlyServerURL": "https://plot.ly"
       },
       "data": [
        {
         "alignmentgroup": "True",
         "hovertemplate": "x=%{x}<br>y=%{y}<extra></extra>",
         "legendgroup": "",
         "marker": {
          "color": "#636efa",
          "pattern": {
           "shape": ""
          }
         },
         "name": "",
         "offsetgroup": "",
         "orientation": "v",
         "showlegend": false,
         "textposition": "auto",
         "type": "bar",
         "x": [
          "0.0",
          "IVF,ZIFT,GIFT,IUI,microinjection",
          "clomifen",
          "5.0",
          "23.0",
          "HMG ,HCG injection",
          "12.0",
          "15.0",
          "21.0",
          "31.0",
          "123.0",
          "unknown",
          "9.0",
          "14.0",
          "34.0",
          "nan"
         ],
         "xaxis": "x",
         "y": [
          1063,
          31,
          13,
          12,
          9,
          6,
          5,
          3,
          2,
          2,
          2,
          2,
          1,
          1,
          1,
          2604
         ],
         "yaxis": "y"
        }
       ],
       "layout": {
        "barmode": "relative",
        "legend": {
         "tracegroupgap": 0
        },
        "margin": {
         "t": 60
        },
        "template": {
         "data": {
          "bar": [
           {
            "error_x": {
             "color": "#2a3f5f"
            },
            "error_y": {
             "color": "#2a3f5f"
            },
            "marker": {
             "line": {
              "color": "#E5ECF6",
              "width": 0.5
             },
             "pattern": {
              "fillmode": "overlay",
              "size": 10,
              "solidity": 0.2
             }
            },
            "type": "bar"
           }
          ],
          "barpolar": [
           {
            "marker": {
             "line": {
              "color": "#E5ECF6",
              "width": 0.5
             },
             "pattern": {
              "fillmode": "overlay",
              "size": 10,
              "solidity": 0.2
             }
            },
            "type": "barpolar"
           }
          ],
          "carpet": [
           {
            "aaxis": {
             "endlinecolor": "#2a3f5f",
             "gridcolor": "white",
             "linecolor": "white",
             "minorgridcolor": "white",
             "startlinecolor": "#2a3f5f"
            },
            "baxis": {
             "endlinecolor": "#2a3f5f",
             "gridcolor": "white",
             "linecolor": "white",
             "minorgridcolor": "white",
             "startlinecolor": "#2a3f5f"
            },
            "type": "carpet"
           }
          ],
          "choropleth": [
           {
            "colorbar": {
             "outlinewidth": 0,
             "ticks": ""
            },
            "type": "choropleth"
           }
          ],
          "contour": [
           {
            "colorbar": {
             "outlinewidth": 0,
             "ticks": ""
            },
            "colorscale": [
             [
              0,
              "#0d0887"
             ],
             [
              0.1111111111111111,
              "#46039f"
             ],
             [
              0.2222222222222222,
              "#7201a8"
             ],
             [
              0.3333333333333333,
              "#9c179e"
             ],
             [
              0.4444444444444444,
              "#bd3786"
             ],
             [
              0.5555555555555556,
              "#d8576b"
             ],
             [
              0.6666666666666666,
              "#ed7953"
             ],
             [
              0.7777777777777778,
              "#fb9f3a"
             ],
             [
              0.8888888888888888,
              "#fdca26"
             ],
             [
              1,
              "#f0f921"
             ]
            ],
            "type": "contour"
           }
          ],
          "contourcarpet": [
           {
            "colorbar": {
             "outlinewidth": 0,
             "ticks": ""
            },
            "type": "contourcarpet"
           }
          ],
          "heatmap": [
           {
            "colorbar": {
             "outlinewidth": 0,
             "ticks": ""
            },
            "colorscale": [
             [
              0,
              "#0d0887"
             ],
             [
              0.1111111111111111,
              "#46039f"
             ],
             [
              0.2222222222222222,
              "#7201a8"
             ],
             [
              0.3333333333333333,
              "#9c179e"
             ],
             [
              0.4444444444444444,
              "#bd3786"
             ],
             [
              0.5555555555555556,
              "#d8576b"
             ],
             [
              0.6666666666666666,
              "#ed7953"
             ],
             [
              0.7777777777777778,
              "#fb9f3a"
             ],
             [
              0.8888888888888888,
              "#fdca26"
             ],
             [
              1,
              "#f0f921"
             ]
            ],
            "type": "heatmap"
           }
          ],
          "heatmapgl": [
           {
            "colorbar": {
             "outlinewidth": 0,
             "ticks": ""
            },
            "colorscale": [
             [
              0,
              "#0d0887"
             ],
             [
              0.1111111111111111,
              "#46039f"
             ],
             [
              0.2222222222222222,
              "#7201a8"
             ],
             [
              0.3333333333333333,
              "#9c179e"
             ],
             [
              0.4444444444444444,
              "#bd3786"
             ],
             [
              0.5555555555555556,
              "#d8576b"
             ],
             [
              0.6666666666666666,
              "#ed7953"
             ],
             [
              0.7777777777777778,
              "#fb9f3a"
             ],
             [
              0.8888888888888888,
              "#fdca26"
             ],
             [
              1,
              "#f0f921"
             ]
            ],
            "type": "heatmapgl"
           }
          ],
          "histogram": [
           {
            "marker": {
             "pattern": {
              "fillmode": "overlay",
              "size": 10,
              "solidity": 0.2
             }
            },
            "type": "histogram"
           }
          ],
          "histogram2d": [
           {
            "colorbar": {
             "outlinewidth": 0,
             "ticks": ""
            },
            "colorscale": [
             [
              0,
              "#0d0887"
             ],
             [
              0.1111111111111111,
              "#46039f"
             ],
             [
              0.2222222222222222,
              "#7201a8"
             ],
             [
              0.3333333333333333,
              "#9c179e"
             ],
             [
              0.4444444444444444,
              "#bd3786"
             ],
             [
              0.5555555555555556,
              "#d8576b"
             ],
             [
              0.6666666666666666,
              "#ed7953"
             ],
             [
              0.7777777777777778,
              "#fb9f3a"
             ],
             [
              0.8888888888888888,
              "#fdca26"
             ],
             [
              1,
              "#f0f921"
             ]
            ],
            "type": "histogram2d"
           }
          ],
          "histogram2dcontour": [
           {
            "colorbar": {
             "outlinewidth": 0,
             "ticks": ""
            },
            "colorscale": [
             [
              0,
              "#0d0887"
             ],
             [
              0.1111111111111111,
              "#46039f"
             ],
             [
              0.2222222222222222,
              "#7201a8"
             ],
             [
              0.3333333333333333,
              "#9c179e"
             ],
             [
              0.4444444444444444,
              "#bd3786"
             ],
             [
              0.5555555555555556,
              "#d8576b"
             ],
             [
              0.6666666666666666,
              "#ed7953"
             ],
             [
              0.7777777777777778,
              "#fb9f3a"
             ],
             [
              0.8888888888888888,
              "#fdca26"
             ],
             [
              1,
              "#f0f921"
             ]
            ],
            "type": "histogram2dcontour"
           }
          ],
          "mesh3d": [
           {
            "colorbar": {
             "outlinewidth": 0,
             "ticks": ""
            },
            "type": "mesh3d"
           }
          ],
          "parcoords": [
           {
            "line": {
             "colorbar": {
              "outlinewidth": 0,
              "ticks": ""
             }
            },
            "type": "parcoords"
           }
          ],
          "pie": [
           {
            "automargin": true,
            "type": "pie"
           }
          ],
          "scatter": [
           {
            "fillpattern": {
             "fillmode": "overlay",
             "size": 10,
             "solidity": 0.2
            },
            "type": "scatter"
           }
          ],
          "scatter3d": [
           {
            "line": {
             "colorbar": {
              "outlinewidth": 0,
              "ticks": ""
             }
            },
            "marker": {
             "colorbar": {
              "outlinewidth": 0,
              "ticks": ""
             }
            },
            "type": "scatter3d"
           }
          ],
          "scattercarpet": [
           {
            "marker": {
             "colorbar": {
              "outlinewidth": 0,
              "ticks": ""
             }
            },
            "type": "scattercarpet"
           }
          ],
          "scattergeo": [
           {
            "marker": {
             "colorbar": {
              "outlinewidth": 0,
              "ticks": ""
             }
            },
            "type": "scattergeo"
           }
          ],
          "scattergl": [
           {
            "marker": {
             "colorbar": {
              "outlinewidth": 0,
              "ticks": ""
             }
            },
            "type": "scattergl"
           }
          ],
          "scattermapbox": [
           {
            "marker": {
             "colorbar": {
              "outlinewidth": 0,
              "ticks": ""
             }
            },
            "type": "scattermapbox"
           }
          ],
          "scatterpolar": [
           {
            "marker": {
             "colorbar": {
              "outlinewidth": 0,
              "ticks": ""
             }
            },
            "type": "scatterpolar"
           }
          ],
          "scatterpolargl": [
           {
            "marker": {
             "colorbar": {
              "outlinewidth": 0,
              "ticks": ""
             }
            },
            "type": "scatterpolargl"
           }
          ],
          "scatterternary": [
           {
            "marker": {
             "colorbar": {
              "outlinewidth": 0,
              "ticks": ""
             }
            },
            "type": "scatterternary"
           }
          ],
          "surface": [
           {
            "colorbar": {
             "outlinewidth": 0,
             "ticks": ""
            },
            "colorscale": [
             [
              0,
              "#0d0887"
             ],
             [
              0.1111111111111111,
              "#46039f"
             ],
             [
              0.2222222222222222,
              "#7201a8"
             ],
             [
              0.3333333333333333,
              "#9c179e"
             ],
             [
              0.4444444444444444,
              "#bd3786"
             ],
             [
              0.5555555555555556,
              "#d8576b"
             ],
             [
              0.6666666666666666,
              "#ed7953"
             ],
             [
              0.7777777777777778,
              "#fb9f3a"
             ],
             [
              0.8888888888888888,
              "#fdca26"
             ],
             [
              1,
              "#f0f921"
             ]
            ],
            "type": "surface"
           }
          ],
          "table": [
           {
            "cells": {
             "fill": {
              "color": "#EBF0F8"
             },
             "line": {
              "color": "white"
             }
            },
            "header": {
             "fill": {
              "color": "#C8D4E3"
             },
             "line": {
              "color": "white"
             }
            },
            "type": "table"
           }
          ]
         },
         "layout": {
          "annotationdefaults": {
           "arrowcolor": "#2a3f5f",
           "arrowhead": 0,
           "arrowwidth": 1
          },
          "autotypenumbers": "strict",
          "coloraxis": {
           "colorbar": {
            "outlinewidth": 0,
            "ticks": ""
           }
          },
          "colorscale": {
           "diverging": [
            [
             0,
             "#8e0152"
            ],
            [
             0.1,
             "#c51b7d"
            ],
            [
             0.2,
             "#de77ae"
            ],
            [
             0.3,
             "#f1b6da"
            ],
            [
             0.4,
             "#fde0ef"
            ],
            [
             0.5,
             "#f7f7f7"
            ],
            [
             0.6,
             "#e6f5d0"
            ],
            [
             0.7,
             "#b8e186"
            ],
            [
             0.8,
             "#7fbc41"
            ],
            [
             0.9,
             "#4d9221"
            ],
            [
             1,
             "#276419"
            ]
           ],
           "sequential": [
            [
             0,
             "#0d0887"
            ],
            [
             0.1111111111111111,
             "#46039f"
            ],
            [
             0.2222222222222222,
             "#7201a8"
            ],
            [
             0.3333333333333333,
             "#9c179e"
            ],
            [
             0.4444444444444444,
             "#bd3786"
            ],
            [
             0.5555555555555556,
             "#d8576b"
            ],
            [
             0.6666666666666666,
             "#ed7953"
            ],
            [
             0.7777777777777778,
             "#fb9f3a"
            ],
            [
             0.8888888888888888,
             "#fdca26"
            ],
            [
             1,
             "#f0f921"
            ]
           ],
           "sequentialminus": [
            [
             0,
             "#0d0887"
            ],
            [
             0.1111111111111111,
             "#46039f"
            ],
            [
             0.2222222222222222,
             "#7201a8"
            ],
            [
             0.3333333333333333,
             "#9c179e"
            ],
            [
             0.4444444444444444,
             "#bd3786"
            ],
            [
             0.5555555555555556,
             "#d8576b"
            ],
            [
             0.6666666666666666,
             "#ed7953"
            ],
            [
             0.7777777777777778,
             "#fb9f3a"
            ],
            [
             0.8888888888888888,
             "#fdca26"
            ],
            [
             1,
             "#f0f921"
            ]
           ]
          },
          "colorway": [
           "#636efa",
           "#EF553B",
           "#00cc96",
           "#ab63fa",
           "#FFA15A",
           "#19d3f3",
           "#FF6692",
           "#B6E880",
           "#FF97FF",
           "#FECB52"
          ],
          "font": {
           "color": "#2a3f5f"
          },
          "geo": {
           "bgcolor": "white",
           "lakecolor": "white",
           "landcolor": "#E5ECF6",
           "showlakes": true,
           "showland": true,
           "subunitcolor": "white"
          },
          "hoverlabel": {
           "align": "left"
          },
          "hovermode": "closest",
          "mapbox": {
           "style": "light"
          },
          "paper_bgcolor": "white",
          "plot_bgcolor": "#E5ECF6",
          "polar": {
           "angularaxis": {
            "gridcolor": "white",
            "linecolor": "white",
            "ticks": ""
           },
           "bgcolor": "#E5ECF6",
           "radialaxis": {
            "gridcolor": "white",
            "linecolor": "white",
            "ticks": ""
           }
          },
          "scene": {
           "xaxis": {
            "backgroundcolor": "#E5ECF6",
            "gridcolor": "white",
            "gridwidth": 2,
            "linecolor": "white",
            "showbackground": true,
            "ticks": "",
            "zerolinecolor": "white"
           },
           "yaxis": {
            "backgroundcolor": "#E5ECF6",
            "gridcolor": "white",
            "gridwidth": 2,
            "linecolor": "white",
            "showbackground": true,
            "ticks": "",
            "zerolinecolor": "white"
           },
           "zaxis": {
            "backgroundcolor": "#E5ECF6",
            "gridcolor": "white",
            "gridwidth": 2,
            "linecolor": "white",
            "showbackground": true,
            "ticks": "",
            "zerolinecolor": "white"
           }
          },
          "shapedefaults": {
           "line": {
            "color": "#2a3f5f"
           }
          },
          "ternary": {
           "aaxis": {
            "gridcolor": "white",
            "linecolor": "white",
            "ticks": ""
           },
           "baxis": {
            "gridcolor": "white",
            "linecolor": "white",
            "ticks": ""
           },
           "bgcolor": "#E5ECF6",
           "caxis": {
            "gridcolor": "white",
            "linecolor": "white",
            "ticks": ""
           }
          },
          "title": {
           "x": 0.05
          },
          "xaxis": {
           "automargin": true,
           "gridcolor": "white",
           "linecolor": "white",
           "ticks": "",
           "title": {
            "standoff": 15
           },
           "zerolinecolor": "white",
           "zerolinewidth": 2
          },
          "yaxis": {
           "automargin": true,
           "gridcolor": "white",
           "linecolor": "white",
           "ticks": "",
           "title": {
            "standoff": 15
           },
           "zerolinecolor": "white",
           "zerolinewidth": 2
          }
         }
        },
        "xaxis": {
         "anchor": "y",
         "domain": [
          0,
          1
         ],
         "title": {
          "text": "x"
         }
        },
        "yaxis": {
         "anchor": "x",
         "domain": [
          0,
          1
         ],
         "title": {
          "text": "y"
         }
        }
       }
      }
     },
     "metadata": {},
     "output_type": "display_data"
    }
   ],
   "source": [
    "# plot bar chart of Family column (x values, y counts)\n",
    "stats = df[col_name].value_counts().to_dict()\n",
    "stats = {str(k): v for k, v in stats.items()}\n",
    "stats['nan'] = df[col_name].isna().sum()\n",
    "fig = px.bar(x=list(stats.keys()), y=list(stats.values()))\n",
    "fig.show()"
   ]
  },
  {
   "cell_type": "code",
   "execution_count": null,
   "id": "0d22029c",
   "metadata": {},
   "outputs": [],
   "source": []
  },
  {
   "cell_type": "code",
   "execution_count": null,
   "id": "4a71c163",
   "metadata": {},
   "outputs": [],
   "source": []
  },
  {
   "cell_type": "code",
   "execution_count": null,
   "id": "d1aef81f",
   "metadata": {},
   "outputs": [],
   "source": [
    "[\n",
    "    'lactaton', 'location',\n",
    "       'marital', 'mens', 'no.biopsy', 'ocp', 'ocpuse', 'other.CA',\n",
    "       'personal.Hx', 'personal.other', 'reproduct', 'sign', 'smoking',\n",
    "]\n",
    "\n",
    "\n",
    "\n",
    "LB sign 1210 1,2, 10 , ask for categories\n",
    "RB sign\n",
    "\n",
    "age.menarc 0 => 13\n",
    "age.menop (ask)\n",
    "agef delete\n",
    "agehysterectomy dlt\n",
    "birthday dlt if age is there\n",
    "cc (ask for categories)\n",
    "date.other dlt\n",
    "datehys dlt\n",
    "edu (ask for cat)\n",
    "fpragnency nan => 0\n",
    "gravity => 0, 1\n",
    "weight, height => bmi\n",
    "hrt => 0, 1\n",
    "hystrectomy => 0, 1\n",
    "infertility => 0, 1\n",
    "kindinfertile dlt\n",
    "lactaton nan => 0\n",
    "location ask\n",
    "marital 4 main cat\n",
    "mens (period) 3 cat\n",
    "no.biopsy 4 cat => 0 1 2 3\n",
    "\n",
    "ocp nan, no => 0\n",
    "ocpuse 0, 1\n",
    "other.CA 0, 1\n",
    "personal.Hx 0, 1\n",
    "personal.other 0, 1\n",
    "reproduct category\n",
    "sign ask\n",
    "smoking cat\n",
    "\n"
   ]
  },
  {
   "cell_type": "code",
   "execution_count": 564,
   "id": "95ce5d38",
   "metadata": {},
   "outputs": [
    {
     "data": {
      "application/vnd.plotly.v1+json": {
       "config": {
        "plotlyServerURL": "https://plot.ly"
       },
       "data": [
        {
         "alignmentgroup": "True",
         "hovertemplate": "x=%{x}<br>y=%{y}<extra></extra>",
         "legendgroup": "",
         "marker": {
          "color": "#636efa",
          "pattern": {
           "shape": ""
          }
         },
         "name": "",
         "offsetgroup": "",
         "orientation": "v",
         "showlegend": false,
         "textposition": "auto",
         "type": "bar",
         "x": [
          "premenopouse",
          "postmenopouse",
          "primenopouse",
          "0.0",
          "lactating",
          "pregnant",
          "11.0",
          "33.0",
          "nan"
         ],
         "xaxis": "x",
         "y": [
          1618,
          1365,
          416,
          106,
          14,
          14,
          7,
          5,
          212
         ],
         "yaxis": "y"
        }
       ],
       "layout": {
        "barmode": "relative",
        "legend": {
         "tracegroupgap": 0
        },
        "margin": {
         "t": 60
        },
        "template": {
         "data": {
          "bar": [
           {
            "error_x": {
             "color": "#2a3f5f"
            },
            "error_y": {
             "color": "#2a3f5f"
            },
            "marker": {
             "line": {
              "color": "#E5ECF6",
              "width": 0.5
             },
             "pattern": {
              "fillmode": "overlay",
              "size": 10,
              "solidity": 0.2
             }
            },
            "type": "bar"
           }
          ],
          "barpolar": [
           {
            "marker": {
             "line": {
              "color": "#E5ECF6",
              "width": 0.5
             },
             "pattern": {
              "fillmode": "overlay",
              "size": 10,
              "solidity": 0.2
             }
            },
            "type": "barpolar"
           }
          ],
          "carpet": [
           {
            "aaxis": {
             "endlinecolor": "#2a3f5f",
             "gridcolor": "white",
             "linecolor": "white",
             "minorgridcolor": "white",
             "startlinecolor": "#2a3f5f"
            },
            "baxis": {
             "endlinecolor": "#2a3f5f",
             "gridcolor": "white",
             "linecolor": "white",
             "minorgridcolor": "white",
             "startlinecolor": "#2a3f5f"
            },
            "type": "carpet"
           }
          ],
          "choropleth": [
           {
            "colorbar": {
             "outlinewidth": 0,
             "ticks": ""
            },
            "type": "choropleth"
           }
          ],
          "contour": [
           {
            "colorbar": {
             "outlinewidth": 0,
             "ticks": ""
            },
            "colorscale": [
             [
              0,
              "#0d0887"
             ],
             [
              0.1111111111111111,
              "#46039f"
             ],
             [
              0.2222222222222222,
              "#7201a8"
             ],
             [
              0.3333333333333333,
              "#9c179e"
             ],
             [
              0.4444444444444444,
              "#bd3786"
             ],
             [
              0.5555555555555556,
              "#d8576b"
             ],
             [
              0.6666666666666666,
              "#ed7953"
             ],
             [
              0.7777777777777778,
              "#fb9f3a"
             ],
             [
              0.8888888888888888,
              "#fdca26"
             ],
             [
              1,
              "#f0f921"
             ]
            ],
            "type": "contour"
           }
          ],
          "contourcarpet": [
           {
            "colorbar": {
             "outlinewidth": 0,
             "ticks": ""
            },
            "type": "contourcarpet"
           }
          ],
          "heatmap": [
           {
            "colorbar": {
             "outlinewidth": 0,
             "ticks": ""
            },
            "colorscale": [
             [
              0,
              "#0d0887"
             ],
             [
              0.1111111111111111,
              "#46039f"
             ],
             [
              0.2222222222222222,
              "#7201a8"
             ],
             [
              0.3333333333333333,
              "#9c179e"
             ],
             [
              0.4444444444444444,
              "#bd3786"
             ],
             [
              0.5555555555555556,
              "#d8576b"
             ],
             [
              0.6666666666666666,
              "#ed7953"
             ],
             [
              0.7777777777777778,
              "#fb9f3a"
             ],
             [
              0.8888888888888888,
              "#fdca26"
             ],
             [
              1,
              "#f0f921"
             ]
            ],
            "type": "heatmap"
           }
          ],
          "heatmapgl": [
           {
            "colorbar": {
             "outlinewidth": 0,
             "ticks": ""
            },
            "colorscale": [
             [
              0,
              "#0d0887"
             ],
             [
              0.1111111111111111,
              "#46039f"
             ],
             [
              0.2222222222222222,
              "#7201a8"
             ],
             [
              0.3333333333333333,
              "#9c179e"
             ],
             [
              0.4444444444444444,
              "#bd3786"
             ],
             [
              0.5555555555555556,
              "#d8576b"
             ],
             [
              0.6666666666666666,
              "#ed7953"
             ],
             [
              0.7777777777777778,
              "#fb9f3a"
             ],
             [
              0.8888888888888888,
              "#fdca26"
             ],
             [
              1,
              "#f0f921"
             ]
            ],
            "type": "heatmapgl"
           }
          ],
          "histogram": [
           {
            "marker": {
             "pattern": {
              "fillmode": "overlay",
              "size": 10,
              "solidity": 0.2
             }
            },
            "type": "histogram"
           }
          ],
          "histogram2d": [
           {
            "colorbar": {
             "outlinewidth": 0,
             "ticks": ""
            },
            "colorscale": [
             [
              0,
              "#0d0887"
             ],
             [
              0.1111111111111111,
              "#46039f"
             ],
             [
              0.2222222222222222,
              "#7201a8"
             ],
             [
              0.3333333333333333,
              "#9c179e"
             ],
             [
              0.4444444444444444,
              "#bd3786"
             ],
             [
              0.5555555555555556,
              "#d8576b"
             ],
             [
              0.6666666666666666,
              "#ed7953"
             ],
             [
              0.7777777777777778,
              "#fb9f3a"
             ],
             [
              0.8888888888888888,
              "#fdca26"
             ],
             [
              1,
              "#f0f921"
             ]
            ],
            "type": "histogram2d"
           }
          ],
          "histogram2dcontour": [
           {
            "colorbar": {
             "outlinewidth": 0,
             "ticks": ""
            },
            "colorscale": [
             [
              0,
              "#0d0887"
             ],
             [
              0.1111111111111111,
              "#46039f"
             ],
             [
              0.2222222222222222,
              "#7201a8"
             ],
             [
              0.3333333333333333,
              "#9c179e"
             ],
             [
              0.4444444444444444,
              "#bd3786"
             ],
             [
              0.5555555555555556,
              "#d8576b"
             ],
             [
              0.6666666666666666,
              "#ed7953"
             ],
             [
              0.7777777777777778,
              "#fb9f3a"
             ],
             [
              0.8888888888888888,
              "#fdca26"
             ],
             [
              1,
              "#f0f921"
             ]
            ],
            "type": "histogram2dcontour"
           }
          ],
          "mesh3d": [
           {
            "colorbar": {
             "outlinewidth": 0,
             "ticks": ""
            },
            "type": "mesh3d"
           }
          ],
          "parcoords": [
           {
            "line": {
             "colorbar": {
              "outlinewidth": 0,
              "ticks": ""
             }
            },
            "type": "parcoords"
           }
          ],
          "pie": [
           {
            "automargin": true,
            "type": "pie"
           }
          ],
          "scatter": [
           {
            "fillpattern": {
             "fillmode": "overlay",
             "size": 10,
             "solidity": 0.2
            },
            "type": "scatter"
           }
          ],
          "scatter3d": [
           {
            "line": {
             "colorbar": {
              "outlinewidth": 0,
              "ticks": ""
             }
            },
            "marker": {
             "colorbar": {
              "outlinewidth": 0,
              "ticks": ""
             }
            },
            "type": "scatter3d"
           }
          ],
          "scattercarpet": [
           {
            "marker": {
             "colorbar": {
              "outlinewidth": 0,
              "ticks": ""
             }
            },
            "type": "scattercarpet"
           }
          ],
          "scattergeo": [
           {
            "marker": {
             "colorbar": {
              "outlinewidth": 0,
              "ticks": ""
             }
            },
            "type": "scattergeo"
           }
          ],
          "scattergl": [
           {
            "marker": {
             "colorbar": {
              "outlinewidth": 0,
              "ticks": ""
             }
            },
            "type": "scattergl"
           }
          ],
          "scattermapbox": [
           {
            "marker": {
             "colorbar": {
              "outlinewidth": 0,
              "ticks": ""
             }
            },
            "type": "scattermapbox"
           }
          ],
          "scatterpolar": [
           {
            "marker": {
             "colorbar": {
              "outlinewidth": 0,
              "ticks": ""
             }
            },
            "type": "scatterpolar"
           }
          ],
          "scatterpolargl": [
           {
            "marker": {
             "colorbar": {
              "outlinewidth": 0,
              "ticks": ""
             }
            },
            "type": "scatterpolargl"
           }
          ],
          "scatterternary": [
           {
            "marker": {
             "colorbar": {
              "outlinewidth": 0,
              "ticks": ""
             }
            },
            "type": "scatterternary"
           }
          ],
          "surface": [
           {
            "colorbar": {
             "outlinewidth": 0,
             "ticks": ""
            },
            "colorscale": [
             [
              0,
              "#0d0887"
             ],
             [
              0.1111111111111111,
              "#46039f"
             ],
             [
              0.2222222222222222,
              "#7201a8"
             ],
             [
              0.3333333333333333,
              "#9c179e"
             ],
             [
              0.4444444444444444,
              "#bd3786"
             ],
             [
              0.5555555555555556,
              "#d8576b"
             ],
             [
              0.6666666666666666,
              "#ed7953"
             ],
             [
              0.7777777777777778,
              "#fb9f3a"
             ],
             [
              0.8888888888888888,
              "#fdca26"
             ],
             [
              1,
              "#f0f921"
             ]
            ],
            "type": "surface"
           }
          ],
          "table": [
           {
            "cells": {
             "fill": {
              "color": "#EBF0F8"
             },
             "line": {
              "color": "white"
             }
            },
            "header": {
             "fill": {
              "color": "#C8D4E3"
             },
             "line": {
              "color": "white"
             }
            },
            "type": "table"
           }
          ]
         },
         "layout": {
          "annotationdefaults": {
           "arrowcolor": "#2a3f5f",
           "arrowhead": 0,
           "arrowwidth": 1
          },
          "autotypenumbers": "strict",
          "coloraxis": {
           "colorbar": {
            "outlinewidth": 0,
            "ticks": ""
           }
          },
          "colorscale": {
           "diverging": [
            [
             0,
             "#8e0152"
            ],
            [
             0.1,
             "#c51b7d"
            ],
            [
             0.2,
             "#de77ae"
            ],
            [
             0.3,
             "#f1b6da"
            ],
            [
             0.4,
             "#fde0ef"
            ],
            [
             0.5,
             "#f7f7f7"
            ],
            [
             0.6,
             "#e6f5d0"
            ],
            [
             0.7,
             "#b8e186"
            ],
            [
             0.8,
             "#7fbc41"
            ],
            [
             0.9,
             "#4d9221"
            ],
            [
             1,
             "#276419"
            ]
           ],
           "sequential": [
            [
             0,
             "#0d0887"
            ],
            [
             0.1111111111111111,
             "#46039f"
            ],
            [
             0.2222222222222222,
             "#7201a8"
            ],
            [
             0.3333333333333333,
             "#9c179e"
            ],
            [
             0.4444444444444444,
             "#bd3786"
            ],
            [
             0.5555555555555556,
             "#d8576b"
            ],
            [
             0.6666666666666666,
             "#ed7953"
            ],
            [
             0.7777777777777778,
             "#fb9f3a"
            ],
            [
             0.8888888888888888,
             "#fdca26"
            ],
            [
             1,
             "#f0f921"
            ]
           ],
           "sequentialminus": [
            [
             0,
             "#0d0887"
            ],
            [
             0.1111111111111111,
             "#46039f"
            ],
            [
             0.2222222222222222,
             "#7201a8"
            ],
            [
             0.3333333333333333,
             "#9c179e"
            ],
            [
             0.4444444444444444,
             "#bd3786"
            ],
            [
             0.5555555555555556,
             "#d8576b"
            ],
            [
             0.6666666666666666,
             "#ed7953"
            ],
            [
             0.7777777777777778,
             "#fb9f3a"
            ],
            [
             0.8888888888888888,
             "#fdca26"
            ],
            [
             1,
             "#f0f921"
            ]
           ]
          },
          "colorway": [
           "#636efa",
           "#EF553B",
           "#00cc96",
           "#ab63fa",
           "#FFA15A",
           "#19d3f3",
           "#FF6692",
           "#B6E880",
           "#FF97FF",
           "#FECB52"
          ],
          "font": {
           "color": "#2a3f5f"
          },
          "geo": {
           "bgcolor": "white",
           "lakecolor": "white",
           "landcolor": "#E5ECF6",
           "showlakes": true,
           "showland": true,
           "subunitcolor": "white"
          },
          "hoverlabel": {
           "align": "left"
          },
          "hovermode": "closest",
          "mapbox": {
           "style": "light"
          },
          "paper_bgcolor": "white",
          "plot_bgcolor": "#E5ECF6",
          "polar": {
           "angularaxis": {
            "gridcolor": "white",
            "linecolor": "white",
            "ticks": ""
           },
           "bgcolor": "#E5ECF6",
           "radialaxis": {
            "gridcolor": "white",
            "linecolor": "white",
            "ticks": ""
           }
          },
          "scene": {
           "xaxis": {
            "backgroundcolor": "#E5ECF6",
            "gridcolor": "white",
            "gridwidth": 2,
            "linecolor": "white",
            "showbackground": true,
            "ticks": "",
            "zerolinecolor": "white"
           },
           "yaxis": {
            "backgroundcolor": "#E5ECF6",
            "gridcolor": "white",
            "gridwidth": 2,
            "linecolor": "white",
            "showbackground": true,
            "ticks": "",
            "zerolinecolor": "white"
           },
           "zaxis": {
            "backgroundcolor": "#E5ECF6",
            "gridcolor": "white",
            "gridwidth": 2,
            "linecolor": "white",
            "showbackground": true,
            "ticks": "",
            "zerolinecolor": "white"
           }
          },
          "shapedefaults": {
           "line": {
            "color": "#2a3f5f"
           }
          },
          "ternary": {
           "aaxis": {
            "gridcolor": "white",
            "linecolor": "white",
            "ticks": ""
           },
           "baxis": {
            "gridcolor": "white",
            "linecolor": "white",
            "ticks": ""
           },
           "bgcolor": "#E5ECF6",
           "caxis": {
            "gridcolor": "white",
            "linecolor": "white",
            "ticks": ""
           }
          },
          "title": {
           "x": 0.05
          },
          "xaxis": {
           "automargin": true,
           "gridcolor": "white",
           "linecolor": "white",
           "ticks": "",
           "title": {
            "standoff": 15
           },
           "zerolinecolor": "white",
           "zerolinewidth": 2
          },
          "yaxis": {
           "automargin": true,
           "gridcolor": "white",
           "linecolor": "white",
           "ticks": "",
           "title": {
            "standoff": 15
           },
           "zerolinecolor": "white",
           "zerolinewidth": 2
          }
         }
        },
        "xaxis": {
         "anchor": "y",
         "domain": [
          0,
          1
         ],
         "title": {
          "text": "x"
         }
        },
        "yaxis": {
         "anchor": "x",
         "domain": [
          0,
          1
         ],
         "title": {
          "text": "y"
         }
        }
       }
      }
     },
     "metadata": {},
     "output_type": "display_data"
    },
    {
     "data": {
      "application/vnd.plotly.v1+json": {
       "config": {
        "plotlyServerURL": "https://plot.ly"
       },
       "data": [
        {
         "alignmentgroup": "True",
         "hovertemplate": "x=%{x}<br>y=%{y}<extra></extra>",
         "legendgroup": "",
         "marker": {
          "color": "#636efa",
          "pattern": {
           "shape": ""
          }
         },
         "name": "",
         "offsetgroup": "",
         "orientation": "v",
         "showlegend": false,
         "textposition": "auto",
         "type": "bar",
         "x": [
          "mass",
          "14.0",
          "others",
          "17.0",
          "normal",
          "thickening",
          "12.0",
          "27.0",
          "13.0",
          "dimpling",
          "18.0",
          "15.0",
          "nipple retraction",
          "167.0",
          "67.0",
          "16.0",
          "137.0",
          "124.0",
          "267.0",
          "147.0",
          "157.0",
          "1357.0",
          "123.0",
          "13467.0",
          "127.0",
          "135.0",
          "23.0",
          "1345.0",
          "peaud'orange",
          "567.0",
          "257.0",
          "erythema",
          "678.0",
          "47.0",
          "134.0",
          "13567.0",
          "1567.0",
          "bulging",
          "37.0",
          "357.0",
          "35.0",
          "134567.0",
          "24.0",
          "178.0",
          "1347.0",
          "1267.0",
          "1234.0",
          "156.0",
          "23567.0",
          "56.0",
          "1346.0",
          "1457.0",
          "1678.0",
          "1247.0",
          "3567.0",
          "78.0",
          "nodularity",
          "25.0",
          "168.0",
          "145.0",
          "148.0",
          "467.0",
          "12467.0",
          "12457.0",
          "12456.0",
          "12578.0",
          "12367.0",
          "12357.0",
          "12347.0",
          "149.0",
          "13457.0",
          "46.0",
          "14567.0",
          "23568.0",
          "5679.0",
          "123678.0",
          "124567.0",
          "1234567.0",
          "34.0",
          "26.0",
          "19.0",
          "123567.0",
          "1458.0",
          "3467.0",
          "3457.0",
          "158.0",
          "235.0",
          "236.0",
          "247.0",
          "256.0",
          "345.0",
          "347.0",
          "367.0",
          "387.0",
          "479.0",
          "68.0",
          "568.0",
          "57.0",
          "1235.0",
          "1236.0",
          "1245.0",
          "1246.0",
          "1257.0",
          "1356.0",
          "1367.0",
          "1456.0",
          "2356.0",
          "2567.0",
          "2578.0",
          "3456.0",
          "11.0",
          "nan"
         ],
         "xaxis": "x",
         "y": [
          626,
          93,
          85,
          85,
          82,
          49,
          31,
          30,
          27,
          17,
          15,
          12,
          10,
          10,
          7,
          7,
          7,
          7,
          6,
          6,
          6,
          5,
          5,
          5,
          5,
          5,
          5,
          4,
          4,
          4,
          4,
          4,
          4,
          4,
          4,
          3,
          3,
          3,
          3,
          3,
          3,
          3,
          3,
          3,
          3,
          2,
          2,
          2,
          2,
          2,
          2,
          2,
          2,
          2,
          2,
          2,
          2,
          2,
          2,
          2,
          2,
          2,
          1,
          1,
          1,
          1,
          1,
          1,
          1,
          1,
          1,
          1,
          1,
          1,
          1,
          1,
          1,
          1,
          1,
          1,
          1,
          1,
          1,
          1,
          1,
          1,
          1,
          1,
          1,
          1,
          1,
          1,
          1,
          1,
          1,
          1,
          1,
          1,
          1,
          1,
          1,
          1,
          1,
          1,
          1,
          1,
          1,
          1,
          1,
          1,
          1,
          2364
         ],
         "yaxis": "y"
        }
       ],
       "layout": {
        "barmode": "relative",
        "legend": {
         "tracegroupgap": 0
        },
        "margin": {
         "t": 60
        },
        "template": {
         "data": {
          "bar": [
           {
            "error_x": {
             "color": "#2a3f5f"
            },
            "error_y": {
             "color": "#2a3f5f"
            },
            "marker": {
             "line": {
              "color": "#E5ECF6",
              "width": 0.5
             },
             "pattern": {
              "fillmode": "overlay",
              "size": 10,
              "solidity": 0.2
             }
            },
            "type": "bar"
           }
          ],
          "barpolar": [
           {
            "marker": {
             "line": {
              "color": "#E5ECF6",
              "width": 0.5
             },
             "pattern": {
              "fillmode": "overlay",
              "size": 10,
              "solidity": 0.2
             }
            },
            "type": "barpolar"
           }
          ],
          "carpet": [
           {
            "aaxis": {
             "endlinecolor": "#2a3f5f",
             "gridcolor": "white",
             "linecolor": "white",
             "minorgridcolor": "white",
             "startlinecolor": "#2a3f5f"
            },
            "baxis": {
             "endlinecolor": "#2a3f5f",
             "gridcolor": "white",
             "linecolor": "white",
             "minorgridcolor": "white",
             "startlinecolor": "#2a3f5f"
            },
            "type": "carpet"
           }
          ],
          "choropleth": [
           {
            "colorbar": {
             "outlinewidth": 0,
             "ticks": ""
            },
            "type": "choropleth"
           }
          ],
          "contour": [
           {
            "colorbar": {
             "outlinewidth": 0,
             "ticks": ""
            },
            "colorscale": [
             [
              0,
              "#0d0887"
             ],
             [
              0.1111111111111111,
              "#46039f"
             ],
             [
              0.2222222222222222,
              "#7201a8"
             ],
             [
              0.3333333333333333,
              "#9c179e"
             ],
             [
              0.4444444444444444,
              "#bd3786"
             ],
             [
              0.5555555555555556,
              "#d8576b"
             ],
             [
              0.6666666666666666,
              "#ed7953"
             ],
             [
              0.7777777777777778,
              "#fb9f3a"
             ],
             [
              0.8888888888888888,
              "#fdca26"
             ],
             [
              1,
              "#f0f921"
             ]
            ],
            "type": "contour"
           }
          ],
          "contourcarpet": [
           {
            "colorbar": {
             "outlinewidth": 0,
             "ticks": ""
            },
            "type": "contourcarpet"
           }
          ],
          "heatmap": [
           {
            "colorbar": {
             "outlinewidth": 0,
             "ticks": ""
            },
            "colorscale": [
             [
              0,
              "#0d0887"
             ],
             [
              0.1111111111111111,
              "#46039f"
             ],
             [
              0.2222222222222222,
              "#7201a8"
             ],
             [
              0.3333333333333333,
              "#9c179e"
             ],
             [
              0.4444444444444444,
              "#bd3786"
             ],
             [
              0.5555555555555556,
              "#d8576b"
             ],
             [
              0.6666666666666666,
              "#ed7953"
             ],
             [
              0.7777777777777778,
              "#fb9f3a"
             ],
             [
              0.8888888888888888,
              "#fdca26"
             ],
             [
              1,
              "#f0f921"
             ]
            ],
            "type": "heatmap"
           }
          ],
          "heatmapgl": [
           {
            "colorbar": {
             "outlinewidth": 0,
             "ticks": ""
            },
            "colorscale": [
             [
              0,
              "#0d0887"
             ],
             [
              0.1111111111111111,
              "#46039f"
             ],
             [
              0.2222222222222222,
              "#7201a8"
             ],
             [
              0.3333333333333333,
              "#9c179e"
             ],
             [
              0.4444444444444444,
              "#bd3786"
             ],
             [
              0.5555555555555556,
              "#d8576b"
             ],
             [
              0.6666666666666666,
              "#ed7953"
             ],
             [
              0.7777777777777778,
              "#fb9f3a"
             ],
             [
              0.8888888888888888,
              "#fdca26"
             ],
             [
              1,
              "#f0f921"
             ]
            ],
            "type": "heatmapgl"
           }
          ],
          "histogram": [
           {
            "marker": {
             "pattern": {
              "fillmode": "overlay",
              "size": 10,
              "solidity": 0.2
             }
            },
            "type": "histogram"
           }
          ],
          "histogram2d": [
           {
            "colorbar": {
             "outlinewidth": 0,
             "ticks": ""
            },
            "colorscale": [
             [
              0,
              "#0d0887"
             ],
             [
              0.1111111111111111,
              "#46039f"
             ],
             [
              0.2222222222222222,
              "#7201a8"
             ],
             [
              0.3333333333333333,
              "#9c179e"
             ],
             [
              0.4444444444444444,
              "#bd3786"
             ],
             [
              0.5555555555555556,
              "#d8576b"
             ],
             [
              0.6666666666666666,
              "#ed7953"
             ],
             [
              0.7777777777777778,
              "#fb9f3a"
             ],
             [
              0.8888888888888888,
              "#fdca26"
             ],
             [
              1,
              "#f0f921"
             ]
            ],
            "type": "histogram2d"
           }
          ],
          "histogram2dcontour": [
           {
            "colorbar": {
             "outlinewidth": 0,
             "ticks": ""
            },
            "colorscale": [
             [
              0,
              "#0d0887"
             ],
             [
              0.1111111111111111,
              "#46039f"
             ],
             [
              0.2222222222222222,
              "#7201a8"
             ],
             [
              0.3333333333333333,
              "#9c179e"
             ],
             [
              0.4444444444444444,
              "#bd3786"
             ],
             [
              0.5555555555555556,
              "#d8576b"
             ],
             [
              0.6666666666666666,
              "#ed7953"
             ],
             [
              0.7777777777777778,
              "#fb9f3a"
             ],
             [
              0.8888888888888888,
              "#fdca26"
             ],
             [
              1,
              "#f0f921"
             ]
            ],
            "type": "histogram2dcontour"
           }
          ],
          "mesh3d": [
           {
            "colorbar": {
             "outlinewidth": 0,
             "ticks": ""
            },
            "type": "mesh3d"
           }
          ],
          "parcoords": [
           {
            "line": {
             "colorbar": {
              "outlinewidth": 0,
              "ticks": ""
             }
            },
            "type": "parcoords"
           }
          ],
          "pie": [
           {
            "automargin": true,
            "type": "pie"
           }
          ],
          "scatter": [
           {
            "fillpattern": {
             "fillmode": "overlay",
             "size": 10,
             "solidity": 0.2
            },
            "type": "scatter"
           }
          ],
          "scatter3d": [
           {
            "line": {
             "colorbar": {
              "outlinewidth": 0,
              "ticks": ""
             }
            },
            "marker": {
             "colorbar": {
              "outlinewidth": 0,
              "ticks": ""
             }
            },
            "type": "scatter3d"
           }
          ],
          "scattercarpet": [
           {
            "marker": {
             "colorbar": {
              "outlinewidth": 0,
              "ticks": ""
             }
            },
            "type": "scattercarpet"
           }
          ],
          "scattergeo": [
           {
            "marker": {
             "colorbar": {
              "outlinewidth": 0,
              "ticks": ""
             }
            },
            "type": "scattergeo"
           }
          ],
          "scattergl": [
           {
            "marker": {
             "colorbar": {
              "outlinewidth": 0,
              "ticks": ""
             }
            },
            "type": "scattergl"
           }
          ],
          "scattermapbox": [
           {
            "marker": {
             "colorbar": {
              "outlinewidth": 0,
              "ticks": ""
             }
            },
            "type": "scattermapbox"
           }
          ],
          "scatterpolar": [
           {
            "marker": {
             "colorbar": {
              "outlinewidth": 0,
              "ticks": ""
             }
            },
            "type": "scatterpolar"
           }
          ],
          "scatterpolargl": [
           {
            "marker": {
             "colorbar": {
              "outlinewidth": 0,
              "ticks": ""
             }
            },
            "type": "scatterpolargl"
           }
          ],
          "scatterternary": [
           {
            "marker": {
             "colorbar": {
              "outlinewidth": 0,
              "ticks": ""
             }
            },
            "type": "scatterternary"
           }
          ],
          "surface": [
           {
            "colorbar": {
             "outlinewidth": 0,
             "ticks": ""
            },
            "colorscale": [
             [
              0,
              "#0d0887"
             ],
             [
              0.1111111111111111,
              "#46039f"
             ],
             [
              0.2222222222222222,
              "#7201a8"
             ],
             [
              0.3333333333333333,
              "#9c179e"
             ],
             [
              0.4444444444444444,
              "#bd3786"
             ],
             [
              0.5555555555555556,
              "#d8576b"
             ],
             [
              0.6666666666666666,
              "#ed7953"
             ],
             [
              0.7777777777777778,
              "#fb9f3a"
             ],
             [
              0.8888888888888888,
              "#fdca26"
             ],
             [
              1,
              "#f0f921"
             ]
            ],
            "type": "surface"
           }
          ],
          "table": [
           {
            "cells": {
             "fill": {
              "color": "#EBF0F8"
             },
             "line": {
              "color": "white"
             }
            },
            "header": {
             "fill": {
              "color": "#C8D4E3"
             },
             "line": {
              "color": "white"
             }
            },
            "type": "table"
           }
          ]
         },
         "layout": {
          "annotationdefaults": {
           "arrowcolor": "#2a3f5f",
           "arrowhead": 0,
           "arrowwidth": 1
          },
          "autotypenumbers": "strict",
          "coloraxis": {
           "colorbar": {
            "outlinewidth": 0,
            "ticks": ""
           }
          },
          "colorscale": {
           "diverging": [
            [
             0,
             "#8e0152"
            ],
            [
             0.1,
             "#c51b7d"
            ],
            [
             0.2,
             "#de77ae"
            ],
            [
             0.3,
             "#f1b6da"
            ],
            [
             0.4,
             "#fde0ef"
            ],
            [
             0.5,
             "#f7f7f7"
            ],
            [
             0.6,
             "#e6f5d0"
            ],
            [
             0.7,
             "#b8e186"
            ],
            [
             0.8,
             "#7fbc41"
            ],
            [
             0.9,
             "#4d9221"
            ],
            [
             1,
             "#276419"
            ]
           ],
           "sequential": [
            [
             0,
             "#0d0887"
            ],
            [
             0.1111111111111111,
             "#46039f"
            ],
            [
             0.2222222222222222,
             "#7201a8"
            ],
            [
             0.3333333333333333,
             "#9c179e"
            ],
            [
             0.4444444444444444,
             "#bd3786"
            ],
            [
             0.5555555555555556,
             "#d8576b"
            ],
            [
             0.6666666666666666,
             "#ed7953"
            ],
            [
             0.7777777777777778,
             "#fb9f3a"
            ],
            [
             0.8888888888888888,
             "#fdca26"
            ],
            [
             1,
             "#f0f921"
            ]
           ],
           "sequentialminus": [
            [
             0,
             "#0d0887"
            ],
            [
             0.1111111111111111,
             "#46039f"
            ],
            [
             0.2222222222222222,
             "#7201a8"
            ],
            [
             0.3333333333333333,
             "#9c179e"
            ],
            [
             0.4444444444444444,
             "#bd3786"
            ],
            [
             0.5555555555555556,
             "#d8576b"
            ],
            [
             0.6666666666666666,
             "#ed7953"
            ],
            [
             0.7777777777777778,
             "#fb9f3a"
            ],
            [
             0.8888888888888888,
             "#fdca26"
            ],
            [
             1,
             "#f0f921"
            ]
           ]
          },
          "colorway": [
           "#636efa",
           "#EF553B",
           "#00cc96",
           "#ab63fa",
           "#FFA15A",
           "#19d3f3",
           "#FF6692",
           "#B6E880",
           "#FF97FF",
           "#FECB52"
          ],
          "font": {
           "color": "#2a3f5f"
          },
          "geo": {
           "bgcolor": "white",
           "lakecolor": "white",
           "landcolor": "#E5ECF6",
           "showlakes": true,
           "showland": true,
           "subunitcolor": "white"
          },
          "hoverlabel": {
           "align": "left"
          },
          "hovermode": "closest",
          "mapbox": {
           "style": "light"
          },
          "paper_bgcolor": "white",
          "plot_bgcolor": "#E5ECF6",
          "polar": {
           "angularaxis": {
            "gridcolor": "white",
            "linecolor": "white",
            "ticks": ""
           },
           "bgcolor": "#E5ECF6",
           "radialaxis": {
            "gridcolor": "white",
            "linecolor": "white",
            "ticks": ""
           }
          },
          "scene": {
           "xaxis": {
            "backgroundcolor": "#E5ECF6",
            "gridcolor": "white",
            "gridwidth": 2,
            "linecolor": "white",
            "showbackground": true,
            "ticks": "",
            "zerolinecolor": "white"
           },
           "yaxis": {
            "backgroundcolor": "#E5ECF6",
            "gridcolor": "white",
            "gridwidth": 2,
            "linecolor": "white",
            "showbackground": true,
            "ticks": "",
            "zerolinecolor": "white"
           },
           "zaxis": {
            "backgroundcolor": "#E5ECF6",
            "gridcolor": "white",
            "gridwidth": 2,
            "linecolor": "white",
            "showbackground": true,
            "ticks": "",
            "zerolinecolor": "white"
           }
          },
          "shapedefaults": {
           "line": {
            "color": "#2a3f5f"
           }
          },
          "ternary": {
           "aaxis": {
            "gridcolor": "white",
            "linecolor": "white",
            "ticks": ""
           },
           "baxis": {
            "gridcolor": "white",
            "linecolor": "white",
            "ticks": ""
           },
           "bgcolor": "#E5ECF6",
           "caxis": {
            "gridcolor": "white",
            "linecolor": "white",
            "ticks": ""
           }
          },
          "title": {
           "x": 0.05
          },
          "xaxis": {
           "automargin": true,
           "gridcolor": "white",
           "linecolor": "white",
           "ticks": "",
           "title": {
            "standoff": 15
           },
           "zerolinecolor": "white",
           "zerolinewidth": 2
          },
          "yaxis": {
           "automargin": true,
           "gridcolor": "white",
           "linecolor": "white",
           "ticks": "",
           "title": {
            "standoff": 15
           },
           "zerolinecolor": "white",
           "zerolinewidth": 2
          }
         }
        },
        "xaxis": {
         "anchor": "y",
         "domain": [
          0,
          1
         ],
         "title": {
          "text": "x"
         }
        },
        "yaxis": {
         "anchor": "x",
         "domain": [
          0,
          1
         ],
         "title": {
          "text": "y"
         }
        }
       }
      }
     },
     "metadata": {},
     "output_type": "display_data"
    },
    {
     "data": {
      "application/vnd.plotly.v1+json": {
       "config": {
        "plotlyServerURL": "https://plot.ly"
       },
       "data": [
        {
         "alignmentgroup": "True",
         "hovertemplate": "x=%{x}<br>y=%{y}<extra></extra>",
         "legendgroup": "",
         "marker": {
          "color": "#636efa",
          "pattern": {
           "shape": ""
          }
         },
         "name": "",
         "offsetgroup": "",
         "orientation": "v",
         "showlegend": false,
         "textposition": "auto",
         "type": "bar",
         "x": [
          "no",
          "first degree",
          "yes",
          "12.0",
          "48.0",
          "nan"
         ],
         "xaxis": "x",
         "y": [
          2992,
          395,
          127,
          8,
          1,
          234
         ],
         "yaxis": "y"
        }
       ],
       "layout": {
        "barmode": "relative",
        "legend": {
         "tracegroupgap": 0
        },
        "margin": {
         "t": 60
        },
        "template": {
         "data": {
          "bar": [
           {
            "error_x": {
             "color": "#2a3f5f"
            },
            "error_y": {
             "color": "#2a3f5f"
            },
            "marker": {
             "line": {
              "color": "#E5ECF6",
              "width": 0.5
             },
             "pattern": {
              "fillmode": "overlay",
              "size": 10,
              "solidity": 0.2
             }
            },
            "type": "bar"
           }
          ],
          "barpolar": [
           {
            "marker": {
             "line": {
              "color": "#E5ECF6",
              "width": 0.5
             },
             "pattern": {
              "fillmode": "overlay",
              "size": 10,
              "solidity": 0.2
             }
            },
            "type": "barpolar"
           }
          ],
          "carpet": [
           {
            "aaxis": {
             "endlinecolor": "#2a3f5f",
             "gridcolor": "white",
             "linecolor": "white",
             "minorgridcolor": "white",
             "startlinecolor": "#2a3f5f"
            },
            "baxis": {
             "endlinecolor": "#2a3f5f",
             "gridcolor": "white",
             "linecolor": "white",
             "minorgridcolor": "white",
             "startlinecolor": "#2a3f5f"
            },
            "type": "carpet"
           }
          ],
          "choropleth": [
           {
            "colorbar": {
             "outlinewidth": 0,
             "ticks": ""
            },
            "type": "choropleth"
           }
          ],
          "contour": [
           {
            "colorbar": {
             "outlinewidth": 0,
             "ticks": ""
            },
            "colorscale": [
             [
              0,
              "#0d0887"
             ],
             [
              0.1111111111111111,
              "#46039f"
             ],
             [
              0.2222222222222222,
              "#7201a8"
             ],
             [
              0.3333333333333333,
              "#9c179e"
             ],
             [
              0.4444444444444444,
              "#bd3786"
             ],
             [
              0.5555555555555556,
              "#d8576b"
             ],
             [
              0.6666666666666666,
              "#ed7953"
             ],
             [
              0.7777777777777778,
              "#fb9f3a"
             ],
             [
              0.8888888888888888,
              "#fdca26"
             ],
             [
              1,
              "#f0f921"
             ]
            ],
            "type": "contour"
           }
          ],
          "contourcarpet": [
           {
            "colorbar": {
             "outlinewidth": 0,
             "ticks": ""
            },
            "type": "contourcarpet"
           }
          ],
          "heatmap": [
           {
            "colorbar": {
             "outlinewidth": 0,
             "ticks": ""
            },
            "colorscale": [
             [
              0,
              "#0d0887"
             ],
             [
              0.1111111111111111,
              "#46039f"
             ],
             [
              0.2222222222222222,
              "#7201a8"
             ],
             [
              0.3333333333333333,
              "#9c179e"
             ],
             [
              0.4444444444444444,
              "#bd3786"
             ],
             [
              0.5555555555555556,
              "#d8576b"
             ],
             [
              0.6666666666666666,
              "#ed7953"
             ],
             [
              0.7777777777777778,
              "#fb9f3a"
             ],
             [
              0.8888888888888888,
              "#fdca26"
             ],
             [
              1,
              "#f0f921"
             ]
            ],
            "type": "heatmap"
           }
          ],
          "heatmapgl": [
           {
            "colorbar": {
             "outlinewidth": 0,
             "ticks": ""
            },
            "colorscale": [
             [
              0,
              "#0d0887"
             ],
             [
              0.1111111111111111,
              "#46039f"
             ],
             [
              0.2222222222222222,
              "#7201a8"
             ],
             [
              0.3333333333333333,
              "#9c179e"
             ],
             [
              0.4444444444444444,
              "#bd3786"
             ],
             [
              0.5555555555555556,
              "#d8576b"
             ],
             [
              0.6666666666666666,
              "#ed7953"
             ],
             [
              0.7777777777777778,
              "#fb9f3a"
             ],
             [
              0.8888888888888888,
              "#fdca26"
             ],
             [
              1,
              "#f0f921"
             ]
            ],
            "type": "heatmapgl"
           }
          ],
          "histogram": [
           {
            "marker": {
             "pattern": {
              "fillmode": "overlay",
              "size": 10,
              "solidity": 0.2
             }
            },
            "type": "histogram"
           }
          ],
          "histogram2d": [
           {
            "colorbar": {
             "outlinewidth": 0,
             "ticks": ""
            },
            "colorscale": [
             [
              0,
              "#0d0887"
             ],
             [
              0.1111111111111111,
              "#46039f"
             ],
             [
              0.2222222222222222,
              "#7201a8"
             ],
             [
              0.3333333333333333,
              "#9c179e"
             ],
             [
              0.4444444444444444,
              "#bd3786"
             ],
             [
              0.5555555555555556,
              "#d8576b"
             ],
             [
              0.6666666666666666,
              "#ed7953"
             ],
             [
              0.7777777777777778,
              "#fb9f3a"
             ],
             [
              0.8888888888888888,
              "#fdca26"
             ],
             [
              1,
              "#f0f921"
             ]
            ],
            "type": "histogram2d"
           }
          ],
          "histogram2dcontour": [
           {
            "colorbar": {
             "outlinewidth": 0,
             "ticks": ""
            },
            "colorscale": [
             [
              0,
              "#0d0887"
             ],
             [
              0.1111111111111111,
              "#46039f"
             ],
             [
              0.2222222222222222,
              "#7201a8"
             ],
             [
              0.3333333333333333,
              "#9c179e"
             ],
             [
              0.4444444444444444,
              "#bd3786"
             ],
             [
              0.5555555555555556,
              "#d8576b"
             ],
             [
              0.6666666666666666,
              "#ed7953"
             ],
             [
              0.7777777777777778,
              "#fb9f3a"
             ],
             [
              0.8888888888888888,
              "#fdca26"
             ],
             [
              1,
              "#f0f921"
             ]
            ],
            "type": "histogram2dcontour"
           }
          ],
          "mesh3d": [
           {
            "colorbar": {
             "outlinewidth": 0,
             "ticks": ""
            },
            "type": "mesh3d"
           }
          ],
          "parcoords": [
           {
            "line": {
             "colorbar": {
              "outlinewidth": 0,
              "ticks": ""
             }
            },
            "type": "parcoords"
           }
          ],
          "pie": [
           {
            "automargin": true,
            "type": "pie"
           }
          ],
          "scatter": [
           {
            "fillpattern": {
             "fillmode": "overlay",
             "size": 10,
             "solidity": 0.2
            },
            "type": "scatter"
           }
          ],
          "scatter3d": [
           {
            "line": {
             "colorbar": {
              "outlinewidth": 0,
              "ticks": ""
             }
            },
            "marker": {
             "colorbar": {
              "outlinewidth": 0,
              "ticks": ""
             }
            },
            "type": "scatter3d"
           }
          ],
          "scattercarpet": [
           {
            "marker": {
             "colorbar": {
              "outlinewidth": 0,
              "ticks": ""
             }
            },
            "type": "scattercarpet"
           }
          ],
          "scattergeo": [
           {
            "marker": {
             "colorbar": {
              "outlinewidth": 0,
              "ticks": ""
             }
            },
            "type": "scattergeo"
           }
          ],
          "scattergl": [
           {
            "marker": {
             "colorbar": {
              "outlinewidth": 0,
              "ticks": ""
             }
            },
            "type": "scattergl"
           }
          ],
          "scattermapbox": [
           {
            "marker": {
             "colorbar": {
              "outlinewidth": 0,
              "ticks": ""
             }
            },
            "type": "scattermapbox"
           }
          ],
          "scatterpolar": [
           {
            "marker": {
             "colorbar": {
              "outlinewidth": 0,
              "ticks": ""
             }
            },
            "type": "scatterpolar"
           }
          ],
          "scatterpolargl": [
           {
            "marker": {
             "colorbar": {
              "outlinewidth": 0,
              "ticks": ""
             }
            },
            "type": "scatterpolargl"
           }
          ],
          "scatterternary": [
           {
            "marker": {
             "colorbar": {
              "outlinewidth": 0,
              "ticks": ""
             }
            },
            "type": "scatterternary"
           }
          ],
          "surface": [
           {
            "colorbar": {
             "outlinewidth": 0,
             "ticks": ""
            },
            "colorscale": [
             [
              0,
              "#0d0887"
             ],
             [
              0.1111111111111111,
              "#46039f"
             ],
             [
              0.2222222222222222,
              "#7201a8"
             ],
             [
              0.3333333333333333,
              "#9c179e"
             ],
             [
              0.4444444444444444,
              "#bd3786"
             ],
             [
              0.5555555555555556,
              "#d8576b"
             ],
             [
              0.6666666666666666,
              "#ed7953"
             ],
             [
              0.7777777777777778,
              "#fb9f3a"
             ],
             [
              0.8888888888888888,
              "#fdca26"
             ],
             [
              1,
              "#f0f921"
             ]
            ],
            "type": "surface"
           }
          ],
          "table": [
           {
            "cells": {
             "fill": {
              "color": "#EBF0F8"
             },
             "line": {
              "color": "white"
             }
            },
            "header": {
             "fill": {
              "color": "#C8D4E3"
             },
             "line": {
              "color": "white"
             }
            },
            "type": "table"
           }
          ]
         },
         "layout": {
          "annotationdefaults": {
           "arrowcolor": "#2a3f5f",
           "arrowhead": 0,
           "arrowwidth": 1
          },
          "autotypenumbers": "strict",
          "coloraxis": {
           "colorbar": {
            "outlinewidth": 0,
            "ticks": ""
           }
          },
          "colorscale": {
           "diverging": [
            [
             0,
             "#8e0152"
            ],
            [
             0.1,
             "#c51b7d"
            ],
            [
             0.2,
             "#de77ae"
            ],
            [
             0.3,
             "#f1b6da"
            ],
            [
             0.4,
             "#fde0ef"
            ],
            [
             0.5,
             "#f7f7f7"
            ],
            [
             0.6,
             "#e6f5d0"
            ],
            [
             0.7,
             "#b8e186"
            ],
            [
             0.8,
             "#7fbc41"
            ],
            [
             0.9,
             "#4d9221"
            ],
            [
             1,
             "#276419"
            ]
           ],
           "sequential": [
            [
             0,
             "#0d0887"
            ],
            [
             0.1111111111111111,
             "#46039f"
            ],
            [
             0.2222222222222222,
             "#7201a8"
            ],
            [
             0.3333333333333333,
             "#9c179e"
            ],
            [
             0.4444444444444444,
             "#bd3786"
            ],
            [
             0.5555555555555556,
             "#d8576b"
            ],
            [
             0.6666666666666666,
             "#ed7953"
            ],
            [
             0.7777777777777778,
             "#fb9f3a"
            ],
            [
             0.8888888888888888,
             "#fdca26"
            ],
            [
             1,
             "#f0f921"
            ]
           ],
           "sequentialminus": [
            [
             0,
             "#0d0887"
            ],
            [
             0.1111111111111111,
             "#46039f"
            ],
            [
             0.2222222222222222,
             "#7201a8"
            ],
            [
             0.3333333333333333,
             "#9c179e"
            ],
            [
             0.4444444444444444,
             "#bd3786"
            ],
            [
             0.5555555555555556,
             "#d8576b"
            ],
            [
             0.6666666666666666,
             "#ed7953"
            ],
            [
             0.7777777777777778,
             "#fb9f3a"
            ],
            [
             0.8888888888888888,
             "#fdca26"
            ],
            [
             1,
             "#f0f921"
            ]
           ]
          },
          "colorway": [
           "#636efa",
           "#EF553B",
           "#00cc96",
           "#ab63fa",
           "#FFA15A",
           "#19d3f3",
           "#FF6692",
           "#B6E880",
           "#FF97FF",
           "#FECB52"
          ],
          "font": {
           "color": "#2a3f5f"
          },
          "geo": {
           "bgcolor": "white",
           "lakecolor": "white",
           "landcolor": "#E5ECF6",
           "showlakes": true,
           "showland": true,
           "subunitcolor": "white"
          },
          "hoverlabel": {
           "align": "left"
          },
          "hovermode": "closest",
          "mapbox": {
           "style": "light"
          },
          "paper_bgcolor": "white",
          "plot_bgcolor": "#E5ECF6",
          "polar": {
           "angularaxis": {
            "gridcolor": "white",
            "linecolor": "white",
            "ticks": ""
           },
           "bgcolor": "#E5ECF6",
           "radialaxis": {
            "gridcolor": "white",
            "linecolor": "white",
            "ticks": ""
           }
          },
          "scene": {
           "xaxis": {
            "backgroundcolor": "#E5ECF6",
            "gridcolor": "white",
            "gridwidth": 2,
            "linecolor": "white",
            "showbackground": true,
            "ticks": "",
            "zerolinecolor": "white"
           },
           "yaxis": {
            "backgroundcolor": "#E5ECF6",
            "gridcolor": "white",
            "gridwidth": 2,
            "linecolor": "white",
            "showbackground": true,
            "ticks": "",
            "zerolinecolor": "white"
           },
           "zaxis": {
            "backgroundcolor": "#E5ECF6",
            "gridcolor": "white",
            "gridwidth": 2,
            "linecolor": "white",
            "showbackground": true,
            "ticks": "",
            "zerolinecolor": "white"
           }
          },
          "shapedefaults": {
           "line": {
            "color": "#2a3f5f"
           }
          },
          "ternary": {
           "aaxis": {
            "gridcolor": "white",
            "linecolor": "white",
            "ticks": ""
           },
           "baxis": {
            "gridcolor": "white",
            "linecolor": "white",
            "ticks": ""
           },
           "bgcolor": "#E5ECF6",
           "caxis": {
            "gridcolor": "white",
            "linecolor": "white",
            "ticks": ""
           }
          },
          "title": {
           "x": 0.05
          },
          "xaxis": {
           "automargin": true,
           "gridcolor": "white",
           "linecolor": "white",
           "ticks": "",
           "title": {
            "standoff": 15
           },
           "zerolinecolor": "white",
           "zerolinewidth": 2
          },
          "yaxis": {
           "automargin": true,
           "gridcolor": "white",
           "linecolor": "white",
           "ticks": "",
           "title": {
            "standoff": 15
           },
           "zerolinecolor": "white",
           "zerolinewidth": 2
          }
         }
        },
        "xaxis": {
         "anchor": "y",
         "domain": [
          0,
          1
         ],
         "title": {
          "text": "x"
         }
        },
        "yaxis": {
         "anchor": "x",
         "domain": [
          0,
          1
         ],
         "title": {
          "text": "y"
         }
        }
       }
      }
     },
     "metadata": {},
     "output_type": "display_data"
    }
   ],
   "source": [
    "tmp = [\n",
    "     'reproduct', 'sign', 'smoking',\n",
    "]\n",
    "for col_name in tmp:\n",
    "    # plot bar chart of Family column (x values, y counts)\n",
    "    stats = df[col_name].value_counts().to_dict()\n",
    "    stats = {str(k): v for k, v in stats.items()}\n",
    "    stats['nan'] = df[col_name].isna().sum()\n",
    "    fig = px.bar(x=list(stats.keys()), y=list(stats.values()))\n",
    "    fig.show()"
   ]
  }
 ],
 "metadata": {
  "kernelspec": {
   "display_name": "Python 3 (ipykernel)",
   "language": "python",
   "name": "python3"
  },
  "language_info": {
   "codemirror_mode": {
    "name": "ipython",
    "version": 3
   },
   "file_extension": ".py",
   "mimetype": "text/x-python",
   "name": "python",
   "nbconvert_exporter": "python",
   "pygments_lexer": "ipython3",
   "version": "3.11.5"
  }
 },
 "nbformat": 4,
 "nbformat_minor": 5
}
